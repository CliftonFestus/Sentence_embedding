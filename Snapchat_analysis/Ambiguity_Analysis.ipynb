{
 "cells": [
  {
   "cell_type": "code",
   "execution_count": 1,
   "source": [
    "import func\n",
    "import pandas as pd\n",
    "import seaborn as sns\n",
    "from matplotlib.pyplot import figure\n",
    "\n"
   ],
   "outputs": [],
   "metadata": {}
  },
  {
   "cell_type": "code",
   "execution_count": 2,
   "source": [
    "df = func.make_df(\"Today might be the day to let your talent bloom. Maybe tomorrow or maybe some other time. But if you dont think you'll have one, you probably wont.\")"
   ],
   "outputs": [],
   "metadata": {}
  },
  {
   "cell_type": "code",
   "execution_count": 3,
   "source": [
    "df.head()"
   ],
   "outputs": [
    {
     "output_type": "execute_result",
     "data": {
      "text/plain": [
       "   depending  necessary  appropriate  inappropriate  as needed  as applicable  \\\n",
       "0          0          0            0              0          0              0   \n",
       "1          0          0            0              0          0              0   \n",
       "\n",
       "   otherwise reasonably  sometimes  from time to time  generally  ...  \\\n",
       "0                     0          0                  0          0  ...   \n",
       "1                     0          0                  0          0  ...   \n",
       "\n",
       "   numerous  some  most  few  much  many  various  \\\n",
       "0         0     0     0    0     0     0        0   \n",
       "1         0     1     0    0     0     0        0   \n",
       "\n",
       "   including but not limited to  Category  BT Coeff  \n",
       "0                             0         M     2.865  \n",
       "1                             0         N     2.710  \n",
       "\n",
       "[2 rows x 42 columns]"
      ],
      "text/html": [
       "<div>\n",
       "<style scoped>\n",
       "    .dataframe tbody tr th:only-of-type {\n",
       "        vertical-align: middle;\n",
       "    }\n",
       "\n",
       "    .dataframe tbody tr th {\n",
       "        vertical-align: top;\n",
       "    }\n",
       "\n",
       "    .dataframe thead th {\n",
       "        text-align: right;\n",
       "    }\n",
       "</style>\n",
       "<table border=\"1\" class=\"dataframe\">\n",
       "  <thead>\n",
       "    <tr style=\"text-align: right;\">\n",
       "      <th></th>\n",
       "      <th>depending</th>\n",
       "      <th>necessary</th>\n",
       "      <th>appropriate</th>\n",
       "      <th>inappropriate</th>\n",
       "      <th>as needed</th>\n",
       "      <th>as applicable</th>\n",
       "      <th>otherwise reasonably</th>\n",
       "      <th>sometimes</th>\n",
       "      <th>from time to time</th>\n",
       "      <th>generally</th>\n",
       "      <th>...</th>\n",
       "      <th>numerous</th>\n",
       "      <th>some</th>\n",
       "      <th>most</th>\n",
       "      <th>few</th>\n",
       "      <th>much</th>\n",
       "      <th>many</th>\n",
       "      <th>various</th>\n",
       "      <th>including but not limited to</th>\n",
       "      <th>Category</th>\n",
       "      <th>BT Coeff</th>\n",
       "    </tr>\n",
       "  </thead>\n",
       "  <tbody>\n",
       "    <tr>\n",
       "      <th>0</th>\n",
       "      <td>0</td>\n",
       "      <td>0</td>\n",
       "      <td>0</td>\n",
       "      <td>0</td>\n",
       "      <td>0</td>\n",
       "      <td>0</td>\n",
       "      <td>0</td>\n",
       "      <td>0</td>\n",
       "      <td>0</td>\n",
       "      <td>0</td>\n",
       "      <td>...</td>\n",
       "      <td>0</td>\n",
       "      <td>0</td>\n",
       "      <td>0</td>\n",
       "      <td>0</td>\n",
       "      <td>0</td>\n",
       "      <td>0</td>\n",
       "      <td>0</td>\n",
       "      <td>0</td>\n",
       "      <td>M</td>\n",
       "      <td>2.865</td>\n",
       "    </tr>\n",
       "    <tr>\n",
       "      <th>1</th>\n",
       "      <td>0</td>\n",
       "      <td>0</td>\n",
       "      <td>0</td>\n",
       "      <td>0</td>\n",
       "      <td>0</td>\n",
       "      <td>0</td>\n",
       "      <td>0</td>\n",
       "      <td>0</td>\n",
       "      <td>0</td>\n",
       "      <td>0</td>\n",
       "      <td>...</td>\n",
       "      <td>0</td>\n",
       "      <td>1</td>\n",
       "      <td>0</td>\n",
       "      <td>0</td>\n",
       "      <td>0</td>\n",
       "      <td>0</td>\n",
       "      <td>0</td>\n",
       "      <td>0</td>\n",
       "      <td>N</td>\n",
       "      <td>2.710</td>\n",
       "    </tr>\n",
       "  </tbody>\n",
       "</table>\n",
       "<p>2 rows × 42 columns</p>\n",
       "</div>"
      ]
     },
     "metadata": {},
     "execution_count": 3
    }
   ],
   "metadata": {}
  },
  {
   "cell_type": "code",
   "execution_count": 4,
   "source": [
    "analysis = pd.read_csv('../coef_prob_plot.csv')"
   ],
   "outputs": [],
   "metadata": {}
  },
  {
   "cell_type": "code",
   "execution_count": 7,
   "source": [
    "analysis.columns = ['category', 'bt_coef', 'Probability']\n",
    "analysis"
   ],
   "outputs": [
    {
     "output_type": "execute_result",
     "data": {
      "text/plain": [
       "   category  bt_coef  Probability\n",
       "0        CN    1.619     0.007133\n",
       "1         C    1.783     0.057405\n",
       "2        CM    1.864     0.052649\n",
       "3       CMN    2.125     0.004076\n",
       "4        CG    2.345     0.000679\n",
       "5       CGN    2.443     0.000340\n",
       "6        MN    2.569     0.094090\n",
       "7         N    2.710     0.112772\n",
       "8         M    2.865     0.634511\n",
       "9      CGMN    2.899     0.000000\n",
       "10      CGM    2.968     0.000679\n",
       "11       GN    3.281     0.002378\n",
       "12      GMN    3.506     0.002378\n",
       "13        G    3.550     0.025136\n",
       "14       GM    4.045     0.005774"
      ],
      "text/html": [
       "<div>\n",
       "<style scoped>\n",
       "    .dataframe tbody tr th:only-of-type {\n",
       "        vertical-align: middle;\n",
       "    }\n",
       "\n",
       "    .dataframe tbody tr th {\n",
       "        vertical-align: top;\n",
       "    }\n",
       "\n",
       "    .dataframe thead th {\n",
       "        text-align: right;\n",
       "    }\n",
       "</style>\n",
       "<table border=\"1\" class=\"dataframe\">\n",
       "  <thead>\n",
       "    <tr style=\"text-align: right;\">\n",
       "      <th></th>\n",
       "      <th>category</th>\n",
       "      <th>bt_coef</th>\n",
       "      <th>Probability</th>\n",
       "    </tr>\n",
       "  </thead>\n",
       "  <tbody>\n",
       "    <tr>\n",
       "      <th>0</th>\n",
       "      <td>CN</td>\n",
       "      <td>1.619</td>\n",
       "      <td>0.007133</td>\n",
       "    </tr>\n",
       "    <tr>\n",
       "      <th>1</th>\n",
       "      <td>C</td>\n",
       "      <td>1.783</td>\n",
       "      <td>0.057405</td>\n",
       "    </tr>\n",
       "    <tr>\n",
       "      <th>2</th>\n",
       "      <td>CM</td>\n",
       "      <td>1.864</td>\n",
       "      <td>0.052649</td>\n",
       "    </tr>\n",
       "    <tr>\n",
       "      <th>3</th>\n",
       "      <td>CMN</td>\n",
       "      <td>2.125</td>\n",
       "      <td>0.004076</td>\n",
       "    </tr>\n",
       "    <tr>\n",
       "      <th>4</th>\n",
       "      <td>CG</td>\n",
       "      <td>2.345</td>\n",
       "      <td>0.000679</td>\n",
       "    </tr>\n",
       "    <tr>\n",
       "      <th>5</th>\n",
       "      <td>CGN</td>\n",
       "      <td>2.443</td>\n",
       "      <td>0.000340</td>\n",
       "    </tr>\n",
       "    <tr>\n",
       "      <th>6</th>\n",
       "      <td>MN</td>\n",
       "      <td>2.569</td>\n",
       "      <td>0.094090</td>\n",
       "    </tr>\n",
       "    <tr>\n",
       "      <th>7</th>\n",
       "      <td>N</td>\n",
       "      <td>2.710</td>\n",
       "      <td>0.112772</td>\n",
       "    </tr>\n",
       "    <tr>\n",
       "      <th>8</th>\n",
       "      <td>M</td>\n",
       "      <td>2.865</td>\n",
       "      <td>0.634511</td>\n",
       "    </tr>\n",
       "    <tr>\n",
       "      <th>9</th>\n",
       "      <td>CGMN</td>\n",
       "      <td>2.899</td>\n",
       "      <td>0.000000</td>\n",
       "    </tr>\n",
       "    <tr>\n",
       "      <th>10</th>\n",
       "      <td>CGM</td>\n",
       "      <td>2.968</td>\n",
       "      <td>0.000679</td>\n",
       "    </tr>\n",
       "    <tr>\n",
       "      <th>11</th>\n",
       "      <td>GN</td>\n",
       "      <td>3.281</td>\n",
       "      <td>0.002378</td>\n",
       "    </tr>\n",
       "    <tr>\n",
       "      <th>12</th>\n",
       "      <td>GMN</td>\n",
       "      <td>3.506</td>\n",
       "      <td>0.002378</td>\n",
       "    </tr>\n",
       "    <tr>\n",
       "      <th>13</th>\n",
       "      <td>G</td>\n",
       "      <td>3.550</td>\n",
       "      <td>0.025136</td>\n",
       "    </tr>\n",
       "    <tr>\n",
       "      <th>14</th>\n",
       "      <td>GM</td>\n",
       "      <td>4.045</td>\n",
       "      <td>0.005774</td>\n",
       "    </tr>\n",
       "  </tbody>\n",
       "</table>\n",
       "</div>"
      ]
     },
     "metadata": {},
     "execution_count": 7
    }
   ],
   "metadata": {}
  },
  {
   "cell_type": "code",
   "execution_count": 8,
   "source": [
    "figure(figsize=(10, 6), dpi=80)\n",
    "ax = sns.barplot(x=\"category\", y=\"Probability\", data=analysis)"
   ],
   "outputs": [
    {
     "output_type": "display_data",
     "data": {
      "text/plain": [
       "<Figure size 800x480 with 1 Axes>"
      ],
      "image/png": "[encoded data removed]"
     },
     "metadata": {
      "needs_background": "light"
     }
    }
   ],
   "metadata": {}
  },
  {
   "cell_type": "code",
   "execution_count": 9,
   "source": [
    "figure(figsize=(10, 6), dpi=80)\n",
    "ax = sns.barplot(x=\"category\", y=\"bt_coef\", data=analysis)"
   ],
   "outputs": [
    {
     "output_type": "display_data",
     "data": {
      "text/plain": [
       "<Figure size 800x480 with 1 Axes>"
      ],
      "image/png": "[encoded data removed]"
     },
     "metadata": {
      "needs_background": "light"
     }
    }
   ],
   "metadata": {}
  },
  {
   "cell_type": "code",
   "execution_count": 52,
   "source": [
    "policies_data = pd.read_csv(\"../Policies.csv\")"
   ],
   "outputs": [],
   "metadata": {}
  },
  {
   "cell_type": "code",
   "execution_count": 54,
   "source": [
    "policies_data.head()"
   ],
   "outputs": [
    {
     "output_type": "execute_result",
     "data": {
      "text/plain": [
       "   Unnamed: 0                                      File_name  \\\n",
       "0           0   GamersGLToolProwithGameTurbo&PingBooster.txt   \n",
       "1           1                                     Tasker.txt   \n",
       "2           2                      PandaGamepadPro(BETA).txt   \n",
       "3           3   GaanaMusicHindiSongFreeTamilTeluguMP3App.txt   \n",
       "4           4  WynkMusic-NewMP3HindiTamilSong&PodcastApp.txt   \n",
       "\n",
       "                                        text_content  vague_score  \n",
       "0  Privacy PolicyYour privacy is important to us....     2.566222  \n",
       "1  Tasker for AndroidTaskerHomeDownloadTaskerNetU...     2.714667  \n",
       "2  Privacy Policy of Panda Gaming StudioSearch th...     2.855882  \n",
       "3  Privacy PolicyThis Privacy Policy  explains ou...     2.673979  \n",
       "4  Privacy PolicyData CollectionAt the time you (...     2.754815  "
      ],
      "text/html": [
       "<div>\n",
       "<style scoped>\n",
       "    .dataframe tbody tr th:only-of-type {\n",
       "        vertical-align: middle;\n",
       "    }\n",
       "\n",
       "    .dataframe tbody tr th {\n",
       "        vertical-align: top;\n",
       "    }\n",
       "\n",
       "    .dataframe thead th {\n",
       "        text-align: right;\n",
       "    }\n",
       "</style>\n",
       "<table border=\"1\" class=\"dataframe\">\n",
       "  <thead>\n",
       "    <tr style=\"text-align: right;\">\n",
       "      <th></th>\n",
       "      <th>Unnamed: 0</th>\n",
       "      <th>File_name</th>\n",
       "      <th>text_content</th>\n",
       "      <th>vague_score</th>\n",
       "    </tr>\n",
       "  </thead>\n",
       "  <tbody>\n",
       "    <tr>\n",
       "      <th>0</th>\n",
       "      <td>0</td>\n",
       "      <td>GamersGLToolProwithGameTurbo&amp;PingBooster.txt</td>\n",
       "      <td>Privacy PolicyYour privacy is important to us....</td>\n",
       "      <td>2.566222</td>\n",
       "    </tr>\n",
       "    <tr>\n",
       "      <th>1</th>\n",
       "      <td>1</td>\n",
       "      <td>Tasker.txt</td>\n",
       "      <td>Tasker for AndroidTaskerHomeDownloadTaskerNetU...</td>\n",
       "      <td>2.714667</td>\n",
       "    </tr>\n",
       "    <tr>\n",
       "      <th>2</th>\n",
       "      <td>2</td>\n",
       "      <td>PandaGamepadPro(BETA).txt</td>\n",
       "      <td>Privacy Policy of Panda Gaming StudioSearch th...</td>\n",
       "      <td>2.855882</td>\n",
       "    </tr>\n",
       "    <tr>\n",
       "      <th>3</th>\n",
       "      <td>3</td>\n",
       "      <td>GaanaMusicHindiSongFreeTamilTeluguMP3App.txt</td>\n",
       "      <td>Privacy PolicyThis Privacy Policy  explains ou...</td>\n",
       "      <td>2.673979</td>\n",
       "    </tr>\n",
       "    <tr>\n",
       "      <th>4</th>\n",
       "      <td>4</td>\n",
       "      <td>WynkMusic-NewMP3HindiTamilSong&amp;PodcastApp.txt</td>\n",
       "      <td>Privacy PolicyData CollectionAt the time you (...</td>\n",
       "      <td>2.754815</td>\n",
       "    </tr>\n",
       "  </tbody>\n",
       "</table>\n",
       "</div>"
      ]
     },
     "metadata": {},
     "execution_count": 54
    }
   ],
   "metadata": {}
  },
  {
   "cell_type": "code",
   "execution_count": 59,
   "source": [
    "Company = policies_data['File_name']\n",
    "rad_comp = st.selectbox(\"Select the Company.\", Company)\n",
    "\n",
    "for i in range(0, len(Company)):\n",
    "    if rad_comp == Company[i]:\n",
    "        st.dataframe(matrix.loc[Company[i], 3])\n",
    "            \n",
    "    st.markdown(\"----\")"
   ],
   "outputs": [
    {
     "output_type": "error",
     "ename": "NameError",
     "evalue": "name 'rad_comp' is not defined",
     "traceback": [
      "\u001b[0;31m---------------------------------------------------------------------------\u001b[0m",
      "\u001b[0;31mNameError\u001b[0m                                 Traceback (most recent call last)",
      "\u001b[0;32m<ipython-input-59-45c97357db7d>\u001b[0m in \u001b[0;36m<module>\u001b[0;34m\u001b[0m\n\u001b[1;32m      2\u001b[0m \u001b[0;34m\u001b[0m\u001b[0m\n\u001b[1;32m      3\u001b[0m \u001b[0;32mfor\u001b[0m \u001b[0mi\u001b[0m \u001b[0;32min\u001b[0m \u001b[0mrange\u001b[0m\u001b[0;34m(\u001b[0m\u001b[0;36m0\u001b[0m\u001b[0;34m,\u001b[0m \u001b[0mlen\u001b[0m\u001b[0;34m(\u001b[0m\u001b[0mCompany\u001b[0m\u001b[0;34m)\u001b[0m\u001b[0;34m)\u001b[0m\u001b[0;34m:\u001b[0m\u001b[0;34m\u001b[0m\u001b[0;34m\u001b[0m\u001b[0m\n\u001b[0;32m----> 4\u001b[0;31m     \u001b[0;32mif\u001b[0m \u001b[0mrad_comp\u001b[0m \u001b[0;34m==\u001b[0m \u001b[0mCompany\u001b[0m\u001b[0;34m[\u001b[0m\u001b[0mi\u001b[0m\u001b[0;34m]\u001b[0m\u001b[0;34m:\u001b[0m\u001b[0;34m\u001b[0m\u001b[0;34m\u001b[0m\u001b[0m\n\u001b[0m\u001b[1;32m      5\u001b[0m         \u001b[0mst\u001b[0m\u001b[0;34m.\u001b[0m\u001b[0mdataframe\u001b[0m\u001b[0;34m(\u001b[0m\u001b[0mdf\u001b[0m\u001b[0;34m.\u001b[0m\u001b[0mloc\u001b[0m\u001b[0;34m[\u001b[0m\u001b[0mCompany\u001b[0m\u001b[0;34m[\u001b[0m\u001b[0mi\u001b[0m\u001b[0;34m]\u001b[0m\u001b[0;34m,\u001b[0m \u001b[0;34m:\u001b[0m\u001b[0;34m]\u001b[0m\u001b[0;34m)\u001b[0m\u001b[0;34m\u001b[0m\u001b[0;34m\u001b[0m\u001b[0m\n\u001b[1;32m      6\u001b[0m \u001b[0;34m\u001b[0m\u001b[0m\n",
      "\u001b[0;31mNameError\u001b[0m: name 'rad_comp' is not defined"
     ]
    }
   ],
   "metadata": {}
  },
  {
   "cell_type": "code",
   "execution_count": null,
   "source": [],
   "outputs": [],
   "metadata": {}
  }
 ],
 "metadata": {
  "interpreter": {
   "hash": "2dc5d48f7d074a02aa23d251d4dcf80e99e2656652743595d2897319eb14d9b9"
  },
  "kernelspec": {
   "name": "python3",
   "display_name": "Python 3.8.8 64-bit ('base': conda)"
  },
  "language_info": {
   "codemirror_mode": {
    "name": "ipython",
    "version": 3
   },
   "file_extension": ".py",
   "mimetype": "text/x-python",
   "name": "python",
   "nbconvert_exporter": "python",
   "pygments_lexer": "ipython3",
   "version": "3.8.8"
  },
  "varInspector": {
   "cols": {
    "lenName": 16,
    "lenType": 16,
    "lenVar": 40
   },
   "kernels_config": {
    "python": {
     "delete_cmd_postfix": "",
     "delete_cmd_prefix": "del ",
     "library": "var_list.py",
     "varRefreshCmd": "print(var_dic_list())"
    },
    "r": {
     "delete_cmd_postfix": ") ",
     "delete_cmd_prefix": "rm(",
     "library": "var_list.r",
     "varRefreshCmd": "cat(var_dic_list()) "
    }
   },
   "types_to_exclude": [
    "module",
    "function",
    "builtin_function_or_method",
    "instance",
    "_Feature"
   ],
   "window_display": false
  }
 },
 "nbformat": 4,
 "nbformat_minor": 5
}
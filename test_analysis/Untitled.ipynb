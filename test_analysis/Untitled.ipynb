{
 "cells": [
  {
   "cell_type": "code",
   "execution_count": 21,
   "id": "954966e8",
   "metadata": {},
   "outputs": [],
   "source": [
    "import spacy\n",
    "import pandas as pd\n",
    "from spacy.matcher import Matcher\n",
    "nlp = spacy.load('en_core_web_sm')\n",
    "\n",
    "Condition = ['depending', 'necessary', 'appropriate',\n",
    "             'inappropriate', 'as needed', 'as applicable',\n",
    "             'otherwise reasonably', 'sometimes',\n",
    "             'from time to time']\n",
    "Generalization = ['generally', 'mostly', 'widely',\n",
    "                  'general', 'commonly',\n",
    "                  'usually', 'normally', 'typically',\n",
    "                  'largely', 'often', 'primarily',\n",
    "                  'among other things']\n",
    "Modality = ['may', 'might', 'can', 'could', 'would',\n",
    "            'likely', 'possible', 'possibly']\n",
    "Numeric_quantifier = ['anyone', 'certain', 'everyone',\n",
    "                      'numerous', 'some', 'most', 'few',\n",
    "                      'much', 'many', 'various',\n",
    "                      'including but not limited to']\n",
    "\n",
    "bt_coef = {\n",
    "    \"CN\": 1.619,\n",
    "    \"C\": 1.783,\n",
    "    \"CM\": 1.864,\n",
    "    \"CMN\": 2.125,\n",
    "    \"CG\": 2.345,\n",
    "    \"CGN\": 2.443,\n",
    "    \"MN\": 2.569,\n",
    "    \"N\": 2.710,\n",
    "    \"M\": 2.865,\n",
    "    \"CGMN\": 2.899,\n",
    "    \"CGM\": 2.968,\n",
    "    \"GN\": 3.281,\n",
    "    \"GMN\": 3.506,\n",
    "    \"G\": 3.550,\n",
    "    \"GM\": 4.045\n",
    "}"
   ]
  },
  {
   "cell_type": "code",
   "execution_count": 22,
   "id": "9dcaedb6",
   "metadata": {},
   "outputs": [],
   "source": [
    "def len_str(x):\n",
    "    return len(x)\n",
    "\n",
    "\n",
    "keepWords = Condition + Generalization + Modality + Numeric_quantifier"
   ]
  },
  {
   "cell_type": "code",
   "execution_count": 8,
   "id": "4ddff642",
   "metadata": {},
   "outputs": [
    {
     "name": "stdout",
     "output_type": "stream",
     "text": [
      "0   including but not limited to\n",
      "1   otherwise reasonably\n",
      "2   among other things\n",
      "3   from time to time\n",
      "4   inappropriate\n",
      "5   as applicable\n",
      "6   appropriate\n",
      "7   depending\n",
      "8   necessary\n",
      "9   as needed\n",
      "10   sometimes\n",
      "11   generally\n",
      "12   typically\n",
      "13   primarily\n",
      "14   commonly\n",
      "15   normally\n",
      "16   possible\n",
      "17   possibly\n",
      "18   everyone\n",
      "19   numerous\n",
      "20   general\n",
      "21   usually\n",
      "22   largely\n",
      "23   certain\n",
      "24   various\n",
      "25   mostly\n",
      "26   widely\n",
      "27   likely\n",
      "28   anyone\n",
      "29   often\n",
      "30   might\n",
      "31   could\n",
      "32   would\n",
      "33   some\n",
      "34   most\n",
      "35   much\n",
      "36   many\n",
      "37   may\n",
      "38   can\n",
      "39   few\n"
     ]
    }
   ],
   "source": [
    "index_tracker = {}\n",
    "for num, i in enumerate(keepWords):\n",
    "    index_tracker[i] = num\n",
    "\n",
    "_ = keepWords.sort(key=len_str, reverse=True)"
   ]
  },
  {
   "cell_type": "code",
   "execution_count": 11,
   "id": "583c6a60",
   "metadata": {},
   "outputs": [
    {
     "data": {
      "text/plain": [
       "39"
      ]
     },
     "execution_count": 11,
     "metadata": {},
     "output_type": "execute_result"
    }
   ],
   "source": [
    "index_tracker['few']"
   ]
  },
  {
   "cell_type": "code",
   "execution_count": 20,
   "id": "d0a7669e",
   "metadata": {},
   "outputs": [
    {
     "name": "stdout",
     "output_type": "stream",
     "text": [
      "including but not limited to\n",
      "otherwise reasonably\n",
      "among other things\n",
      "from time to time\n",
      "inappropriate\n",
      "as applicable\n",
      "appropriate\n",
      "depending\n",
      "necessary\n",
      "as needed\n",
      "sometimes\n",
      "generally\n",
      "typically\n",
      "primarily\n",
      "commonly\n",
      "normally\n",
      "possible\n",
      "possibly\n",
      "everyone\n",
      "numerous\n",
      "general\n",
      "usually\n",
      "largely\n",
      "certain\n",
      "various\n",
      "mostly\n",
      "widely\n",
      "likely\n",
      "anyone\n",
      "often\n",
      "might\n",
      "could\n",
      "would\n",
      "some\n",
      "most\n",
      "much\n",
      "many\n",
      "may\n",
      "can\n",
      "few\n"
     ]
    }
   ],
   "source": [
    "for i,j in enumerate(keepWords):\n",
    "    print(j)"
   ]
  },
  {
   "cell_type": "code",
   "execution_count": 42,
   "id": "c48c847c",
   "metadata": {},
   "outputs": [
    {
     "ename": "TypeError",
     "evalue": "'builtin_function_or_method' object is not iterable",
     "output_type": "error",
     "traceback": [
      "\u001b[0;31m---------------------------------------------------------------------------\u001b[0m",
      "\u001b[0;31mTypeError\u001b[0m                                 Traceback (most recent call last)",
      "\u001b[0;32m<ipython-input-42-b5d0044756a3>\u001b[0m in \u001b[0;36m<module>\u001b[0;34m\u001b[0m\n\u001b[1;32m      1\u001b[0m \u001b[0mmatcher\u001b[0m \u001b[0;34m=\u001b[0m \u001b[0mMatcher\u001b[0m\u001b[0;34m(\u001b[0m\u001b[0mnlp\u001b[0m\u001b[0;34m.\u001b[0m\u001b[0mvocab\u001b[0m\u001b[0;34m)\u001b[0m\u001b[0;34m\u001b[0m\u001b[0;34m\u001b[0m\u001b[0m\n\u001b[0;32m----> 2\u001b[0;31m \u001b[0mrule\u001b[0m \u001b[0;34m=\u001b[0m \u001b[0;34m[\u001b[0m\u001b[0;34m{\u001b[0m\u001b[0;34m'LOWER'\u001b[0m\u001b[0;34m:\u001b[0m \u001b[0mj\u001b[0m\u001b[0;34m}\u001b[0m \u001b[0;32mfor\u001b[0m \u001b[0mj\u001b[0m \u001b[0;32min\u001b[0m \u001b[0;34m\" I can\"\u001b[0m\u001b[0;34m.\u001b[0m\u001b[0msplit\u001b[0m\u001b[0;34m]\u001b[0m\u001b[0;34m\u001b[0m\u001b[0;34m\u001b[0m\u001b[0m\n\u001b[0m",
      "\u001b[0;31mTypeError\u001b[0m: 'builtin_function_or_method' object is not iterable"
     ]
    }
   ],
   "source": [
    "matcher = Matcher(nlp.vocab)\n",
    "rule = [{'LOWER': j} for j in \" I can\".split]\n"
   ]
  },
  {
   "cell_type": "code",
   "execution_count": 45,
   "id": "81f43f17",
   "metadata": {},
   "outputs": [
    {
     "name": "stdout",
     "output_type": "stream",
     "text": [
      "Help on built-in function add:\n",
      "\n",
      "add(...) method of spacy.matcher.matcher.Matcher instance\n",
      "    Add a match-rule to the matcher. A match-rule consists of: an ID\n",
      "    key, an on_match callback, and one or more patterns.\n",
      "    \n",
      "    If the key exists, the patterns are appended to the previous ones, and\n",
      "    the previous on_match callback is replaced. The `on_match` callback\n",
      "    will receive the arguments `(matcher, doc, i, matches)`. You can also\n",
      "    set `on_match` to `None` to not perform any actions.\n",
      "    \n",
      "    A pattern consists of one or more `token_specs`, where a `token_spec`\n",
      "    is a dictionary mapping attribute IDs to values, and optionally a\n",
      "    quantifier operator under the key \"op\". The available quantifiers are:\n",
      "    \n",
      "    '!': Negate the pattern, by requiring it to match exactly 0 times.\n",
      "    '?': Make the pattern optional, by allowing it to match 0 or 1 times.\n",
      "    '+': Require the pattern to match 1 or more times.\n",
      "    '*': Allow the pattern to zero or more times.\n",
      "    \n",
      "    The + and * operators are usually interpretted \"greedily\", i.e. longer\n",
      "    matches are returned where possible. However, if you specify two '+'\n",
      "    and '*' patterns in a row and their matches overlap, the first\n",
      "    operator will behave non-greedily. This quirk in the semantics makes\n",
      "    the matcher more efficient, by avoiding the need for back-tracking.\n",
      "    \n",
      "    As of spaCy v2.2.2, Matcher.add supports the future API, which makes\n",
      "    the patterns the second argument and a list (instead of a variable\n",
      "    number of arguments). The on_match callback becomes an optional keyword\n",
      "    argument.\n",
      "    \n",
      "    key (unicode): The match ID.\n",
      "    patterns (list): The patterns to add for the given key.\n",
      "    on_match (callable): Optional callback executed on match.\n",
      "    *_patterns (list): For backwards compatibility: list of patterns to add\n",
      "        as variable arguments. Will be ignored if a list of patterns is\n",
      "        provided as the second argument.\n",
      "\n"
     ]
    }
   ],
   "source": [
    "matcher.add(\"First Rule\", [rule])\n",
    "help(matcher.add)"
   ]
  },
  {
   "cell_type": "code",
   "execution_count": 31,
   "id": "bcb7d106",
   "metadata": {},
   "outputs": [],
   "source": [
    "doc = nlp(u\"This is my town. I can do whatever here. I can go anywhere. I can't help you. I am going to canada\")"
   ]
  },
  {
   "cell_type": "code",
   "execution_count": 32,
   "id": "51d6ec14",
   "metadata": {},
   "outputs": [
    {
     "data": {
      "text/plain": [
       "[(10194021957632049145, 6, 7), (10194021957632049145, 12, 13)]"
      ]
     },
     "execution_count": 32,
     "metadata": {},
     "output_type": "execute_result"
    }
   ],
   "source": [
    "matcher(doc)"
   ]
  },
  {
   "cell_type": "code",
   "execution_count": 34,
   "id": "1e182eb1",
   "metadata": {},
   "outputs": [
    {
     "data": {
      "text/plain": [
       "can"
      ]
     },
     "execution_count": 34,
     "metadata": {},
     "output_type": "execute_result"
    }
   ],
   "source": [
    "doc[12]"
   ]
  },
  {
   "cell_type": "code",
   "execution_count": 38,
   "id": "c868840c",
   "metadata": {},
   "outputs": [
    {
     "data": {
      "text/plain": [
       "['Hello,', 'Myname', 'is', 'CLifotn']"
      ]
     },
     "execution_count": 38,
     "metadata": {},
     "output_type": "execute_result"
    }
   ],
   "source": [
    "\"Hello, Myname is CLifotn\".split()"
   ]
  },
  {
   "cell_type": "code",
   "execution_count": null,
   "id": "9edd0143",
   "metadata": {},
   "outputs": [],
   "source": []
  }
 ],
 "metadata": {
  "kernelspec": {
   "display_name": "Python 3",
   "language": "python",
   "name": "python3"
  },
  "language_info": {
   "codemirror_mode": {
    "name": "ipython",
    "version": 3
   },
   "file_extension": ".py",
   "mimetype": "text/x-python",
   "name": "python",
   "nbconvert_exporter": "python",
   "pygments_lexer": "ipython3",
   "version": "3.8.8"
  },
  "varInspector": {
   "cols": {
    "lenName": 16,
    "lenType": 16,
    "lenVar": 40
   },
   "kernels_config": {
    "python": {
     "delete_cmd_postfix": "",
     "delete_cmd_prefix": "del ",
     "library": "var_list.py",
     "varRefreshCmd": "print(var_dic_list())"
    },
    "r": {
     "delete_cmd_postfix": ") ",
     "delete_cmd_prefix": "rm(",
     "library": "var_list.r",
     "varRefreshCmd": "cat(var_dic_list()) "
    }
   },
   "types_to_exclude": [
    "module",
    "function",
    "builtin_function_or_method",
    "instance",
    "_Feature"
   ],
   "window_display": false
  }
 },
 "nbformat": 4,
 "nbformat_minor": 5
}

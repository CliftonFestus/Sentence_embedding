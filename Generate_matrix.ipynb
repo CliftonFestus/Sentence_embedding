{
  "nbformat": 4,
  "nbformat_minor": 5,
  "metadata": {
    "kernelspec": {
      "display_name": "Python 3",
      "language": "python",
      "name": "python3"
    },
    "language_info": {
      "codemirror_mode": {
        "name": "ipython",
        "version": 3
      },
      "file_extension": ".py",
      "mimetype": "text/x-python",
      "name": "python",
      "nbconvert_exporter": "python",
      "pygments_lexer": "ipython3",
      "version": "3.7.5"
    },
    "colab": {
      "name": "Generate_matrix.ipynb",
      "provenance": [],
      "collapsed_sections": []
    }
  },
  "cells": [
    {
      "cell_type": "code",
      "metadata": {
        "id": "67c9971a"
      },
      "source": [
        "import spacy\n",
        "import os\n",
        "import pandas as pd\n",
        "from spacy.matcher import Matcher\n",
        "from google.colab import files"
      ],
      "id": "67c9971a",
      "execution_count": 29,
      "outputs": []
    },
    {
      "cell_type": "code",
      "metadata": {
        "id": "ef642de7"
      },
      "source": [
        "Condition = ['depending', 'necessary', 'appropriate',\n",
        "                 'inappropriate', 'as needed', 'as applicable',\n",
        "                 'otherwise reasonably', 'sometimes',\n",
        "                 'from time to time']\n",
        "Generalization = ['generally', 'mostly', 'widely',\n",
        "                  'general', 'commonly',\n",
        "                  'usually', 'normally', 'typically',\n",
        "                  'largely', 'often', 'primarily',\n",
        "                  'among other things']\n",
        "Modality = ['may', 'might', 'can', 'could', 'would',\n",
        "            'likely', 'possible', 'possibly']\n",
        "Numeric_quantifier = ['anyone', 'certain', 'everyone',\n",
        "                      'numerous', 'some', 'most', 'few',\n",
        "                      'much', 'many', 'various',\n",
        "                      'including but not limited to']"
      ],
      "id": "ef642de7",
      "execution_count": 30,
      "outputs": []
    },
    {
      "cell_type": "code",
      "metadata": {
        "id": "1c6e9878"
      },
      "source": [
        "Path = \"/content/input/\"\n",
        "filelist = os.listdir(Path)\n",
        "txt_files = []\n",
        "file_names = []\n",
        "for i in filelist:\n",
        "    if i.endswith(\".txt\"):\n",
        "        file_names.append(i)\n",
        "        with open(Path + i, 'r') as f:\n",
        "            txt_files.append(f.read())"
      ],
      "id": "1c6e9878",
      "execution_count": 31,
      "outputs": []
    },
    {
      "cell_type": "markdown",
      "metadata": {
        "id": "zUDVXTWCibo8"
      },
      "source": [
        "## Bradley-Terry Coeff"
      ],
      "id": "zUDVXTWCibo8"
    },
    {
      "cell_type": "code",
      "metadata": {
        "id": "AZgLzE64iXne"
      },
      "source": [
        "bt_coef ={\n",
        "    \"CN\": 1.619,\n",
        "    \"C\": 1.783,\n",
        "    \"CM\": 1.864,\n",
        "    \"CMN\": 2.125,\n",
        "    \"CG\": 2.345,\n",
        "    \"CGN\": 2.443,\n",
        "    \"MN\": 2.569,\n",
        "    \"N\": 2.710,\n",
        "    \"M\": 2.865,\n",
        "    \"CGMN\": 2.899,\n",
        "    \"CGM\": 2.968,\n",
        "    \"GN\": 3.281,\n",
        "    \"GMN\": 3.506,\n",
        "    \"G\": 3.550,\n",
        "    \"GM\": 4.045\n",
        "}"
      ],
      "id": "AZgLzE64iXne",
      "execution_count": 32,
      "outputs": []
    },
    {
      "cell_type": "markdown",
      "metadata": {
        "id": "f7ab44fe"
      },
      "source": [
        "## Policy String"
      ],
      "id": "f7ab44fe"
    },
    {
      "cell_type": "code",
      "metadata": {
        "id": "f43f89d3"
      },
      "source": [
        "Policies = pd.DataFrame([file_names, txt_files]).T\n",
        "Policies.columns = [\"File_name\", \"text_content\"]"
      ],
      "id": "f43f89d3",
      "execution_count": 33,
      "outputs": []
    },
    {
      "cell_type": "code",
      "metadata": {
        "id": "a6f81bfa",
        "colab": {
          "base_uri": "https://localhost:8080/",
          "height": 415
        },
        "outputId": "6f4c4ad4-dfd2-4b56-ffc1-238fa14f35c4"
      },
      "source": [
        "Policies"
      ],
      "id": "a6f81bfa",
      "execution_count": 34,
      "outputs": [
        {
          "output_type": "execute_result",
          "data": {
            "text/html": [
              "<div>\n",
              "<style scoped>\n",
              "    .dataframe tbody tr th:only-of-type {\n",
              "        vertical-align: middle;\n",
              "    }\n",
              "\n",
              "    .dataframe tbody tr th {\n",
              "        vertical-align: top;\n",
              "    }\n",
              "\n",
              "    .dataframe thead th {\n",
              "        text-align: right;\n",
              "    }\n",
              "</style>\n",
              "<table border=\"1\" class=\"dataframe\">\n",
              "  <thead>\n",
              "    <tr style=\"text-align: right;\">\n",
              "      <th></th>\n",
              "      <th>File_name</th>\n",
              "      <th>text_content</th>\n",
              "    </tr>\n",
              "  </thead>\n",
              "  <tbody>\n",
              "    <tr>\n",
              "      <th>0</th>\n",
              "      <td>GamersGLToolProwithGameTurbo&amp;PingBooster.txt</td>\n",
              "      <td>Privacy PolicyYour privacy is important to us....</td>\n",
              "    </tr>\n",
              "    <tr>\n",
              "      <th>1</th>\n",
              "      <td>Tasker.txt</td>\n",
              "      <td>Tasker for AndroidTaskerHomeDownloadTaskerNetU...</td>\n",
              "    </tr>\n",
              "    <tr>\n",
              "      <th>2</th>\n",
              "      <td>PandaGamepadPro(BETA).txt</td>\n",
              "      <td>Privacy Policy of Panda Gaming StudioSearch th...</td>\n",
              "    </tr>\n",
              "    <tr>\n",
              "      <th>3</th>\n",
              "      <td>GaanaMusicHindiSongFreeTamilTeluguMP3App.txt</td>\n",
              "      <td>Privacy PolicyThis Privacy Policy  explains ou...</td>\n",
              "    </tr>\n",
              "    <tr>\n",
              "      <th>4</th>\n",
              "      <td>WynkMusic-NewMP3HindiTamilSong&amp;PodcastApp.txt</td>\n",
              "      <td>Privacy PolicyData CollectionAt the time you (...</td>\n",
              "    </tr>\n",
              "    <tr>\n",
              "      <th>...</th>\n",
              "      <td>...</td>\n",
              "      <td>...</td>\n",
              "    </tr>\n",
              "    <tr>\n",
              "      <th>71</th>\n",
              "      <td>SAXVideoPlayer-AllinoneHdFormatpro2021.txt</td>\n",
              "      <td>HomeSearch this sitePrivacy PolicyProtecting y...</td>\n",
              "    </tr>\n",
              "    <tr>\n",
              "      <th>72</th>\n",
              "      <td>KineMaster-VideoEditor,VideoMaker.txt</td>\n",
              "      <td>Privacy Policy (Android) – HELP CENTER        ...</td>\n",
              "    </tr>\n",
              "    <tr>\n",
              "      <th>73</th>\n",
              "      <td>RAM&amp;GameBoosterbyAugustro(67%OFF).txt</td>\n",
              "      <td>Augustro Privacy PolicyPrivacy PolicyAugustro ...</td>\n",
              "    </tr>\n",
              "    <tr>\n",
              "      <th>74</th>\n",
              "      <td>RhythmwithTabla&amp;TanpuraPREMIUM.txt</td>\n",
              "      <td>PSS Labs | Rhythm with Tabla &amp; Tanpura - Priva...</td>\n",
              "    </tr>\n",
              "    <tr>\n",
              "      <th>75</th>\n",
              "      <td>Snapchat.txt</td>\n",
              "      <td>Privacy Policy - Snap Inc.HomeCareersNewsInves...</td>\n",
              "    </tr>\n",
              "  </tbody>\n",
              "</table>\n",
              "<p>76 rows × 2 columns</p>\n",
              "</div>"
            ],
            "text/plain": [
              "                                        File_name                                       text_content\n",
              "0    GamersGLToolProwithGameTurbo&PingBooster.txt  Privacy PolicyYour privacy is important to us....\n",
              "1                                      Tasker.txt  Tasker for AndroidTaskerHomeDownloadTaskerNetU...\n",
              "2                       PandaGamepadPro(BETA).txt  Privacy Policy of Panda Gaming StudioSearch th...\n",
              "3    GaanaMusicHindiSongFreeTamilTeluguMP3App.txt  Privacy PolicyThis Privacy Policy  explains ou...\n",
              "4   WynkMusic-NewMP3HindiTamilSong&PodcastApp.txt  Privacy PolicyData CollectionAt the time you (...\n",
              "..                                            ...                                                ...\n",
              "71     SAXVideoPlayer-AllinoneHdFormatpro2021.txt  HomeSearch this sitePrivacy PolicyProtecting y...\n",
              "72          KineMaster-VideoEditor,VideoMaker.txt  Privacy Policy (Android) – HELP CENTER        ...\n",
              "73          RAM&GameBoosterbyAugustro(67%OFF).txt  Augustro Privacy PolicyPrivacy PolicyAugustro ...\n",
              "74             RhythmwithTabla&TanpuraPREMIUM.txt  PSS Labs | Rhythm with Tabla & Tanpura - Priva...\n",
              "75                                   Snapchat.txt  Privacy Policy - Snap Inc.HomeCareersNewsInves...\n",
              "\n",
              "[76 rows x 2 columns]"
            ]
          },
          "metadata": {
            "tags": []
          },
          "execution_count": 34
        }
      ]
    },
    {
      "cell_type": "markdown",
      "metadata": {
        "id": "b5f3154f"
      },
      "source": [
        "## Index Tracking\n"
      ],
      "id": "b5f3154f"
    },
    {
      "cell_type": "code",
      "metadata": {
        "id": "8p84O2IoIew_"
      },
      "source": [
        "def len_str(x):\n",
        "  return len(x)"
      ],
      "id": "8p84O2IoIew_",
      "execution_count": 35,
      "outputs": []
    },
    {
      "cell_type": "code",
      "metadata": {
        "id": "2Dv9T599HUX_"
      },
      "source": [
        "keepWords = Condition + Generalization + Modality + Numeric_quantifier\n",
        "\n",
        "index_tracker = {}\n",
        "for num, i in enumerate(keepWords):\n",
        "  index_tracker[i] = num\n",
        "_ = keepWords.sort(key=len_str, reverse=True)"
      ],
      "id": "2Dv9T599HUX_",
      "execution_count": 36,
      "outputs": []
    },
    {
      "cell_type": "markdown",
      "metadata": {
        "id": "WWiAL6tCrGHX"
      },
      "source": [
        "## Matcher"
      ],
      "id": "WWiAL6tCrGHX"
    },
    {
      "cell_type": "code",
      "metadata": {
        "id": "B0jkI3hKm1xt"
      },
      "source": [
        "nlp = spacy.load('en')\n",
        "\n",
        "matcher = Matcher(nlp.vocab)\n",
        "for i in keepWords:\n",
        "  rule = [ {\"LOWER\": j } for j in i.split() ]\n",
        "  matcher.add(i, None, rule)"
      ],
      "id": "B0jkI3hKm1xt",
      "execution_count": 37,
      "outputs": []
    },
    {
      "cell_type": "markdown",
      "metadata": {
        "id": "Cr5k4woRn9rJ"
      },
      "source": [
        "## Functions"
      ],
      "id": "Cr5k4woRn9rJ"
    },
    {
      "cell_type": "code",
      "metadata": {
        "id": "7370aab4"
      },
      "source": [
        "def generateVec(sentence):\n",
        "  text = nlp(sentence)\n",
        "\n",
        "  final = []\n",
        "  category_vaguesness = {\"C\": 0, \"G\": 0, \"M\": 0, \"N\": 0}\n",
        "  for i in range(len(keepWords)):\n",
        "    final.append(0)\n",
        "\n",
        "  buffer_start = -1\n",
        "  for word, match_start, match_end in matcher(text):\n",
        "    if buffer_start < match_start:\n",
        "      # print(nlp.vocab.strings[word])\n",
        "      final[index_tracker[nlp.vocab.strings[word]]] += 1\n",
        "      if nlp.vocab.strings[word] in Condition:\n",
        "        category_vaguesness[\"C\"] = 1\n",
        "      elif nlp.vocab.strings[word] in Modality:\n",
        "        category_vaguesness[\"M\"] = 1\n",
        "      elif nlp.vocab.strings[word] in Numeric_quantifier:\n",
        "        category_vaguesness[\"N\"] = 1\n",
        "      else:\n",
        "        category_vaguesness[\"G\"] = 1 \n",
        "    buffer_start = match_end - 1\n",
        "\n",
        "  if buffer_start==-1:\n",
        "    return None\n",
        "  \n",
        "  temp = \"\".join([ i for i in category_vaguesness if category_vaguesness[i] ])\n",
        "  final.append(temp)\n",
        "  final.append(bt_coef[temp])\n",
        "\n",
        "  return final"
      ],
      "id": "7370aab4",
      "execution_count": 38,
      "outputs": []
    },
    {
      "cell_type": "code",
      "metadata": {
        "id": "gItQcNnWn7W5"
      },
      "source": [
        "def generateMatrix(text_string):\n",
        "  final = []\n",
        "  tok = nlp(text_string)\n",
        "  for i in tok.sents:\n",
        "    vector = generateVec(i.text)\n",
        "    if vector != None:\n",
        "      final.append(vector)\n",
        "  return final"
      ],
      "id": "gItQcNnWn7W5",
      "execution_count": 39,
      "outputs": []
    },
    {
      "cell_type": "code",
      "metadata": {
        "id": "e40e80da"
      },
      "source": [
        "def make_df(intext):\n",
        "  visualization = pd.DataFrame(generateMatrix(intext))\n",
        "  if len(visualization) == 0:\n",
        "    return \"None\"\n",
        "  keepWords = Condition + Generalization + Modality + Numeric_quantifier + [\"Category\", \"BT Coeff\"]\n",
        "  visualization.columns = keepWords\n",
        "  return visualization"
      ],
      "id": "e40e80da",
      "execution_count": 40,
      "outputs": []
    },
    {
      "cell_type": "markdown",
      "metadata": {
        "id": "JblRfR2AoECg"
      },
      "source": [
        "## Generating Outputs"
      ],
      "id": "JblRfR2AoECg"
    },
    {
      "cell_type": "code",
      "metadata": {
        "id": "jhMiN3iaS_jD"
      },
      "source": [
        "coefs = []\n",
        "for i in Policies.iterrows():\n",
        "  # print(i[1][0])\n",
        "  file_name = i[1][0][:-4]\n",
        "  file_path = \"/content/output/\" + file_name + \".csv\"\n",
        "  temp_df = make_df(i[1][1])\n",
        "  if \"may\" in temp_df:\n",
        "    temp_df.to_csv(file_path)\n",
        "    coefs.append(temp_df[\"BT Coeff\"].mean())\n",
        "  else:\n",
        "    coefs.append(\"NA\")\n",
        "\n",
        "Policies[\"vague_score\"] = coefs"
      ],
      "id": "jhMiN3iaS_jD",
      "execution_count": 41,
      "outputs": []
    },
    {
      "cell_type": "code",
      "metadata": {
        "id": "D1N7a6YmMPrf",
        "colab": {
          "base_uri": "https://localhost:8080/"
        },
        "outputId": "d68b2336-dad0-4675-86b8-254a54969e35"
      },
      "source": [
        "print(\"CSVs GENERATED\")"
      ],
      "id": "D1N7a6YmMPrf",
      "execution_count": 42,
      "outputs": [
        {
          "output_type": "stream",
          "text": [
            "CSVs GENERATED\n"
          ],
          "name": "stdout"
        }
      ]
    },
    {
      "cell_type": "code",
      "metadata": {
        "id": "E-8JadNGR2Il",
        "colab": {
          "base_uri": "https://localhost:8080/"
        },
        "outputId": "f96f3f6a-0aca-4893-80b1-7b37bfaae233"
      },
      "source": [
        "!zip -r result.zip output"
      ],
      "id": "E-8JadNGR2Il",
      "execution_count": 43,
      "outputs": [
        {
          "output_type": "stream",
          "text": [
            "  adding: output/ (stored 0%)\n",
            "  adding: output/JioSaavnMusic&Radio–JioTunes,Podcasts,Songs.csv (deflated 91%)\n",
            "  adding: output/FacebookLite.csv (deflated 90%)\n",
            "  adding: output/InstagramLite.csv (deflated 90%)\n",
            "  adding: output/GameBooster4xFasterPro-GFXTool&LagFix.csv (deflated 84%)\n",
            "  adding: output/1DM+[formerlyIDM+]:Video,TorrentDownloader.csv (deflated 70%)\n",
            "  adding: output/MXTakaTakShortVideoApp|MadeinIndiaforYou.csv (deflated 82%)\n",
            "  adding: output/InternetSpeedMeter.csv (deflated 61%)\n",
            "  adding: output/Facebook.csv (deflated 90%)\n",
            "  adding: output/Dailyhunt-100%IndianAppforNews&Videos.csv (deflated 90%)\n",
            "  adding: output/Moj-SnackonIndianShortVideos|MadeinIndia.csv (deflated 88%)\n",
            "  adding: output/PGT+🔧:ProGFX&Optimizer(withadvancesetting).csv (deflated 72%)\n",
            "  adding: output/PowerampFullVersionUnlocker.csv (deflated 88%)\n",
            "  adding: output/DiskDiggerProfilerecovery.csv (deflated 54%)\n",
            "  adding: output/SnackyTakatak.csv (deflated 82%)\n",
            "  adding: output/AJIOOnlineShopping-HandpickedCuratedFashion.csv (deflated 88%)\n",
            "  adding: output/FactTechzUltimateBrainBooster-BinauralBeats.csv (deflated 78%)\n",
            "  adding: output/GooglePay-asimpleandsecurepaymentapp.csv (deflated 91%)\n",
            "  adding: output/Meesho-Resell,WorkFromHome,EarnMoneyOnline.csv (deflated 80%)\n",
            "  adding: output/BYJU'S–TheLearningApp.csv (deflated 90%)\n",
            "  adding: output/MVBitmaster,MVmastervideostatusmaker-MVBit.csv (deflated 84%)\n",
            "  adding: output/DroidCamX.csv (deflated 73%)\n",
            "  adding: output/PhonePe–UPI,Recharges,Investments&Insurance.csv (deflated 88%)\n",
            "  adding: output/Hotstar.csv (deflated 89%)\n",
            "  adding: output/SnackVideoMakerAppwithSong-Mast.csv (deflated 86%)\n",
            "  adding: output/NavigationPro:GoogleMapsNavionSamsungWatch.csv (deflated 78%)\n",
            "  adding: output/KineMaster-VideoEditor,VideoMaker.csv (deflated 84%)\n",
            "  adding: output/AmazonShopping,UPI,MoneyTransfer,BillPayment.csv (deflated 88%)\n",
            "  adding: output/Public-IndianLocalVideos.csv (deflated 83%)\n",
            "  adding: output/GamersGLToolProwithGameTurbo&PingBooster.csv (deflated 72%)\n",
            "  adding: output/GaanaMusicHindiSongFreeTamilTeluguMP3App.csv (deflated 88%)\n",
            "  adding: output/JioTV–News,Movies,Entertainment,LIVETV.csv (deflated 87%)\n",
            "  adding: output/AirtelThanks-Recharge,BillPay,Bank,LiveTV.csv (deflated 86%)\n",
            "  adding: output/QuickHealTotalSecurity.csv (deflated 82%)\n",
            "  adding: output/GameBoosterVIP-FreeFireGFX-LagFix.csv (deflated 62%)\n",
            "  adding: output/SimpleGalleryPro:Video&PhotoManager&Editor.csv (deflated 55%)\n",
            "  adding: output/CrayonIconPack.csv (deflated 78%)\n",
            "  adding: output/TouchRetouch.csv (deflated 87%)\n",
            "  adding: output/CryptoTabBrowserPro—mineonaPROlevel.csv (deflated 72%)\n",
            "  adding: output/VideoEditor&VideoMaker-InShot.csv (deflated 62%)\n",
            "  adding: output/Biugo-videomaker,photovideomaker,videoeditor.csv (deflated 90%)\n",
            "  adding: output/PandaGamepadPro(BETA).csv (deflated 82%)\n",
            "  adding: output/Costco.csv (deflated 91%)\n",
            "  adding: output/FrancoKernelManager-foralldevices&kernels.csv (deflated 47%)\n",
            "  adding: output/TorquePro(OBD2&Car).csv (deflated 57%)\n",
            "  adding: output/Tasker.csv (deflated 67%)\n",
            "  adding: output/KWGTKustomWidgetProKey.csv (deflated 78%)\n",
            "  adding: output/SAXVideoPlayer-AllinoneHdFormatpro2021.csv (deflated 47%)\n",
            "  adding: output/RAM&GameBoosterbyAugustro(67%OFF).csv (deflated 81%)\n",
            "  adding: output/WynkMusic-NewMP3HindiTamilSong&PodcastApp.csv (deflated 84%)\n",
            "  adding: output/InternetOptimizerPro|No-Ads.csv (deflated 78%)\n",
            "  adding: output/ShareMe-India'sbestfiletransferapp.csv (deflated 90%)\n",
            "  adding: output/Telegram.csv (deflated 90%)\n",
            "  adding: output/Vido:LyricalVideoStatusMaker.csv (deflated 75%)\n",
            "  adding: output/MXPlayerPro.csv (deflated 89%)\n",
            "  adding: output/Truecaller:CallerID,SpamBlocking&Chat.csv (deflated 92%)\n",
            "  adding: output/PLAYit-ANewAll-in-OneVideoPlayer.csv (deflated 76%)\n",
            "  adding: output/MXPlayer:VideoPlayer,Movies,Songs&GamesApp.csv (deflated 89%)\n",
            "  adding: output/SDMaidPro-Unlocker.csv (deflated 74%)\n",
            "  adding: output/FLStudioMobile.csv (deflated 53%)\n",
            "  adding: output/ShareChat-MadeinIndia.csv (deflated 88%)\n",
            "  adding: output/WhatsAppBusiness.csv (deflated 89%)\n",
            "  adding: output/Paytm-UPI,MoneyTransfer,Recharge,BillPayment.csv (deflated 93%)\n",
            "  adding: output/FreeVPNTomato|FastestFreeHotspotVPNProxy.csv (deflated 47%)\n",
            "  adding: output/ZEE5:Movies,TVShows,WebSeries.csv (deflated 87%)\n",
            "  adding: output/VPNPro-FreeforLifetime.csv (deflated 67%)\n",
            "  adding: output/ShareKaro-Share&FileTransferApp,Shareit.csv (deflated 77%)\n",
            "  adding: output/FlipkartOnlineShoppingApp.csv (deflated 86%)\n",
            "  adding: output/RhythmwithTabla&TanpuraPREMIUM.csv (deflated 78%)\n",
            "  adding: output/Snapchat.csv (deflated 91%)\n",
            "  adding: output/FluidWalls-4KLiquidStyleWallpapers.csv (deflated 87%)\n",
            "  adding: output/AmazonPrimeVideo.csv (deflated 88%)\n",
            "  adding: output/Instagram.csv (deflated 90%)\n",
            "  adding: output/Noizz-videoeditor,videomakerphotoswithsong.csv (deflated 90%)\n",
            "  adding: output/MyJio:ForEverythingJio.csv (deflated 86%)\n",
            "  adding: output/VPNMaster-Free&Fast&SecureVPNProxy.csv (deflated 78%)\n",
            "  adding: output/Josh-SnackonShortVideoswithTopIndianApp.csv (deflated 90%)\n"
          ],
          "name": "stdout"
        }
      ]
    },
    {
      "cell_type": "markdown",
      "metadata": {
        "id": "J3IWpqO_q7B-"
      },
      "source": [
        "# Manual Testing"
      ],
      "id": "J3IWpqO_q7B-"
    },
    {
      "cell_type": "code",
      "metadata": {
        "colab": {
          "base_uri": "https://localhost:8080/"
        },
        "id": "L84bhJoIoiwo",
        "outputId": "81b4ec46-bd2b-4ba2-ebb3-bd190d162164"
      },
      "source": [
        "in_text = \"I may am so smart\"\n",
        "# temp = 0\n",
        "temp_df = make_df(in_text)\n",
        "if \"may\" in temp_df:\n",
        "  print(\"ahha\")\n",
        "# for i in make_df(in_text)[\"BT Coeff\"]:\n",
        "#   temp += i\n",
        "# temp /= len(make_df(in_text)[\"BT Coeff\"])\n",
        "# print(temp)"
      ],
      "id": "L84bhJoIoiwo",
      "execution_count": 44,
      "outputs": [
        {
          "output_type": "stream",
          "text": [
            "ahha\n"
          ],
          "name": "stdout"
        }
      ]
    },
    {
      "cell_type": "code",
      "metadata": {
        "id": "fQrCJMyEIrKu"
      },
      "source": [
        "Policies.to_csv(\"Policies.csv\")"
      ],
      "id": "fQrCJMyEIrKu",
      "execution_count": 45,
      "outputs": []
    },
    {
      "cell_type": "code",
      "metadata": {
        "colab": {
          "base_uri": "https://localhost:8080/"
        },
        "id": "Pv0Svzkok6iJ",
        "outputId": "94d781ea-e96d-43aa-cf57-390accc00e65"
      },
      "source": [
        "for num, i in enumerate(Policies[\"File_name\"]):\n",
        "  print(i,\": \", Policies[\"vague_score\"][num])\n",
        "\n",
        "Policies[\"vague_score\"].describe()"
      ],
      "id": "Pv0Svzkok6iJ",
      "execution_count": 46,
      "outputs": [
        {
          "output_type": "stream",
          "text": [
            "GamersGLToolProwithGameTurbo&PingBooster.txt :  2.566222222222222\n",
            "Tasker.txt :  2.714666666666666\n",
            "PandaGamepadPro(BETA).txt :  2.855882352941178\n",
            "GaanaMusicHindiSongFreeTamilTeluguMP3App.txt :  2.673979166666666\n",
            "WynkMusic-NewMP3HindiTamilSong&PodcastApp.txt :  2.7548148148148153\n",
            "Truecaller:CallerID,SpamBlocking&Chat.txt :  2.7043153153153168\n",
            "MXTakaTakShortVideoApp|MadeinIndiaforYou.txt :  2.7416666666666676\n",
            "MXPlayerPro.txt :  2.6862037037037036\n",
            "AmazonShopping,UPI,MoneyTransfer,BillPayment.txt :  2.7600204081632644\n",
            "JioTV–News,Movies,Entertainment,LIVETV.txt :  2.792305555555555\n",
            "AJIOOnlineShopping-HandpickedCuratedFashion.txt :  2.7960851063829772\n",
            "InternetOptimizerPro|No-Ads.txt :  2.7611428571428576\n",
            "Meesho-Resell,WorkFromHome,EarnMoneyOnline.txt :  2.6548888888888893\n",
            "PGT+🔧:ProGFX&Optimizer(withadvancesetting).txt :  2.566222222222222\n",
            "SnackyTakatak.txt :  2.7416666666666676\n",
            "VideoEditor&VideoMaker-InShot.txt :  2.791\n",
            "SimpleGalleryPro:Video&PhotoManager&Editor.txt :  2.3906666666666667\n",
            "GameBoosterVIP-FreeFireGFX-LagFix.txt :  2.5760000000000005\n",
            "Facebook.txt :  2.786714285714286\n",
            "TouchRetouch.txt :  2.6534102564102557\n",
            "GooglePay-asimpleandsecurepaymentapp.txt :  2.7210609756097575\n",
            "Biugo-videomaker,photovideomaker,videoeditor.txt :  2.6841643835616438\n",
            "PhonePe–UPI,Recharges,Investments&Insurance.txt :  2.707943396226415\n",
            "FLStudioMobile.txt :  2.865\n",
            "FluidWalls-4KLiquidStyleWallpapers.txt :  2.649135135135135\n",
            "MXPlayer:VideoPlayer,Movies,Songs&GamesApp.txt :  2.6862037037037036\n",
            "FlipkartOnlineShoppingApp.txt :  2.726135135135135\n",
            "Noizz-videoeditor,videomakerphotoswithsong.txt :  2.6841643835616438\n",
            "ZEE5:Movies,TVShows,WebSeries.txt :  2.61455\n",
            "FactTechzUltimateBrainBooster-BinauralBeats.txt :  2.6896428571428572\n",
            "Public-IndianLocalVideos.txt :  2.622409090909092\n",
            "Telegram.txt :  2.751292307692308\n",
            "FacebookLite.txt :  2.786714285714286\n",
            "SDMaidPro-Unlocker.txt :  2.8136\n",
            "DiskDiggerProfilerecovery.txt :  2.865\n",
            "Costco.txt :  2.773666666666669\n",
            "Dailyhunt-100%IndianAppforNews&Videos.txt :  2.742947368421053\n",
            "AmazonPrimeVideo.txt :  2.758648148148148\n",
            "WhatsAppBusiness.txt :  2.785517857142857\n",
            "1DM+[formerlyIDM+]:Video,TorrentDownloader.txt :  2.920571428571429\n",
            "InternetSpeedMeter.txt :  2.5372500000000002\n",
            "ShareMe-India'sbestfiletransferapp.txt :  2.633935064935067\n",
            "MVBitmaster,MVmastervideostatusmaker-MVBit.txt :  2.756851851851852\n",
            "DroidCamX.txt :  2.7036666666666664\n",
            "SnackVideoMakerAppwithSong-Mast.txt :  2.6584736842105263\n",
            "Josh-SnackonShortVideoswithTopIndianApp.txt :  2.742947368421053\n",
            "FrancoKernelManager-foralldevices&kernels.txt :  2.865\n",
            "KWGTKustomWidgetProKey.txt :  2.6896428571428572\n",
            "Instagram.txt :  2.7879375000000004\n",
            "FreeVPNTomato|FastestFreeHotspotVPNProxy.txt :  2.865\n",
            "Vido:LyricalVideoStatusMaker.txt :  2.7198\n",
            "GameBooster4xFasterPro-GFXTool&LagFix.txt :  2.7145555555555556\n",
            "JioSaavnMusic&Radio–JioTunes,Podcasts,Songs.txt :  2.7749210526315817\n",
            "VPNMaster-Free&Fast&SecureVPNProxy.txt :  2.6896428571428572\n",
            "NavigationPro:GoogleMapsNavionSamsungWatch.txt :  2.6896428571428572\n",
            "Paytm-UPI,MoneyTransfer,Recharge,BillPayment.txt :  2.665156050955419\n",
            "Hotstar.txt :  2.746460317460319\n",
            "MyJio:ForEverythingJio.txt :  2.771848484848485\n",
            "Moj-SnackonIndianShortVideos|MadeinIndia.txt :  2.671499999999999\n",
            "CrayonIconPack.txt :  2.6896428571428572\n",
            "QuickHealTotalSecurity.txt :  2.7235000000000005\n",
            "PLAYit-ANewAll-in-OneVideoPlayer.txt :  2.6894615384615386\n",
            "CryptoTabBrowserPro—mineonaPROlevel.txt :  2.702875\n",
            "ShareKaro-Share&FileTransferApp,Shareit.txt :  2.3687857142857145\n",
            "TorquePro(OBD2&Car).txt :  2.6183333333333336\n",
            "BYJU'S–TheLearningApp.txt :  2.685384615384616\n",
            "VPNPro-FreeforLifetime.txt :  2.6488333333333336\n",
            "InstagramLite.txt :  2.7879375000000004\n",
            "ShareChat-MadeinIndia.txt :  2.702224489795917\n",
            "PowerampFullVersionUnlocker.txt :  2.7073191489361683\n",
            "AirtelThanks-Recharge,BillPay,Bank,LiveTV.txt :  2.7583333333333333\n",
            "SAXVideoPlayer-AllinoneHdFormatpro2021.txt :  2.865\n",
            "KineMaster-VideoEditor,VideoMaker.txt :  2.520615384615385\n",
            "RAM&GameBoosterbyAugustro(67%OFF).txt :  2.7120526315789477\n",
            "RhythmwithTabla&TanpuraPREMIUM.txt :  2.6896428571428572\n",
            "Snapchat.txt :  2.8409250000000013\n"
          ],
          "name": "stdout"
        },
        {
          "output_type": "execute_result",
          "data": {
            "text/plain": [
              "count    76.000000\n",
              "mean      2.713307\n",
              "std       0.096532\n",
              "min       2.368786\n",
              "25%       2.681618\n",
              "50%       2.713304\n",
              "75%       2.772303\n",
              "max       2.920571\n",
              "Name: vague_score, dtype: float64"
            ]
          },
          "metadata": {
            "tags": []
          },
          "execution_count": 46
        }
      ]
    },
    {
      "cell_type": "code",
      "metadata": {
        "id": "NVvWf0ppnZEO"
      },
      "source": [
        ""
      ],
      "id": "NVvWf0ppnZEO",
      "execution_count": 46,
      "outputs": []
    }
  ]
}
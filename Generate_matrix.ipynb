{
 "cells": [
  {
   "cell_type": "code",
   "execution_count": 4,
   "id": "67c9971a",
   "metadata": {},
   "outputs": [],
   "source": [
    "import spacy\n",
    "import os\n",
    "import pandas as pd\n",
    "from spacy.matcher import Matcher"
   ]
  },
  {
   "cell_type": "code",
   "execution_count": 3,
   "id": "ef642de7",
   "metadata": {},
   "outputs": [],
   "source": [
    "Condition = ['depending', 'necessary', 'appropriate',\n",
    "                 'inappropriate', 'as needed', 'as applicable', 'when applicable', 'if applicable',\n",
    "                   'where applicable', 'when needed', 'if needed', 'where needed' 'reasonable', 'reasonably'\n",
    "                 'otherwise reasonably', 'sometimes',\n",
    "                 'from time to time']\n",
    "Generalization = ['generally', 'mostly', 'widely',\n",
    "                  'general', 'commonly',\n",
    "                  'usually', 'normally', 'typically',\n",
    "                  'largely', 'often', 'primarily',\n",
    "                  'among other things']\n",
    "Modality = ['may', 'might', 'can', 'could', 'would',\n",
    "            'likely', 'possible', 'possibly']\n",
    "Numeric_quantifier = ['anyone', 'certain', 'everyone',\n",
    "                      'numerous', 'some', 'most', 'few',\n",
    "                      'much', 'many', 'various', 'include',\n",
    "                      'limited to', \n",
    "                      'including but not limited to']"
   ]
  },
  {
   "cell_type": "code",
   "execution_count": 6,
   "id": "1c6e9878",
   "metadata": {},
   "outputs": [],
   "source": [
    "Path = \"./Privacy_Policies/\"\n",
    "filelist = os.listdir(Path)\n",
    "txt_files = []\n",
    "file_names = []\n",
    "for i in filelist:\n",
    "    if i.endswith(\".txt\"):\n",
    "        file_names.append(i)\n",
    "        with open(Path + i, 'r') as f:\n",
    "            txt_files.append(f.read())"
   ]
  },
  {
   "cell_type": "markdown",
   "id": "f7ab44fe",
   "metadata": {},
   "source": [
    "## Policy String"
   ]
  },
  {
   "cell_type": "code",
   "execution_count": 21,
   "id": "f43f89d3",
   "metadata": {},
   "outputs": [],
   "source": [
    "Policies = pd.DataFrame([file_names, txt_files]).T\n",
    "Policies.columns = [\"File_name\", \"text_content\"]"
   ]
  },
  {
   "cell_type": "code",
   "execution_count": 22,
   "id": "a6f81bfa",
   "metadata": {
    "collapsed": true
   },
   "outputs": [
    {
     "data": {
      "text/html": [
       "<div>\n",
       "<style scoped>\n",
       "    .dataframe tbody tr th:only-of-type {\n",
       "        vertical-align: middle;\n",
       "    }\n",
       "\n",
       "    .dataframe tbody tr th {\n",
       "        vertical-align: top;\n",
       "    }\n",
       "\n",
       "    .dataframe thead th {\n",
       "        text-align: right;\n",
       "    }\n",
       "</style>\n",
       "<table border=\"1\" class=\"dataframe\">\n",
       "  <thead>\n",
       "    <tr style=\"text-align: right;\">\n",
       "      <th></th>\n",
       "      <th>File_name</th>\n",
       "      <th>text_content</th>\n",
       "    </tr>\n",
       "  </thead>\n",
       "  <tbody>\n",
       "    <tr>\n",
       "      <th>0</th>\n",
       "      <td>FLStudioMobile.txt</td>\n",
       "      <td>MOBILE APP PRIVACY | FL Studio FL StudioOvervi...</td>\n",
       "    </tr>\n",
       "    <tr>\n",
       "      <th>1</th>\n",
       "      <td>TouchRetouch.txt</td>\n",
       "      <td>ADVA Soft - Privacy PolicyToggle navigationCon...</td>\n",
       "    </tr>\n",
       "    <tr>\n",
       "      <th>2</th>\n",
       "      <td>SnackyTakatak.txt</td>\n",
       "      <td>Privacy Policy – MX TakaTakMX TakaTak Privacy ...</td>\n",
       "    </tr>\n",
       "    <tr>\n",
       "      <th>3</th>\n",
       "      <td>MXTakaTakShortVideoApp|MadeinIndiaforYou.txt</td>\n",
       "      <td>Privacy Policy – MX TakaTakMX TakaTak Privacy ...</td>\n",
       "    </tr>\n",
       "    <tr>\n",
       "      <th>4</th>\n",
       "      <td>Snapchat.txt</td>\n",
       "      <td>Privacy Policy - Snap Inc.HomeCareersNewsInves...</td>\n",
       "    </tr>\n",
       "    <tr>\n",
       "      <th>...</th>\n",
       "      <td>...</td>\n",
       "      <td>...</td>\n",
       "    </tr>\n",
       "    <tr>\n",
       "      <th>73</th>\n",
       "      <td>PGT+🔧:ProGFX&amp;Optimizer(withadvancesetting).txt</td>\n",
       "      <td>Privacy PolicyYour privacy is important to us....</td>\n",
       "    </tr>\n",
       "    <tr>\n",
       "      <th>74</th>\n",
       "      <td>QuickHealTotalSecurity.txt</td>\n",
       "      <td>PRIVACY POLICY- QUICK HEAL MOBILE DEVICE SECUR...</td>\n",
       "    </tr>\n",
       "    <tr>\n",
       "      <th>75</th>\n",
       "      <td>MXPlayer:VideoPlayer,Movies,Songs&amp;GamesApp.txt</td>\n",
       "      <td>MX Player Privacy PolicySearch this siteHomeFe...</td>\n",
       "    </tr>\n",
       "    <tr>\n",
       "      <th>76</th>\n",
       "      <td>InternetOptimizerPro|No-Ads.txt</td>\n",
       "      <td>Privacy PolicyPrivacy Policy                  ...</td>\n",
       "    </tr>\n",
       "    <tr>\n",
       "      <th>77</th>\n",
       "      <td>Noizz-videoeditor,videomakerphotoswithsong.txt</td>\n",
       "      <td>Welcome and thank you for choosing Noizz. Noiz...</td>\n",
       "    </tr>\n",
       "  </tbody>\n",
       "</table>\n",
       "<p>78 rows × 2 columns</p>\n",
       "</div>"
      ],
      "text/plain": [
       "                                         File_name  \\\n",
       "0                               FLStudioMobile.txt   \n",
       "1                                 TouchRetouch.txt   \n",
       "2                                SnackyTakatak.txt   \n",
       "3     MXTakaTakShortVideoApp|MadeinIndiaforYou.txt   \n",
       "4                                     Snapchat.txt   \n",
       "..                                             ...   \n",
       "73  PGT+🔧:ProGFX&Optimizer(withadvancesetting).txt   \n",
       "74                      QuickHealTotalSecurity.txt   \n",
       "75  MXPlayer:VideoPlayer,Movies,Songs&GamesApp.txt   \n",
       "76                 InternetOptimizerPro|No-Ads.txt   \n",
       "77  Noizz-videoeditor,videomakerphotoswithsong.txt   \n",
       "\n",
       "                                         text_content  \n",
       "0   MOBILE APP PRIVACY | FL Studio FL StudioOvervi...  \n",
       "1   ADVA Soft - Privacy PolicyToggle navigationCon...  \n",
       "2   Privacy Policy – MX TakaTakMX TakaTak Privacy ...  \n",
       "3   Privacy Policy – MX TakaTakMX TakaTak Privacy ...  \n",
       "4   Privacy Policy - Snap Inc.HomeCareersNewsInves...  \n",
       "..                                                ...  \n",
       "73  Privacy PolicyYour privacy is important to us....  \n",
       "74  PRIVACY POLICY- QUICK HEAL MOBILE DEVICE SECUR...  \n",
       "75  MX Player Privacy PolicySearch this siteHomeFe...  \n",
       "76  Privacy PolicyPrivacy Policy                  ...  \n",
       "77  Welcome and thank you for choosing Noizz. Noiz...  \n",
       "\n",
       "[78 rows x 2 columns]"
      ]
     },
     "execution_count": 22,
     "metadata": {},
     "output_type": "execute_result"
    }
   ],
   "source": [
    "Policies"
   ]
  },
  {
   "cell_type": "code",
   "execution_count": 23,
   "id": "11b89ff7",
   "metadata": {},
   "outputs": [],
   "source": [
    "string_in = Policies.text_content[0]"
   ]
  },
  {
   "cell_type": "markdown",
   "id": "b5f3154f",
   "metadata": {},
   "source": [
    "## New Heading\n"
   ]
  },
  {
   "cell_type": "code",
   "execution_count": 26,
   "id": "7370aab4",
   "metadata": {},
   "outputs": [
    {
     "ename": "OSError",
     "evalue": "[E050] Can't find model 'en_core_web_sm'. It doesn't seem to be a Python package or a valid path to a data directory.",
     "output_type": "error",
     "traceback": [
      "\u001b[0;31m---------------------------------------------------------------------------\u001b[0m",
      "\u001b[0;31mOSError\u001b[0m                                   Traceback (most recent call last)",
      "\u001b[0;32m<ipython-input-26-d212c80e38a0>\u001b[0m in \u001b[0;36m<module>\u001b[0;34m\u001b[0m\n\u001b[0;32m----> 1\u001b[0;31m \u001b[0mnlp\u001b[0m \u001b[0;34m=\u001b[0m \u001b[0mspacy\u001b[0m\u001b[0;34m.\u001b[0m\u001b[0mload\u001b[0m\u001b[0;34m(\u001b[0m\u001b[0;34m'en_core_web_sm'\u001b[0m\u001b[0;34m)\u001b[0m\u001b[0;34m\u001b[0m\u001b[0;34m\u001b[0m\u001b[0m\n\u001b[0m\u001b[1;32m      2\u001b[0m \u001b[0;34m\u001b[0m\u001b[0m\n\u001b[1;32m      3\u001b[0m \u001b[0;32mdef\u001b[0m \u001b[0mgenerateMatrix\u001b[0m\u001b[0;34m(\u001b[0m\u001b[0mtext_string\u001b[0m\u001b[0;34m)\u001b[0m\u001b[0;34m:\u001b[0m\u001b[0;34m\u001b[0m\u001b[0;34m\u001b[0m\u001b[0m\n\u001b[1;32m      4\u001b[0m     \u001b[0mtok\u001b[0m \u001b[0;34m=\u001b[0m \u001b[0mnlp\u001b[0m\u001b[0;34m(\u001b[0m\u001b[0mtext_string\u001b[0m\u001b[0;34m)\u001b[0m\u001b[0;34m\u001b[0m\u001b[0;34m\u001b[0m\u001b[0m\n",
      "\u001b[0;32m~/.local/lib/python3.7/site-packages/spacy/__init__.py\u001b[0m in \u001b[0;36mload\u001b[0;34m(name, vocab, disable, exclude, config)\u001b[0m\n\u001b[1;32m     49\u001b[0m     \"\"\"\n\u001b[1;32m     50\u001b[0m     return util.load_model(\n\u001b[0;32m---> 51\u001b[0;31m         \u001b[0mname\u001b[0m\u001b[0;34m,\u001b[0m \u001b[0mvocab\u001b[0m\u001b[0;34m=\u001b[0m\u001b[0mvocab\u001b[0m\u001b[0;34m,\u001b[0m \u001b[0mdisable\u001b[0m\u001b[0;34m=\u001b[0m\u001b[0mdisable\u001b[0m\u001b[0;34m,\u001b[0m \u001b[0mexclude\u001b[0m\u001b[0;34m=\u001b[0m\u001b[0mexclude\u001b[0m\u001b[0;34m,\u001b[0m \u001b[0mconfig\u001b[0m\u001b[0;34m=\u001b[0m\u001b[0mconfig\u001b[0m\u001b[0;34m\u001b[0m\u001b[0;34m\u001b[0m\u001b[0m\n\u001b[0m\u001b[1;32m     52\u001b[0m     )\n\u001b[1;32m     53\u001b[0m \u001b[0;34m\u001b[0m\u001b[0m\n",
      "\u001b[0;32m~/.local/lib/python3.7/site-packages/spacy/util.py\u001b[0m in \u001b[0;36mload_model\u001b[0;34m(name, vocab, disable, exclude, config)\u001b[0m\n\u001b[1;32m    329\u001b[0m     \u001b[0;32mif\u001b[0m \u001b[0mname\u001b[0m \u001b[0;32min\u001b[0m \u001b[0mOLD_MODEL_SHORTCUTS\u001b[0m\u001b[0;34m:\u001b[0m\u001b[0;34m\u001b[0m\u001b[0;34m\u001b[0m\u001b[0m\n\u001b[1;32m    330\u001b[0m         \u001b[0;32mraise\u001b[0m \u001b[0mIOError\u001b[0m\u001b[0;34m(\u001b[0m\u001b[0mErrors\u001b[0m\u001b[0;34m.\u001b[0m\u001b[0mE941\u001b[0m\u001b[0;34m.\u001b[0m\u001b[0mformat\u001b[0m\u001b[0;34m(\u001b[0m\u001b[0mname\u001b[0m\u001b[0;34m=\u001b[0m\u001b[0mname\u001b[0m\u001b[0;34m,\u001b[0m \u001b[0mfull\u001b[0m\u001b[0;34m=\u001b[0m\u001b[0mOLD_MODEL_SHORTCUTS\u001b[0m\u001b[0;34m[\u001b[0m\u001b[0mname\u001b[0m\u001b[0;34m]\u001b[0m\u001b[0;34m)\u001b[0m\u001b[0;34m)\u001b[0m\u001b[0;34m\u001b[0m\u001b[0;34m\u001b[0m\u001b[0m\n\u001b[0;32m--> 331\u001b[0;31m     \u001b[0;32mraise\u001b[0m \u001b[0mIOError\u001b[0m\u001b[0;34m(\u001b[0m\u001b[0mErrors\u001b[0m\u001b[0;34m.\u001b[0m\u001b[0mE050\u001b[0m\u001b[0;34m.\u001b[0m\u001b[0mformat\u001b[0m\u001b[0;34m(\u001b[0m\u001b[0mname\u001b[0m\u001b[0;34m=\u001b[0m\u001b[0mname\u001b[0m\u001b[0;34m)\u001b[0m\u001b[0;34m)\u001b[0m\u001b[0;34m\u001b[0m\u001b[0;34m\u001b[0m\u001b[0m\n\u001b[0m\u001b[1;32m    332\u001b[0m \u001b[0;34m\u001b[0m\u001b[0m\n\u001b[1;32m    333\u001b[0m \u001b[0;34m\u001b[0m\u001b[0m\n",
      "\u001b[0;31mOSError\u001b[0m: [E050] Can't find model 'en_core_web_sm'. It doesn't seem to be a Python package or a valid path to a data directory."
     ]
    }
   ],
   "source": [
    "nlp = spacy.load('en')\n",
    "\n",
    "def generateMatrix(text_string):\n",
    "    tok = nlp(text_string)"
   ]
  },
  {
   "cell_type": "code",
   "execution_count": null,
   "id": "e40e80da",
   "metadata": {},
   "outputs": [],
   "source": []
  }
 ],
 "metadata": {
  "kernelspec": {
   "display_name": "Python 3",
   "language": "python",
   "name": "python3"
  },
  "language_info": {
   "codemirror_mode": {
    "name": "ipython",
    "version": 3
   },
   "file_extension": ".py",
   "mimetype": "text/x-python",
   "name": "python",
   "nbconvert_exporter": "python",
   "pygments_lexer": "ipython3",
   "version": "3.7.5"
  }
 },
 "nbformat": 4,
 "nbformat_minor": 5
}

{
  "nbformat": 4,
  "nbformat_minor": 5,
  "metadata": {
    "kernelspec": {
      "display_name": "Python 3",
      "language": "python",
      "name": "python3"
    },
    "language_info": {
      "codemirror_mode": {
        "name": "ipython",
        "version": 3
      },
      "file_extension": ".py",
      "mimetype": "text/x-python",
      "name": "python",
      "nbconvert_exporter": "python",
      "pygments_lexer": "ipython3",
      "version": "3.7.5"
    },
    "colab": {
      "name": "Generate_matrix.ipynb",
      "provenance": [],
      "collapsed_sections": []
    }
  },
  "cells": [
    {
      "cell_type": "code",
      "metadata": {
        "id": "67c9971a"
      },
      "source": [
        "import spacy\n",
        "import os\n",
        "import pandas as pd\n",
        "from spacy.matcher import Matcher\n",
        "from google.colab import files"
      ],
      "id": "67c9971a",
      "execution_count": 132,
      "outputs": []
    },
    {
      "cell_type": "code",
      "metadata": {
        "id": "ef642de7"
      },
      "source": [
        "Condition = ['depending', 'necessary', 'appropriate',\n",
        "                 'inappropriate', 'as needed', 'as applicable',\n",
        "                 'otherwise reasonably', 'sometimes',\n",
        "                 'from time to time']\n",
        "Generalization = ['generally', 'mostly', 'widely',\n",
        "                  'general', 'commonly',\n",
        "                  'usually', 'normally', 'typically',\n",
        "                  'largely', 'often', 'primarily',\n",
        "                  'among other things']\n",
        "Modality = ['may', 'might', 'can', 'could', 'would',\n",
        "            'likely', 'possible', 'possibly']\n",
        "Numeric_quantifier = ['anyone', 'certain', 'everyone',\n",
        "                      'numerous', 'some', 'most', 'few',\n",
        "                      'much', 'many', 'various',\n",
        "                      'including but not limited to']"
      ],
      "id": "ef642de7",
      "execution_count": 133,
      "outputs": []
    },
    {
      "cell_type": "code",
      "metadata": {
        "id": "1c6e9878"
      },
      "source": [
        "Path = \"/content/Privacy Policy/\"\n",
        "filelist = os.listdir(Path)\n",
        "txt_files = []\n",
        "file_names = []\n",
        "for i in filelist:\n",
        "    if i.endswith(\".txt\"):\n",
        "        file_names.append(i)\n",
        "        with open(Path + i, 'r') as f:\n",
        "            txt_files.append(f.read())"
      ],
      "id": "1c6e9878",
      "execution_count": 134,
      "outputs": []
    },
    {
      "cell_type": "markdown",
      "metadata": {
        "id": "f7ab44fe"
      },
      "source": [
        "## Policy String"
      ],
      "id": "f7ab44fe"
    },
    {
      "cell_type": "code",
      "metadata": {
        "id": "f43f89d3"
      },
      "source": [
        "Policies = pd.DataFrame([file_names, txt_files]).T\n",
        "Policies.columns = [\"File_name\", \"text_content\"]"
      ],
      "id": "f43f89d3",
      "execution_count": 135,
      "outputs": []
    },
    {
      "cell_type": "code",
      "metadata": {
        "collapsed": true,
        "id": "a6f81bfa",
        "colab": {
          "base_uri": "https://localhost:8080/",
          "height": 406
        },
        "outputId": "9bc41634-d4b0-450e-8931-dd211ba1d15c"
      },
      "source": [
        "Policies"
      ],
      "id": "a6f81bfa",
      "execution_count": 136,
      "outputs": [
        {
          "output_type": "execute_result",
          "data": {
            "text/html": [
              "<div>\n",
              "<style scoped>\n",
              "    .dataframe tbody tr th:only-of-type {\n",
              "        vertical-align: middle;\n",
              "    }\n",
              "\n",
              "    .dataframe tbody tr th {\n",
              "        vertical-align: top;\n",
              "    }\n",
              "\n",
              "    .dataframe thead th {\n",
              "        text-align: right;\n",
              "    }\n",
              "</style>\n",
              "<table border=\"1\" class=\"dataframe\">\n",
              "  <thead>\n",
              "    <tr style=\"text-align: right;\">\n",
              "      <th></th>\n",
              "      <th>File_name</th>\n",
              "      <th>text_content</th>\n",
              "    </tr>\n",
              "  </thead>\n",
              "  <tbody>\n",
              "    <tr>\n",
              "      <th>0</th>\n",
              "      <td>CrayonIconPack.txt</td>\n",
              "      <td>LineX Privacy PolicySkip to main contentJND AP...</td>\n",
              "    </tr>\n",
              "    <tr>\n",
              "      <th>1</th>\n",
              "      <td>SimpleGalleryPro:Video&amp;PhotoManager&amp;Editor.txt</td>\n",
              "      <td>Privacy policyGeneralSimple Gallery is develop...</td>\n",
              "    </tr>\n",
              "    <tr>\n",
              "      <th>2</th>\n",
              "      <td>BYJU'S–TheLearningApp.txt</td>\n",
              "      <td>Terms and Conditions of BYJU'S - The Learning ...</td>\n",
              "    </tr>\n",
              "    <tr>\n",
              "      <th>3</th>\n",
              "      <td>SAXVideoPlayer-AllinoneHdFormatpro2021.txt</td>\n",
              "      <td>HomeSearch this sitePrivacy PolicyProtecting y...</td>\n",
              "    </tr>\n",
              "    <tr>\n",
              "      <th>4</th>\n",
              "      <td>ShareKaro-Share&amp;FileTransferApp,Shareit.txt</td>\n",
              "      <td>Privacy PolicyPrivacy PolicyLast Updated: [29/...</td>\n",
              "    </tr>\n",
              "    <tr>\n",
              "      <th>...</th>\n",
              "      <td>...</td>\n",
              "      <td>...</td>\n",
              "    </tr>\n",
              "    <tr>\n",
              "      <th>72</th>\n",
              "      <td>QuickHealTotalSecurity.txt</td>\n",
              "      <td>PRIVACY POLICY- QUICK HEAL MOBILE DEVICE SECUR...</td>\n",
              "    </tr>\n",
              "    <tr>\n",
              "      <th>73</th>\n",
              "      <td>MVBitmaster,MVmastervideostatusmaker-MVBit.txt</td>\n",
              "      <td>MvBitUSER AGREEMENT AND PRIVACY POLICY1. CONSE...</td>\n",
              "    </tr>\n",
              "    <tr>\n",
              "      <th>74</th>\n",
              "      <td>KWGTKustomWidgetProKey.txt</td>\n",
              "      <td>Privacy Policy | Kustom Heavy IndustriesAre yo...</td>\n",
              "    </tr>\n",
              "    <tr>\n",
              "      <th>75</th>\n",
              "      <td>AmazonShopping,UPI,MoneyTransfer,BillPayment.txt</td>\n",
              "      <td>Amazon.in Help: Amazon.in Privacy NoticeSkip t...</td>\n",
              "    </tr>\n",
              "    <tr>\n",
              "      <th>76</th>\n",
              "      <td>Truecaller:CallerID,SpamBlocking&amp;Chat.txt</td>\n",
              "      <td>Privacy Policy - TruecallerTruecaller privacyI...</td>\n",
              "    </tr>\n",
              "  </tbody>\n",
              "</table>\n",
              "<p>77 rows × 2 columns</p>\n",
              "</div>"
            ],
            "text/plain": [
              "                                           File_name                                       text_content\n",
              "0                                 CrayonIconPack.txt  LineX Privacy PolicySkip to main contentJND AP...\n",
              "1     SimpleGalleryPro:Video&PhotoManager&Editor.txt  Privacy policyGeneralSimple Gallery is develop...\n",
              "2                          BYJU'S–TheLearningApp.txt  Terms and Conditions of BYJU'S - The Learning ...\n",
              "3         SAXVideoPlayer-AllinoneHdFormatpro2021.txt  HomeSearch this sitePrivacy PolicyProtecting y...\n",
              "4        ShareKaro-Share&FileTransferApp,Shareit.txt  Privacy PolicyPrivacy PolicyLast Updated: [29/...\n",
              "..                                               ...                                                ...\n",
              "72                        QuickHealTotalSecurity.txt  PRIVACY POLICY- QUICK HEAL MOBILE DEVICE SECUR...\n",
              "73    MVBitmaster,MVmastervideostatusmaker-MVBit.txt  MvBitUSER AGREEMENT AND PRIVACY POLICY1. CONSE...\n",
              "74                        KWGTKustomWidgetProKey.txt  Privacy Policy | Kustom Heavy IndustriesAre yo...\n",
              "75  AmazonShopping,UPI,MoneyTransfer,BillPayment.txt  Amazon.in Help: Amazon.in Privacy NoticeSkip t...\n",
              "76         Truecaller:CallerID,SpamBlocking&Chat.txt  Privacy Policy - TruecallerTruecaller privacyI...\n",
              "\n",
              "[77 rows x 2 columns]"
            ]
          },
          "metadata": {
            "tags": []
          },
          "execution_count": 136
        }
      ]
    },
    {
      "cell_type": "code",
      "metadata": {
        "id": "11b89ff7"
      },
      "source": [
        "# with open(\"/content/Telegram.txt\", 'r') as f:\n",
        "#   text = f.read()\n",
        "# print(text)"
      ],
      "id": "11b89ff7",
      "execution_count": 137,
      "outputs": []
    },
    {
      "cell_type": "markdown",
      "metadata": {
        "id": "b5f3154f"
      },
      "source": [
        "## New Heading\n"
      ],
      "id": "b5f3154f"
    },
    {
      "cell_type": "code",
      "metadata": {
        "id": "8p84O2IoIew_"
      },
      "source": [
        "def len_str(x):\n",
        "  return len(x)"
      ],
      "id": "8p84O2IoIew_",
      "execution_count": 138,
      "outputs": []
    },
    {
      "cell_type": "code",
      "metadata": {
        "id": "2Dv9T599HUX_"
      },
      "source": [
        "keepWords = Condition + Generalization + Modality + Numeric_quantifier\n",
        "# print(keepWords)\n",
        "\n",
        "index_tracker = {}\n",
        "for num, i in enumerate(keepWords):\n",
        "  index_tracker[i] = num\n",
        "_ = keepWords.sort(key=len_str, reverse=True)"
      ],
      "id": "2Dv9T599HUX_",
      "execution_count": 139,
      "outputs": []
    },
    {
      "cell_type": "code",
      "metadata": {
        "id": "7370aab4"
      },
      "source": [
        "nlp = spacy.load('en')\n",
        "\n",
        "matcher = Matcher(nlp.vocab)\n",
        "for i in keepWords:\n",
        "  rule = [ {\"LOWER\": j } for j in i.split() ]\n",
        "  matcher.add(i, None, rule)\n",
        "\n",
        "def generateVec(sentence):\n",
        "  text = nlp(sentence)\n",
        "\n",
        "  final = []\n",
        "  for i in range(len(keepWords)):\n",
        "    final.append(0)\n",
        "\n",
        "  buffer_start = 0\n",
        "  for word, match_start, match_end in matcher(text):\n",
        "    if buffer_start < match_start:\n",
        "      # print(nlp.vocab.strings[word])\n",
        "      final[index_tracker[nlp.vocab.strings[word]]] = 1\n",
        "    buffer_start = match_end\n",
        "\n",
        "  if sum(final)==0:\n",
        "    return []\n",
        "\n",
        "  return final\n",
        "\n",
        "\n",
        "def generateMatrix(text_string):\n",
        "  final = []\n",
        "  tok = nlp(text_string)\n",
        "  for i in tok.sents:\n",
        "    final.append(generateVec(i.text))\n",
        "\n",
        "  while True:\n",
        "    try:\n",
        "      final.remove([])\n",
        "    except:\n",
        "      break\n",
        "\n",
        "  return final"
      ],
      "id": "7370aab4",
      "execution_count": 140,
      "outputs": []
    },
    {
      "cell_type": "code",
      "metadata": {
        "id": "e40e80da"
      },
      "source": [
        "def make_df(intext):\n",
        "  visualization = pd.DataFrame(generateMatrix(intext))\n",
        "  keepWords = Condition + Generalization + Modality + Numeric_quantifier\n",
        "  visualization.columns = keepWords\n",
        "  return visualization"
      ],
      "id": "e40e80da",
      "execution_count": 141,
      "outputs": []
    },
    {
      "cell_type": "code",
      "metadata": {
        "colab": {
          "base_uri": "https://localhost:8080/"
        },
        "id": "jhMiN3iaS_jD",
        "outputId": "c33a23aa-393a-4c54-b616-564e3c1bc0cf"
      },
      "source": [
        "for i in Policies.iterrows():\n",
        "  print(i[1][0])\n",
        "  temp = i[1][0][:-4]\n",
        "  temp = \"/media/FINAL/\" + temp + \".csv\"\n",
        "  try:\n",
        "    make_df(i[1][1]).to_csv(temp)\n",
        "    # files.download(temp)\n",
        "  except:\n",
        "    pass"
      ],
      "id": "jhMiN3iaS_jD",
      "execution_count": 142,
      "outputs": [
        {
          "output_type": "stream",
          "text": [
            "CrayonIconPack.txt\n",
            "SimpleGalleryPro:Video&PhotoManager&Editor.txt\n",
            "BYJU'S–TheLearningApp.txt\n",
            "SAXVideoPlayer-AllinoneHdFormatpro2021.txt\n",
            "ShareKaro-Share&FileTransferApp,Shareit.txt\n",
            "FluidWalls-4KLiquidStyleWallpapers.txt\n",
            "AJIOOnlineShopping-HandpickedCuratedFashion.txt\n",
            "Tasker.txt\n",
            "InstagramLite.txt\n",
            "FreeVPNTomato|FastestFreeHotspotVPNProxy.txt\n",
            "Moj-SnackonIndianShortVideos|MadeinIndia.txt\n",
            "GaanaMusicHindiSongFreeTamilTeluguMP3App.txt\n",
            "GamersGLToolProwithGameTurbo&PingBooster.txt\n",
            "Josh-SnackonShortVideoswithTopIndianApp.txt\n",
            "VPNMaster-Free&Fast&SecureVPNProxy.txt\n",
            "FlipkartOnlineShoppingApp.txt\n",
            "PhonePe–UPI,Recharges,Investments&Insurance.txt\n",
            "MyJio:ForEverythingJio.txt\n",
            "JioTV–News,Movies,Entertainment,LIVETV.txt\n",
            "MXTakaTakShortVideoApp|MadeinIndiaforYou.txt\n",
            "WhatsAppBusiness.txt\n",
            "DroidCamX.txt\n",
            "RewardsGo.txt\n",
            "NavigationPro:GoogleMapsNavionSamsungWatch.txt\n",
            "TorquePro(OBD2&Car).txt\n",
            "RhythmwithTabla&TanpuraPREMIUM.txt\n",
            "DiskDiggerProfilerecovery.txt\n",
            "PowerampFullVersionUnlocker.txt\n",
            "FrancoKernelManager-foralldevices&kernels.txt\n",
            "KineMaster-VideoEditor,VideoMaker.txt\n",
            "MXPlayer:VideoPlayer,Movies,Songs&GamesApp.txt\n",
            "Snapchat.txt\n",
            "PLAYit-ANewAll-in-OneVideoPlayer.txt\n",
            "Paytm-UPI,MoneyTransfer,Recharge,BillPayment.txt\n",
            "Hotstar.txt\n",
            "InternetSpeedMeter.txt\n",
            "WynkMusic-NewMP3HindiTamilSong&PodcastApp.txt\n",
            "TouchRetouch.txt\n",
            "Telegram.txt\n",
            "RAM&GameBoosterbyAugustro(67%OFF).txt\n",
            "FactTechzUltimateBrainBooster-BinauralBeats.txt\n",
            "ShareMe-India'sbestfiletransferapp.txt\n",
            "VideoEditor&VideoMaker-InShot.txt\n",
            "GooglePay-asimpleandsecurepaymentapp.txt\n",
            "InternetOptimizerPro|No-Ads.txt\n",
            "Biugo-videomaker,photovideomaker,videoeditor.txt\n",
            "FLStudioMobile.txt\n",
            "Meesho-Resell,WorkFromHome,EarnMoneyOnline.txt\n",
            "FacebookLite.txt\n",
            "CryptoTabBrowserPro—mineonaPROlevel.txt\n",
            "GameBoosterVIP-FreeFireGFX-LagFix.txt\n",
            "Public-IndianLocalVideos.txt\n",
            "AmazonPrimeVideo.txt\n",
            "GameBooster4xFasterPro-GFXTool&LagFix.txt\n",
            "WhatsAppMessenger.txt\n",
            "Facebook.txt\n",
            "SnackVideoMakerAppwithSong-Mast.txt\n",
            "ShareChat-MadeinIndia.txt\n",
            "1DM+[formerlyIDM+]:Video,TorrentDownloader.txt\n",
            "ZEE5:Movies,TVShows,WebSeries.txt\n",
            "Vido:LyricalVideoStatusMaker.txt\n",
            "AirtelThanks-Recharge,BillPay,Bank,LiveTV.txt\n",
            "Noizz-videoeditor,videomakerphotoswithsong.txt\n",
            "SnackyTakatak.txt\n",
            "JioSaavnMusic&Radio–JioTunes,Podcasts,Songs.txt\n",
            "SDMaidPro-Unlocker.txt\n",
            "PGT+🔧:ProGFX&Optimizer(withadvancesetting).txt\n",
            "Dailyhunt-100%IndianAppforNews&Videos.txt\n",
            "VPNPro-FreeforLifetime.txt\n",
            "MXPlayerPro.txt\n",
            "Instagram.txt\n",
            "PandaGamepadPro(BETA).txt\n",
            "QuickHealTotalSecurity.txt\n",
            "MVBitmaster,MVmastervideostatusmaker-MVBit.txt\n",
            "KWGTKustomWidgetProKey.txt\n",
            "AmazonShopping,UPI,MoneyTransfer,BillPayment.txt\n",
            "Truecaller:CallerID,SpamBlocking&Chat.txt\n"
          ],
          "name": "stdout"
        }
      ]
    },
    {
      "cell_type": "code",
      "metadata": {
        "id": "D1N7a6YmMPrf",
        "colab": {
          "base_uri": "https://localhost:8080/"
        },
        "outputId": "c12c77c8-193c-4523-efbc-29ca9a225f5b"
      },
      "source": [
        "# make_df()\n",
        "print(\"done\")"
      ],
      "id": "D1N7a6YmMPrf",
      "execution_count": 143,
      "outputs": [
        {
          "output_type": "stream",
          "text": [
            "done\n"
          ],
          "name": "stdout"
        }
      ]
    },
    {
      "cell_type": "code",
      "metadata": {
        "id": "E-8JadNGR2Il",
        "colab": {
          "base_uri": "https://localhost:8080/"
        },
        "outputId": "90e0d326-4f93-4052-c631-81a9c118ccd1"
      },
      "source": [
        "!zip -r FINAL.zip ../media/FINAL"
      ],
      "id": "E-8JadNGR2Il",
      "execution_count": 152,
      "outputs": [
        {
          "output_type": "stream",
          "text": [
            "  adding: ../media/FINAL/ (stored 0%)\n",
            "  adding: ../media/FINAL/Snapchat.csv (deflated 92%)\n",
            "  adding: ../media/FINAL/JioSaavnMusic&Radio–JioTunes,Podcasts,Songs.csv (deflated 92%)\n",
            "  adding: ../media/FINAL/PLAYit-ANewAll-in-OneVideoPlayer.csv (deflated 78%)\n",
            "  adding: ../media/FINAL/SAXVideoPlayer-AllinoneHdFormatpro2021.csv (deflated 50%)\n",
            "  adding: ../media/FINAL/InternetOptimizerPro|No-Ads.csv (deflated 80%)\n",
            "  adding: ../media/FINAL/GameBoosterVIP-FreeFireGFX-LagFix.csv (deflated 65%)\n",
            "  adding: ../media/FINAL/GaanaMusicHindiSongFreeTamilTeluguMP3App.csv (deflated 89%)\n",
            "  adding: ../media/FINAL/FacebookLite.csv (deflated 91%)\n",
            "  adding: ../media/FINAL/SnackyTakatak.csv (deflated 84%)\n",
            "  adding: ../media/FINAL/AJIOOnlineShopping-HandpickedCuratedFashion.csv (deflated 89%)\n",
            "  adding: ../media/FINAL/FlipkartOnlineShoppingApp.csv (deflated 87%)\n",
            "  adding: ../media/FINAL/WhatsAppBusiness.csv (deflated 90%)\n",
            "  adding: ../media/FINAL/MyJio:ForEverythingJio.csv (deflated 87%)\n",
            "  adding: ../media/FINAL/QuickHealTotalSecurity.csv (deflated 84%)\n",
            "  adding: ../media/FINAL/TorquePro(OBD2&Car).csv (deflated 61%)\n",
            "  adding: ../media/FINAL/Facebook.csv (deflated 91%)\n",
            "  adding: ../media/FINAL/AirtelThanks-Recharge,BillPay,Bank,LiveTV.csv (deflated 87%)\n",
            "  adding: ../media/FINAL/Dailyhunt-100%IndianAppforNews&Videos.csv (deflated 91%)\n",
            "  adding: ../media/FINAL/BYJU'S–TheLearningApp.csv (deflated 91%)\n",
            "  adding: ../media/FINAL/PGT+🔧:ProGFX&Optimizer(withadvancesetting).csv (deflated 75%)\n",
            "  adding: ../media/FINAL/CrayonIconPack.csv (deflated 80%)\n",
            "  adding: ../media/FINAL/RhythmwithTabla&TanpuraPREMIUM.csv (deflated 80%)\n",
            "  adding: ../media/FINAL/VideoEditor&VideoMaker-InShot.csv (deflated 65%)\n",
            "  adding: ../media/FINAL/MXPlayerPro.csv (deflated 90%)\n",
            "  adding: ../media/FINAL/GameBooster4xFasterPro-GFXTool&LagFix.csv (deflated 85%)\n",
            "  adding: ../media/FINAL/GooglePay-asimpleandsecurepaymentapp.csv (deflated 91%)\n",
            "  adding: ../media/FINAL/1DM+[formerlyIDM+]:Video,TorrentDownloader.csv (deflated 72%)\n",
            "  adding: ../media/FINAL/Josh-SnackonShortVideoswithTopIndianApp.csv (deflated 91%)\n",
            "  adding: ../media/FINAL/VPNMaster-Free&Fast&SecureVPNProxy.csv (deflated 80%)\n",
            "  adding: ../media/FINAL/ShareChat-MadeinIndia.csv (deflated 89%)\n",
            "  adding: ../media/FINAL/AmazonShopping,UPI,MoneyTransfer,BillPayment.csv (deflated 88%)\n",
            "  adding: ../media/FINAL/SDMaidPro-Unlocker.csv (deflated 76%)\n",
            "  adding: ../media/FINAL/ZEE5:Movies,TVShows,WebSeries.csv (deflated 88%)\n",
            "  adding: ../media/FINAL/NavigationPro:GoogleMapsNavionSamsungWatch.csv (deflated 80%)\n",
            "  adding: ../media/FINAL/FactTechzUltimateBrainBooster-BinauralBeats.csv (deflated 80%)\n",
            "  adding: ../media/FINAL/PandaGamepadPro(BETA).csv (deflated 82%)\n",
            "  adding: ../media/FINAL/DiskDiggerProfilerecovery.csv (deflated 56%)\n",
            "  adding: ../media/FINAL/MVBitmaster,MVmastervideostatusmaker-MVBit.csv (deflated 86%)\n",
            "  adding: ../media/FINAL/VPNPro-FreeforLifetime.csv (deflated 70%)\n",
            "  adding: ../media/FINAL/FLStudioMobile.csv (deflated 56%)\n",
            "  adding: ../media/FINAL/Telegram.csv (deflated 90%)\n",
            "  adding: ../media/FINAL/FluidWalls-4KLiquidStyleWallpapers.csv (deflated 88%)\n",
            "  adding: ../media/FINAL/KWGTKustomWidgetProKey.csv (deflated 80%)\n",
            "  adding: ../media/FINAL/Tasker.csv (deflated 69%)\n",
            "  adding: ../media/FINAL/Hotstar.csv (deflated 90%)\n",
            "  adding: ../media/FINAL/Moj-SnackonIndianShortVideos|MadeinIndia.csv (deflated 89%)\n",
            "  adding: ../media/FINAL/FreeVPNTomato|FastestFreeHotspotVPNProxy.csv (deflated 50%)\n",
            "  adding: ../media/FINAL/Noizz-videoeditor,videomakerphotoswithsong.csv (deflated 91%)\n",
            "  adding: ../media/FINAL/PowerampFullVersionUnlocker.csv (deflated 89%)\n",
            "  adding: ../media/FINAL/MXTakaTakShortVideoApp|MadeinIndiaforYou.csv (deflated 84%)\n",
            "  adding: ../media/FINAL/InstagramLite.csv (deflated 91%)\n",
            "  adding: ../media/FINAL/ShareKaro-Share&FileTransferApp,Shareit.csv (deflated 79%)\n",
            "  adding: ../media/FINAL/AmazonPrimeVideo.csv (deflated 88%)\n",
            "  adding: ../media/FINAL/CryptoTabBrowserPro—mineonaPROlevel.csv (deflated 74%)\n",
            "  adding: ../media/FINAL/DroidCamX.csv (deflated 75%)\n",
            "  adding: ../media/FINAL/InternetSpeedMeter.csv (deflated 64%)\n",
            "  adding: ../media/FINAL/PhonePe–UPI,Recharges,Investments&Insurance.csv (deflated 89%)\n",
            "  adding: ../media/FINAL/Paytm-UPI,MoneyTransfer,Recharge,BillPayment.csv (deflated 93%)\n",
            "  adding: ../media/FINAL/Meesho-Resell,WorkFromHome,EarnMoneyOnline.csv (deflated 82%)\n",
            "  adding: ../media/FINAL/MXPlayer:VideoPlayer,Movies,Songs&GamesApp.csv (deflated 90%)\n",
            "  adding: ../media/FINAL/KineMaster-VideoEditor,VideoMaker.csv (deflated 85%)\n",
            "  adding: ../media/FINAL/ShareMe-India'sbestfiletransferapp.csv (deflated 91%)\n",
            "  adding: ../media/FINAL/WynkMusic-NewMP3HindiTamilSong&PodcastApp.csv (deflated 86%)\n",
            "  adding: ../media/FINAL/FrancoKernelManager-foralldevices&kernels.csv (deflated 50%)\n",
            "  adding: ../media/FINAL/GamersGLToolProwithGameTurbo&PingBooster.csv (deflated 75%)\n",
            "  adding: ../media/FINAL/Biugo-videomaker,photovideomaker,videoeditor.csv (deflated 91%)\n",
            "  adding: ../media/FINAL/SnackVideoMakerAppwithSong-Mast.csv (deflated 87%)\n",
            "  adding: ../media/FINAL/SimpleGalleryPro:Video&PhotoManager&Editor.csv (deflated 59%)\n",
            "  adding: ../media/FINAL/Vido:LyricalVideoStatusMaker.csv (deflated 77%)\n",
            "  adding: ../media/FINAL/TouchRetouch.csv (deflated 88%)\n",
            "  adding: ../media/FINAL/JioTV–News,Movies,Entertainment,LIVETV.csv (deflated 88%)\n",
            "  adding: ../media/FINAL/Public-IndianLocalVideos.csv (deflated 84%)\n",
            "  adding: ../media/FINAL/Instagram.csv (deflated 91%)\n",
            "  adding: ../media/FINAL/RAM&GameBoosterbyAugustro(67%OFF).csv (deflated 82%)\n",
            "  adding: ../media/FINAL/Truecaller:CallerID,SpamBlocking&Chat.csv (deflated 92%)\n"
          ],
          "name": "stdout"
        }
      ]
    },
    {
      "cell_type": "code",
      "metadata": {
        "id": "bsJl2jtsYxdC"
      },
      "source": [
        ""
      ],
      "id": "bsJl2jtsYxdC",
      "execution_count": null,
      "outputs": []
    }
  ]
}
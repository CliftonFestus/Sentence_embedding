{
  "nbformat": 4,
  "nbformat_minor": 5,
  "metadata": {
    "kernelspec": {
      "display_name": "Python 3",
      "language": "python",
      "name": "python3"
    },
    "language_info": {
      "codemirror_mode": {
        "name": "ipython",
        "version": 3
      },
      "file_extension": ".py",
      "mimetype": "text/x-python",
      "name": "python",
      "nbconvert_exporter": "python",
      "pygments_lexer": "ipython3",
      "version": "3.7.5"
    },
    "colab": {
      "name": "Generate_matrix.ipynb",
      "provenance": [],
      "collapsed_sections": []
    }
  },
  "cells": [
    {
      "cell_type": "code",
      "metadata": {
        "id": "67c9971a"
      },
      "source": [
        "import spacy\n",
        "import os\n",
        "import pandas as pd\n",
        "from spacy.matcher import Matcher\n",
        "from google.colab import files"
      ],
      "id": "67c9971a",
      "execution_count": 1,
      "outputs": []
    },
    {
      "cell_type": "code",
      "metadata": {
        "id": "ef642de7"
      },
      "source": [
        "Condition = ['depending', 'necessary', 'appropriate',\n",
        "                 'inappropriate', 'as needed', 'as applicable',\n",
        "                 'otherwise reasonably', 'sometimes',\n",
        "                 'from time to time']\n",
        "Generalization = ['generally', 'mostly', 'widely',\n",
        "                  'general', 'commonly',\n",
        "                  'usually', 'normally', 'typically',\n",
        "                  'largely', 'often', 'primarily',\n",
        "                  'among other things']\n",
        "Modality = ['may', 'might', 'can', 'could', 'would',\n",
        "            'likely', 'possible', 'possibly']\n",
        "Numeric_quantifier = ['anyone', 'certain', 'everyone',\n",
        "                      'numerous', 'some', 'most', 'few',\n",
        "                      'much', 'many', 'various',\n",
        "                      'including but not limited to']"
      ],
      "id": "ef642de7",
      "execution_count": 2,
      "outputs": []
    },
    {
      "cell_type": "code",
      "metadata": {
        "id": "1c6e9878"
      },
      "source": [
        "Path = \"/content/Privacy Policy/\"\n",
        "filelist = os.listdir(Path)\n",
        "txt_files = []\n",
        "file_names = []\n",
        "for i in filelist:\n",
        "    if i.endswith(\".txt\"):\n",
        "        file_names.append(i)\n",
        "        with open(Path + i, 'r') as f:\n",
        "            txt_files.append(f.read())"
      ],
      "id": "1c6e9878",
      "execution_count": 3,
      "outputs": []
    },
    {
      "cell_type": "markdown",
      "metadata": {
        "id": "f7ab44fe"
      },
      "source": [
        "## Policy String"
      ],
      "id": "f7ab44fe"
    },
    {
      "cell_type": "code",
      "metadata": {
        "id": "f43f89d3"
      },
      "source": [
        "Policies = pd.DataFrame([file_names, txt_files]).T\n",
        "Policies.columns = [\"File_name\", \"text_content\"]"
      ],
      "id": "f43f89d3",
      "execution_count": 4,
      "outputs": []
    },
    {
      "cell_type": "code",
      "metadata": {
        "id": "a6f81bfa",
        "colab": {
          "base_uri": "https://localhost:8080/",
          "height": 406
        },
        "outputId": "280587ab-a0e1-42b9-da07-7a66bbfab7b3"
      },
      "source": [
        "Policies"
      ],
      "id": "a6f81bfa",
      "execution_count": 5,
      "outputs": [
        {
          "output_type": "execute_result",
          "data": {
            "text/html": [
              "<div>\n",
              "<style scoped>\n",
              "    .dataframe tbody tr th:only-of-type {\n",
              "        vertical-align: middle;\n",
              "    }\n",
              "\n",
              "    .dataframe tbody tr th {\n",
              "        vertical-align: top;\n",
              "    }\n",
              "\n",
              "    .dataframe thead th {\n",
              "        text-align: right;\n",
              "    }\n",
              "</style>\n",
              "<table border=\"1\" class=\"dataframe\">\n",
              "  <thead>\n",
              "    <tr style=\"text-align: right;\">\n",
              "      <th></th>\n",
              "      <th>File_name</th>\n",
              "      <th>text_content</th>\n",
              "    </tr>\n",
              "  </thead>\n",
              "  <tbody>\n",
              "    <tr>\n",
              "      <th>0</th>\n",
              "      <td>CrayonIconPack.txt</td>\n",
              "      <td>LineX Privacy PolicySkip to main contentJND AP...</td>\n",
              "    </tr>\n",
              "    <tr>\n",
              "      <th>1</th>\n",
              "      <td>SimpleGalleryPro:Video&amp;PhotoManager&amp;Editor.txt</td>\n",
              "      <td>Privacy policyGeneralSimple Gallery is develop...</td>\n",
              "    </tr>\n",
              "    <tr>\n",
              "      <th>2</th>\n",
              "      <td>BYJU'S–TheLearningApp.txt</td>\n",
              "      <td>Terms and Conditions of BYJU'S - The Learning ...</td>\n",
              "    </tr>\n",
              "    <tr>\n",
              "      <th>3</th>\n",
              "      <td>SAXVideoPlayer-AllinoneHdFormatpro2021.txt</td>\n",
              "      <td>HomeSearch this sitePrivacy PolicyProtecting y...</td>\n",
              "    </tr>\n",
              "    <tr>\n",
              "      <th>4</th>\n",
              "      <td>ShareKaro-Share&amp;FileTransferApp,Shareit.txt</td>\n",
              "      <td>Privacy PolicyPrivacy PolicyLast Updated: [29/...</td>\n",
              "    </tr>\n",
              "    <tr>\n",
              "      <th>...</th>\n",
              "      <td>...</td>\n",
              "      <td>...</td>\n",
              "    </tr>\n",
              "    <tr>\n",
              "      <th>72</th>\n",
              "      <td>QuickHealTotalSecurity.txt</td>\n",
              "      <td>PRIVACY POLICY- QUICK HEAL MOBILE DEVICE SECUR...</td>\n",
              "    </tr>\n",
              "    <tr>\n",
              "      <th>73</th>\n",
              "      <td>MVBitmaster,MVmastervideostatusmaker-MVBit.txt</td>\n",
              "      <td>MvBitUSER AGREEMENT AND PRIVACY POLICY1. CONSE...</td>\n",
              "    </tr>\n",
              "    <tr>\n",
              "      <th>74</th>\n",
              "      <td>KWGTKustomWidgetProKey.txt</td>\n",
              "      <td>Privacy Policy | Kustom Heavy IndustriesAre yo...</td>\n",
              "    </tr>\n",
              "    <tr>\n",
              "      <th>75</th>\n",
              "      <td>AmazonShopping,UPI,MoneyTransfer,BillPayment.txt</td>\n",
              "      <td>Amazon.in Help: Amazon.in Privacy NoticeSkip t...</td>\n",
              "    </tr>\n",
              "    <tr>\n",
              "      <th>76</th>\n",
              "      <td>Truecaller:CallerID,SpamBlocking&amp;Chat.txt</td>\n",
              "      <td>Privacy Policy - TruecallerTruecaller privacyI...</td>\n",
              "    </tr>\n",
              "  </tbody>\n",
              "</table>\n",
              "<p>77 rows × 2 columns</p>\n",
              "</div>"
            ],
            "text/plain": [
              "                                           File_name                                       text_content\n",
              "0                                 CrayonIconPack.txt  LineX Privacy PolicySkip to main contentJND AP...\n",
              "1     SimpleGalleryPro:Video&PhotoManager&Editor.txt  Privacy policyGeneralSimple Gallery is develop...\n",
              "2                          BYJU'S–TheLearningApp.txt  Terms and Conditions of BYJU'S - The Learning ...\n",
              "3         SAXVideoPlayer-AllinoneHdFormatpro2021.txt  HomeSearch this sitePrivacy PolicyProtecting y...\n",
              "4        ShareKaro-Share&FileTransferApp,Shareit.txt  Privacy PolicyPrivacy PolicyLast Updated: [29/...\n",
              "..                                               ...                                                ...\n",
              "72                        QuickHealTotalSecurity.txt  PRIVACY POLICY- QUICK HEAL MOBILE DEVICE SECUR...\n",
              "73    MVBitmaster,MVmastervideostatusmaker-MVBit.txt  MvBitUSER AGREEMENT AND PRIVACY POLICY1. CONSE...\n",
              "74                        KWGTKustomWidgetProKey.txt  Privacy Policy | Kustom Heavy IndustriesAre yo...\n",
              "75  AmazonShopping,UPI,MoneyTransfer,BillPayment.txt  Amazon.in Help: Amazon.in Privacy NoticeSkip t...\n",
              "76         Truecaller:CallerID,SpamBlocking&Chat.txt  Privacy Policy - TruecallerTruecaller privacyI...\n",
              "\n",
              "[77 rows x 2 columns]"
            ]
          },
          "metadata": {
            "tags": []
          },
          "execution_count": 5
        }
      ]
    },
    {
      "cell_type": "code",
      "metadata": {
        "id": "11b89ff7"
      },
      "source": [
        "# with open(\"/content/Telegram.txt\", 'r') as f:\n",
        "#   text = f.read()\n",
        "# print(text)"
      ],
      "id": "11b89ff7",
      "execution_count": 6,
      "outputs": []
    },
    {
      "cell_type": "markdown",
      "metadata": {
        "id": "b5f3154f"
      },
      "source": [
        "## Index Tracking\n"
      ],
      "id": "b5f3154f"
    },
    {
      "cell_type": "code",
      "metadata": {
        "id": "8p84O2IoIew_"
      },
      "source": [
        "def len_str(x):\n",
        "  return len(x)"
      ],
      "id": "8p84O2IoIew_",
      "execution_count": 7,
      "outputs": []
    },
    {
      "cell_type": "code",
      "metadata": {
        "id": "2Dv9T599HUX_"
      },
      "source": [
        "keepWords = Condition + Generalization + Modality + Numeric_quantifier\n",
        "# print(keepWords)\n",
        "\n",
        "index_tracker = {}\n",
        "for num, i in enumerate(keepWords):\n",
        "  index_tracker[i] = num\n",
        "_ = keepWords.sort(key=len_str, reverse=True)"
      ],
      "id": "2Dv9T599HUX_",
      "execution_count": 8,
      "outputs": []
    },
    {
      "cell_type": "markdown",
      "metadata": {
        "id": "WWiAL6tCrGHX"
      },
      "source": [
        "## Matcher"
      ],
      "id": "WWiAL6tCrGHX"
    },
    {
      "cell_type": "code",
      "metadata": {
        "id": "B0jkI3hKm1xt"
      },
      "source": [
        "nlp = spacy.load('en')\n",
        "\n",
        "matcher = Matcher(nlp.vocab)\n",
        "for i in keepWords:\n",
        "  rule = [ {\"LOWER\": j } for j in i.split() ]\n",
        "  matcher.add(i, None, rule)"
      ],
      "id": "B0jkI3hKm1xt",
      "execution_count": 9,
      "outputs": []
    },
    {
      "cell_type": "markdown",
      "metadata": {
        "id": "Cr5k4woRn9rJ"
      },
      "source": [
        "## Functions"
      ],
      "id": "Cr5k4woRn9rJ"
    },
    {
      "cell_type": "code",
      "metadata": {
        "id": "7370aab4"
      },
      "source": [
        "def generateVec(sentence):\n",
        "  text = nlp(sentence)\n",
        "\n",
        "  final = []\n",
        "  for i in range(len(keepWords)):\n",
        "    final.append(0)\n",
        "\n",
        "  buffer_start = -1\n",
        "  for word, match_start, match_end in matcher(text):\n",
        "    if buffer_start < match_start:\n",
        "      # print(nlp.vocab.strings[word])\n",
        "      final[index_tracker[nlp.vocab.strings[word]]] += 1\n",
        "    buffer_start = match_end - 1\n",
        "\n",
        "  if buffer_start==-1:\n",
        "    return None\n",
        "\n",
        "  return final"
      ],
      "id": "7370aab4",
      "execution_count": 10,
      "outputs": []
    },
    {
      "cell_type": "code",
      "metadata": {
        "id": "gItQcNnWn7W5"
      },
      "source": [
        "def generateMatrix(text_string):\n",
        "  final = []\n",
        "  tok = nlp(text_string)\n",
        "  for i in tok.sents:\n",
        "    vector = generateVec(i.text)\n",
        "    if vector != None:\n",
        "      final.append(generateVec(i.text))\n",
        "  return final"
      ],
      "id": "gItQcNnWn7W5",
      "execution_count": 11,
      "outputs": []
    },
    {
      "cell_type": "code",
      "metadata": {
        "id": "e40e80da"
      },
      "source": [
        "def make_df(intext):\n",
        "  visualization = pd.DataFrame(generateMatrix(intext))\n",
        "  keepWords = Condition + Generalization + Modality + Numeric_quantifier\n",
        "  visualization.columns = keepWords\n",
        "  return visualization"
      ],
      "id": "e40e80da",
      "execution_count": 12,
      "outputs": []
    },
    {
      "cell_type": "markdown",
      "metadata": {
        "id": "JblRfR2AoECg"
      },
      "source": [
        "## Generating Outputs"
      ],
      "id": "JblRfR2AoECg"
    },
    {
      "cell_type": "code",
      "metadata": {
        "id": "jhMiN3iaS_jD"
      },
      "source": [
        "for i in Policies.iterrows():\n",
        "  # print(i[1][0])\n",
        "  temp = i[1][0][:-4]\n",
        "  temp = \"/content/output/\" + temp + \".csv\"\n",
        "  try:\n",
        "    make_df(i[1][1]).to_csv(temp)\n",
        "  except:\n",
        "    pass"
      ],
      "id": "jhMiN3iaS_jD",
      "execution_count": 13,
      "outputs": []
    },
    {
      "cell_type": "code",
      "metadata": {
        "id": "D1N7a6YmMPrf",
        "colab": {
          "base_uri": "https://localhost:8080/"
        },
        "outputId": "84e4e30f-b68b-4c80-8e8f-b3aac67d22da"
      },
      "source": [
        "print(\"CSVs GENERATED\")"
      ],
      "id": "D1N7a6YmMPrf",
      "execution_count": 14,
      "outputs": [
        {
          "output_type": "stream",
          "text": [
            "CSVs GENERATED\n"
          ],
          "name": "stdout"
        }
      ]
    },
    {
      "cell_type": "code",
      "metadata": {
        "id": "E-8JadNGR2Il",
        "colab": {
          "base_uri": "https://localhost:8080/"
        },
        "outputId": "391b15a9-61e6-42a5-ce44-361c91e0f3d7"
      },
      "source": [
        "!zip -r result.zip output"
      ],
      "id": "E-8JadNGR2Il",
      "execution_count": 15,
      "outputs": [
        {
          "output_type": "stream",
          "text": [
            "  adding: output/ (stored 0%)\n",
            "  adding: output/Snapchat.csv (deflated 92%)\n",
            "  adding: output/JioSaavnMusic&Radio–JioTunes,Podcasts,Songs.csv (deflated 92%)\n",
            "  adding: output/PLAYit-ANewAll-in-OneVideoPlayer.csv (deflated 78%)\n",
            "  adding: output/SAXVideoPlayer-AllinoneHdFormatpro2021.csv (deflated 50%)\n",
            "  adding: output/InternetOptimizerPro|No-Ads.csv (deflated 80%)\n",
            "  adding: output/GameBoosterVIP-FreeFireGFX-LagFix.csv (deflated 65%)\n",
            "  adding: output/GaanaMusicHindiSongFreeTamilTeluguMP3App.csv (deflated 89%)\n",
            "  adding: output/FacebookLite.csv (deflated 90%)\n",
            "  adding: output/SnackyTakatak.csv (deflated 84%)\n",
            "  adding: output/AJIOOnlineShopping-HandpickedCuratedFashion.csv (deflated 89%)\n",
            "  adding: output/FlipkartOnlineShoppingApp.csv (deflated 87%)\n",
            "  adding: output/WhatsAppBusiness.csv (deflated 89%)\n",
            "  adding: output/MyJio:ForEverythingJio.csv (deflated 87%)\n",
            "  adding: output/QuickHealTotalSecurity.csv (deflated 84%)\n",
            "  adding: output/TorquePro(OBD2&Car).csv (deflated 60%)\n",
            "  adding: output/Facebook.csv (deflated 90%)\n",
            "  adding: output/AirtelThanks-Recharge,BillPay,Bank,LiveTV.csv (deflated 87%)\n",
            "  adding: output/Dailyhunt-100%IndianAppforNews&Videos.csv (deflated 90%)\n",
            "  adding: output/BYJU'S–TheLearningApp.csv (deflated 90%)\n",
            "  adding: output/PGT+🔧:ProGFX&Optimizer(withadvancesetting).csv (deflated 75%)\n",
            "  adding: output/CrayonIconPack.csv (deflated 80%)\n",
            "  adding: output/RhythmwithTabla&TanpuraPREMIUM.csv (deflated 80%)\n",
            "  adding: output/VideoEditor&VideoMaker-InShot.csv (deflated 65%)\n",
            "  adding: output/MXPlayerPro.csv (deflated 89%)\n",
            "  adding: output/GameBooster4xFasterPro-GFXTool&LagFix.csv (deflated 85%)\n",
            "  adding: output/GooglePay-asimpleandsecurepaymentapp.csv (deflated 91%)\n",
            "  adding: output/1DM+[formerlyIDM+]:Video,TorrentDownloader.csv (deflated 72%)\n",
            "  adding: output/Josh-SnackonShortVideoswithTopIndianApp.csv (deflated 90%)\n",
            "  adding: output/VPNMaster-Free&Fast&SecureVPNProxy.csv (deflated 80%)\n",
            "  adding: output/ShareChat-MadeinIndia.csv (deflated 89%)\n",
            "  adding: output/AmazonShopping,UPI,MoneyTransfer,BillPayment.csv (deflated 89%)\n",
            "  adding: output/SDMaidPro-Unlocker.csv (deflated 76%)\n",
            "  adding: output/ZEE5:Movies,TVShows,WebSeries.csv (deflated 88%)\n",
            "  adding: output/NavigationPro:GoogleMapsNavionSamsungWatch.csv (deflated 80%)\n",
            "  adding: output/FactTechzUltimateBrainBooster-BinauralBeats.csv (deflated 80%)\n",
            "  adding: output/PandaGamepadPro(BETA).csv (deflated 82%)\n",
            "  adding: output/DiskDiggerProfilerecovery.csv (deflated 56%)\n",
            "  adding: output/MVBitmaster,MVmastervideostatusmaker-MVBit.csv (deflated 85%)\n",
            "  adding: output/VPNPro-FreeforLifetime.csv (deflated 70%)\n",
            "  adding: output/FLStudioMobile.csv (deflated 55%)\n",
            "  adding: output/Telegram.csv (deflated 90%)\n",
            "  adding: output/FluidWalls-4KLiquidStyleWallpapers.csv (deflated 88%)\n",
            "  adding: output/KWGTKustomWidgetProKey.csv (deflated 80%)\n",
            "  adding: output/Tasker.csv (deflated 69%)\n",
            "  adding: output/Hotstar.csv (deflated 90%)\n",
            "  adding: output/Moj-SnackonIndianShortVideos|MadeinIndia.csv (deflated 89%)\n",
            "  adding: output/FreeVPNTomato|FastestFreeHotspotVPNProxy.csv (deflated 50%)\n",
            "  adding: output/Noizz-videoeditor,videomakerphotoswithsong.csv (deflated 91%)\n",
            "  adding: output/PowerampFullVersionUnlocker.csv (deflated 89%)\n",
            "  adding: output/MXTakaTakShortVideoApp|MadeinIndiaforYou.csv (deflated 84%)\n",
            "  adding: output/InstagramLite.csv (deflated 90%)\n",
            "  adding: output/ShareKaro-Share&FileTransferApp,Shareit.csv (deflated 79%)\n",
            "  adding: output/AmazonPrimeVideo.csv (deflated 89%)\n",
            "  adding: output/CryptoTabBrowserPro—mineonaPROlevel.csv (deflated 74%)\n",
            "  adding: output/DroidCamX.csv (deflated 75%)\n",
            "  adding: output/InternetSpeedMeter.csv (deflated 64%)\n",
            "  adding: output/PhonePe–UPI,Recharges,Investments&Insurance.csv (deflated 89%)\n",
            "  adding: output/Paytm-UPI,MoneyTransfer,Recharge,BillPayment.csv (deflated 93%)\n",
            "  adding: output/Meesho-Resell,WorkFromHome,EarnMoneyOnline.csv (deflated 82%)\n",
            "  adding: output/MXPlayer:VideoPlayer,Movies,Songs&GamesApp.csv (deflated 89%)\n",
            "  adding: output/KineMaster-VideoEditor,VideoMaker.csv (deflated 85%)\n",
            "  adding: output/ShareMe-India'sbestfiletransferapp.csv (deflated 90%)\n",
            "  adding: output/WynkMusic-NewMP3HindiTamilSong&PodcastApp.csv (deflated 85%)\n",
            "  adding: output/FrancoKernelManager-foralldevices&kernels.csv (deflated 50%)\n",
            "  adding: output/GamersGLToolProwithGameTurbo&PingBooster.csv (deflated 75%)\n",
            "  adding: output/Biugo-videomaker,photovideomaker,videoeditor.csv (deflated 91%)\n",
            "  adding: output/SnackVideoMakerAppwithSong-Mast.csv (deflated 87%)\n",
            "  adding: output/SimpleGalleryPro:Video&PhotoManager&Editor.csv (deflated 59%)\n",
            "  adding: output/Vido:LyricalVideoStatusMaker.csv (deflated 77%)\n",
            "  adding: output/TouchRetouch.csv (deflated 88%)\n",
            "  adding: output/JioTV–News,Movies,Entertainment,LIVETV.csv (deflated 87%)\n",
            "  adding: output/Public-IndianLocalVideos.csv (deflated 84%)\n",
            "  adding: output/Instagram.csv (deflated 90%)\n",
            "  adding: output/RAM&GameBoosterbyAugustro(67%OFF).csv (deflated 83%)\n",
            "  adding: output/Truecaller:CallerID,SpamBlocking&Chat.csv (deflated 92%)\n"
          ],
          "name": "stdout"
        }
      ]
    },
    {
      "cell_type": "markdown",
      "metadata": {
        "id": "J3IWpqO_q7B-"
      },
      "source": [
        "# Manual Testing"
      ],
      "id": "J3IWpqO_q7B-"
    },
    {
      "cell_type": "code",
      "metadata": {
        "colab": {
          "base_uri": "https://localhost:8080/",
          "height": 177
        },
        "id": "L84bhJoIoiwo",
        "outputId": "e1f37eb2-ea4b-4c67-fc4d-937cdf7ce039"
      },
      "source": [
        "in_text = \"my name may be rishabh khanna may may from TIME to time everyone. My name depending on the context is generAlly confusing. My name is Rishabh Khanna.\"\n",
        "make_df(in_text)"
      ],
      "id": "L84bhJoIoiwo",
      "execution_count": 16,
      "outputs": [
        {
          "output_type": "execute_result",
          "data": {
            "text/html": [
              "<div>\n",
              "<style scoped>\n",
              "    .dataframe tbody tr th:only-of-type {\n",
              "        vertical-align: middle;\n",
              "    }\n",
              "\n",
              "    .dataframe tbody tr th {\n",
              "        vertical-align: top;\n",
              "    }\n",
              "\n",
              "    .dataframe thead th {\n",
              "        text-align: right;\n",
              "    }\n",
              "</style>\n",
              "<table border=\"1\" class=\"dataframe\">\n",
              "  <thead>\n",
              "    <tr style=\"text-align: right;\">\n",
              "      <th></th>\n",
              "      <th>depending</th>\n",
              "      <th>necessary</th>\n",
              "      <th>appropriate</th>\n",
              "      <th>inappropriate</th>\n",
              "      <th>as needed</th>\n",
              "      <th>as applicable</th>\n",
              "      <th>otherwise reasonably</th>\n",
              "      <th>sometimes</th>\n",
              "      <th>from time to time</th>\n",
              "      <th>generally</th>\n",
              "      <th>mostly</th>\n",
              "      <th>widely</th>\n",
              "      <th>general</th>\n",
              "      <th>commonly</th>\n",
              "      <th>usually</th>\n",
              "      <th>normally</th>\n",
              "      <th>typically</th>\n",
              "      <th>largely</th>\n",
              "      <th>often</th>\n",
              "      <th>primarily</th>\n",
              "      <th>among other things</th>\n",
              "      <th>may</th>\n",
              "      <th>might</th>\n",
              "      <th>can</th>\n",
              "      <th>could</th>\n",
              "      <th>would</th>\n",
              "      <th>likely</th>\n",
              "      <th>possible</th>\n",
              "      <th>possibly</th>\n",
              "      <th>anyone</th>\n",
              "      <th>certain</th>\n",
              "      <th>everyone</th>\n",
              "      <th>numerous</th>\n",
              "      <th>some</th>\n",
              "      <th>most</th>\n",
              "      <th>few</th>\n",
              "      <th>much</th>\n",
              "      <th>many</th>\n",
              "      <th>various</th>\n",
              "      <th>including but not limited to</th>\n",
              "    </tr>\n",
              "  </thead>\n",
              "  <tbody>\n",
              "    <tr>\n",
              "      <th>0</th>\n",
              "      <td>0</td>\n",
              "      <td>0</td>\n",
              "      <td>0</td>\n",
              "      <td>0</td>\n",
              "      <td>0</td>\n",
              "      <td>0</td>\n",
              "      <td>0</td>\n",
              "      <td>0</td>\n",
              "      <td>1</td>\n",
              "      <td>0</td>\n",
              "      <td>0</td>\n",
              "      <td>0</td>\n",
              "      <td>0</td>\n",
              "      <td>0</td>\n",
              "      <td>0</td>\n",
              "      <td>0</td>\n",
              "      <td>0</td>\n",
              "      <td>0</td>\n",
              "      <td>0</td>\n",
              "      <td>0</td>\n",
              "      <td>0</td>\n",
              "      <td>3</td>\n",
              "      <td>0</td>\n",
              "      <td>0</td>\n",
              "      <td>0</td>\n",
              "      <td>0</td>\n",
              "      <td>0</td>\n",
              "      <td>0</td>\n",
              "      <td>0</td>\n",
              "      <td>0</td>\n",
              "      <td>0</td>\n",
              "      <td>1</td>\n",
              "      <td>0</td>\n",
              "      <td>0</td>\n",
              "      <td>0</td>\n",
              "      <td>0</td>\n",
              "      <td>0</td>\n",
              "      <td>0</td>\n",
              "      <td>0</td>\n",
              "      <td>0</td>\n",
              "    </tr>\n",
              "    <tr>\n",
              "      <th>1</th>\n",
              "      <td>1</td>\n",
              "      <td>0</td>\n",
              "      <td>0</td>\n",
              "      <td>0</td>\n",
              "      <td>0</td>\n",
              "      <td>0</td>\n",
              "      <td>0</td>\n",
              "      <td>0</td>\n",
              "      <td>0</td>\n",
              "      <td>1</td>\n",
              "      <td>0</td>\n",
              "      <td>0</td>\n",
              "      <td>0</td>\n",
              "      <td>0</td>\n",
              "      <td>0</td>\n",
              "      <td>0</td>\n",
              "      <td>0</td>\n",
              "      <td>0</td>\n",
              "      <td>0</td>\n",
              "      <td>0</td>\n",
              "      <td>0</td>\n",
              "      <td>0</td>\n",
              "      <td>0</td>\n",
              "      <td>0</td>\n",
              "      <td>0</td>\n",
              "      <td>0</td>\n",
              "      <td>0</td>\n",
              "      <td>0</td>\n",
              "      <td>0</td>\n",
              "      <td>0</td>\n",
              "      <td>0</td>\n",
              "      <td>0</td>\n",
              "      <td>0</td>\n",
              "      <td>0</td>\n",
              "      <td>0</td>\n",
              "      <td>0</td>\n",
              "      <td>0</td>\n",
              "      <td>0</td>\n",
              "      <td>0</td>\n",
              "      <td>0</td>\n",
              "    </tr>\n",
              "  </tbody>\n",
              "</table>\n",
              "</div>"
            ],
            "text/plain": [
              "   depending  necessary  ...  various  including but not limited to\n",
              "0          0          0  ...        0                             0\n",
              "1          1          0  ...        0                             0\n",
              "\n",
              "[2 rows x 40 columns]"
            ]
          },
          "metadata": {
            "tags": []
          },
          "execution_count": 16
        }
      ]
    }
  ]
}
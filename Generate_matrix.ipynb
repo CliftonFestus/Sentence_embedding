{
  "nbformat": 4,
  "nbformat_minor": 5,
  "metadata": {
    "kernelspec": {
      "display_name": "Python 3",
      "language": "python",
      "name": "python3"
    },
    "language_info": {
      "codemirror_mode": {
        "name": "ipython",
        "version": 3
      },
      "file_extension": ".py",
      "mimetype": "text/x-python",
      "name": "python",
      "nbconvert_exporter": "python",
      "pygments_lexer": "ipython3",
      "version": "3.7.5"
    },
    "colab": {
      "name": "Generate_matrix.ipynb",
      "provenance": [],
      "collapsed_sections": []
    }
  },
  "cells": [
    {
      "cell_type": "code",
      "metadata": {
        "id": "67c9971a"
      },
      "source": [
        "import spacy\n",
        "import os\n",
        "import pandas as pd\n",
        "from spacy.matcher import Matcher\n",
        "from google.colab import files"
      ],
      "id": "67c9971a",
      "execution_count": 48,
      "outputs": []
    },
    {
      "cell_type": "code",
      "metadata": {
        "id": "ef642de7"
      },
      "source": [
        "Condition = ['depending', 'necessary', 'appropriate',\n",
        "                 'inappropriate', 'as needed', 'as applicable',\n",
        "                 'otherwise reasonably', 'sometimes',\n",
        "                 'from time to time']\n",
        "Generalization = ['generally', 'mostly', 'widely',\n",
        "                  'general', 'commonly',\n",
        "                  'usually', 'normally', 'typically',\n",
        "                  'largely', 'often', 'primarily',\n",
        "                  'among other things']\n",
        "Modality = ['may', 'might', 'can', 'could', 'would',\n",
        "            'likely', 'possible', 'possibly']\n",
        "Numeric_quantifier = ['anyone', 'certain', 'everyone',\n",
        "                      'numerous', 'some', 'most', 'few',\n",
        "                      'much', 'many', 'various',\n",
        "                      'including but not limited to']"
      ],
      "id": "ef642de7",
      "execution_count": 49,
      "outputs": []
    },
    {
      "cell_type": "code",
      "metadata": {
        "id": "1c6e9878"
      },
      "source": [
        "Path = \"/content/Costco/\"\n",
        "filelist = os.listdir(Path)\n",
        "txt_files = []\n",
        "file_names = []\n",
        "for i in filelist:\n",
        "    if i.endswith(\".txt\"):\n",
        "        file_names.append(i)\n",
        "        with open(Path + i, 'r') as f:\n",
        "            txt_files.append(f.read())"
      ],
      "id": "1c6e9878",
      "execution_count": 50,
      "outputs": []
    },
    {
      "cell_type": "markdown",
      "metadata": {
        "id": "zUDVXTWCibo8"
      },
      "source": [
        "## Bradley-Terry Coeff"
      ],
      "id": "zUDVXTWCibo8"
    },
    {
      "cell_type": "code",
      "metadata": {
        "id": "AZgLzE64iXne"
      },
      "source": [
        "bt_coef ={\n",
        "    \"CN\": 1.619,\n",
        "    \"C\": 1.783,\n",
        "    \"CM\": 1.864,\n",
        "    \"CMN\": 2.125,\n",
        "    \"CG\": 2.345,\n",
        "    \"CGN\": 2.443,\n",
        "    \"MN\": 2.569,\n",
        "    \"N\": 2.710,\n",
        "    \"M\": 2.865,\n",
        "    \"CGMN\": 2.899,\n",
        "    \"CGM\": 2.968,\n",
        "    \"GN\": 3.281,\n",
        "    \"GMN\": 3.506,\n",
        "    \"G\": 3.550,\n",
        "    \"GM\": 4.045\n",
        "}"
      ],
      "id": "AZgLzE64iXne",
      "execution_count": 51,
      "outputs": []
    },
    {
      "cell_type": "markdown",
      "metadata": {
        "id": "f7ab44fe"
      },
      "source": [
        "## Policy String"
      ],
      "id": "f7ab44fe"
    },
    {
      "cell_type": "code",
      "metadata": {
        "id": "f43f89d3"
      },
      "source": [
        "Policies = pd.DataFrame([file_names, txt_files]).T\n",
        "Policies.columns = [\"File_name\", \"text_content\"]"
      ],
      "id": "f43f89d3",
      "execution_count": 52,
      "outputs": []
    },
    {
      "cell_type": "code",
      "metadata": {
        "id": "a6f81bfa",
        "colab": {
          "base_uri": "https://localhost:8080/",
          "height": 78
        },
        "outputId": "afe4d1f4-94a5-40c7-8e90-1f7f6da065fa"
      },
      "source": [
        "Policies"
      ],
      "id": "a6f81bfa",
      "execution_count": 53,
      "outputs": [
        {
          "output_type": "execute_result",
          "data": {
            "text/html": [
              "<div>\n",
              "<style scoped>\n",
              "    .dataframe tbody tr th:only-of-type {\n",
              "        vertical-align: middle;\n",
              "    }\n",
              "\n",
              "    .dataframe tbody tr th {\n",
              "        vertical-align: top;\n",
              "    }\n",
              "\n",
              "    .dataframe thead th {\n",
              "        text-align: right;\n",
              "    }\n",
              "</style>\n",
              "<table border=\"1\" class=\"dataframe\">\n",
              "  <thead>\n",
              "    <tr style=\"text-align: right;\">\n",
              "      <th></th>\n",
              "      <th>File_name</th>\n",
              "      <th>text_content</th>\n",
              "    </tr>\n",
              "  </thead>\n",
              "  <tbody>\n",
              "    <tr>\n",
              "      <th>0</th>\n",
              "      <td>Costco.txt</td>\n",
              "      <td>PERSONAL INFORMATION WE COLLECT\\nThe personal ...</td>\n",
              "    </tr>\n",
              "  </tbody>\n",
              "</table>\n",
              "</div>"
            ],
            "text/plain": [
              "    File_name                                       text_content\n",
              "0  Costco.txt  PERSONAL INFORMATION WE COLLECT\\nThe personal ..."
            ]
          },
          "metadata": {
            "tags": []
          },
          "execution_count": 53
        }
      ]
    },
    {
      "cell_type": "code",
      "metadata": {
        "id": "11b89ff7"
      },
      "source": [
        "# with open(\"/content/Telegram.txt\", 'r') as f:\n",
        "#   text = f.read()\n",
        "# print(text)"
      ],
      "id": "11b89ff7",
      "execution_count": 54,
      "outputs": []
    },
    {
      "cell_type": "markdown",
      "metadata": {
        "id": "b5f3154f"
      },
      "source": [
        "## Index Tracking\n"
      ],
      "id": "b5f3154f"
    },
    {
      "cell_type": "code",
      "metadata": {
        "id": "8p84O2IoIew_"
      },
      "source": [
        "def len_str(x):\n",
        "  return len(x)"
      ],
      "id": "8p84O2IoIew_",
      "execution_count": 55,
      "outputs": []
    },
    {
      "cell_type": "code",
      "metadata": {
        "id": "2Dv9T599HUX_"
      },
      "source": [
        "keepWords = Condition + Generalization + Modality + Numeric_quantifier\n",
        "# print(keepWords)\n",
        "\n",
        "index_tracker = {}\n",
        "for num, i in enumerate(keepWords):\n",
        "  index_tracker[i] = num\n",
        "_ = keepWords.sort(key=len_str, reverse=True)"
      ],
      "id": "2Dv9T599HUX_",
      "execution_count": 56,
      "outputs": []
    },
    {
      "cell_type": "markdown",
      "metadata": {
        "id": "WWiAL6tCrGHX"
      },
      "source": [
        "## Matcher"
      ],
      "id": "WWiAL6tCrGHX"
    },
    {
      "cell_type": "code",
      "metadata": {
        "id": "B0jkI3hKm1xt"
      },
      "source": [
        "nlp = spacy.load('en')\n",
        "\n",
        "matcher = Matcher(nlp.vocab)\n",
        "for i in keepWords:\n",
        "  rule = [ {\"LOWER\": j } for j in i.split() ]\n",
        "  matcher.add(i, None, rule)"
      ],
      "id": "B0jkI3hKm1xt",
      "execution_count": 57,
      "outputs": []
    },
    {
      "cell_type": "markdown",
      "metadata": {
        "id": "Cr5k4woRn9rJ"
      },
      "source": [
        "## Functions"
      ],
      "id": "Cr5k4woRn9rJ"
    },
    {
      "cell_type": "code",
      "metadata": {
        "id": "7370aab4"
      },
      "source": [
        "def generateVec(sentence):\n",
        "  text = nlp(sentence)\n",
        "\n",
        "  final = []\n",
        "  category_vaguesness = {\"C\": 0, \"G\": 0, \"M\": 0, \"N\": 0}\n",
        "  for i in range(len(keepWords)):\n",
        "    final.append(0)\n",
        "\n",
        "  buffer_start = -1\n",
        "  for word, match_start, match_end in matcher(text):\n",
        "    if buffer_start < match_start:\n",
        "      # print(nlp.vocab.strings[word])\n",
        "      final[index_tracker[nlp.vocab.strings[word]]] += 1\n",
        "      if nlp.vocab.strings[word] in Condition:\n",
        "        category_vaguesness[\"C\"] = 1\n",
        "      elif nlp.vocab.strings[word] in Modality:\n",
        "        category_vaguesness[\"M\"] = 1\n",
        "      elif nlp.vocab.strings[word] in Numeric_quantifier:\n",
        "        category_vaguesness[\"N\"] = 1\n",
        "      else:\n",
        "        category_vaguesness[\"G\"] = 1 \n",
        "    buffer_start = match_end - 1\n",
        "\n",
        "  if buffer_start==-1:\n",
        "    return None\n",
        "  \n",
        "  temp = \"\".join([ i for i in category_vaguesness if category_vaguesness[i] ])\n",
        "  final.append(temp)\n",
        "  final.append(bt_coef[temp])\n",
        "\n",
        "  return final"
      ],
      "id": "7370aab4",
      "execution_count": 58,
      "outputs": []
    },
    {
      "cell_type": "code",
      "metadata": {
        "id": "gItQcNnWn7W5"
      },
      "source": [
        "def generateMatrix(text_string):\n",
        "  final = []\n",
        "  tok = nlp(text_string)\n",
        "  for i in tok.sents:\n",
        "    vector = generateVec(i.text)\n",
        "    if vector != None:\n",
        "      final.append(generateVec(i.text))\n",
        "  return final"
      ],
      "id": "gItQcNnWn7W5",
      "execution_count": 59,
      "outputs": []
    },
    {
      "cell_type": "code",
      "metadata": {
        "id": "e40e80da"
      },
      "source": [
        "def make_df(intext):\n",
        "  visualization = pd.DataFrame(generateMatrix(intext))\n",
        "  keepWords = Condition + Generalization + Modality + Numeric_quantifier + [\"Category\", \"BT Coeff\"]\n",
        "  visualization.columns = keepWords\n",
        "  return visualization"
      ],
      "id": "e40e80da",
      "execution_count": 60,
      "outputs": []
    },
    {
      "cell_type": "markdown",
      "metadata": {
        "id": "JblRfR2AoECg"
      },
      "source": [
        "## Generating Outputs"
      ],
      "id": "JblRfR2AoECg"
    },
    {
      "cell_type": "code",
      "metadata": {
        "id": "jhMiN3iaS_jD"
      },
      "source": [
        "coefs = []\n",
        "for i in Policies.iterrows():\n",
        "  # print(i[1][0])\n",
        "  temp = i[1][0][:-4]\n",
        "  temp = \"/content/output/\" + temp + \".csv\"\n",
        "  try:\n",
        "    temp_df = make_df(i[1][1])\n",
        "    temp_df.to_csv(temp)\n",
        "    coefs.append(temp_df[\"BT Coeff\"].mean())\n",
        "  except:\n",
        "    coefs.append(\"NA\")\n",
        "\n",
        "Policies[\"vague_score\"] = coefs"
      ],
      "id": "jhMiN3iaS_jD",
      "execution_count": 61,
      "outputs": []
    },
    {
      "cell_type": "code",
      "metadata": {
        "id": "D1N7a6YmMPrf",
        "colab": {
          "base_uri": "https://localhost:8080/"
        },
        "outputId": "14c906e1-08cd-4e21-b894-6653e438f592"
      },
      "source": [
        "print(\"CSVs GENERATED\")"
      ],
      "id": "D1N7a6YmMPrf",
      "execution_count": 62,
      "outputs": [
        {
          "output_type": "stream",
          "text": [
            "CSVs GENERATED\n"
          ],
          "name": "stdout"
        }
      ]
    },
    {
      "cell_type": "code",
      "metadata": {
        "id": "E-8JadNGR2Il"
      },
      "source": [
        "# !zip -r result.zip output"
      ],
      "id": "E-8JadNGR2Il",
      "execution_count": 63,
      "outputs": []
    },
    {
      "cell_type": "markdown",
      "metadata": {
        "id": "J3IWpqO_q7B-"
      },
      "source": [
        "# Manual Testing"
      ],
      "id": "J3IWpqO_q7B-"
    },
    {
      "cell_type": "code",
      "metadata": {
        "colab": {
          "base_uri": "https://localhost:8080/"
        },
        "id": "L84bhJoIoiwo",
        "outputId": "3e79d4a3-e9fd-43a4-a073-2454f26b3fb1"
      },
      "source": [
        "in_text = \"my name may be rishabh khanna as needed or as applicable from TIME to time everyone. My name depending on the context is generAlly confusing. My name is Rishabh Khanna.\"\n",
        "temp = 0\n",
        "for i in make_df(in_text)[\"BT Coeff\"]:\n",
        "  temp += i\n",
        "temp /= len(make_df(in_text)[\"BT Coeff\"])\n",
        "print(temp)"
      ],
      "id": "L84bhJoIoiwo",
      "execution_count": 68,
      "outputs": [
        {
          "output_type": "stream",
          "text": [
            "2.2350000000000003\n"
          ],
          "name": "stdout"
        }
      ]
    },
    {
      "cell_type": "code",
      "metadata": {
        "id": "fQrCJMyEIrKu"
      },
      "source": [
        "Policies.to_csv(\"Policies.csv\")"
      ],
      "id": "fQrCJMyEIrKu",
      "execution_count": 65,
      "outputs": []
    },
    {
      "cell_type": "code",
      "metadata": {
        "colab": {
          "base_uri": "https://localhost:8080/"
        },
        "id": "Pv0Svzkok6iJ",
        "outputId": "47c95924-5010-4024-c0d4-1069a40e34b5"
      },
      "source": [
        "for num, i in enumerate(Policies[\"File_name\"]):\n",
        "  print(i,\": \", Policies[\"vague_score\"][num])\n",
        "\n",
        "Policies[\"vague_score\"].describe()"
      ],
      "id": "Pv0Svzkok6iJ",
      "execution_count": 66,
      "outputs": [
        {
          "output_type": "stream",
          "text": [
            "Costco.txt :  2.773666666666669\n"
          ],
          "name": "stdout"
        },
        {
          "output_type": "execute_result",
          "data": {
            "text/plain": [
              "count    1.000000\n",
              "mean     2.773667\n",
              "std           NaN\n",
              "min      2.773667\n",
              "25%      2.773667\n",
              "50%      2.773667\n",
              "75%      2.773667\n",
              "max      2.773667\n",
              "Name: vague_score, dtype: float64"
            ]
          },
          "metadata": {
            "tags": []
          },
          "execution_count": 66
        }
      ]
    },
    {
      "cell_type": "code",
      "metadata": {
        "id": "NVvWf0ppnZEO"
      },
      "source": [
        ""
      ],
      "id": "NVvWf0ppnZEO",
      "execution_count": 66,
      "outputs": []
    }
  ]
}
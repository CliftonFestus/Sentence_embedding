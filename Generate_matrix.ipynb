{
  "nbformat": 4,
  "nbformat_minor": 5,
  "metadata": {
    "kernelspec": {
      "display_name": "Python 3",
      "language": "python",
      "name": "python3"
    },
    "language_info": {
      "codemirror_mode": {
        "name": "ipython",
        "version": 3
      },
      "file_extension": ".py",
      "mimetype": "text/x-python",
      "name": "python",
      "nbconvert_exporter": "python",
      "pygments_lexer": "ipython3",
      "version": "3.7.5"
    },
    "colab": {
      "name": "Generate_matrix.ipynb",
      "provenance": [],
      "collapsed_sections": []
    }
  },
  "cells": [
    {
      "cell_type": "code",
      "metadata": {
        "id": "67c9971a"
      },
      "source": [
        "import spacy\n",
        "import os\n",
        "import pandas as pd\n",
        "from spacy.matcher import Matcher\n",
        "from google.colab import files"
      ],
      "id": "67c9971a",
      "execution_count": null,
      "outputs": []
    },
    {
      "cell_type": "code",
      "metadata": {
        "id": "ef642de7"
      },
      "source": [
        "Condition = ['depending', 'necessary', 'appropriate',\n",
        "                 'inappropriate', 'as needed', 'as applicable',\n",
        "                 'otherwise reasonably', 'sometimes',\n",
        "                 'from time to time']\n",
        "Generalization = ['generally', 'mostly', 'widely',\n",
        "                  'general', 'commonly',\n",
        "                  'usually', 'normally', 'typically',\n",
        "                  'largely', 'often', 'primarily',\n",
        "                  'among other things']\n",
        "Modality = ['may', 'might', 'can', 'could', 'would',\n",
        "            'likely', 'possible', 'possibly']\n",
        "Numeric_quantifier = ['anyone', 'certain', 'everyone',\n",
        "                      'numerous', 'some', 'most', 'few',\n",
        "                      'much', 'many', 'various',\n",
        "                      'including but not limited to']"
      ],
      "id": "ef642de7",
      "execution_count": null,
      "outputs": []
    },
    {
      "cell_type": "code",
      "metadata": {
        "id": "1c6e9878"
      },
      "source": [
        "Path = \"/content/input/\"\n",
        "filelist = os.listdir(Path)\n",
        "txt_files = []\n",
        "file_names = []\n",
        "for i in filelist:\n",
        "    if i.endswith(\".txt\"):\n",
        "        file_names.append(i)\n",
        "        with open(Path + i, 'r') as f:\n",
        "            txt_files.append(f.read())"
      ],
      "id": "1c6e9878",
      "execution_count": null,
      "outputs": []
    },
    {
      "cell_type": "markdown",
      "metadata": {
        "id": "zUDVXTWCibo8"
      },
      "source": [
        "## Bradley-Terry Coeff"
      ],
      "id": "zUDVXTWCibo8"
    },
    {
      "cell_type": "code",
      "metadata": {
        "id": "AZgLzE64iXne"
      },
      "source": [
        "bt_coef ={\n",
        "    \"CN\": 1.619,\n",
        "    \"C\": 1.783,\n",
        "    \"CM\": 1.864,\n",
        "    \"CMN\": 2.125,\n",
        "    \"CG\": 2.345,\n",
        "    \"CGN\": 2.443,\n",
        "    \"MN\": 2.569,\n",
        "    \"N\": 2.710,\n",
        "    \"M\": 2.865,\n",
        "    \"CGMN\": 2.899,\n",
        "    \"CGM\": 2.968,\n",
        "    \"GN\": 3.281,\n",
        "    \"GMN\": 3.506,\n",
        "    \"G\": 3.550,\n",
        "    \"GM\": 4.045\n",
        "}"
      ],
      "id": "AZgLzE64iXne",
      "execution_count": null,
      "outputs": []
    },
    {
      "cell_type": "markdown",
      "metadata": {
        "id": "f7ab44fe"
      },
      "source": [
        "## Policy String"
      ],
      "id": "f7ab44fe"
    },
    {
      "cell_type": "code",
      "metadata": {
        "id": "f43f89d3"
      },
      "source": [
        "Policies = pd.DataFrame([file_names, txt_files]).T\n",
        "Policies.columns = [\"File_name\", \"text_content\"]"
      ],
      "id": "f43f89d3",
      "execution_count": null,
      "outputs": []
    },
    {
      "cell_type": "code",
      "metadata": {
        "id": "a6f81bfa",
        "colab": {
          "base_uri": "https://localhost:8080/",
          "height": 415
        },
        "outputId": "8dab02b8-9701-463a-fc54-8872a6c042f8"
      },
      "source": [
        "Policies"
      ],
      "id": "a6f81bfa",
      "execution_count": null,
      "outputs": [
        {
          "output_type": "execute_result",
          "data": {
            "text/html": [
              "<div>\n",
              "<style scoped>\n",
              "    .dataframe tbody tr th:only-of-type {\n",
              "        vertical-align: middle;\n",
              "    }\n",
              "\n",
              "    .dataframe tbody tr th {\n",
              "        vertical-align: top;\n",
              "    }\n",
              "\n",
              "    .dataframe thead th {\n",
              "        text-align: right;\n",
              "    }\n",
              "</style>\n",
              "<table border=\"1\" class=\"dataframe\">\n",
              "  <thead>\n",
              "    <tr style=\"text-align: right;\">\n",
              "      <th></th>\n",
              "      <th>File_name</th>\n",
              "      <th>text_content</th>\n",
              "    </tr>\n",
              "  </thead>\n",
              "  <tbody>\n",
              "    <tr>\n",
              "      <th>0</th>\n",
              "      <td>Telegram.txt</td>\n",
              "      <td>Telegram Privacy Policy EnglishBahasa Indonesi...</td>\n",
              "    </tr>\n",
              "    <tr>\n",
              "      <th>1</th>\n",
              "      <td>ShareMe-India'sbestfiletransferapp.txt</td>\n",
              "      <td>Mi Global HomeDue to COVID-19, the ongoing h...</td>\n",
              "    </tr>\n",
              "    <tr>\n",
              "      <th>2</th>\n",
              "      <td>RhythmwithTabla&amp;TanpuraPREMIUM.txt</td>\n",
              "      <td>PSS Labs | Rhythm with Tabla &amp; Tanpura - Priva...</td>\n",
              "    </tr>\n",
              "    <tr>\n",
              "      <th>3</th>\n",
              "      <td>AJIOOnlineShopping-HandpickedCuratedFashion.txt</td>\n",
              "      <td>Reliance RetailPrivacy PolicyHomePrivacy Polic...</td>\n",
              "    </tr>\n",
              "    <tr>\n",
              "      <th>4</th>\n",
              "      <td>Vido:LyricalVideoStatusMaker.txt</td>\n",
              "      <td>Welcome to VidoYour privacy is important to Vi...</td>\n",
              "    </tr>\n",
              "    <tr>\n",
              "      <th>...</th>\n",
              "      <td>...</td>\n",
              "      <td>...</td>\n",
              "    </tr>\n",
              "    <tr>\n",
              "      <th>71</th>\n",
              "      <td>Moj-SnackonIndianShortVideos|MadeinIndia.txt</td>\n",
              "      <td>MOJPrivacy PolicyLast updated: 10th March 2021...</td>\n",
              "    </tr>\n",
              "    <tr>\n",
              "      <th>72</th>\n",
              "      <td>InternetOptimizerPro|No-Ads.txt</td>\n",
              "      <td>Privacy PolicyPrivacy Policy                  ...</td>\n",
              "    </tr>\n",
              "    <tr>\n",
              "      <th>73</th>\n",
              "      <td>FacebookLite.txt</td>\n",
              "      <td>FacebookJump toSections of this pageAccessibil...</td>\n",
              "    </tr>\n",
              "    <tr>\n",
              "      <th>74</th>\n",
              "      <td>Snapchat.txt</td>\n",
              "      <td>Privacy Policy - Snap Inc.HomeCareersNewsInves...</td>\n",
              "    </tr>\n",
              "    <tr>\n",
              "      <th>75</th>\n",
              "      <td>FlipkartOnlineShoppingApp.txt</td>\n",
              "      <td>Privacy Policy\\nWe value the trust you place i...</td>\n",
              "    </tr>\n",
              "  </tbody>\n",
              "</table>\n",
              "<p>76 rows × 2 columns</p>\n",
              "</div>"
            ],
            "text/plain": [
              "                                          File_name                                       text_content\n",
              "0                                      Telegram.txt  Telegram Privacy Policy EnglishBahasa Indonesi...\n",
              "1            ShareMe-India'sbestfiletransferapp.txt    Mi Global HomeDue to COVID-19, the ongoing h...\n",
              "2                RhythmwithTabla&TanpuraPREMIUM.txt  PSS Labs | Rhythm with Tabla & Tanpura - Priva...\n",
              "3   AJIOOnlineShopping-HandpickedCuratedFashion.txt  Reliance RetailPrivacy PolicyHomePrivacy Polic...\n",
              "4                  Vido:LyricalVideoStatusMaker.txt  Welcome to VidoYour privacy is important to Vi...\n",
              "..                                              ...                                                ...\n",
              "71     Moj-SnackonIndianShortVideos|MadeinIndia.txt  MOJPrivacy PolicyLast updated: 10th March 2021...\n",
              "72                  InternetOptimizerPro|No-Ads.txt  Privacy PolicyPrivacy Policy                  ...\n",
              "73                                 FacebookLite.txt  FacebookJump toSections of this pageAccessibil...\n",
              "74                                     Snapchat.txt  Privacy Policy - Snap Inc.HomeCareersNewsInves...\n",
              "75                    FlipkartOnlineShoppingApp.txt  Privacy Policy\\nWe value the trust you place i...\n",
              "\n",
              "[76 rows x 2 columns]"
            ]
          },
          "metadata": {
            "tags": []
          },
          "execution_count": 107
        }
      ]
    },
    {
      "cell_type": "markdown",
      "metadata": {
        "id": "b5f3154f"
      },
      "source": [
        "## Index Tracking\n"
      ],
      "id": "b5f3154f"
    },
    {
      "cell_type": "code",
      "metadata": {
        "id": "8p84O2IoIew_"
      },
      "source": [
        "def len_str(x):\n",
        "  return len(x)"
      ],
      "id": "8p84O2IoIew_",
      "execution_count": null,
      "outputs": []
    },
    {
      "cell_type": "code",
      "metadata": {
        "id": "2Dv9T599HUX_"
      },
      "source": [
        "keepWords = Condition + Generalization + Modality + Numeric_quantifier\n",
        "\n",
        "index_tracker = {}\n",
        "for num, i in enumerate(keepWords):\n",
        "  index_tracker[i] = num\n",
        "_ = keepWords.sort(key=len_str, reverse=True)"
      ],
      "id": "2Dv9T599HUX_",
      "execution_count": null,
      "outputs": []
    },
    {
      "cell_type": "markdown",
      "metadata": {
        "id": "WWiAL6tCrGHX"
      },
      "source": [
        "## Matcher"
      ],
      "id": "WWiAL6tCrGHX"
    },
    {
      "cell_type": "code",
      "metadata": {
        "id": "B0jkI3hKm1xt"
      },
      "source": [
        "nlp = spacy.load('en')\n",
        "\n",
        "matcher = Matcher(nlp.vocab)\n",
        "for i in keepWords:\n",
        "  rule = [ {\"LOWER\": j } for j in i.split() ]\n",
        "  matcher.add(i, None, rule)"
      ],
      "id": "B0jkI3hKm1xt",
      "execution_count": null,
      "outputs": []
    },
    {
      "cell_type": "markdown",
      "metadata": {
        "id": "Cr5k4woRn9rJ"
      },
      "source": [
        "## Functions"
      ],
      "id": "Cr5k4woRn9rJ"
    },
    {
      "cell_type": "code",
      "metadata": {
        "id": "7370aab4"
      },
      "source": [
        "def generateVec(sentence):\n",
        "  text = nlp(sentence)\n",
        "\n",
        "  final = []\n",
        "  category_vaguesness = {\"C\": 0, \"G\": 0, \"M\": 0, \"N\": 0}\n",
        "  for i in range(len(keepWords)):\n",
        "    final.append(0)\n",
        "\n",
        "  buffer_start = -1\n",
        "  for word, match_start, match_end in matcher(text):\n",
        "    if buffer_start < match_start:\n",
        "      # print(nlp.vocab.strings[word])\n",
        "      final[index_tracker[nlp.vocab.strings[word]]] += 1\n",
        "      if nlp.vocab.strings[word] in Condition:\n",
        "        category_vaguesness[\"C\"] = 1\n",
        "      elif nlp.vocab.strings[word] in Modality:\n",
        "        category_vaguesness[\"M\"] = 1\n",
        "      elif nlp.vocab.strings[word] in Numeric_quantifier:\n",
        "        category_vaguesness[\"N\"] = 1\n",
        "      else:\n",
        "        category_vaguesness[\"G\"] = 1 \n",
        "    buffer_start = match_end - 1\n",
        "\n",
        "  if buffer_start==-1:\n",
        "    return None\n",
        "  \n",
        "  temp = \"\".join([ i for i in category_vaguesness if category_vaguesness[i] ])\n",
        "  final.append(temp)\n",
        "  final.append(bt_coef[temp])\n",
        "\n",
        "  return final"
      ],
      "id": "7370aab4",
      "execution_count": null,
      "outputs": []
    },
    {
      "cell_type": "code",
      "metadata": {
        "id": "gItQcNnWn7W5"
      },
      "source": [
        "def generateMatrix(text_string):\n",
        "  final = []\n",
        "  tok = nlp(text_string)\n",
        "  for i in tok.sents:\n",
        "    vector = generateVec(i.text)\n",
        "    if vector != None:\n",
        "      final.append(vector)\n",
        "  return final"
      ],
      "id": "gItQcNnWn7W5",
      "execution_count": null,
      "outputs": []
    },
    {
      "cell_type": "code",
      "metadata": {
        "id": "e40e80da"
      },
      "source": [
        "def make_df(intext):\n",
        "  visualization = pd.DataFrame(generateMatrix(intext))\n",
        "  if len(visualization) == 0:\n",
        "    return \"None\"\n",
        "  keepWords = Condition + Generalization + Modality + Numeric_quantifier + [\"Category\", \"BT Coeff\"]\n",
        "  visualization.columns = keepWords\n",
        "  return visualization"
      ],
      "id": "e40e80da",
      "execution_count": null,
      "outputs": []
    },
    {
      "cell_type": "markdown",
      "metadata": {
        "id": "JblRfR2AoECg"
      },
      "source": [
        "## Generating Outputs"
      ],
      "id": "JblRfR2AoECg"
    },
    {
      "cell_type": "code",
      "metadata": {
        "id": "jhMiN3iaS_jD"
      },
      "source": [
        "coefs = []\n",
        "vagueness_cats = { \"cat\":[], \"score\":[] }\n",
        "for i in Policies.iterrows():\n",
        "  # print(i[1][0])\n",
        "  file_name = i[1][0][:-4]\n",
        "  file_path = \"/content/output/\" + file_name + \".csv\"\n",
        "  temp_df = make_df(i[1][1])\n",
        "  if \"may\" in temp_df:\n",
        "    temp_df.to_csv(file_path)\n",
        "    coefs.append(temp_df[\"BT Coeff\"].mean())\n",
        "    for num, i in enumerate(temp_df[\"BT Coeff\"]):\n",
        "      vagueness_cats[\"score\"].append(i)\n",
        "      vagueness_cats[\"cat\"].append(temp_df[\"Category\"][num])\n",
        "  else:\n",
        "    coefs.append(\"NA\")\n",
        "Policies[\"vague_score\"] = coefs"
      ],
      "id": "jhMiN3iaS_jD",
      "execution_count": null,
      "outputs": []
    },
    {
      "cell_type": "code",
      "metadata": {
        "id": "D1N7a6YmMPrf",
        "colab": {
          "base_uri": "https://localhost:8080/"
        },
        "outputId": "3f870808-ed6d-4703-cc47-a1116dfbc748"
      },
      "source": [
        "print(\"CSVs GENERATED\")"
      ],
      "id": "D1N7a6YmMPrf",
      "execution_count": null,
      "outputs": [
        {
          "output_type": "stream",
          "text": [
            "CSVs GENERATED\n"
          ],
          "name": "stdout"
        }
      ]
    },
    {
      "cell_type": "code",
      "metadata": {
        "id": "E-8JadNGR2Il"
      },
      "source": [
        "# !zip -r result.zip output"
      ],
      "id": "E-8JadNGR2Il",
      "execution_count": null,
      "outputs": []
    },
    {
      "cell_type": "markdown",
      "metadata": {
        "id": "J3IWpqO_q7B-"
      },
      "source": [
        "# Manual Testing"
      ],
      "id": "J3IWpqO_q7B-"
    },
    {
      "cell_type": "code",
      "metadata": {
        "colab": {
          "base_uri": "https://localhost:8080/",
          "height": 151
        },
        "id": "23DcXqUi8X6E",
        "outputId": "9d4d74dd-7864-448d-9fc8-1f678a4d175b"
      },
      "source": [
        "make_df(\"i may be hahahehe\")"
      ],
      "id": "23DcXqUi8X6E",
      "execution_count": null,
      "outputs": [
        {
          "output_type": "execute_result",
          "data": {
            "text/html": [
              "<div>\n",
              "<style scoped>\n",
              "    .dataframe tbody tr th:only-of-type {\n",
              "        vertical-align: middle;\n",
              "    }\n",
              "\n",
              "    .dataframe tbody tr th {\n",
              "        vertical-align: top;\n",
              "    }\n",
              "\n",
              "    .dataframe thead th {\n",
              "        text-align: right;\n",
              "    }\n",
              "</style>\n",
              "<table border=\"1\" class=\"dataframe\">\n",
              "  <thead>\n",
              "    <tr style=\"text-align: right;\">\n",
              "      <th></th>\n",
              "      <th>depending</th>\n",
              "      <th>necessary</th>\n",
              "      <th>appropriate</th>\n",
              "      <th>inappropriate</th>\n",
              "      <th>as needed</th>\n",
              "      <th>as applicable</th>\n",
              "      <th>otherwise reasonably</th>\n",
              "      <th>sometimes</th>\n",
              "      <th>from time to time</th>\n",
              "      <th>generally</th>\n",
              "      <th>mostly</th>\n",
              "      <th>widely</th>\n",
              "      <th>general</th>\n",
              "      <th>commonly</th>\n",
              "      <th>usually</th>\n",
              "      <th>normally</th>\n",
              "      <th>typically</th>\n",
              "      <th>largely</th>\n",
              "      <th>often</th>\n",
              "      <th>primarily</th>\n",
              "      <th>among other things</th>\n",
              "      <th>may</th>\n",
              "      <th>might</th>\n",
              "      <th>can</th>\n",
              "      <th>could</th>\n",
              "      <th>would</th>\n",
              "      <th>likely</th>\n",
              "      <th>possible</th>\n",
              "      <th>possibly</th>\n",
              "      <th>anyone</th>\n",
              "      <th>certain</th>\n",
              "      <th>everyone</th>\n",
              "      <th>numerous</th>\n",
              "      <th>some</th>\n",
              "      <th>most</th>\n",
              "      <th>few</th>\n",
              "      <th>much</th>\n",
              "      <th>many</th>\n",
              "      <th>various</th>\n",
              "      <th>including but not limited to</th>\n",
              "      <th>Category</th>\n",
              "      <th>BT Coeff</th>\n",
              "    </tr>\n",
              "  </thead>\n",
              "  <tbody>\n",
              "    <tr>\n",
              "      <th>0</th>\n",
              "      <td>0</td>\n",
              "      <td>0</td>\n",
              "      <td>0</td>\n",
              "      <td>0</td>\n",
              "      <td>0</td>\n",
              "      <td>0</td>\n",
              "      <td>0</td>\n",
              "      <td>0</td>\n",
              "      <td>0</td>\n",
              "      <td>0</td>\n",
              "      <td>0</td>\n",
              "      <td>0</td>\n",
              "      <td>0</td>\n",
              "      <td>0</td>\n",
              "      <td>0</td>\n",
              "      <td>0</td>\n",
              "      <td>0</td>\n",
              "      <td>0</td>\n",
              "      <td>0</td>\n",
              "      <td>0</td>\n",
              "      <td>0</td>\n",
              "      <td>1</td>\n",
              "      <td>0</td>\n",
              "      <td>0</td>\n",
              "      <td>0</td>\n",
              "      <td>0</td>\n",
              "      <td>0</td>\n",
              "      <td>0</td>\n",
              "      <td>0</td>\n",
              "      <td>0</td>\n",
              "      <td>0</td>\n",
              "      <td>0</td>\n",
              "      <td>0</td>\n",
              "      <td>0</td>\n",
              "      <td>0</td>\n",
              "      <td>0</td>\n",
              "      <td>0</td>\n",
              "      <td>0</td>\n",
              "      <td>0</td>\n",
              "      <td>0</td>\n",
              "      <td>M</td>\n",
              "      <td>2.865</td>\n",
              "    </tr>\n",
              "  </tbody>\n",
              "</table>\n",
              "</div>"
            ],
            "text/plain": [
              "   depending  necessary  ...  Category  BT Coeff\n",
              "0          0          0  ...         M     2.865\n",
              "\n",
              "[1 rows x 42 columns]"
            ]
          },
          "metadata": {
            "tags": []
          },
          "execution_count": 117
        }
      ]
    },
    {
      "cell_type": "code",
      "metadata": {
        "id": "fQrCJMyEIrKu"
      },
      "source": [
        "Policies.to_csv(\"Policies.csv\")"
      ],
      "id": "fQrCJMyEIrKu",
      "execution_count": null,
      "outputs": []
    },
    {
      "cell_type": "code",
      "metadata": {
        "colab": {
          "base_uri": "https://localhost:8080/"
        },
        "id": "Pv0Svzkok6iJ",
        "outputId": "fc29636d-18ef-42a9-dbde-52e6b3ebed5d"
      },
      "source": [
        "for num, i in enumerate(Policies[\"File_name\"]):\n",
        "  print(i,\": \", Policies[\"vague_score\"][num])\n",
        "\n",
        "Policies[\"vague_score\"].describe()"
      ],
      "id": "Pv0Svzkok6iJ",
      "execution_count": null,
      "outputs": [
        {
          "output_type": "stream",
          "text": [
            "Telegram.txt :  2.751292307692308\n",
            "ShareMe-India'sbestfiletransferapp.txt :  2.633935064935067\n",
            "RhythmwithTabla&TanpuraPREMIUM.txt :  2.6896428571428572\n",
            "AJIOOnlineShopping-HandpickedCuratedFashion.txt :  2.7960851063829772\n",
            "Vido:LyricalVideoStatusMaker.txt :  2.7198\n",
            "PLAYit-ANewAll-in-OneVideoPlayer.txt :  2.6894615384615386\n",
            "SDMaidPro-Unlocker.txt :  2.8136\n",
            "NavigationPro:GoogleMapsNavionSamsungWatch.txt :  2.6896428571428572\n",
            "CrayonIconPack.txt :  2.6896428571428572\n",
            "Josh-SnackonShortVideoswithTopIndianApp.txt :  2.742947368421053\n",
            "PGT+🔧:ProGFX&Optimizer(withadvancesetting).txt :  2.566222222222222\n",
            "PowerampFullVersionUnlocker.txt :  2.7073191489361683\n",
            "ShareKaro-Share&FileTransferApp,Shareit.txt :  2.3687857142857145\n",
            "JioSaavnMusic&Radio–JioTunes,Podcasts,Songs.txt :  2.7749210526315817\n",
            "WynkMusic-NewMP3HindiTamilSong&PodcastApp.txt :  2.7548148148148153\n",
            "SAXVideoPlayer-AllinoneHdFormatpro2021.txt :  2.865\n",
            "FreeVPNTomato|FastestFreeHotspotVPNProxy.txt :  2.865\n",
            "Instagram.txt :  2.7879375000000004\n",
            "AmazonShopping,UPI,MoneyTransfer,BillPayment.txt :  2.7600204081632644\n",
            "InstagramLite.txt :  2.7879375000000004\n",
            "GameBooster4xFasterPro-GFXTool&LagFix.txt :  2.7145555555555556\n",
            "VPNMaster-Free&Fast&SecureVPNProxy.txt :  2.6896428571428572\n",
            "GamersGLToolProwithGameTurbo&PingBooster.txt :  2.566222222222222\n",
            "FLStudioMobile.txt :  2.865\n",
            "InternetSpeedMeter.txt :  2.5372500000000002\n",
            "Noizz-videoeditor,videomakerphotoswithsong.txt :  2.6841643835616438\n",
            "ShareChat-MadeinIndia.txt :  2.702224489795917\n",
            "Biugo-videomaker,photovideomaker,videoeditor.txt :  2.6841643835616438\n",
            "Meesho-Resell,WorkFromHome,EarnMoneyOnline.txt :  2.6548888888888893\n",
            "KineMaster-VideoEditor,VideoMaker.txt :  2.520615384615385\n",
            "GameBoosterVIP-FreeFireGFX-LagFix.txt :  2.5760000000000005\n",
            "GaanaMusicHindiSongFreeTamilTeluguMP3App.txt :  2.673979166666666\n",
            "SnackVideoMakerAppwithSong-Mast.txt :  2.6584736842105263\n",
            "BYJU'S–TheLearningApp.txt :  2.685384615384616\n",
            "FluidWalls-4KLiquidStyleWallpapers.txt :  2.649135135135135\n",
            "VideoEditor&VideoMaker-InShot.txt :  2.791\n",
            "Costco.txt :  2.773666666666669\n",
            "TorquePro(OBD2&Car).txt :  2.6183333333333336\n",
            "VPNPro-FreeforLifetime.txt :  2.6488333333333336\n",
            "1DM+[formerlyIDM+]:Video,TorrentDownloader.txt :  2.920571428571429\n",
            "ZEE5:Movies,TVShows,WebSeries.txt :  2.61455\n",
            "Hotstar.txt :  2.746460317460319\n",
            "FrancoKernelManager-foralldevices&kernels.txt :  2.865\n",
            "Truecaller:CallerID,SpamBlocking&Chat.txt :  2.7043153153153168\n",
            "DiskDiggerProfilerecovery.txt :  2.865\n",
            "JioTV–News,Movies,Entertainment,LIVETV.txt :  2.792305555555555\n",
            "GooglePay-asimpleandsecurepaymentapp.txt :  2.7210609756097575\n",
            "Tasker.txt :  2.714666666666666\n",
            "MXPlayer:VideoPlayer,Movies,Songs&GamesApp.txt :  2.6862037037037036\n",
            "AirtelThanks-Recharge,BillPay,Bank,LiveTV.txt :  2.7583333333333333\n",
            "RAM&GameBoosterbyAugustro(67%OFF).txt :  2.7120526315789477\n",
            "AmazonPrimeVideo.txt :  2.758648148148148\n",
            "MyJio:ForEverythingJio.txt :  2.771848484848485\n",
            "CryptoTabBrowserPro—mineonaPROlevel.txt :  2.702875\n",
            "TouchRetouch.txt :  2.6534102564102557\n",
            "SnackyTakatak.txt :  2.7416666666666676\n",
            "FactTechzUltimateBrainBooster-BinauralBeats.txt :  2.6896428571428572\n",
            "DroidCamX.txt :  2.7036666666666664\n",
            "Public-IndianLocalVideos.txt :  2.622409090909092\n",
            "WhatsAppBusiness.txt :  2.785517857142857\n",
            "QuickHealTotalSecurity.txt :  2.7235000000000005\n",
            "SimpleGalleryPro:Video&PhotoManager&Editor.txt :  2.3906666666666667\n",
            "KWGTKustomWidgetProKey.txt :  2.6896428571428572\n",
            "PandaGamepadPro(BETA).txt :  2.855882352941178\n",
            "MVBitmaster,MVmastervideostatusmaker-MVBit.txt :  2.756851851851852\n",
            "Dailyhunt-100%IndianAppforNews&Videos.txt :  2.742947368421053\n",
            "Facebook.txt :  2.786714285714286\n",
            "PhonePe–UPI,Recharges,Investments&Insurance.txt :  2.707943396226415\n",
            "Paytm-UPI,MoneyTransfer,Recharge,BillPayment.txt :  2.665156050955419\n",
            "MXTakaTakShortVideoApp|MadeinIndiaforYou.txt :  2.7416666666666676\n",
            "MXPlayerPro.txt :  2.6862037037037036\n",
            "Moj-SnackonIndianShortVideos|MadeinIndia.txt :  2.671499999999999\n",
            "InternetOptimizerPro|No-Ads.txt :  2.7611428571428576\n",
            "FacebookLite.txt :  2.786714285714286\n",
            "Snapchat.txt :  2.8409250000000013\n",
            "FlipkartOnlineShoppingApp.txt :  2.726135135135135\n"
          ],
          "name": "stdout"
        },
        {
          "output_type": "execute_result",
          "data": {
            "text/plain": [
              "count    76.000000\n",
              "mean      2.713307\n",
              "std       0.096532\n",
              "min       2.368786\n",
              "25%       2.681618\n",
              "50%       2.713304\n",
              "75%       2.772303\n",
              "max       2.920571\n",
              "Name: vague_score, dtype: float64"
            ]
          },
          "metadata": {
            "tags": []
          },
          "execution_count": 119
        }
      ]
    },
    {
      "cell_type": "code",
      "metadata": {
        "id": "NVvWf0ppnZEO"
      },
      "source": [
        "vagueness_cats = pd.DataFrame(vagueness_cats)\n",
        "vagueness_cats = vagueness_cats.groupby([\"cat\"]).count()\n",
        "vagueness_cats.columns = [\"Count\"]\n",
        "vagueness_cats[\"Count\"] /= sum(vagueness_cats[\"Count\"])\n",
        "vagueness_cats.columns = [\"Probablity\"]"
      ],
      "id": "NVvWf0ppnZEO",
      "execution_count": null,
      "outputs": []
    },
    {
      "cell_type": "code",
      "metadata": {
        "id": "fqhMeMXC-BXN"
      },
      "source": [
        "plot_data = pd.DataFrame([bt_coef]).T\n",
        "plot_data.columns = [\"bt_coef\"]\n",
        "temp = []\n",
        "for i in bt_coef:\n",
        "  try:\n",
        "    temp.append(vagueness_cats.T[i][0])\n",
        "  except KeyError :\n",
        "    temp.append(0)\n",
        "plot_data[\"Probablity\"] = temp"
      ],
      "id": "fqhMeMXC-BXN",
      "execution_count": null,
      "outputs": []
    },
    {
      "cell_type": "code",
      "metadata": {
        "colab": {
          "base_uri": "https://localhost:8080/",
          "height": 509
        },
        "id": "slytBgPyAdHk",
        "outputId": "9c3fc50c-ed5c-46fe-be01-cf37ceccad6f"
      },
      "source": [
        "plot_data"
      ],
      "id": "slytBgPyAdHk",
      "execution_count": null,
      "outputs": [
        {
          "output_type": "execute_result",
          "data": {
            "text/html": [
              "<div>\n",
              "<style scoped>\n",
              "    .dataframe tbody tr th:only-of-type {\n",
              "        vertical-align: middle;\n",
              "    }\n",
              "\n",
              "    .dataframe tbody tr th {\n",
              "        vertical-align: top;\n",
              "    }\n",
              "\n",
              "    .dataframe thead th {\n",
              "        text-align: right;\n",
              "    }\n",
              "</style>\n",
              "<table border=\"1\" class=\"dataframe\">\n",
              "  <thead>\n",
              "    <tr style=\"text-align: right;\">\n",
              "      <th></th>\n",
              "      <th>bt_coef</th>\n",
              "      <th>Probablity</th>\n",
              "    </tr>\n",
              "  </thead>\n",
              "  <tbody>\n",
              "    <tr>\n",
              "      <th>CN</th>\n",
              "      <td>1.619</td>\n",
              "      <td>0.007133</td>\n",
              "    </tr>\n",
              "    <tr>\n",
              "      <th>C</th>\n",
              "      <td>1.783</td>\n",
              "      <td>0.057405</td>\n",
              "    </tr>\n",
              "    <tr>\n",
              "      <th>CM</th>\n",
              "      <td>1.864</td>\n",
              "      <td>0.052649</td>\n",
              "    </tr>\n",
              "    <tr>\n",
              "      <th>CMN</th>\n",
              "      <td>2.125</td>\n",
              "      <td>0.004076</td>\n",
              "    </tr>\n",
              "    <tr>\n",
              "      <th>CG</th>\n",
              "      <td>2.345</td>\n",
              "      <td>0.000679</td>\n",
              "    </tr>\n",
              "    <tr>\n",
              "      <th>CGN</th>\n",
              "      <td>2.443</td>\n",
              "      <td>0.000340</td>\n",
              "    </tr>\n",
              "    <tr>\n",
              "      <th>MN</th>\n",
              "      <td>2.569</td>\n",
              "      <td>0.094090</td>\n",
              "    </tr>\n",
              "    <tr>\n",
              "      <th>N</th>\n",
              "      <td>2.710</td>\n",
              "      <td>0.112772</td>\n",
              "    </tr>\n",
              "    <tr>\n",
              "      <th>M</th>\n",
              "      <td>2.865</td>\n",
              "      <td>0.634511</td>\n",
              "    </tr>\n",
              "    <tr>\n",
              "      <th>CGMN</th>\n",
              "      <td>2.899</td>\n",
              "      <td>0.000000</td>\n",
              "    </tr>\n",
              "    <tr>\n",
              "      <th>CGM</th>\n",
              "      <td>2.968</td>\n",
              "      <td>0.000679</td>\n",
              "    </tr>\n",
              "    <tr>\n",
              "      <th>GN</th>\n",
              "      <td>3.281</td>\n",
              "      <td>0.002378</td>\n",
              "    </tr>\n",
              "    <tr>\n",
              "      <th>GMN</th>\n",
              "      <td>3.506</td>\n",
              "      <td>0.002378</td>\n",
              "    </tr>\n",
              "    <tr>\n",
              "      <th>G</th>\n",
              "      <td>3.550</td>\n",
              "      <td>0.025136</td>\n",
              "    </tr>\n",
              "    <tr>\n",
              "      <th>GM</th>\n",
              "      <td>4.045</td>\n",
              "      <td>0.005774</td>\n",
              "    </tr>\n",
              "  </tbody>\n",
              "</table>\n",
              "</div>"
            ],
            "text/plain": [
              "      bt_coef  Probablity\n",
              "CN      1.619    0.007133\n",
              "C       1.783    0.057405\n",
              "CM      1.864    0.052649\n",
              "CMN     2.125    0.004076\n",
              "CG      2.345    0.000679\n",
              "CGN     2.443    0.000340\n",
              "MN      2.569    0.094090\n",
              "N       2.710    0.112772\n",
              "M       2.865    0.634511\n",
              "CGMN    2.899    0.000000\n",
              "CGM     2.968    0.000679\n",
              "GN      3.281    0.002378\n",
              "GMN     3.506    0.002378\n",
              "G       3.550    0.025136\n",
              "GM      4.045    0.005774"
            ]
          },
          "metadata": {
            "tags": []
          },
          "execution_count": 141
        }
      ]
    },
    {
      "cell_type": "code",
      "metadata": {
        "id": "mGXRZwA7Dd9c"
      },
      "source": [
        "plot_data.to_csv(\"coef_prob_plot.csv\")"
      ],
      "id": "mGXRZwA7Dd9c",
      "execution_count": null,
      "outputs": []
    },
    {
      "cell_type": "code",
      "metadata": {
        "id": "B1NWDzqlFV67"
      },
      "source": [
        ""
      ],
      "id": "B1NWDzqlFV67",
      "execution_count": null,
      "outputs": []
    }
  ]
}
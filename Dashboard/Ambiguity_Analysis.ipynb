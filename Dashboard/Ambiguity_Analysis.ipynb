{
 "cells": [
  {
   "cell_type": "code",
   "execution_count": 1,
   "id": "6a8e2220",
   "metadata": {},
   "outputs": [],
   "source": [
    "import pandas as pd \n",
    "import spacy\n",
    "nlp = spacy.load('en_core_web_sm')\n",
    "\n",
    "from spacy.matcher import Matcher\n",
    "# Import the displaCy library\n",
    "import texthero as hero"
   ]
  },
  {
   "cell_type": "code",
   "execution_count": 2,
   "id": "a78e5cc5",
   "metadata": {},
   "outputs": [],
   "source": [
    "# Reading the files\n",
    "myfile = open('snapchat.txt')\n",
    "myfile_text = myfile.read().lower()\n",
    "\n"
   ]
  },
  {
   "cell_type": "code",
   "execution_count": 3,
   "id": "8a57108e",
   "metadata": {},
   "outputs": [],
   "source": [
    "# Ambiguity Terms\n",
    "Condition = ['depending', 'necessary', 'appropriate',\n",
    "                 'inappropriate', 'as needed', 'as applicable', 'when applicable', 'if applicable',\n",
    "                   'where applicable', 'when needed', 'if needed', 'where needed' 'reasonable', 'reasonably'\n",
    "                 'otherwise reasonably', 'sometimes',\n",
    "                 'from time to time']\n",
    "Generalization = ['generally', 'mostly', 'widely',\n",
    "                  'general', 'commonly',\n",
    "                  'usually', 'normally', 'typically',\n",
    "                  'largely', 'often', 'primarily',\n",
    "                  'among other things']\n",
    "Modality = ['may', 'might', 'can', 'could', 'would',\n",
    "            'likely', 'possible', 'possibly']\n",
    "Numeric_quantifier = ['anyone', 'certain', 'everyone',\n",
    "                      'numerous', 'some', 'most', 'few',\n",
    "                      'much', 'many', 'various', 'include',\n",
    "                      'limited to', \n",
    "                      'including but not limited to']\n",
    "keepWords = (Condition + Generalization + Modality + Numeric_quantifier)\n",
    "\n",
    "ambiguousWords =(['depending', 'necessary', 'appropriate',\n",
    "                 'inappropriate', 'as_needed', 'as_applicable', 'when_applicable', 'if_applicable',\n",
    "                   'where_applicable', 'when_needed', 'if_needed', 'where_needed', 'reasonable', 'reasonably'\n",
    "                 'otherwise_reasonably', 'sometimes',\n",
    "                 'from_time_to_time']+['generally', 'mostly', 'widely',\n",
    "                  'general', 'commonly',\n",
    "                  'usually', 'normally', 'typically',\n",
    "                  'largely', 'often', 'primarily',\n",
    "                  'among other things']+['may', 'might', 'can', 'could', 'would',\n",
    "            'likely', 'possible', 'possibly']+['anyone', 'certain', 'everyone',\n",
    "                      'numerous', 'some', 'most', 'few',\n",
    "                      'much', 'many', 'various', 'include',\n",
    "                      'limited_to', \n",
    "                      'including_but_not_limited to'])\n"
   ]
  },
  {
   "cell_type": "code",
   "execution_count": 4,
   "id": "dd9856df",
   "metadata": {},
   "outputs": [],
   "source": [
    "def len_str(x):\n",
    "  return len(x)\n",
    "\n",
    "def replace_word(orig_text, matcher):\n",
    "    tok = nlp(orig_text)\n",
    "    text = ''\n",
    "    buffer_start = 0\n",
    "    for word, match_start, match_end in matcher(tok):\n",
    "        if match_start > buffer_start:  # If we've skipped over some tokens, let's add those in (with trailing whitespace if available)\n",
    "            text += tok[buffer_start: match_start].text + tok[match_start - 1].whitespace_\n",
    "        text += nlp.vocab.strings[word] + tok[match_start].whitespace_  # Replace token, with trailing whitespace if available\n",
    "        buffer_start = match_end\n",
    "    if buffer_start < len(tok):\n",
    "        text += tok[buffer_start:].text\n",
    "    return text\n",
    "\n",
    "def ReplaceKeepwords(orig_text):\n",
    "    global keepWords\n",
    "    temp = keepWords.sort(key=len_str,reverse=True)\n",
    "    text = orig_text\n",
    "    # matcher = Matcher(nlp.vocab)\n",
    "    for i in keepWords:\n",
    "        matcher = Matcher(nlp.vocab)\n",
    "        replacement = \"_\".join(i.split())\n",
    "        rule = [ {\"LOWER\": j} for j in i.split() ]\n",
    "        matcher.add(replacement, None, rule)\n",
    "        text = replace_word(text, matcher)\n",
    "    return text\n",
    "\n"
   ]
  },
  {
   "cell_type": "code",
   "execution_count": 5,
   "id": "8e8dfadd",
   "metadata": {},
   "outputs": [],
   "source": [
    "final_text = nlp(ReplaceKeepwords(myfile_text))"
   ]
  },
  {
   "cell_type": "code",
   "execution_count": 6,
   "id": "fd8dbea4",
   "metadata": {},
   "outputs": [
    {
     "name": "stdout",
     "output_type": "stream",
     "text": [
      "154\n"
     ]
    }
   ],
   "source": [
    "# getting all sentences containing ambiguity terms\n",
    "phrase = []\n",
    "\n",
    "\n",
    "\n",
    "def get_sentences(sentence, phrase):\n",
    "                 \n",
    "    for token in sentence:\n",
    "        count = 0\n",
    "        for term in ambiguousWords:\n",
    "            if token.text == term:\n",
    "                count =1;\n",
    "        if count == 1:\n",
    "            phrase.append(sentence)\n",
    "                \n",
    "            \n",
    "    \n",
    "for sent in final_text.sents:\n",
    "    get_sentences(sent, phrase)\n",
    "print(len(phrase))"
   ]
  },
  {
   "cell_type": "code",
   "execution_count": 7,
   "id": "fbf2ae43",
   "metadata": {},
   "outputs": [],
   "source": [
    "# creating a data frame\n",
    "df = pd.DataFrame()\n",
    "df['Phrase'] = phrase\n",
    "\n",
    "for amb in ambiguousWords:\n",
    "    c1 =[]\n",
    "    for i in phrase:\n",
    "        count = 0\n",
    "        for token in i:\n",
    "            if token.text == amb:\n",
    "                count  = 1\n",
    "\n",
    "        c1.append(count)\n",
    "    df[amb] = c1\n",
    "    "
   ]
  },
  {
   "cell_type": "code",
   "execution_count": 8,
   "id": "15ff0e5a",
   "metadata": {},
   "outputs": [],
   "source": [
    "df.to_csv(\"snapchat.csv\")"
   ]
  },
  {
   "cell_type": "code",
   "execution_count": 9,
   "id": "2471ee1e",
   "metadata": {},
   "outputs": [
    {
     "name": "stdout",
     "output_type": "stream",
     "text": [
      "you        PRON     PRP    pronoun, personal\n",
      "use        VERB     VBP    verb, non-3rd person singular present\n",
      "these      DET      DT     determiner\n",
      "services   NOUN     NNS    noun, plural\n",
      ",          PUNCT    ,      punctuation mark, comma\n",
      "you        PRON     PRP    pronoun, personal\n",
      "’ll        VERB     MD     verb, modal auxiliary\n",
      "share      VERB     VB     verb, base form\n",
      "some       DET      DT     determiner\n",
      "information NOUN     NN     noun, singular or mass\n",
      "with       ADP      IN     conjunction, subordinating or preposition\n",
      "us         PRON     PRP    pronoun, personal\n",
      ".          PUNCT    .      punctuation mark, sentence closer\n"
     ]
    }
   ],
   "source": [
    "for token in df['Phrase'][0]:\n",
    "    print(f'{token.text:{10}} {token.pos_:{8}} {token.tag_:{6}} {spacy.explain(token.tag_)}')"
   ]
  },
  {
   "cell_type": "code",
   "execution_count": 10,
   "id": "25e192bf",
   "metadata": {},
   "outputs": [
    {
     "name": "stdout",
     "output_type": "stream",
     "text": [
      "share\n",
      "some\n",
      "information\n"
     ]
    }
   ],
   "source": [
    "\n",
    "count = 0\n",
    "b =1000\n",
    "\n",
    "for token in df['Phrase'][0]:\n",
    "            \n",
    "    if (token.pos_ == 'VERB'):\n",
    "        ambiguousVerb = token\n",
    "        \n",
    "            \n",
    "    for term in ambiguousWords:\n",
    "        if token.text == term:\n",
    "            print(ambiguousVerb)\n",
    "            print(term)\n",
    "            b = count\n",
    "            \n",
    "\n",
    "\n",
    "    if (token.pos_ == 'NOUN' and ((count > b) and (count<=b+2))):\n",
    "            print(token)\n",
    "    count +=1\n",
    "\n",
    "\n",
    "\n"
   ]
  },
  {
   "cell_type": "code",
   "execution_count": 48,
   "id": "453cf565",
   "metadata": {},
   "outputs": [],
   "source": [
    "df[\"Combinations\"] = df. sum(axis=1)"
   ]
  },
  {
   "cell_type": "code",
   "execution_count": 49,
   "id": "70e7a00d",
   "metadata": {},
   "outputs": [],
   "source": [
    "df.loc['Column_Total']= df.sum(numeric_only=True, axis=0)\n"
   ]
  },
  {
   "cell_type": "code",
   "execution_count": 14,
   "id": "050459da",
   "metadata": {},
   "outputs": [],
   "source": [
    "from texthero import preprocessing\n",
    "my_pipe = [preprocessing.fillna,\n",
    "          preprocessing.remove_diacritics,\n",
    "          preprocessing.remove_whitespace]"
   ]
  },
  {
   "cell_type": "code",
   "execution_count": 17,
   "id": "16c4a017",
   "metadata": {},
   "outputs": [],
   "source": [
    "df['clean-text'] = hero.clean(df['Phrase'], my_pipe)\n",
    "\n",
    "df['clean-text'] = [n.replace(')', '') for n in df['clean-text']]\n",
    "df['clean-text'] = [n.replace('(', '') for n in df['clean-text']]\n",
    "df['clean-text'] = [n.replace('{', '') for n in df['clean-text']]\n",
    "df['clean-text'] = [n.replace('}', '') for n in df['clean-text']]"
   ]
  },
  {
   "cell_type": "code",
   "execution_count": 18,
   "id": "f5868565",
   "metadata": {},
   "outputs": [],
   "source": [
    "df['TFIDF'] = hero.tfidf(df['clean-text'], max_features =2900)"
   ]
  },
  {
   "cell_type": "code",
   "execution_count": 19,
   "id": "ece500a9",
   "metadata": {},
   "outputs": [],
   "source": [
    "#2 Doc2Vec\n",
    "from gensim.models.doc2vec import Doc2Vec, TaggedDocument"
   ]
  },
  {
   "cell_type": "code",
   "execution_count": 20,
   "id": "6bb602ad",
   "metadata": {},
   "outputs": [],
   "source": [
    "#using Tagged documents to tag the Document\n",
    "tagged_docs = [TaggedDocument(doc.split(' ') ,[i]) for i, doc in enumerate(df['clean-text'])]\n",
    "\n",
    "model = Doc2Vec(vector_size=64, window=2, min_count=1, workers=8, epochs = 40)\n",
    "\n",
    "model.build_vocab(tagged_docs)\n",
    "\n",
    "model.train(tagged_docs, total_examples=model.corpus_count, epochs=model.epochs)\n",
    "\n",
    "card2vec = [model.infer_vector((df['clean-text'][i].split(' '))) for i in range(0,len(df['clean-text']))]\n",
    "\n",
    "df['Doc2vec'] = np.array(card2vec).tolist()"
   ]
  },
  {
   "cell_type": "code",
   "execution_count": 24,
   "id": "fa994cea",
   "metadata": {},
   "outputs": [],
   "source": [
    "#Universal sentence encoder\n",
    "import tensorflow_hub as hub\n",
    "\n",
    "#download the model\n",
    "embed = hub.load(\"https://tfhub.dev/google/universal-sentence-encoder-large/5\")"
   ]
  },
  {
   "cell_type": "code",
   "execution_count": 25,
   "id": "41c66a4a",
   "metadata": {},
   "outputs": [
    {
     "data": {
      "text/html": [
       "<div>\n",
       "<style scoped>\n",
       "    .dataframe tbody tr th:only-of-type {\n",
       "        vertical-align: middle;\n",
       "    }\n",
       "\n",
       "    .dataframe tbody tr th {\n",
       "        vertical-align: top;\n",
       "    }\n",
       "\n",
       "    .dataframe thead th {\n",
       "        text-align: right;\n",
       "    }\n",
       "</style>\n",
       "<table border=\"1\" class=\"dataframe\">\n",
       "  <thead>\n",
       "    <tr style=\"text-align: right;\">\n",
       "      <th></th>\n",
       "      <th>tsnetfidf</th>\n",
       "      <th>tsnec2v</th>\n",
       "      <th>tsneuse</th>\n",
       "    </tr>\n",
       "    <tr>\n",
       "      <th>Phrase</th>\n",
       "      <th></th>\n",
       "      <th></th>\n",
       "      <th></th>\n",
       "    </tr>\n",
       "  </thead>\n",
       "  <tbody>\n",
       "    <tr>\n",
       "      <th>(you, use, these, services, ,, you, ’ll, share, some, information, with, us, .)</th>\n",
       "      <td>[0.5357636213302612, 13.304076194763184]</td>\n",
       "      <td>[-13.187685012817383, 4.814410209655762]</td>\n",
       "      <td>[2.5985493659973145, 3.0634214878082275]</td>\n",
       "    </tr>\n",
       "    <tr>\n",
       "      <th>(and, it, ’s, why, we, ’ve, tried, to, write, it, in, a, way, that, ’s, blissfully, free, of, the, legalese, that, often, clouds, these, documents, .)</th>\n",
       "      <td>[17.583139419555664, -9.901934623718262]</td>\n",
       "      <td>[7.111425876617432, -1.9578969478607178]</td>\n",
       "      <td>[-16.87145233154297, -4.008695125579834]</td>\n",
       "    </tr>\n",
       "    <tr>\n",
       "      <th>(of, course, ,, if, you, still, have, questions, about, anything, in, our, privacy, policy, ,, just, contact, us.you, should, read, our, entire, privacy, policy, ,, but, when, you, only, have, a, few, minutes, or, want, to, remember, something, later, on, ,, you, can, always, take, a, look, at, this, summary, —, so, you, can, review, some, of, the, basics, in, just, a, few, minutes.information)</th>\n",
       "      <td>[14.546968460083008, 0.3855372965335846]</td>\n",
       "      <td>[2.1271021366119385, -6.582714080810547]</td>\n",
       "      <td>[4.278918743133545, -18.665237426757812]</td>\n",
       "    </tr>\n",
       "    <tr>\n",
       "      <th>(of, course, ,, if, you, still, have, questions, about, anything, in, our, privacy, policy, ,, just, contact, us.you, should, read, our, entire, privacy, policy, ,, but, when, you, only, have, a, few, minutes, or, want, to, remember, something, later, on, ,, you, can, always, take, a, look, at, this, summary, —, so, you, can, review, some, of, the, basics, in, just, a, few, minutes.information)</th>\n",
       "      <td>[13.554123878479004, 0.15899385511875153]</td>\n",
       "      <td>[2.1344008445739746, -6.58812952041626]</td>\n",
       "      <td>[6.084807395935059, -17.989927291870117]</td>\n",
       "    </tr>\n",
       "    <tr>\n",
       "      <th>(of, course, ,, if, you, still, have, questions, about, anything, in, our, privacy, policy, ,, just, contact, us.you, should, read, our, entire, privacy, policy, ,, but, when, you, only, have, a, few, minutes, or, want, to, remember, something, later, on, ,, you, can, always, take, a, look, at, this, summary, —, so, you, can, review, some, of, the, basics, in, just, a, few, minutes.information)</th>\n",
       "      <td>[13.379727363586426, -0.8414849042892456]</td>\n",
       "      <td>[2.130619764328003, -6.584867000579834]</td>\n",
       "      <td>[6.700246810913086, -19.266883850097656]</td>\n",
       "    </tr>\n",
       "  </tbody>\n",
       "</table>\n",
       "</div>"
      ],
      "text/plain": [
       "                                                                                    tsnetfidf  \\\n",
       "Phrase                                                                                          \n",
       "(you, use, these, services, ,, you, ’ll, share,...   [0.5357636213302612, 13.304076194763184]   \n",
       "(and, it, ’s, why, we, ’ve, tried, to, write, i...   [17.583139419555664, -9.901934623718262]   \n",
       "(of, course, ,, if, you, still, have, questions...   [14.546968460083008, 0.3855372965335846]   \n",
       "(of, course, ,, if, you, still, have, questions...  [13.554123878479004, 0.15899385511875153]   \n",
       "(of, course, ,, if, you, still, have, questions...  [13.379727363586426, -0.8414849042892456]   \n",
       "\n",
       "                                                                                     tsnec2v  \\\n",
       "Phrase                                                                                         \n",
       "(you, use, these, services, ,, you, ’ll, share,...  [-13.187685012817383, 4.814410209655762]   \n",
       "(and, it, ’s, why, we, ’ve, tried, to, write, i...  [7.111425876617432, -1.9578969478607178]   \n",
       "(of, course, ,, if, you, still, have, questions...  [2.1271021366119385, -6.582714080810547]   \n",
       "(of, course, ,, if, you, still, have, questions...   [2.1344008445739746, -6.58812952041626]   \n",
       "(of, course, ,, if, you, still, have, questions...   [2.130619764328003, -6.584867000579834]   \n",
       "\n",
       "                                                                                     tsneuse  \n",
       "Phrase                                                                                        \n",
       "(you, use, these, services, ,, you, ’ll, share,...  [2.5985493659973145, 3.0634214878082275]  \n",
       "(and, it, ’s, why, we, ’ve, tried, to, write, i...  [-16.87145233154297, -4.008695125579834]  \n",
       "(of, course, ,, if, you, still, have, questions...  [4.278918743133545, -18.665237426757812]  \n",
       "(of, course, ,, if, you, still, have, questions...  [6.084807395935059, -17.989927291870117]  \n",
       "(of, course, ,, if, you, still, have, questions...  [6.700246810913086, -19.266883850097656]  "
      ]
     },
     "execution_count": 25,
     "metadata": {},
     "output_type": "execute_result"
    }
   ],
   "source": [
    "embeddings = embed(df['clean-text'])#create list from np arrays\n",
    "use= np.array(embeddings).tolist()#add lists as dataframe column\n",
    "df['use'] = use\n",
    "\n",
    "#t-SNE algorithm for convertung all vectors in 2 dimensions\n",
    "df['tsnetfidf'] = hero.tsne(df['TFIDF'])\n",
    "df['tsnec2v'] = hero.tsne(df['Doc2vec'])\n",
    "df['tsneuse'] = hero.tsne(df['use'])\n",
    "\n",
    "df[['tsnetfidf','tsnec2v', 'tsneuse']].head()"
   ]
  },
  {
   "cell_type": "code",
   "execution_count": 30,
   "id": "e68b3cb5",
   "metadata": {},
   "outputs": [
    {
     "data": {
      "application/vnd.plotly.v1+json": {
       "config": {
        "plotlyServerURL": "https://plot.ly"
       },
       "data": [
        {
         "customdata": [
          [
           "you use these services, you'll share some information with us."
          ],
          [
           "and it's why we've tried to write it in a way that's blissfully free of the legalese that often clouds these documents."
          ],
          [
           "of course, if you still have questions about anything in our privacy policy, just contact us.you should read our entire privacy policy, but when you only have a few minutes or want to remember something later on, you can always take a look at this summary--so you can review some of the basics in just a few minutes.information"
          ],
          [
           "of course, if you still have questions about anything in our privacy policy, just contact us.you should read our entire privacy policy, but when you only have a few minutes or want to remember something later on, you can always take a look at this summary--so you can review some of the basics in just a few minutes.information"
          ],
          [
           "of course, if you still have questions about anything in our privacy policy, just contact us.you should read our entire privacy policy, but when you only have a few minutes or want to remember something later on, you can always take a look at this summary--so you can review some of the basics in just a few minutes.information"
          ],
          [
           "of course, if you still have questions about anything in our privacy policy, just contact us.you should read our entire privacy policy, but when you only have a few minutes or want to remember something later on, you can always take a look at this summary--so you can review some of the basics in just a few minutes.information"
          ],
          [
           "of course, if you still have questions about anything in our privacy policy, just contact us.you should read our entire privacy policy, but when you only have a few minutes or want to remember something later on, you can always take a look at this summary--so you can review some of the basics in just a few minutes.information"
          ],
          [
           "for example, most of our services require you to set up a snapchat account, so we need to collect a few important details about you, such as your name, username, password, email address, phone number, and date of birth."
          ],
          [
           "for example, most of our services require you to set up a snapchat account, so we need to collect a few important details about you, such as your name, username, password, email address, phone number, and date of birth."
          ],
          [
           "we may also ask you to provide us with some additional information that will be publicly visible on our services, such as a profile picture or bitmoji avatar."
          ],
          [
           "we may also ask you to provide us with some additional information that will be publicly visible on our services, such as a profile picture or bitmoji avatar."
          ],
          [
           "other services, such as commerce products, may require you to provide us with a debit or credit card number and its associated account information.of course, you'll also provide us whatever information you send through our services, such as snaps and chats."
          ],
          [
           "keep in mind that the users who view your snaps, chats, and any other content can always save that content or copy it outside the app."
          ],
          [
           "so, the same common sense that applies to the internet at large applies to snapchat as well: don't send messages or share content that you wouldn't want someone to save or share.when"
          ],
          [
           "we might know, for instance, that you watched a particular story, saw a specific ad for a certain period of time, and sent a few snaps."
          ],
          [
           "we might know, for instance, that you watched a particular story, saw a specific ad for a certain period of time, and sent a few snaps."
          ],
          [
           "we might know, for instance, that you watched a particular story, saw a specific ad for a certain period of time, and sent a few snaps."
          ],
          [
           "for example, we may collect information about:how you interact with our services, such as which filters you view or apply to snaps, which stories you watch on discover, whether you're using spectacles, or which search queries you"
          ],
          [
           "submit.how you communicate with other snapchatters, such as their names, the time and date of your communications, the number of messages you exchange with your friends, which friends you exchange messages with the most, and your interactions with messages such as when you open a message or capture a screenshot.content information."
          ],
          [
           "because snapchat is all about communicating with friends, we may--with your permission--collect information from your device's phonebook.camera and photos."
          ],
          [
           "many of our services require us to collect images and other information from your device's camera and photos."
          ],
          [
           "for example, you won't be able to send snaps or upload photos from your camera roll unless we can access your camera or photos.location information."
          ],
          [
           "when you use our services we may collect information about your location."
          ],
          [
           "with your permission, we may also collect information about your precise location using methods that include gps, wireless networks, cell towers, wi-fi access points, and other sensors, such as gyroscopes, accelerometers, and compasses.information collected by cookies and other technologies."
          ],
          [
           "with your permission, we may also collect information about your precise location using methods that include gps, wireless networks, cell towers, wi-fi access points, and other sensors, such as gyroscopes, accelerometers, and compasses.information collected by cookies and other technologies."
          ],
          [
           "like most online services and mobile applications, we may use cookies and other technologies, such as web beacons, web storage, and unique advertising identifiers, to collect information about your activity, browser, and device."
          ],
          [
           "like most online services and mobile applications, we may use cookies and other technologies, such as web beacons, web storage, and unique advertising identifiers, to collect information about your activity, browser, and device."
          ],
          [
           "we may also use these technologies to collect information when you interact with services we offer through one of our partners, such as advertising and commerce features."
          ],
          [
           "for example, we may use information collected on other websites to show you more relevant ads."
          ],
          [
           "most web browsers are set to accept cookies by default."
          ],
          [
           "if you prefer, you can usually remove or reject browser cookies through the settings on your browser or device."
          ],
          [
           "if you prefer, you can usually remove or reject browser cookies through the settings on your browser or device."
          ],
          [
           "keep in mind, though, that removing or rejecting cookies could affect the availability and functionality of our services."
          ],
          [
           "viewed;ip address;identifiers associated with cookies or other technologies that may uniquely identify your device or browser; andpages you visited before or after navigating to our website.information we collect from third partieswe may collect information about you from other users, our affiliates, and third parties."
          ],
          [
           "viewed;ip address;identifiers associated with cookies or other technologies that may uniquely identify your device or browser; andpages you visited before or after navigating to our website.information we collect from third partieswe may collect information about you from other users, our affiliates, and third parties."
          ],
          [
           "here are a few examples:if you link your snapchat account to another service like bitmoji or a third-party app, we may receive information from the other service, like how you use that service.advertisers, app developers, publishers, and other third parties may share information with us as well."
          ],
          [
           "here are a few examples:if you link your snapchat account to another service like bitmoji or a third-party app, we may receive information from the other service, like how you use that service.advertisers, app developers, publishers, and other third parties may share information with us as well."
          ],
          [
           "here are a few examples:if you link your snapchat account to another service like bitmoji or a third-party app, we may receive information from the other service, like how you use that service.advertisers, app developers, publishers, and other third parties may share information with us as well."
          ],
          [
           "we may use this information, among other ways, to help target or measure the performance of ads."
          ],
          [
           "you can learn more about our use of this kind of third-party data in our support center.if another user uploads their contact list, we may combine information from that user's contact list with other information we have collected about you.how"
          ],
          [
           "you can learn more about our use of this kind of third-party data in our support center.if another user uploads their contact list, we may combine information from that user's contact list with other information we have collected about you.how"
          ],
          [
           "for example, we may use email to respond to support inquiries or to share information about our products, services, and promotional offers that we think may interest you.monitor and analyze trends and usage.personalize our services by, among_other_things , suggesting friends, profile information, or bitmoji stickers, or customizing the content we show you, including ads.contextualize your experience by, among_other_things , tagging your memories content using your precise location information"
          ],
          [
           "for example, we may use email to respond to support inquiries or to share information about our products, services, and promotional offers that we think may interest you.monitor and analyze trends and usage.personalize our services by, among_other_things , suggesting friends, profile information, or bitmoji stickers, or customizing the content we show you, including ads.contextualize your experience by, among_other_things , tagging your memories content using your precise location information"
          ],
          [
           "see the control over your information section below for more information about snap inc.'s advertising practices and your choices.enhance the safety and security of our products and services.verify your identity and prevent fraud or other unauthorized or illegal activity.use information we've collected from cookies and other technology to enhance our services and your experience with them.enforce our terms of service and other usage policies and comply with legal requirements.we may also use information from apple's truedepth camera to improve the quality of lenses."
          ],
          [
           "information from the truedepth camera is used in real time--we don't store this information on our servers or share it with third parties.how we share informationwe may share information about you in the following ways:with other snapchatters."
          ],
          [
           "we may share the following information with other snapchatters:information about you, such as your username, name, and bitmoji.information about how you have interacted with our services, such as your snapchat \"score,\" the names of snapchatters you are friends with, and other information that will help snapchatters understand your connections with others using our services."
          ],
          [
           "for example, because it may not be clear whether a new friend request comes from someone you actually know, we may share whether you and the requestor have snapchat friends in common.any additional information you have directed us to share."
          ],
          [
           "for example, because it may not be clear whether a new friend request comes from someone you actually know, we may share whether you and the requestor have snapchat friends in common.any additional information you have directed us to share."
          ],
          [
           "how widely your content is shared depends on your personal settings and the type of service you are using."
          ],
          [
           "for example, a snap may be sent to just a single friend you select, but your my story content may be seen by any snapchatter whom you allow to see your my story.with all snapchatters, our business partners, and the general public."
          ],
          [
           "for example, a snap may be sent to just a single friend you select, but your my story content may be seen by any snapchatter whom you allow to see your my story.with all snapchatters, our business partners, and the general public."
          ],
          [
           "for example, a snap may be sent to just a single friend you select, but your my story content may be seen by any snapchatter whom you allow to see your my story.with all snapchatters, our business partners, and the general public."
          ],
          [
           "we may share the following information with all snapchatters as well as with our business partners and the general public:public information like your name, username, snapcode and profile pictures.story submissions that are set to be viewable by everyone and any content that you submit to an inherently public service, like our story and other crowd-sourced services."
          ],
          [
           "we may share the following information with all snapchatters as well as with our business partners and the general public:public information like your name, username, snapcode and profile pictures.story submissions that are set to be viewable by everyone and any content that you submit to an inherently public service, like our story and other crowd-sourced services."
          ],
          [
           "we may share the following information with all snapchatters as well as with our business partners and the general public:public information like your name, username, snapcode and profile pictures.story submissions that are set to be viewable by everyone and any content that you submit to an inherently public service, like our story and other crowd-sourced services."
          ],
          [
           "this content may be viewed and shared by the public at large both on and off our services, including through search results, on websites, in apps, and in online and offline broadcasts.with our affiliates."
          ],
          [
           "we may share information with entities within the snap inc. family of companies.with third parties."
          ],
          [
           "we may share information about you with service providers who perform services on our behalf, including to measure and optimize the performance of ads and deliver more relevant ads, including on third-party websites and apps."
          ],
          [
           "learn more here.we may share information about you with business partners that provide services and functionality on our services."
          ],
          [
           "for more information about information collected by third parties on our services, visit our support site.we may share information about you, such as device and usage information, to help us and others prevent fraud.we may share information about you for legal, safety, and security reasons."
          ],
          [
           "for more information about information collected by third parties on our services, visit our support site.we may share information about you, such as device and usage information, to help us and others prevent fraud.we may share information about you for legal, safety, and security reasons."
          ],
          [
           "we may share information about you if we reasonably believe that disclosing the information is needed to:comply with any valid legal process, governmental request, or applicable law, rule, or regulation.investigate, remedy, or enforce potential terms of service violations.protect the rights, property, or safety of us, our users, or others.detect and resolve any fraud or security concerns.we may share information about you as part of a merger or acquisition."
          ],
          [
           "we may share information about you if we reasonably believe that disclosing the information is needed to:comply with any valid legal process, governmental request, or applicable law, rule, or regulation.investigate, remedy, or enforce potential terms of service violations.protect the rights, property, or safety of us, our users, or others.detect and resolve any fraud or security concerns.we may share information about you as part of a merger or acquisition."
          ],
          [
           "if snap inc. gets involved in a merger, asset sale, financing, liquidation or bankruptcy, or acquisition of all or some portion of our business to another company, we may share your information with that company before and after the transaction closes.we may also share with third parties that provide services to us or perform business purposes for us aggregated, non-personally identifiable, or de-identified information.third-party content and integrationsour services may contain third-party content and integrations."
          ],
          [
           "if snap inc. gets involved in a merger, asset sale, financing, liquidation or bankruptcy, or acquisition of all or some portion of our business to another company, we may share your information with that company before and after the transaction closes.we may also share with third parties that provide services to us or perform business purposes for us aggregated, non-personally identifiable, or de-identified information.third-party content and integrationsour services may contain third-party content and integrations."
          ],
          [
           "if snap inc. gets involved in a merger, asset sale, financing, liquidation or bankruptcy, or acquisition of all or some portion of our business to another company, we may share your information with that company before and after the transaction closes.we may also share with third parties that provide services to us or perform business purposes for us aggregated, non-personally identifiable, or de-identified information.third-party content and integrationsour services may contain third-party content and integrations."
          ],
          [
           "if snap inc. gets involved in a merger, asset sale, financing, liquidation or bankruptcy, or acquisition of all or some portion of our business to another company, we may share your information with that company before and after the transaction closes.we may also share with third parties that provide services to us or perform business purposes for us aggregated, non-personally identifiable, or de-identified information.third-party content and integrationsour services may contain third-party content and integrations."
          ],
          [
           "examples include third-party integrations in camera search, third-party games in chat, and third-party snap kit integrations."
          ],
          [
           "through these integrations, you may be providing information to the third party as well as to snap."
          ],
          [
           "you can learn more about third-party services in snapchat"
          ],
          [
           "on our end, that means most messages--like snaps and chats--sent in snapchat will be automatically deleted by default from our servers after we detect they've been opened by all recipients or have expired."
          ],
          [
           "for example, if you use the map, we store information about your favorite places for up to 40 days so we can personalize and improve your experience."
          ],
          [
           "if location information is associated with a snap--like those saved to memories or posted to our story--we'll retain that location as long as we store the snap.we're constantly collecting and updating information about the things you might like and dislike, so we can provide you with more relevant content and advertisements."
          ],
          [
           "if location information is associated with a snap--like those saved to memories or posted to our story--we'll retain that location as long as we store the snap.we're constantly collecting and updating information about the things you might like and dislike, so we can provide you with more relevant content and advertisements."
          ],
          [
           "go here to learn more.if you ever decide to stop using snapchat, you can just ask us to delete your account."
          ],
          [
           "we'll also delete most of the information we've collected about you after you've been inactive for a while--but don't worry, we'll try to contact you first!keep in mind that, while our systems are designed to carry out our deletion practices automatically, we cannot promise that deletion will occur within a specific timeframe."
          ],
          [
           "we'll also delete most of the information we've collected about you after you've been inactive for a while--but don't worry, we'll try to contact you first!keep in mind that, while our systems are designed to carry out our deletion practices automatically, we cannot promise that deletion will occur within a specific timeframe."
          ],
          [
           "there may be legal requirements to store your data and we may need to suspend those deletion practices if we receive valid legal process asking us to preserve content, if we receive reports of abuse or other terms of service violations, or if your account or content created by you is flagged by our automated systems for abuse or other terms of service violations."
          ],
          [
           "there may be legal requirements to store your data and we may need to suspend those deletion practices if we receive valid legal process asking us to preserve content, if we receive reports of abuse or other terms of service violations, or if your account or content created by you is flagged by our automated systems for abuse or other terms of service violations."
          ],
          [
           "finally, we may also retain certain information in backup for a limited period of time or as required by law.control over your informationwe want you to be in control of your information, so we provide you with the following tools.access, correction, and portability."
          ],
          [
           "finally, we may also retain certain information in backup for a limited period of time or as required by law.control over your informationwe want you to be in control of your information, so we provide you with the following tools.access, correction, and portability."
          ],
          [
           "you can access and edit most of your basic account information right in our apps."
          ],
          [
           "you can access and edit most of your basic account information right in our apps."
          ],
          [
           "you can also use download my data to obtain a copy of information that isn't available in our apps in a portable format, so you can move it or store it wherever you want."
          ],
          [
           "you can also use download my data to obtain a copy of information that isn't available in our apps in a portable format, so you can move it or store it wherever you want."
          ],
          [
           "we may also reject your request to access or update your personal information for a number of reasons, including, for example, if the request risks the privacy of other users or is unlawful.revoking permissions."
          ],
          [
           "in most cases, if you let us use your information, you can simply revoke your permission by changing the settings in the app or on your device if your device offers those options."
          ],
          [
           "in most cases, if you let us use your information, you can simply revoke your permission by changing the settings in the app or on your device if your device offers those options."
          ],
          [
           "of course, if you do that, certain services may lose full functionality.deletion."
          ],
          [
           "of course, if you do that, certain services may lose full functionality.deletion."
          ],
          [
           "while we hope you'll remain a lifelong snapchatter, if for some reason you ever want to delete your account, just go here to learn how."
          ],
          [
           "you can also delete some information in the app, like photos you've saved to memories, our story submissions, and search history.advertising preferences."
          ],
          [
           "you can also delete some information in the app, like photos you've saved to memories, our story submissions, and search history.advertising preferences."
          ],
          [
           "if you would like to modify the information we and our advertising partners use to select these ads, you can do so in the app and through your device preferences."
          ],
          [
           "if you would like to modify the information we and our advertising partners use to select these ads, you can do so in the app and through your device preferences."
          ],
          [
           "here is some additional information we would like to bring to your attention:rights of access, deletion, correction, and portabilityyou can exercise your rights of access, deletion, correction, and portability as described in the control over your information section above.bases for using your informationyour country only allows us to use your personal information when certain conditions apply."
          ],
          [
           "here is some additional information we would like to bring to your attention:rights of access, deletion, correction, and portabilityyou can exercise your rights of access, deletion, correction, and portability as described in the control over your information section above.bases for using your informationyour country only allows us to use your personal information when certain conditions apply."
          ],
          [
           "here is some additional information we would like to bring to your attention:rights of access, deletion, correction, and portabilityyou can exercise your rights of access, deletion, correction, and portability as described in the control over your information section above.bases for using your informationyour country only allows us to use your personal information when certain conditions apply."
          ],
          [
           "here is some additional information we would like to bring to your attention:rights of access, deletion, correction, and portabilityyou can exercise your rights of access, deletion, correction, and portability as described in the control over your information section above.bases for using your informationyour country only allows us to use your personal information when certain conditions apply."
          ],
          [
           "these conditions are called \"legal bases\" and, at snap, we typically rely on one of four:contract."
          ],
          [
           "one reason we might use your information is because you've entered into an agreement with us."
          ],
          [
           "for example, when you buy an on-demand geofilter and accepted our custom creative tools terms, we need to use some of your information to collect payment and make sure we show your geofilter to the right people at the right place and time.legitimate interest."
          ],
          [
           "another reason we might use your information is because we have--or a third party has--a legitimate interest in doing so."
          ],
          [
           "because most of our services are free, we also use some information about you to try and show you ads"
          ],
          [
           "because most of our services are free, we also use some information about you to try and show you ads"
          ],
          [
           "an important point to understand about legitimate interest is that our interests don't outweigh your right to privacy, so we only rely on legitimate interest when we think the way we are using your data doesn't significantly impact your privacy or would be expected by you, or there is a compelling reason to do so."
          ],
          [
           "in some cases we'll ask for consent to use your information for specific purposes."
          ],
          [
           "if we do, we'll make sure you can revoke your consent in our services or through your device permissions."
          ],
          [
           "even if we're not relying on consent to use your information, we may ask you for permission to access data like contacts and location.legal obligation."
          ],
          [
           "we may be required to use your personal information to comply with the law, like when we respond to valid legal process or need to take action to protect our users."
          ],
          [
           "our policy is to notify snapchatters when we receive legal process seeking their account information, with some exceptions."
          ],
          [
           "with many types of data, we've provided you with the ability to simply delete it if you don't want us processing it anymore."
          ],
          [
           "you can do these things in the app."
          ],
          [
           "if there are other types of information you don't agree with us processing, you can contact us.international transferswe may collect your personal information from, transfer it to, and store and process it in the united states and other countries outside of where you live."
          ],
          [
           "if there are other types of information you don't agree with us processing, you can contact us.international transferswe may collect your personal information from, transfer it to, and store and process it in the united states and other countries outside of where you live."
          ],
          [
           "you can find more information on the categories of third parties we share information with here.complaints?"
          ],
          [
           "if you're based in the eu, you can always file a complaint with the supervisory authority in your member state.users in brazilif"
          ],
          [
           "here is some additional information we would like to bring to your attention:rights of access, deletion, correction, and portabilityyou can exercise your rights of access, deletion, correction, and portability as described in the control over your information section above.bases for using your informationyour country only allows us to use your personal information when certain conditions apply."
          ],
          [
           "here is some additional information we would like to bring to your attention:rights of access, deletion, correction, and portabilityyou can exercise your rights of access, deletion, correction, and portability as described in the control over your information section above.bases for using your informationyour country only allows us to use your personal information when certain conditions apply."
          ],
          [
           "here is some additional information we would like to bring to your attention:rights of access, deletion, correction, and portabilityyou can exercise your rights of access, deletion, correction, and portability as described in the control over your information section above.bases for using your informationyour country only allows us to use your personal information when certain conditions apply."
          ],
          [
           "here is some additional information we would like to bring to your attention:rights of access, deletion, correction, and portabilityyou can exercise your rights of access, deletion, correction, and portability as described in the control over your information section above.bases for using your informationyour country only allows us to use your personal information when certain conditions apply."
          ],
          [
           "these conditions are called \"legal bases\" and, at snap, we typically rely on one of four:contract."
          ],
          [
           "one reason we might use your information is because you've entered into an agreement with us."
          ],
          [
           "for example, when you buy an on-demand geofilter and accepted our custom creative tools terms, we need to use some of your information to collect payment and make sure we show your geofilter to the right people at the right place and time.legitimate interest."
          ],
          [
           "another reason we might use your information is because we have--or a third party has--a legitimate interest in doing so."
          ],
          [
           "because most of our services are free, we also use some information about you to try and show you ads"
          ],
          [
           "because most of our services are free, we also use some information about you to try and show you ads"
          ],
          [
           "an important point to understand about legitimate interest is that our interests don't outweigh your right to privacy, so we only rely on legitimate interest when we think the way we are using your data doesn't significantly impact your privacy or would be expected by you, or there is a compelling reason to do so."
          ],
          [
           "in some cases we'll ask for consent to use your information for specific purposes."
          ],
          [
           "if we do, we'll make sure you can revoke your consent in our services or through your device permissions."
          ],
          [
           "even if we're not relying on consent to use your information, we may ask you for permission to access data like contacts and location.legal obligation."
          ],
          [
           "we may be required to use your personal information to comply with the law, like when we respond to valid legal process or need to take action to protect our users.your right to objectyou have the right to object to our use of your information."
          ],
          [
           "with many types of data, we've provided you with the ability to simply delete it if you don't want us processing it anymore."
          ],
          [
           "you can do these things in the app."
          ],
          [
           "if there are other types of information you don't agree with us processing, you can contact us.complaints?"
          ],
          [
           "you can always file a complaint with the national authority in your country."
          ],
          [
           "here is some additional information we would like to bring to your attention:rights of access, rectification, and cancellationyou can exercise your rights of access, rectification, and cancellation as described in the control over your information section"
          ],
          [
           "here is some additional information we would like to bring to your attention:rights of access, rectification, and cancellationyou can exercise your rights of access, rectification, and cancellation as described in the control over your information section"
          ],
          [
           "here is some additional information we would like to bring to your attention:rights of access, rectification, and cancellationyou can exercise your rights of access, rectification, and cancellation as described in the control over your information section"
          ],
          [
           "with many types of data, we've provided you with the ability to simply delete it if you don't want us processing it anymore."
          ],
          [
           "you can do these things in the app."
          ],
          [
           "if there are other types of information you don't agree with us processing, you can contact us.california residentsif you're a california resident, you have certain privacy rights under california law, including the california consumer privacy act of 2018 \"ccpa\"."
          ],
          [
           "if there are other types of information you don't agree with us processing, you can contact us.california residentsif you're a california resident, you have certain privacy rights under california law, including the california consumer privacy act of 2018 \"ccpa\"."
          ],
          [
           "services are not intended for--and we don't direct them to--anyone under 13."
          ],
          [
           "and that's why we do not knowingly collect personal information from anyone under 13."
          ],
          [
           "in addition, we may limit how we collect, use, and store some of the information of eu users between 13 and 16."
          ],
          [
           "in addition, we may limit how we collect, use, and store some of the information of eu users between 13 and 16."
          ],
          [
           "in some cases, this means we will be unable to provide certain functionality to these users."
          ],
          [
           "in some cases, this means we will be unable to provide certain functionality to these users."
          ],
          [
           "if we need to rely on consent as a legal basis for processing your information and your country requires consent from a parent, we may require your parent's consent before we collect and use that information.revisions to the privacy policywe may change this privacy policy from_time_to_time ."
          ],
          [
           "if we need to rely on consent as a legal basis for processing your information and your country requires consent from a parent, we may require your parent's consent before we collect and use that information.revisions to the privacy policywe may change this privacy policy from_time_to_time ."
          ],
          [
           "if we need to rely on consent as a legal basis for processing your information and your country requires consent from a parent, we may require your parent's consent before we collect and use that information.revisions to the privacy policywe may change this privacy policy from_time_to_time ."
          ],
          [
           "sometimes, we'll let you know by revising the date at the top of the privacy policy that's available on our website and mobile application."
          ],
          [
           "other times, we may provide you with additional notice such as adding a statement to our websites' homepages or providing you with an in-app notification."
          ]
         ],
         "hovertemplate": "x=%{x}<br>y=%{y}<br>clean-text=%{customdata[0]}<extra></extra>",
         "legendgroup": "",
         "marker": {
          "color": "#636efa",
          "symbol": "circle"
         },
         "mode": "markers",
         "name": "",
         "orientation": "v",
         "showlegend": false,
         "type": "scatter",
         "x": [
          5.497376441955566,
          -20.502944946289062,
          0.4391706585884094,
          -0.7389644384384155,
          0.7847456336021423,
          -1.0340750217437744,
          -0.049442391842603683,
          -0.7078055143356323,
          -0.7078055143356323,
          6.228741645812988,
          5.812586784362793,
          4.871461391448975,
          1.7260792255401611,
          2.880906581878662,
          -10.526004791259766,
          -10.811387062072754,
          -11.532949447631836,
          2.710761070251465,
          2.4325437545776367,
          -10.229963302612305,
          -9.403514862060547,
          11.653244018554688,
          -2.171522855758667,
          -12.713984489440918,
          -13.192953109741211,
          0.1536780446767807,
          -0.33196312189102173,
          -1.1167964935302734,
          -6.972153186798096,
          0.1667851209640503,
          8.123961448669434,
          8.176304817199707,
          -1.8531546592712402,
          2.3400349617004395,
          2.3400349617004395,
          -5.431692123413086,
          -6.344165802001953,
          -5.588643550872803,
          -8.224149703979492,
          -7.051933288574219,
          -7.389725208282471,
          -9.923182487487793,
          -9.923182487487793,
          -7.729920864105225,
          -2.489539623260498,
          1.5844142436981201,
          11.463676452636719,
          11.015547752380371,
          -7.504921913146973,
          15.332395553588867,
          15.491365432739258,
          14.524609565734863,
          0.41937440633773804,
          -0.4478292763233185,
          -0.38594499230384827,
          -3.008486747741699,
          -0.17835049331188202,
          -6.141195774078369,
          -3.483003616333008,
          -4.807511806488037,
          -5.022816181182861,
          5.724497318267822,
          5.707641124725342,
          1.447066068649292,
          1.7337772846221924,
          2.38138747215271,
          0.813211977481842,
          -5.25930643081665,
          -0.6187869906425476,
          -4.6974053382873535,
          10.192693710327148,
          -2.4821529388427734,
          4.059074878692627,
          4.231215476989746,
          4.800818920135498,
          -6.048680305480957,
          -5.63805627822876,
          9.528261184692383,
          9.068561553955078,
          1.6132338047027588,
          1.4061323404312134,
          -15.134074211120605,
          -15.380514144897461,
          13.763450622558594,
          14.234244346618652,
          9.075210571289062,
          -5.958259582519531,
          -5.5552167892456055,
          -13.08961296081543,
          -12.624116897583008,
          4.467812538146973,
          14.529047966003418,
          14.139131546020508,
          -3.108152389526367,
          -3.108152389526367,
          -11.454961776733398,
          -11.6041841506958,
          -10.1942720413208,
          -10.284184455871582,
          14.33992862701416,
          4.965136528015137,
          7.166960716247559,
          -16.31698989868164,
          -4.560269832611084,
          -4.9669084548950195,
          9.887703895568848,
          -11.484088897705078,
          15.225205421447754,
          -9.655122756958008,
          8.005803108215332,
          10.035959243774414,
          -2.481595039367676,
          9.310467720031738,
          -1.7425475120544434,
          -1.654388189315796,
          -3.4519615173339844,
          2.5721595287323,
          -12.273163795471191,
          -12.565475463867188,
          -9.652739524841309,
          -11.091894149780273,
          14.680587768554688,
          4.494593143463135,
          6.68441915512085,
          -16.653879165649414,
          -5.973625183105469,
          -5.53015661239624,
          10.2734956741333,
          -10.997406005859375,
          15.018776893615723,
          -10.137393951416016,
          7.554241180419922,
          -3.3923110961914062,
          10.045625686645508,
          -3.390505075454712,
          2.9240922927856445,
          -15.578557014465332,
          -14.912431716918945,
          -14.492207527160645,
          -2.509364128112793,
          9.05875015258789,
          -14.541777610778809,
          -14.827188491821289,
          -19.36847496032715,
          -19.61302947998047,
          -19.30607795715332,
          -19.30607795715332,
          9.796468734741211,
          10.273139953613281,
          6.332005500793457,
          6.304388999938965,
          7.183603763580322,
          -4.362869739532471,
          5.228606224060059
         ],
         "xaxis": "x",
         "y": [
          -7.304294586181641,
          5.739462375640869,
          -13.449162483215332,
          -13.588497161865234,
          -14.573925971984863,
          -14.717877388000488,
          -15.391284942626953,
          -8.927628517150879,
          -8.927628517150879,
          -3.4499645233154297,
          -3.3509960174560547,
          -4.775145530700684,
          4.638681888580322,
          5.691445827484131,
          -17.36493682861328,
          -18.352712631225586,
          -17.605121612548828,
          -2.8497133255004883,
          -1.3210159540176392,
          9.52574348449707,
          9.344473838806152,
          8.12613582611084,
          -4.515851974487305,
          5.921600818634033,
          5.910349369049072,
          18.006961822509766,
          18.090288162231445,
          -3.7727324962615967,
          5.525390148162842,
          19.866863250732422,
          -18.846363067626953,
          -18.360599517822266,
          13.871140480041504,
          13.039412498474121,
          13.039412498474121,
          0.9423867464065552,
          1.321651816368103,
          1.9178978204727173,
          5.6788129806518555,
          12.669416427612305,
          13.014582633972168,
          2.6326475143432617,
          2.6326475143432617,
          8.872542381286621,
          8.889906883239746,
          0.04187836870551109,
          11.930471420288086,
          12.100239753723145,
          -1.4208904504776,
          -3.9354851245880127,
          -2.9255259037017822,
          -3.302989959716797,
          1.722752571105957,
          2.0554258823394775,
          1.1334614753723145,
          2.517212152481079,
          10.642725944519043,
          5.1867170333862305,
          13.441060066223145,
          8.35277271270752,
          8.744197845458984,
          6.190279483795166,
          5.713353157043457,
          7.766073703765869,
          9.26436996459961,
          8.392510414123535,
          8.613595962524414,
          15.72401237487793,
          -1.2404085397720337,
          14.254143714904785,
          -5.18562126159668,
          -7.744363307952881,
          2.1293718814849854,
          1.711195945739746,
          -14.70212173461914,
          -15.477182388305664,
          -15.728960037231445,
          5.0801849365234375,
          4.986605167388916,
          -6.155404090881348,
          -5.744565486907959,
          1.5218117237091064,
          1.9320812225341797,
          1.1174010038375854,
          1.221011757850647,
          7.447412490844727,
          -10.12153148651123,
          -9.87081527709961,
          16.751028060913086,
          16.90724754333496,
          -14.271598815917969,
          -9.221480369567871,
          -9.5123929977417,
          -1.696187138557434,
          -1.696187138557434,
          -1.5651494264602661,
          -4.8229522705078125,
          -2.039998769760132,
          -4.526306629180908,
          -16.079469680786133,
          -9.449338912963867,
          15.529731750488281,
          -10.794171333312988,
          -4.827162265777588,
          -5.847293376922607,
          -1.5187175273895264,
          -12.396808624267578,
          6.376683235168457,
          -8.732402801513672,
          1.7092735767364502,
          3.1651103496551514,
          -20.809783935546875,
          -13.108019828796387,
          5.638486385345459,
          5.189438343048096,
          10.107170104980469,
          -20.40390396118164,
          -3.6611857414245605,
          -2.34126877784729,
          -3.33756422996521,
          -3.1564512252807617,
          -15.727234840393066,
          -9.335875511169434,
          15.617055892944336,
          -10.416789054870605,
          -5.371153831481934,
          -4.329490661621094,
          -1.2418476343154907,
          -12.504145622253418,
          5.922170162200928,
          -8.775047302246094,
          1.523459553718567,
          -20.317012786865234,
          -12.396143913269043,
          5.290425777435303,
          -20.042449951171875,
          -4.857668399810791,
          -3.955779790878296,
          -5.137730121612549,
          -19.774120330810547,
          -12.108454704284668,
          11.542223930358887,
          11.125683784484863,
          8.288069725036621,
          7.6392598152160645,
          -0.9771649837493896,
          -0.9771649837493896,
          -7.187726974487305,
          -7.198690891265869,
          9.912568092346191,
          10.915308952331543,
          10.433267593383789,
          -11.867483139038086,
          -1.6674467325210571
         ],
         "yaxis": "y"
        }
       ],
       "layout": {
        "legend": {
         "tracegroupgap": 0
        },
        "template": {
         "data": {
          "bar": [
           {
            "error_x": {
             "color": "#2a3f5f"
            },
            "error_y": {
             "color": "#2a3f5f"
            },
            "marker": {
             "line": {
              "color": "#E5ECF6",
              "width": 0.5
             }
            },
            "type": "bar"
           }
          ],
          "barpolar": [
           {
            "marker": {
             "line": {
              "color": "#E5ECF6",
              "width": 0.5
             }
            },
            "type": "barpolar"
           }
          ],
          "carpet": [
           {
            "aaxis": {
             "endlinecolor": "#2a3f5f",
             "gridcolor": "white",
             "linecolor": "white",
             "minorgridcolor": "white",
             "startlinecolor": "#2a3f5f"
            },
            "baxis": {
             "endlinecolor": "#2a3f5f",
             "gridcolor": "white",
             "linecolor": "white",
             "minorgridcolor": "white",
             "startlinecolor": "#2a3f5f"
            },
            "type": "carpet"
           }
          ],
          "choropleth": [
           {
            "colorbar": {
             "outlinewidth": 0,
             "ticks": ""
            },
            "type": "choropleth"
           }
          ],
          "contour": [
           {
            "colorbar": {
             "outlinewidth": 0,
             "ticks": ""
            },
            "colorscale": [
             [
              0,
              "#0d0887"
             ],
             [
              0.1111111111111111,
              "#46039f"
             ],
             [
              0.2222222222222222,
              "#7201a8"
             ],
             [
              0.3333333333333333,
              "#9c179e"
             ],
             [
              0.4444444444444444,
              "#bd3786"
             ],
             [
              0.5555555555555556,
              "#d8576b"
             ],
             [
              0.6666666666666666,
              "#ed7953"
             ],
             [
              0.7777777777777778,
              "#fb9f3a"
             ],
             [
              0.8888888888888888,
              "#fdca26"
             ],
             [
              1,
              "#f0f921"
             ]
            ],
            "type": "contour"
           }
          ],
          "contourcarpet": [
           {
            "colorbar": {
             "outlinewidth": 0,
             "ticks": ""
            },
            "type": "contourcarpet"
           }
          ],
          "heatmap": [
           {
            "colorbar": {
             "outlinewidth": 0,
             "ticks": ""
            },
            "colorscale": [
             [
              0,
              "#0d0887"
             ],
             [
              0.1111111111111111,
              "#46039f"
             ],
             [
              0.2222222222222222,
              "#7201a8"
             ],
             [
              0.3333333333333333,
              "#9c179e"
             ],
             [
              0.4444444444444444,
              "#bd3786"
             ],
             [
              0.5555555555555556,
              "#d8576b"
             ],
             [
              0.6666666666666666,
              "#ed7953"
             ],
             [
              0.7777777777777778,
              "#fb9f3a"
             ],
             [
              0.8888888888888888,
              "#fdca26"
             ],
             [
              1,
              "#f0f921"
             ]
            ],
            "type": "heatmap"
           }
          ],
          "heatmapgl": [
           {
            "colorbar": {
             "outlinewidth": 0,
             "ticks": ""
            },
            "colorscale": [
             [
              0,
              "#0d0887"
             ],
             [
              0.1111111111111111,
              "#46039f"
             ],
             [
              0.2222222222222222,
              "#7201a8"
             ],
             [
              0.3333333333333333,
              "#9c179e"
             ],
             [
              0.4444444444444444,
              "#bd3786"
             ],
             [
              0.5555555555555556,
              "#d8576b"
             ],
             [
              0.6666666666666666,
              "#ed7953"
             ],
             [
              0.7777777777777778,
              "#fb9f3a"
             ],
             [
              0.8888888888888888,
              "#fdca26"
             ],
             [
              1,
              "#f0f921"
             ]
            ],
            "type": "heatmapgl"
           }
          ],
          "histogram": [
           {
            "marker": {
             "colorbar": {
              "outlinewidth": 0,
              "ticks": ""
             }
            },
            "type": "histogram"
           }
          ],
          "histogram2d": [
           {
            "colorbar": {
             "outlinewidth": 0,
             "ticks": ""
            },
            "colorscale": [
             [
              0,
              "#0d0887"
             ],
             [
              0.1111111111111111,
              "#46039f"
             ],
             [
              0.2222222222222222,
              "#7201a8"
             ],
             [
              0.3333333333333333,
              "#9c179e"
             ],
             [
              0.4444444444444444,
              "#bd3786"
             ],
             [
              0.5555555555555556,
              "#d8576b"
             ],
             [
              0.6666666666666666,
              "#ed7953"
             ],
             [
              0.7777777777777778,
              "#fb9f3a"
             ],
             [
              0.8888888888888888,
              "#fdca26"
             ],
             [
              1,
              "#f0f921"
             ]
            ],
            "type": "histogram2d"
           }
          ],
          "histogram2dcontour": [
           {
            "colorbar": {
             "outlinewidth": 0,
             "ticks": ""
            },
            "colorscale": [
             [
              0,
              "#0d0887"
             ],
             [
              0.1111111111111111,
              "#46039f"
             ],
             [
              0.2222222222222222,
              "#7201a8"
             ],
             [
              0.3333333333333333,
              "#9c179e"
             ],
             [
              0.4444444444444444,
              "#bd3786"
             ],
             [
              0.5555555555555556,
              "#d8576b"
             ],
             [
              0.6666666666666666,
              "#ed7953"
             ],
             [
              0.7777777777777778,
              "#fb9f3a"
             ],
             [
              0.8888888888888888,
              "#fdca26"
             ],
             [
              1,
              "#f0f921"
             ]
            ],
            "type": "histogram2dcontour"
           }
          ],
          "mesh3d": [
           {
            "colorbar": {
             "outlinewidth": 0,
             "ticks": ""
            },
            "type": "mesh3d"
           }
          ],
          "parcoords": [
           {
            "line": {
             "colorbar": {
              "outlinewidth": 0,
              "ticks": ""
             }
            },
            "type": "parcoords"
           }
          ],
          "pie": [
           {
            "automargin": true,
            "type": "pie"
           }
          ],
          "scatter": [
           {
            "marker": {
             "colorbar": {
              "outlinewidth": 0,
              "ticks": ""
             }
            },
            "type": "scatter"
           }
          ],
          "scatter3d": [
           {
            "line": {
             "colorbar": {
              "outlinewidth": 0,
              "ticks": ""
             }
            },
            "marker": {
             "colorbar": {
              "outlinewidth": 0,
              "ticks": ""
             }
            },
            "type": "scatter3d"
           }
          ],
          "scattercarpet": [
           {
            "marker": {
             "colorbar": {
              "outlinewidth": 0,
              "ticks": ""
             }
            },
            "type": "scattercarpet"
           }
          ],
          "scattergeo": [
           {
            "marker": {
             "colorbar": {
              "outlinewidth": 0,
              "ticks": ""
             }
            },
            "type": "scattergeo"
           }
          ],
          "scattergl": [
           {
            "marker": {
             "colorbar": {
              "outlinewidth": 0,
              "ticks": ""
             }
            },
            "type": "scattergl"
           }
          ],
          "scattermapbox": [
           {
            "marker": {
             "colorbar": {
              "outlinewidth": 0,
              "ticks": ""
             }
            },
            "type": "scattermapbox"
           }
          ],
          "scatterpolar": [
           {
            "marker": {
             "colorbar": {
              "outlinewidth": 0,
              "ticks": ""
             }
            },
            "type": "scatterpolar"
           }
          ],
          "scatterpolargl": [
           {
            "marker": {
             "colorbar": {
              "outlinewidth": 0,
              "ticks": ""
             }
            },
            "type": "scatterpolargl"
           }
          ],
          "scatterternary": [
           {
            "marker": {
             "colorbar": {
              "outlinewidth": 0,
              "ticks": ""
             }
            },
            "type": "scatterternary"
           }
          ],
          "surface": [
           {
            "colorbar": {
             "outlinewidth": 0,
             "ticks": ""
            },
            "colorscale": [
             [
              0,
              "#0d0887"
             ],
             [
              0.1111111111111111,
              "#46039f"
             ],
             [
              0.2222222222222222,
              "#7201a8"
             ],
             [
              0.3333333333333333,
              "#9c179e"
             ],
             [
              0.4444444444444444,
              "#bd3786"
             ],
             [
              0.5555555555555556,
              "#d8576b"
             ],
             [
              0.6666666666666666,
              "#ed7953"
             ],
             [
              0.7777777777777778,
              "#fb9f3a"
             ],
             [
              0.8888888888888888,
              "#fdca26"
             ],
             [
              1,
              "#f0f921"
             ]
            ],
            "type": "surface"
           }
          ],
          "table": [
           {
            "cells": {
             "fill": {
              "color": "#EBF0F8"
             },
             "line": {
              "color": "white"
             }
            },
            "header": {
             "fill": {
              "color": "#C8D4E3"
             },
             "line": {
              "color": "white"
             }
            },
            "type": "table"
           }
          ]
         },
         "layout": {
          "annotationdefaults": {
           "arrowcolor": "#2a3f5f",
           "arrowhead": 0,
           "arrowwidth": 1
          },
          "autotypenumbers": "strict",
          "coloraxis": {
           "colorbar": {
            "outlinewidth": 0,
            "ticks": ""
           }
          },
          "colorscale": {
           "diverging": [
            [
             0,
             "#8e0152"
            ],
            [
             0.1,
             "#c51b7d"
            ],
            [
             0.2,
             "#de77ae"
            ],
            [
             0.3,
             "#f1b6da"
            ],
            [
             0.4,
             "#fde0ef"
            ],
            [
             0.5,
             "#f7f7f7"
            ],
            [
             0.6,
             "#e6f5d0"
            ],
            [
             0.7,
             "#b8e186"
            ],
            [
             0.8,
             "#7fbc41"
            ],
            [
             0.9,
             "#4d9221"
            ],
            [
             1,
             "#276419"
            ]
           ],
           "sequential": [
            [
             0,
             "#0d0887"
            ],
            [
             0.1111111111111111,
             "#46039f"
            ],
            [
             0.2222222222222222,
             "#7201a8"
            ],
            [
             0.3333333333333333,
             "#9c179e"
            ],
            [
             0.4444444444444444,
             "#bd3786"
            ],
            [
             0.5555555555555556,
             "#d8576b"
            ],
            [
             0.6666666666666666,
             "#ed7953"
            ],
            [
             0.7777777777777778,
             "#fb9f3a"
            ],
            [
             0.8888888888888888,
             "#fdca26"
            ],
            [
             1,
             "#f0f921"
            ]
           ],
           "sequentialminus": [
            [
             0,
             "#0d0887"
            ],
            [
             0.1111111111111111,
             "#46039f"
            ],
            [
             0.2222222222222222,
             "#7201a8"
            ],
            [
             0.3333333333333333,
             "#9c179e"
            ],
            [
             0.4444444444444444,
             "#bd3786"
            ],
            [
             0.5555555555555556,
             "#d8576b"
            ],
            [
             0.6666666666666666,
             "#ed7953"
            ],
            [
             0.7777777777777778,
             "#fb9f3a"
            ],
            [
             0.8888888888888888,
             "#fdca26"
            ],
            [
             1,
             "#f0f921"
            ]
           ]
          },
          "colorway": [
           "#636efa",
           "#EF553B",
           "#00cc96",
           "#ab63fa",
           "#FFA15A",
           "#19d3f3",
           "#FF6692",
           "#B6E880",
           "#FF97FF",
           "#FECB52"
          ],
          "font": {
           "color": "#2a3f5f"
          },
          "geo": {
           "bgcolor": "white",
           "lakecolor": "white",
           "landcolor": "#E5ECF6",
           "showlakes": true,
           "showland": true,
           "subunitcolor": "white"
          },
          "hoverlabel": {
           "align": "left"
          },
          "hovermode": "closest",
          "mapbox": {
           "style": "light"
          },
          "paper_bgcolor": "white",
          "plot_bgcolor": "#E5ECF6",
          "polar": {
           "angularaxis": {
            "gridcolor": "white",
            "linecolor": "white",
            "ticks": ""
           },
           "bgcolor": "#E5ECF6",
           "radialaxis": {
            "gridcolor": "white",
            "linecolor": "white",
            "ticks": ""
           }
          },
          "scene": {
           "xaxis": {
            "backgroundcolor": "#E5ECF6",
            "gridcolor": "white",
            "gridwidth": 2,
            "linecolor": "white",
            "showbackground": true,
            "ticks": "",
            "zerolinecolor": "white"
           },
           "yaxis": {
            "backgroundcolor": "#E5ECF6",
            "gridcolor": "white",
            "gridwidth": 2,
            "linecolor": "white",
            "showbackground": true,
            "ticks": "",
            "zerolinecolor": "white"
           },
           "zaxis": {
            "backgroundcolor": "#E5ECF6",
            "gridcolor": "white",
            "gridwidth": 2,
            "linecolor": "white",
            "showbackground": true,
            "ticks": "",
            "zerolinecolor": "white"
           }
          },
          "shapedefaults": {
           "line": {
            "color": "#2a3f5f"
           }
          },
          "ternary": {
           "aaxis": {
            "gridcolor": "white",
            "linecolor": "white",
            "ticks": ""
           },
           "baxis": {
            "gridcolor": "white",
            "linecolor": "white",
            "ticks": ""
           },
           "bgcolor": "#E5ECF6",
           "caxis": {
            "gridcolor": "white",
            "linecolor": "white",
            "ticks": ""
           }
          },
          "title": {
           "x": 0.05
          },
          "xaxis": {
           "automargin": true,
           "gridcolor": "white",
           "linecolor": "white",
           "ticks": "",
           "title": {
            "standoff": 15
           },
           "zerolinecolor": "white",
           "zerolinewidth": 2
          },
          "yaxis": {
           "automargin": true,
           "gridcolor": "white",
           "linecolor": "white",
           "ticks": "",
           "title": {
            "standoff": 15
           },
           "zerolinecolor": "white",
           "zerolinewidth": 2
          }
         }
        },
        "title": {
         "text": "TF-IDF"
        },
        "xaxis": {
         "anchor": "y",
         "domain": [
          0,
          1
         ],
         "title": {
          "text": "x"
         }
        },
        "yaxis": {
         "anchor": "x",
         "domain": [
          0,
          1
         ],
         "title": {
          "text": "y"
         }
        }
       }
      },
      "text/html": [
       "<div>                            <div id=\"bd9619d6-6303-4da4-93f7-09934c476c65\" class=\"plotly-graph-div\" style=\"height:525px; width:100%;\"></div>            <script type=\"text/javascript\">                require([\"plotly\"], function(Plotly) {                    window.PLOTLYENV=window.PLOTLYENV || {};                                    if (document.getElementById(\"bd9619d6-6303-4da4-93f7-09934c476c65\")) {                    Plotly.newPlot(                        \"bd9619d6-6303-4da4-93f7-09934c476c65\",                        [{\"customdata\": [[\"you use these services, you'll share some information with us.\"], [\"and it's why we've tried to write it in a way that's blissfully free of the legalese that often clouds these documents.\"], [\"of course, if you still have questions about anything in our privacy policy, just contact us.you should read our entire privacy policy, but when you only have a few minutes or want to remember something later on, you can always take a look at this summary--so you can review some of the basics in just a few minutes.information\"], [\"of course, if you still have questions about anything in our privacy policy, just contact us.you should read our entire privacy policy, but when you only have a few minutes or want to remember something later on, you can always take a look at this summary--so you can review some of the basics in just a few minutes.information\"], [\"of course, if you still have questions about anything in our privacy policy, just contact us.you should read our entire privacy policy, but when you only have a few minutes or want to remember something later on, you can always take a look at this summary--so you can review some of the basics in just a few minutes.information\"], [\"of course, if you still have questions about anything in our privacy policy, just contact us.you should read our entire privacy policy, but when you only have a few minutes or want to remember something later on, you can always take a look at this summary--so you can review some of the basics in just a few minutes.information\"], [\"of course, if you still have questions about anything in our privacy policy, just contact us.you should read our entire privacy policy, but when you only have a few minutes or want to remember something later on, you can always take a look at this summary--so you can review some of the basics in just a few minutes.information\"], [\"for example, most of our services require you to set up a snapchat account, so we need to collect a few important details about you, such as your name, username, password, email address, phone number, and date of birth.\"], [\"for example, most of our services require you to set up a snapchat account, so we need to collect a few important details about you, such as your name, username, password, email address, phone number, and date of birth.\"], [\"we may also ask you to provide us with some additional information that will be publicly visible on our services, such as a profile picture or bitmoji avatar.\"], [\"we may also ask you to provide us with some additional information that will be publicly visible on our services, such as a profile picture or bitmoji avatar.\"], [\"other services, such as commerce products, may require you to provide us with a debit or credit card number and its associated account information.of course, you'll also provide us whatever information you send through our services, such as snaps and chats.\"], [\"keep in mind that the users who view your snaps, chats, and any other content can always save that content or copy it outside the app.\"], [\"so, the same common sense that applies to the internet at large applies to snapchat as well: don't send messages or share content that you wouldn't want someone to save or share.when\"], [\"we might know, for instance, that you watched a particular story, saw a specific ad for a certain period of time, and sent a few snaps.\"], [\"we might know, for instance, that you watched a particular story, saw a specific ad for a certain period of time, and sent a few snaps.\"], [\"we might know, for instance, that you watched a particular story, saw a specific ad for a certain period of time, and sent a few snaps.\"], [\"for example, we may collect information about:how you interact with our services, such as which filters you view or apply to snaps, which stories you watch on discover, whether you're using spectacles, or which search queries you\"], [\"submit.how you communicate with other snapchatters, such as their names, the time and date of your communications, the number of messages you exchange with your friends, which friends you exchange messages with the most, and your interactions with messages such as when you open a message or capture a screenshot.content information.\"], [\"because snapchat is all about communicating with friends, we may--with your permission--collect information from your device's phonebook.camera and photos.\"], [\"many of our services require us to collect images and other information from your device's camera and photos.\"], [\"for example, you won't be able to send snaps or upload photos from your camera roll unless we can access your camera or photos.location information.\"], [\"when you use our services we may collect information about your location.\"], [\"with your permission, we may also collect information about your precise location using methods that include gps, wireless networks, cell towers, wi-fi access points, and other sensors, such as gyroscopes, accelerometers, and compasses.information collected by cookies and other technologies.\"], [\"with your permission, we may also collect information about your precise location using methods that include gps, wireless networks, cell towers, wi-fi access points, and other sensors, such as gyroscopes, accelerometers, and compasses.information collected by cookies and other technologies.\"], [\"like most online services and mobile applications, we may use cookies and other technologies, such as web beacons, web storage, and unique advertising identifiers, to collect information about your activity, browser, and device.\"], [\"like most online services and mobile applications, we may use cookies and other technologies, such as web beacons, web storage, and unique advertising identifiers, to collect information about your activity, browser, and device.\"], [\"we may also use these technologies to collect information when you interact with services we offer through one of our partners, such as advertising and commerce features.\"], [\"for example, we may use information collected on other websites to show you more relevant ads.\"], [\"most web browsers are set to accept cookies by default.\"], [\"if you prefer, you can usually remove or reject browser cookies through the settings on your browser or device.\"], [\"if you prefer, you can usually remove or reject browser cookies through the settings on your browser or device.\"], [\"keep in mind, though, that removing or rejecting cookies could affect the availability and functionality of our services.\"], [\"viewed;ip address;identifiers associated with cookies or other technologies that may uniquely identify your device or browser; andpages you visited before or after navigating to our website.information we collect from third partieswe may collect information about you from other users, our affiliates, and third parties.\"], [\"viewed;ip address;identifiers associated with cookies or other technologies that may uniquely identify your device or browser; andpages you visited before or after navigating to our website.information we collect from third partieswe may collect information about you from other users, our affiliates, and third parties.\"], [\"here are a few examples:if you link your snapchat account to another service like bitmoji or a third-party app, we may receive information from the other service, like how you use that service.advertisers, app developers, publishers, and other third parties may share information with us as well.\"], [\"here are a few examples:if you link your snapchat account to another service like bitmoji or a third-party app, we may receive information from the other service, like how you use that service.advertisers, app developers, publishers, and other third parties may share information with us as well.\"], [\"here are a few examples:if you link your snapchat account to another service like bitmoji or a third-party app, we may receive information from the other service, like how you use that service.advertisers, app developers, publishers, and other third parties may share information with us as well.\"], [\"we may use this information, among other ways, to help target or measure the performance of ads.\"], [\"you can learn more about our use of this kind of third-party data in our support center.if another user uploads their contact list, we may combine information from that user's contact list with other information we have collected about you.how\"], [\"you can learn more about our use of this kind of third-party data in our support center.if another user uploads their contact list, we may combine information from that user's contact list with other information we have collected about you.how\"], [\"for example, we may use email to respond to support inquiries or to share information about our products, services, and promotional offers that we think may interest you.monitor and analyze trends and usage.personalize our services by, among_other_things , suggesting friends, profile information, or bitmoji stickers, or customizing the content we show you, including ads.contextualize your experience by, among_other_things , tagging your memories content using your precise location information\"], [\"for example, we may use email to respond to support inquiries or to share information about our products, services, and promotional offers that we think may interest you.monitor and analyze trends and usage.personalize our services by, among_other_things , suggesting friends, profile information, or bitmoji stickers, or customizing the content we show you, including ads.contextualize your experience by, among_other_things , tagging your memories content using your precise location information\"], [\"see the control over your information section below for more information about snap inc.'s advertising practices and your choices.enhance the safety and security of our products and services.verify your identity and prevent fraud or other unauthorized or illegal activity.use information we've collected from cookies and other technology to enhance our services and your experience with them.enforce our terms of service and other usage policies and comply with legal requirements.we may also use information from apple's truedepth camera to improve the quality of lenses.\"], [\"information from the truedepth camera is used in real time--we don't store this information on our servers or share it with third parties.how we share informationwe may share information about you in the following ways:with other snapchatters.\"], [\"we may share the following information with other snapchatters:information about you, such as your username, name, and bitmoji.information about how you have interacted with our services, such as your snapchat \\\"score,\\\" the names of snapchatters you are friends with, and other information that will help snapchatters understand your connections with others using our services.\"], [\"for example, because it may not be clear whether a new friend request comes from someone you actually know, we may share whether you and the requestor have snapchat friends in common.any additional information you have directed us to share.\"], [\"for example, because it may not be clear whether a new friend request comes from someone you actually know, we may share whether you and the requestor have snapchat friends in common.any additional information you have directed us to share.\"], [\"how widely your content is shared depends on your personal settings and the type of service you are using.\"], [\"for example, a snap may be sent to just a single friend you select, but your my story content may be seen by any snapchatter whom you allow to see your my story.with all snapchatters, our business partners, and the general public.\"], [\"for example, a snap may be sent to just a single friend you select, but your my story content may be seen by any snapchatter whom you allow to see your my story.with all snapchatters, our business partners, and the general public.\"], [\"for example, a snap may be sent to just a single friend you select, but your my story content may be seen by any snapchatter whom you allow to see your my story.with all snapchatters, our business partners, and the general public.\"], [\"we may share the following information with all snapchatters as well as with our business partners and the general public:public information like your name, username, snapcode and profile pictures.story submissions that are set to be viewable by everyone and any content that you submit to an inherently public service, like our story and other crowd-sourced services.\"], [\"we may share the following information with all snapchatters as well as with our business partners and the general public:public information like your name, username, snapcode and profile pictures.story submissions that are set to be viewable by everyone and any content that you submit to an inherently public service, like our story and other crowd-sourced services.\"], [\"we may share the following information with all snapchatters as well as with our business partners and the general public:public information like your name, username, snapcode and profile pictures.story submissions that are set to be viewable by everyone and any content that you submit to an inherently public service, like our story and other crowd-sourced services.\"], [\"this content may be viewed and shared by the public at large both on and off our services, including through search results, on websites, in apps, and in online and offline broadcasts.with our affiliates.\"], [\"we may share information with entities within the snap inc. family of companies.with third parties.\"], [\"we may share information about you with service providers who perform services on our behalf, including to measure and optimize the performance of ads and deliver more relevant ads, including on third-party websites and apps.\"], [\"learn more here.we may share information about you with business partners that provide services and functionality on our services.\"], [\"for more information about information collected by third parties on our services, visit our support site.we may share information about you, such as device and usage information, to help us and others prevent fraud.we may share information about you for legal, safety, and security reasons.\"], [\"for more information about information collected by third parties on our services, visit our support site.we may share information about you, such as device and usage information, to help us and others prevent fraud.we may share information about you for legal, safety, and security reasons.\"], [\"we may share information about you if we reasonably believe that disclosing the information is needed to:comply with any valid legal process, governmental request, or applicable law, rule, or regulation.investigate, remedy, or enforce potential terms of service violations.protect the rights, property, or safety of us, our users, or others.detect and resolve any fraud or security concerns.we may share information about you as part of a merger or acquisition.\"], [\"we may share information about you if we reasonably believe that disclosing the information is needed to:comply with any valid legal process, governmental request, or applicable law, rule, or regulation.investigate, remedy, or enforce potential terms of service violations.protect the rights, property, or safety of us, our users, or others.detect and resolve any fraud or security concerns.we may share information about you as part of a merger or acquisition.\"], [\"if snap inc. gets involved in a merger, asset sale, financing, liquidation or bankruptcy, or acquisition of all or some portion of our business to another company, we may share your information with that company before and after the transaction closes.we may also share with third parties that provide services to us or perform business purposes for us aggregated, non-personally identifiable, or de-identified information.third-party content and integrationsour services may contain third-party content and integrations.\"], [\"if snap inc. gets involved in a merger, asset sale, financing, liquidation or bankruptcy, or acquisition of all or some portion of our business to another company, we may share your information with that company before and after the transaction closes.we may also share with third parties that provide services to us or perform business purposes for us aggregated, non-personally identifiable, or de-identified information.third-party content and integrationsour services may contain third-party content and integrations.\"], [\"if snap inc. gets involved in a merger, asset sale, financing, liquidation or bankruptcy, or acquisition of all or some portion of our business to another company, we may share your information with that company before and after the transaction closes.we may also share with third parties that provide services to us or perform business purposes for us aggregated, non-personally identifiable, or de-identified information.third-party content and integrationsour services may contain third-party content and integrations.\"], [\"if snap inc. gets involved in a merger, asset sale, financing, liquidation or bankruptcy, or acquisition of all or some portion of our business to another company, we may share your information with that company before and after the transaction closes.we may also share with third parties that provide services to us or perform business purposes for us aggregated, non-personally identifiable, or de-identified information.third-party content and integrationsour services may contain third-party content and integrations.\"], [\"examples include third-party integrations in camera search, third-party games in chat, and third-party snap kit integrations.\"], [\"through these integrations, you may be providing information to the third party as well as to snap.\"], [\"you can learn more about third-party services in snapchat\"], [\"on our end, that means most messages--like snaps and chats--sent in snapchat will be automatically deleted by default from our servers after we detect they've been opened by all recipients or have expired.\"], [\"for example, if you use the map, we store information about your favorite places for up to 40 days so we can personalize and improve your experience.\"], [\"if location information is associated with a snap--like those saved to memories or posted to our story--we'll retain that location as long as we store the snap.we're constantly collecting and updating information about the things you might like and dislike, so we can provide you with more relevant content and advertisements.\"], [\"if location information is associated with a snap--like those saved to memories or posted to our story--we'll retain that location as long as we store the snap.we're constantly collecting and updating information about the things you might like and dislike, so we can provide you with more relevant content and advertisements.\"], [\"go here to learn more.if you ever decide to stop using snapchat, you can just ask us to delete your account.\"], [\"we'll also delete most of the information we've collected about you after you've been inactive for a while--but don't worry, we'll try to contact you first!keep in mind that, while our systems are designed to carry out our deletion practices automatically, we cannot promise that deletion will occur within a specific timeframe.\"], [\"we'll also delete most of the information we've collected about you after you've been inactive for a while--but don't worry, we'll try to contact you first!keep in mind that, while our systems are designed to carry out our deletion practices automatically, we cannot promise that deletion will occur within a specific timeframe.\"], [\"there may be legal requirements to store your data and we may need to suspend those deletion practices if we receive valid legal process asking us to preserve content, if we receive reports of abuse or other terms of service violations, or if your account or content created by you is flagged by our automated systems for abuse or other terms of service violations.\"], [\"there may be legal requirements to store your data and we may need to suspend those deletion practices if we receive valid legal process asking us to preserve content, if we receive reports of abuse or other terms of service violations, or if your account or content created by you is flagged by our automated systems for abuse or other terms of service violations.\"], [\"finally, we may also retain certain information in backup for a limited period of time or as required by law.control over your informationwe want you to be in control of your information, so we provide you with the following tools.access, correction, and portability.\"], [\"finally, we may also retain certain information in backup for a limited period of time or as required by law.control over your informationwe want you to be in control of your information, so we provide you with the following tools.access, correction, and portability.\"], [\"you can access and edit most of your basic account information right in our apps.\"], [\"you can access and edit most of your basic account information right in our apps.\"], [\"you can also use download my data to obtain a copy of information that isn't available in our apps in a portable format, so you can move it or store it wherever you want.\"], [\"you can also use download my data to obtain a copy of information that isn't available in our apps in a portable format, so you can move it or store it wherever you want.\"], [\"we may also reject your request to access or update your personal information for a number of reasons, including, for example, if the request risks the privacy of other users or is unlawful.revoking permissions.\"], [\"in most cases, if you let us use your information, you can simply revoke your permission by changing the settings in the app or on your device if your device offers those options.\"], [\"in most cases, if you let us use your information, you can simply revoke your permission by changing the settings in the app or on your device if your device offers those options.\"], [\"of course, if you do that, certain services may lose full functionality.deletion.\"], [\"of course, if you do that, certain services may lose full functionality.deletion.\"], [\"while we hope you'll remain a lifelong snapchatter, if for some reason you ever want to delete your account, just go here to learn how.\"], [\"you can also delete some information in the app, like photos you've saved to memories, our story submissions, and search history.advertising preferences.\"], [\"you can also delete some information in the app, like photos you've saved to memories, our story submissions, and search history.advertising preferences.\"], [\"if you would like to modify the information we and our advertising partners use to select these ads, you can do so in the app and through your device preferences.\"], [\"if you would like to modify the information we and our advertising partners use to select these ads, you can do so in the app and through your device preferences.\"], [\"here is some additional information we would like to bring to your attention:rights of access, deletion, correction, and portabilityyou can exercise your rights of access, deletion, correction, and portability as described in the control over your information section above.bases for using your informationyour country only allows us to use your personal information when certain conditions apply.\"], [\"here is some additional information we would like to bring to your attention:rights of access, deletion, correction, and portabilityyou can exercise your rights of access, deletion, correction, and portability as described in the control over your information section above.bases for using your informationyour country only allows us to use your personal information when certain conditions apply.\"], [\"here is some additional information we would like to bring to your attention:rights of access, deletion, correction, and portabilityyou can exercise your rights of access, deletion, correction, and portability as described in the control over your information section above.bases for using your informationyour country only allows us to use your personal information when certain conditions apply.\"], [\"here is some additional information we would like to bring to your attention:rights of access, deletion, correction, and portabilityyou can exercise your rights of access, deletion, correction, and portability as described in the control over your information section above.bases for using your informationyour country only allows us to use your personal information when certain conditions apply.\"], [\"these conditions are called \\\"legal bases\\\" and, at snap, we typically rely on one of four:contract.\"], [\"one reason we might use your information is because you've entered into an agreement with us.\"], [\"for example, when you buy an on-demand geofilter and accepted our custom creative tools terms, we need to use some of your information to collect payment and make sure we show your geofilter to the right people at the right place and time.legitimate interest.\"], [\"another reason we might use your information is because we have--or a third party has--a legitimate interest in doing so.\"], [\"because most of our services are free, we also use some information about you to try and show you ads\"], [\"because most of our services are free, we also use some information about you to try and show you ads\"], [\"an important point to understand about legitimate interest is that our interests don't outweigh your right to privacy, so we only rely on legitimate interest when we think the way we are using your data doesn't significantly impact your privacy or would be expected by you, or there is a compelling reason to do so.\"], [\"in some cases we'll ask for consent to use your information for specific purposes.\"], [\"if we do, we'll make sure you can revoke your consent in our services or through your device permissions.\"], [\"even if we're not relying on consent to use your information, we may ask you for permission to access data like contacts and location.legal obligation.\"], [\"we may be required to use your personal information to comply with the law, like when we respond to valid legal process or need to take action to protect our users.\"], [\"our policy is to notify snapchatters when we receive legal process seeking their account information, with some exceptions.\"], [\"with many types of data, we've provided you with the ability to simply delete it if you don't want us processing it anymore.\"], [\"you can do these things in the app.\"], [\"if there are other types of information you don't agree with us processing, you can contact us.international transferswe may collect your personal information from, transfer it to, and store and process it in the united states and other countries outside of where you live.\"], [\"if there are other types of information you don't agree with us processing, you can contact us.international transferswe may collect your personal information from, transfer it to, and store and process it in the united states and other countries outside of where you live.\"], [\"you can find more information on the categories of third parties we share information with here.complaints?\"], [\"if you're based in the eu, you can always file a complaint with the supervisory authority in your member state.users in brazilif\"], [\"here is some additional information we would like to bring to your attention:rights of access, deletion, correction, and portabilityyou can exercise your rights of access, deletion, correction, and portability as described in the control over your information section above.bases for using your informationyour country only allows us to use your personal information when certain conditions apply.\"], [\"here is some additional information we would like to bring to your attention:rights of access, deletion, correction, and portabilityyou can exercise your rights of access, deletion, correction, and portability as described in the control over your information section above.bases for using your informationyour country only allows us to use your personal information when certain conditions apply.\"], [\"here is some additional information we would like to bring to your attention:rights of access, deletion, correction, and portabilityyou can exercise your rights of access, deletion, correction, and portability as described in the control over your information section above.bases for using your informationyour country only allows us to use your personal information when certain conditions apply.\"], [\"here is some additional information we would like to bring to your attention:rights of access, deletion, correction, and portabilityyou can exercise your rights of access, deletion, correction, and portability as described in the control over your information section above.bases for using your informationyour country only allows us to use your personal information when certain conditions apply.\"], [\"these conditions are called \\\"legal bases\\\" and, at snap, we typically rely on one of four:contract.\"], [\"one reason we might use your information is because you've entered into an agreement with us.\"], [\"for example, when you buy an on-demand geofilter and accepted our custom creative tools terms, we need to use some of your information to collect payment and make sure we show your geofilter to the right people at the right place and time.legitimate interest.\"], [\"another reason we might use your information is because we have--or a third party has--a legitimate interest in doing so.\"], [\"because most of our services are free, we also use some information about you to try and show you ads\"], [\"because most of our services are free, we also use some information about you to try and show you ads\"], [\"an important point to understand about legitimate interest is that our interests don't outweigh your right to privacy, so we only rely on legitimate interest when we think the way we are using your data doesn't significantly impact your privacy or would be expected by you, or there is a compelling reason to do so.\"], [\"in some cases we'll ask for consent to use your information for specific purposes.\"], [\"if we do, we'll make sure you can revoke your consent in our services or through your device permissions.\"], [\"even if we're not relying on consent to use your information, we may ask you for permission to access data like contacts and location.legal obligation.\"], [\"we may be required to use your personal information to comply with the law, like when we respond to valid legal process or need to take action to protect our users.your right to objectyou have the right to object to our use of your information.\"], [\"with many types of data, we've provided you with the ability to simply delete it if you don't want us processing it anymore.\"], [\"you can do these things in the app.\"], [\"if there are other types of information you don't agree with us processing, you can contact us.complaints?\"], [\"you can always file a complaint with the national authority in your country.\"], [\"here is some additional information we would like to bring to your attention:rights of access, rectification, and cancellationyou can exercise your rights of access, rectification, and cancellation as described in the control over your information section\"], [\"here is some additional information we would like to bring to your attention:rights of access, rectification, and cancellationyou can exercise your rights of access, rectification, and cancellation as described in the control over your information section\"], [\"here is some additional information we would like to bring to your attention:rights of access, rectification, and cancellationyou can exercise your rights of access, rectification, and cancellation as described in the control over your information section\"], [\"with many types of data, we've provided you with the ability to simply delete it if you don't want us processing it anymore.\"], [\"you can do these things in the app.\"], [\"if there are other types of information you don't agree with us processing, you can contact us.california residentsif you're a california resident, you have certain privacy rights under california law, including the california consumer privacy act of 2018 \\\"ccpa\\\".\"], [\"if there are other types of information you don't agree with us processing, you can contact us.california residentsif you're a california resident, you have certain privacy rights under california law, including the california consumer privacy act of 2018 \\\"ccpa\\\".\"], [\"services are not intended for--and we don't direct them to--anyone under 13.\"], [\"and that's why we do not knowingly collect personal information from anyone under 13.\"], [\"in addition, we may limit how we collect, use, and store some of the information of eu users between 13 and 16.\"], [\"in addition, we may limit how we collect, use, and store some of the information of eu users between 13 and 16.\"], [\"in some cases, this means we will be unable to provide certain functionality to these users.\"], [\"in some cases, this means we will be unable to provide certain functionality to these users.\"], [\"if we need to rely on consent as a legal basis for processing your information and your country requires consent from a parent, we may require your parent's consent before we collect and use that information.revisions to the privacy policywe may change this privacy policy from_time_to_time .\"], [\"if we need to rely on consent as a legal basis for processing your information and your country requires consent from a parent, we may require your parent's consent before we collect and use that information.revisions to the privacy policywe may change this privacy policy from_time_to_time .\"], [\"if we need to rely on consent as a legal basis for processing your information and your country requires consent from a parent, we may require your parent's consent before we collect and use that information.revisions to the privacy policywe may change this privacy policy from_time_to_time .\"], [\"sometimes, we'll let you know by revising the date at the top of the privacy policy that's available on our website and mobile application.\"], [\"other times, we may provide you with additional notice such as adding a statement to our websites' homepages or providing you with an in-app notification.\"]], \"hovertemplate\": \"x=%{x}<br>y=%{y}<br>clean-text=%{customdata[0]}<extra></extra>\", \"legendgroup\": \"\", \"marker\": {\"color\": \"#636efa\", \"symbol\": \"circle\"}, \"mode\": \"markers\", \"name\": \"\", \"orientation\": \"v\", \"showlegend\": false, \"type\": \"scatter\", \"x\": [5.497376441955566, -20.502944946289062, 0.4391706585884094, -0.7389644384384155, 0.7847456336021423, -1.0340750217437744, -0.049442391842603683, -0.7078055143356323, -0.7078055143356323, 6.228741645812988, 5.812586784362793, 4.871461391448975, 1.7260792255401611, 2.880906581878662, -10.526004791259766, -10.811387062072754, -11.532949447631836, 2.710761070251465, 2.4325437545776367, -10.229963302612305, -9.403514862060547, 11.653244018554688, -2.171522855758667, -12.713984489440918, -13.192953109741211, 0.1536780446767807, -0.33196312189102173, -1.1167964935302734, -6.972153186798096, 0.1667851209640503, 8.123961448669434, 8.176304817199707, -1.8531546592712402, 2.3400349617004395, 2.3400349617004395, -5.431692123413086, -6.344165802001953, -5.588643550872803, -8.224149703979492, -7.051933288574219, -7.389725208282471, -9.923182487487793, -9.923182487487793, -7.729920864105225, -2.489539623260498, 1.5844142436981201, 11.463676452636719, 11.015547752380371, -7.504921913146973, 15.332395553588867, 15.491365432739258, 14.524609565734863, 0.41937440633773804, -0.4478292763233185, -0.38594499230384827, -3.008486747741699, -0.17835049331188202, -6.141195774078369, -3.483003616333008, -4.807511806488037, -5.022816181182861, 5.724497318267822, 5.707641124725342, 1.447066068649292, 1.7337772846221924, 2.38138747215271, 0.813211977481842, -5.25930643081665, -0.6187869906425476, -4.6974053382873535, 10.192693710327148, -2.4821529388427734, 4.059074878692627, 4.231215476989746, 4.800818920135498, -6.048680305480957, -5.63805627822876, 9.528261184692383, 9.068561553955078, 1.6132338047027588, 1.4061323404312134, -15.134074211120605, -15.380514144897461, 13.763450622558594, 14.234244346618652, 9.075210571289062, -5.958259582519531, -5.5552167892456055, -13.08961296081543, -12.624116897583008, 4.467812538146973, 14.529047966003418, 14.139131546020508, -3.108152389526367, -3.108152389526367, -11.454961776733398, -11.6041841506958, -10.1942720413208, -10.284184455871582, 14.33992862701416, 4.965136528015137, 7.166960716247559, -16.31698989868164, -4.560269832611084, -4.9669084548950195, 9.887703895568848, -11.484088897705078, 15.225205421447754, -9.655122756958008, 8.005803108215332, 10.035959243774414, -2.481595039367676, 9.310467720031738, -1.7425475120544434, -1.654388189315796, -3.4519615173339844, 2.5721595287323, -12.273163795471191, -12.565475463867188, -9.652739524841309, -11.091894149780273, 14.680587768554688, 4.494593143463135, 6.68441915512085, -16.653879165649414, -5.973625183105469, -5.53015661239624, 10.2734956741333, -10.997406005859375, 15.018776893615723, -10.137393951416016, 7.554241180419922, -3.3923110961914062, 10.045625686645508, -3.390505075454712, 2.9240922927856445, -15.578557014465332, -14.912431716918945, -14.492207527160645, -2.509364128112793, 9.05875015258789, -14.541777610778809, -14.827188491821289, -19.36847496032715, -19.61302947998047, -19.30607795715332, -19.30607795715332, 9.796468734741211, 10.273139953613281, 6.332005500793457, 6.304388999938965, 7.183603763580322, -4.362869739532471, 5.228606224060059], \"xaxis\": \"x\", \"y\": [-7.304294586181641, 5.739462375640869, -13.449162483215332, -13.588497161865234, -14.573925971984863, -14.717877388000488, -15.391284942626953, -8.927628517150879, -8.927628517150879, -3.4499645233154297, -3.3509960174560547, -4.775145530700684, 4.638681888580322, 5.691445827484131, -17.36493682861328, -18.352712631225586, -17.605121612548828, -2.8497133255004883, -1.3210159540176392, 9.52574348449707, 9.344473838806152, 8.12613582611084, -4.515851974487305, 5.921600818634033, 5.910349369049072, 18.006961822509766, 18.090288162231445, -3.7727324962615967, 5.525390148162842, 19.866863250732422, -18.846363067626953, -18.360599517822266, 13.871140480041504, 13.039412498474121, 13.039412498474121, 0.9423867464065552, 1.321651816368103, 1.9178978204727173, 5.6788129806518555, 12.669416427612305, 13.014582633972168, 2.6326475143432617, 2.6326475143432617, 8.872542381286621, 8.889906883239746, 0.04187836870551109, 11.930471420288086, 12.100239753723145, -1.4208904504776, -3.9354851245880127, -2.9255259037017822, -3.302989959716797, 1.722752571105957, 2.0554258823394775, 1.1334614753723145, 2.517212152481079, 10.642725944519043, 5.1867170333862305, 13.441060066223145, 8.35277271270752, 8.744197845458984, 6.190279483795166, 5.713353157043457, 7.766073703765869, 9.26436996459961, 8.392510414123535, 8.613595962524414, 15.72401237487793, -1.2404085397720337, 14.254143714904785, -5.18562126159668, -7.744363307952881, 2.1293718814849854, 1.711195945739746, -14.70212173461914, -15.477182388305664, -15.728960037231445, 5.0801849365234375, 4.986605167388916, -6.155404090881348, -5.744565486907959, 1.5218117237091064, 1.9320812225341797, 1.1174010038375854, 1.221011757850647, 7.447412490844727, -10.12153148651123, -9.87081527709961, 16.751028060913086, 16.90724754333496, -14.271598815917969, -9.221480369567871, -9.5123929977417, -1.696187138557434, -1.696187138557434, -1.5651494264602661, -4.8229522705078125, -2.039998769760132, -4.526306629180908, -16.079469680786133, -9.449338912963867, 15.529731750488281, -10.794171333312988, -4.827162265777588, -5.847293376922607, -1.5187175273895264, -12.396808624267578, 6.376683235168457, -8.732402801513672, 1.7092735767364502, 3.1651103496551514, -20.809783935546875, -13.108019828796387, 5.638486385345459, 5.189438343048096, 10.107170104980469, -20.40390396118164, -3.6611857414245605, -2.34126877784729, -3.33756422996521, -3.1564512252807617, -15.727234840393066, -9.335875511169434, 15.617055892944336, -10.416789054870605, -5.371153831481934, -4.329490661621094, -1.2418476343154907, -12.504145622253418, 5.922170162200928, -8.775047302246094, 1.523459553718567, -20.317012786865234, -12.396143913269043, 5.290425777435303, -20.042449951171875, -4.857668399810791, -3.955779790878296, -5.137730121612549, -19.774120330810547, -12.108454704284668, 11.542223930358887, 11.125683784484863, 8.288069725036621, 7.6392598152160645, -0.9771649837493896, -0.9771649837493896, -7.187726974487305, -7.198690891265869, 9.912568092346191, 10.915308952331543, 10.433267593383789, -11.867483139038086, -1.6674467325210571], \"yaxis\": \"y\"}],                        {\"legend\": {\"tracegroupgap\": 0}, \"template\": {\"data\": {\"bar\": [{\"error_x\": {\"color\": \"#2a3f5f\"}, \"error_y\": {\"color\": \"#2a3f5f\"}, \"marker\": {\"line\": {\"color\": \"#E5ECF6\", \"width\": 0.5}}, \"type\": \"bar\"}], \"barpolar\": [{\"marker\": {\"line\": {\"color\": \"#E5ECF6\", \"width\": 0.5}}, \"type\": \"barpolar\"}], \"carpet\": [{\"aaxis\": {\"endlinecolor\": \"#2a3f5f\", \"gridcolor\": \"white\", \"linecolor\": \"white\", \"minorgridcolor\": \"white\", \"startlinecolor\": \"#2a3f5f\"}, \"baxis\": {\"endlinecolor\": \"#2a3f5f\", \"gridcolor\": \"white\", \"linecolor\": \"white\", \"minorgridcolor\": \"white\", \"startlinecolor\": \"#2a3f5f\"}, \"type\": \"carpet\"}], \"choropleth\": [{\"colorbar\": {\"outlinewidth\": 0, \"ticks\": \"\"}, \"type\": \"choropleth\"}], \"contour\": [{\"colorbar\": {\"outlinewidth\": 0, \"ticks\": \"\"}, \"colorscale\": [[0.0, \"#0d0887\"], [0.1111111111111111, \"#46039f\"], [0.2222222222222222, \"#7201a8\"], [0.3333333333333333, \"#9c179e\"], [0.4444444444444444, \"#bd3786\"], [0.5555555555555556, \"#d8576b\"], [0.6666666666666666, \"#ed7953\"], [0.7777777777777778, \"#fb9f3a\"], [0.8888888888888888, \"#fdca26\"], [1.0, \"#f0f921\"]], \"type\": \"contour\"}], \"contourcarpet\": [{\"colorbar\": {\"outlinewidth\": 0, \"ticks\": \"\"}, \"type\": \"contourcarpet\"}], \"heatmap\": [{\"colorbar\": {\"outlinewidth\": 0, \"ticks\": \"\"}, \"colorscale\": [[0.0, \"#0d0887\"], [0.1111111111111111, \"#46039f\"], [0.2222222222222222, \"#7201a8\"], [0.3333333333333333, \"#9c179e\"], [0.4444444444444444, \"#bd3786\"], [0.5555555555555556, \"#d8576b\"], [0.6666666666666666, \"#ed7953\"], [0.7777777777777778, \"#fb9f3a\"], [0.8888888888888888, \"#fdca26\"], [1.0, \"#f0f921\"]], \"type\": \"heatmap\"}], \"heatmapgl\": [{\"colorbar\": {\"outlinewidth\": 0, \"ticks\": \"\"}, \"colorscale\": [[0.0, \"#0d0887\"], [0.1111111111111111, \"#46039f\"], [0.2222222222222222, \"#7201a8\"], [0.3333333333333333, \"#9c179e\"], [0.4444444444444444, \"#bd3786\"], [0.5555555555555556, \"#d8576b\"], [0.6666666666666666, \"#ed7953\"], [0.7777777777777778, \"#fb9f3a\"], [0.8888888888888888, \"#fdca26\"], [1.0, \"#f0f921\"]], \"type\": \"heatmapgl\"}], \"histogram\": [{\"marker\": {\"colorbar\": {\"outlinewidth\": 0, \"ticks\": \"\"}}, \"type\": \"histogram\"}], \"histogram2d\": [{\"colorbar\": {\"outlinewidth\": 0, \"ticks\": \"\"}, \"colorscale\": [[0.0, \"#0d0887\"], [0.1111111111111111, \"#46039f\"], [0.2222222222222222, \"#7201a8\"], [0.3333333333333333, \"#9c179e\"], [0.4444444444444444, \"#bd3786\"], [0.5555555555555556, \"#d8576b\"], [0.6666666666666666, \"#ed7953\"], [0.7777777777777778, \"#fb9f3a\"], [0.8888888888888888, \"#fdca26\"], [1.0, \"#f0f921\"]], \"type\": \"histogram2d\"}], \"histogram2dcontour\": [{\"colorbar\": {\"outlinewidth\": 0, \"ticks\": \"\"}, \"colorscale\": [[0.0, \"#0d0887\"], [0.1111111111111111, \"#46039f\"], [0.2222222222222222, \"#7201a8\"], [0.3333333333333333, \"#9c179e\"], [0.4444444444444444, \"#bd3786\"], [0.5555555555555556, \"#d8576b\"], [0.6666666666666666, \"#ed7953\"], [0.7777777777777778, \"#fb9f3a\"], [0.8888888888888888, \"#fdca26\"], [1.0, \"#f0f921\"]], \"type\": \"histogram2dcontour\"}], \"mesh3d\": [{\"colorbar\": {\"outlinewidth\": 0, \"ticks\": \"\"}, \"type\": \"mesh3d\"}], \"parcoords\": [{\"line\": {\"colorbar\": {\"outlinewidth\": 0, \"ticks\": \"\"}}, \"type\": \"parcoords\"}], \"pie\": [{\"automargin\": true, \"type\": \"pie\"}], \"scatter\": [{\"marker\": {\"colorbar\": {\"outlinewidth\": 0, \"ticks\": \"\"}}, \"type\": \"scatter\"}], \"scatter3d\": [{\"line\": {\"colorbar\": {\"outlinewidth\": 0, \"ticks\": \"\"}}, \"marker\": {\"colorbar\": {\"outlinewidth\": 0, \"ticks\": \"\"}}, \"type\": \"scatter3d\"}], \"scattercarpet\": [{\"marker\": {\"colorbar\": {\"outlinewidth\": 0, \"ticks\": \"\"}}, \"type\": \"scattercarpet\"}], \"scattergeo\": [{\"marker\": {\"colorbar\": {\"outlinewidth\": 0, \"ticks\": \"\"}}, \"type\": \"scattergeo\"}], \"scattergl\": [{\"marker\": {\"colorbar\": {\"outlinewidth\": 0, \"ticks\": \"\"}}, \"type\": \"scattergl\"}], \"scattermapbox\": [{\"marker\": {\"colorbar\": {\"outlinewidth\": 0, \"ticks\": \"\"}}, \"type\": \"scattermapbox\"}], \"scatterpolar\": [{\"marker\": {\"colorbar\": {\"outlinewidth\": 0, \"ticks\": \"\"}}, \"type\": \"scatterpolar\"}], \"scatterpolargl\": [{\"marker\": {\"colorbar\": {\"outlinewidth\": 0, \"ticks\": \"\"}}, \"type\": \"scatterpolargl\"}], \"scatterternary\": [{\"marker\": {\"colorbar\": {\"outlinewidth\": 0, \"ticks\": \"\"}}, \"type\": \"scatterternary\"}], \"surface\": [{\"colorbar\": {\"outlinewidth\": 0, \"ticks\": \"\"}, \"colorscale\": [[0.0, \"#0d0887\"], [0.1111111111111111, \"#46039f\"], [0.2222222222222222, \"#7201a8\"], [0.3333333333333333, \"#9c179e\"], [0.4444444444444444, \"#bd3786\"], [0.5555555555555556, \"#d8576b\"], [0.6666666666666666, \"#ed7953\"], [0.7777777777777778, \"#fb9f3a\"], [0.8888888888888888, \"#fdca26\"], [1.0, \"#f0f921\"]], \"type\": \"surface\"}], \"table\": [{\"cells\": {\"fill\": {\"color\": \"#EBF0F8\"}, \"line\": {\"color\": \"white\"}}, \"header\": {\"fill\": {\"color\": \"#C8D4E3\"}, \"line\": {\"color\": \"white\"}}, \"type\": \"table\"}]}, \"layout\": {\"annotationdefaults\": {\"arrowcolor\": \"#2a3f5f\", \"arrowhead\": 0, \"arrowwidth\": 1}, \"autotypenumbers\": \"strict\", \"coloraxis\": {\"colorbar\": {\"outlinewidth\": 0, \"ticks\": \"\"}}, \"colorscale\": {\"diverging\": [[0, \"#8e0152\"], [0.1, \"#c51b7d\"], [0.2, \"#de77ae\"], [0.3, \"#f1b6da\"], [0.4, \"#fde0ef\"], [0.5, \"#f7f7f7\"], [0.6, \"#e6f5d0\"], [0.7, \"#b8e186\"], [0.8, \"#7fbc41\"], [0.9, \"#4d9221\"], [1, \"#276419\"]], \"sequential\": [[0.0, \"#0d0887\"], [0.1111111111111111, \"#46039f\"], [0.2222222222222222, \"#7201a8\"], [0.3333333333333333, \"#9c179e\"], [0.4444444444444444, \"#bd3786\"], [0.5555555555555556, \"#d8576b\"], [0.6666666666666666, \"#ed7953\"], [0.7777777777777778, \"#fb9f3a\"], [0.8888888888888888, \"#fdca26\"], [1.0, \"#f0f921\"]], \"sequentialminus\": [[0.0, \"#0d0887\"], [0.1111111111111111, \"#46039f\"], [0.2222222222222222, \"#7201a8\"], [0.3333333333333333, \"#9c179e\"], [0.4444444444444444, \"#bd3786\"], [0.5555555555555556, \"#d8576b\"], [0.6666666666666666, \"#ed7953\"], [0.7777777777777778, \"#fb9f3a\"], [0.8888888888888888, \"#fdca26\"], [1.0, \"#f0f921\"]]}, \"colorway\": [\"#636efa\", \"#EF553B\", \"#00cc96\", \"#ab63fa\", \"#FFA15A\", \"#19d3f3\", \"#FF6692\", \"#B6E880\", \"#FF97FF\", \"#FECB52\"], \"font\": {\"color\": \"#2a3f5f\"}, \"geo\": {\"bgcolor\": \"white\", \"lakecolor\": \"white\", \"landcolor\": \"#E5ECF6\", \"showlakes\": true, \"showland\": true, \"subunitcolor\": \"white\"}, \"hoverlabel\": {\"align\": \"left\"}, \"hovermode\": \"closest\", \"mapbox\": {\"style\": \"light\"}, \"paper_bgcolor\": \"white\", \"plot_bgcolor\": \"#E5ECF6\", \"polar\": {\"angularaxis\": {\"gridcolor\": \"white\", \"linecolor\": \"white\", \"ticks\": \"\"}, \"bgcolor\": \"#E5ECF6\", \"radialaxis\": {\"gridcolor\": \"white\", \"linecolor\": \"white\", \"ticks\": \"\"}}, \"scene\": {\"xaxis\": {\"backgroundcolor\": \"#E5ECF6\", \"gridcolor\": \"white\", \"gridwidth\": 2, \"linecolor\": \"white\", \"showbackground\": true, \"ticks\": \"\", \"zerolinecolor\": \"white\"}, \"yaxis\": {\"backgroundcolor\": \"#E5ECF6\", \"gridcolor\": \"white\", \"gridwidth\": 2, \"linecolor\": \"white\", \"showbackground\": true, \"ticks\": \"\", \"zerolinecolor\": \"white\"}, \"zaxis\": {\"backgroundcolor\": \"#E5ECF6\", \"gridcolor\": \"white\", \"gridwidth\": 2, \"linecolor\": \"white\", \"showbackground\": true, \"ticks\": \"\", \"zerolinecolor\": \"white\"}}, \"shapedefaults\": {\"line\": {\"color\": \"#2a3f5f\"}}, \"ternary\": {\"aaxis\": {\"gridcolor\": \"white\", \"linecolor\": \"white\", \"ticks\": \"\"}, \"baxis\": {\"gridcolor\": \"white\", \"linecolor\": \"white\", \"ticks\": \"\"}, \"bgcolor\": \"#E5ECF6\", \"caxis\": {\"gridcolor\": \"white\", \"linecolor\": \"white\", \"ticks\": \"\"}}, \"title\": {\"x\": 0.05}, \"xaxis\": {\"automargin\": true, \"gridcolor\": \"white\", \"linecolor\": \"white\", \"ticks\": \"\", \"title\": {\"standoff\": 15}, \"zerolinecolor\": \"white\", \"zerolinewidth\": 2}, \"yaxis\": {\"automargin\": true, \"gridcolor\": \"white\", \"linecolor\": \"white\", \"ticks\": \"\", \"title\": {\"standoff\": 15}, \"zerolinecolor\": \"white\", \"zerolinewidth\": 2}}}, \"title\": {\"text\": \"TF-IDF\"}, \"xaxis\": {\"anchor\": \"y\", \"domain\": [0.0, 1.0], \"title\": {\"text\": \"x\"}}, \"yaxis\": {\"anchor\": \"x\", \"domain\": [0.0, 1.0], \"title\": {\"text\": \"y\"}}},                        {\"responsive\": true}                    ).then(function(){\n",
       "                            \n",
       "var gd = document.getElementById('bd9619d6-6303-4da4-93f7-09934c476c65');\n",
       "var x = new MutationObserver(function (mutations, observer) {{\n",
       "        var display = window.getComputedStyle(gd).display;\n",
       "        if (!display || display === 'none') {{\n",
       "            console.log([gd, 'removed!']);\n",
       "            Plotly.purge(gd);\n",
       "            observer.disconnect();\n",
       "        }}\n",
       "}});\n",
       "\n",
       "// Listen for the removal of the full notebook cells\n",
       "var notebookContainer = gd.closest('#notebook-container');\n",
       "if (notebookContainer) {{\n",
       "    x.observe(notebookContainer, {childList: true});\n",
       "}}\n",
       "\n",
       "// Listen for the clearing of the current output cell\n",
       "var outputEl = gd.closest('.output');\n",
       "if (outputEl) {{\n",
       "    x.observe(outputEl, {childList: true});\n",
       "}}\n",
       "\n",
       "                        })                };                });            </script>        </div>"
      ]
     },
     "metadata": {},
     "output_type": "display_data"
    }
   ],
   "source": [
    "df['tsnetfidf'] = hero.tsne(df['TFIDF'])\n",
    "hero.scatterplot(df, col='tsnetfidf', title=\"TF-IDF\", hover_data= ['clean-text'])"
   ]
  },
  {
   "cell_type": "code",
   "execution_count": 32,
   "id": "cd3b8af0",
   "metadata": {},
   "outputs": [
    {
     "data": {
      "application/vnd.plotly.v1+json": {
       "config": {
        "plotlyServerURL": "https://plot.ly"
       },
       "data": [
        {
         "customdata": [
          [
           "you use these services, you'll share some information with us."
          ],
          [
           "and it's why we've tried to write it in a way that's blissfully free of the legalese that often clouds these documents."
          ],
          [
           "of course, if you still have questions about anything in our privacy policy, just contact us.you should read our entire privacy policy, but when you only have a few minutes or want to remember something later on, you can always take a look at this summary--so you can review some of the basics in just a few minutes.information"
          ],
          [
           "of course, if you still have questions about anything in our privacy policy, just contact us.you should read our entire privacy policy, but when you only have a few minutes or want to remember something later on, you can always take a look at this summary--so you can review some of the basics in just a few minutes.information"
          ],
          [
           "of course, if you still have questions about anything in our privacy policy, just contact us.you should read our entire privacy policy, but when you only have a few minutes or want to remember something later on, you can always take a look at this summary--so you can review some of the basics in just a few minutes.information"
          ],
          [
           "of course, if you still have questions about anything in our privacy policy, just contact us.you should read our entire privacy policy, but when you only have a few minutes or want to remember something later on, you can always take a look at this summary--so you can review some of the basics in just a few minutes.information"
          ],
          [
           "of course, if you still have questions about anything in our privacy policy, just contact us.you should read our entire privacy policy, but when you only have a few minutes or want to remember something later on, you can always take a look at this summary--so you can review some of the basics in just a few minutes.information"
          ],
          [
           "for example, most of our services require you to set up a snapchat account, so we need to collect a few important details about you, such as your name, username, password, email address, phone number, and date of birth."
          ],
          [
           "for example, most of our services require you to set up a snapchat account, so we need to collect a few important details about you, such as your name, username, password, email address, phone number, and date of birth."
          ],
          [
           "we may also ask you to provide us with some additional information that will be publicly visible on our services, such as a profile picture or bitmoji avatar."
          ],
          [
           "we may also ask you to provide us with some additional information that will be publicly visible on our services, such as a profile picture or bitmoji avatar."
          ],
          [
           "other services, such as commerce products, may require you to provide us with a debit or credit card number and its associated account information.of course, you'll also provide us whatever information you send through our services, such as snaps and chats."
          ],
          [
           "keep in mind that the users who view your snaps, chats, and any other content can always save that content or copy it outside the app."
          ],
          [
           "so, the same common sense that applies to the internet at large applies to snapchat as well: don't send messages or share content that you wouldn't want someone to save or share.when"
          ],
          [
           "we might know, for instance, that you watched a particular story, saw a specific ad for a certain period of time, and sent a few snaps."
          ],
          [
           "we might know, for instance, that you watched a particular story, saw a specific ad for a certain period of time, and sent a few snaps."
          ],
          [
           "we might know, for instance, that you watched a particular story, saw a specific ad for a certain period of time, and sent a few snaps."
          ],
          [
           "for example, we may collect information about:how you interact with our services, such as which filters you view or apply to snaps, which stories you watch on discover, whether you're using spectacles, or which search queries you"
          ],
          [
           "submit.how you communicate with other snapchatters, such as their names, the time and date of your communications, the number of messages you exchange with your friends, which friends you exchange messages with the most, and your interactions with messages such as when you open a message or capture a screenshot.content information."
          ],
          [
           "because snapchat is all about communicating with friends, we may--with your permission--collect information from your device's phonebook.camera and photos."
          ],
          [
           "many of our services require us to collect images and other information from your device's camera and photos."
          ],
          [
           "for example, you won't be able to send snaps or upload photos from your camera roll unless we can access your camera or photos.location information."
          ],
          [
           "when you use our services we may collect information about your location."
          ],
          [
           "with your permission, we may also collect information about your precise location using methods that include gps, wireless networks, cell towers, wi-fi access points, and other sensors, such as gyroscopes, accelerometers, and compasses.information collected by cookies and other technologies."
          ],
          [
           "with your permission, we may also collect information about your precise location using methods that include gps, wireless networks, cell towers, wi-fi access points, and other sensors, such as gyroscopes, accelerometers, and compasses.information collected by cookies and other technologies."
          ],
          [
           "like most online services and mobile applications, we may use cookies and other technologies, such as web beacons, web storage, and unique advertising identifiers, to collect information about your activity, browser, and device."
          ],
          [
           "like most online services and mobile applications, we may use cookies and other technologies, such as web beacons, web storage, and unique advertising identifiers, to collect information about your activity, browser, and device."
          ],
          [
           "we may also use these technologies to collect information when you interact with services we offer through one of our partners, such as advertising and commerce features."
          ],
          [
           "for example, we may use information collected on other websites to show you more relevant ads."
          ],
          [
           "most web browsers are set to accept cookies by default."
          ],
          [
           "if you prefer, you can usually remove or reject browser cookies through the settings on your browser or device."
          ],
          [
           "if you prefer, you can usually remove or reject browser cookies through the settings on your browser or device."
          ],
          [
           "keep in mind, though, that removing or rejecting cookies could affect the availability and functionality of our services."
          ],
          [
           "viewed;ip address;identifiers associated with cookies or other technologies that may uniquely identify your device or browser; andpages you visited before or after navigating to our website.information we collect from third partieswe may collect information about you from other users, our affiliates, and third parties."
          ],
          [
           "viewed;ip address;identifiers associated with cookies or other technologies that may uniquely identify your device or browser; andpages you visited before or after navigating to our website.information we collect from third partieswe may collect information about you from other users, our affiliates, and third parties."
          ],
          [
           "here are a few examples:if you link your snapchat account to another service like bitmoji or a third-party app, we may receive information from the other service, like how you use that service.advertisers, app developers, publishers, and other third parties may share information with us as well."
          ],
          [
           "here are a few examples:if you link your snapchat account to another service like bitmoji or a third-party app, we may receive information from the other service, like how you use that service.advertisers, app developers, publishers, and other third parties may share information with us as well."
          ],
          [
           "here are a few examples:if you link your snapchat account to another service like bitmoji or a third-party app, we may receive information from the other service, like how you use that service.advertisers, app developers, publishers, and other third parties may share information with us as well."
          ],
          [
           "we may use this information, among other ways, to help target or measure the performance of ads."
          ],
          [
           "you can learn more about our use of this kind of third-party data in our support center.if another user uploads their contact list, we may combine information from that user's contact list with other information we have collected about you.how"
          ],
          [
           "you can learn more about our use of this kind of third-party data in our support center.if another user uploads their contact list, we may combine information from that user's contact list with other information we have collected about you.how"
          ],
          [
           "for example, we may use email to respond to support inquiries or to share information about our products, services, and promotional offers that we think may interest you.monitor and analyze trends and usage.personalize our services by, among_other_things , suggesting friends, profile information, or bitmoji stickers, or customizing the content we show you, including ads.contextualize your experience by, among_other_things , tagging your memories content using your precise location information"
          ],
          [
           "for example, we may use email to respond to support inquiries or to share information about our products, services, and promotional offers that we think may interest you.monitor and analyze trends and usage.personalize our services by, among_other_things , suggesting friends, profile information, or bitmoji stickers, or customizing the content we show you, including ads.contextualize your experience by, among_other_things , tagging your memories content using your precise location information"
          ],
          [
           "see the control over your information section below for more information about snap inc.'s advertising practices and your choices.enhance the safety and security of our products and services.verify your identity and prevent fraud or other unauthorized or illegal activity.use information we've collected from cookies and other technology to enhance our services and your experience with them.enforce our terms of service and other usage policies and comply with legal requirements.we may also use information from apple's truedepth camera to improve the quality of lenses."
          ],
          [
           "information from the truedepth camera is used in real time--we don't store this information on our servers or share it with third parties.how we share informationwe may share information about you in the following ways:with other snapchatters."
          ],
          [
           "we may share the following information with other snapchatters:information about you, such as your username, name, and bitmoji.information about how you have interacted with our services, such as your snapchat \"score,\" the names of snapchatters you are friends with, and other information that will help snapchatters understand your connections with others using our services."
          ],
          [
           "for example, because it may not be clear whether a new friend request comes from someone you actually know, we may share whether you and the requestor have snapchat friends in common.any additional information you have directed us to share."
          ],
          [
           "for example, because it may not be clear whether a new friend request comes from someone you actually know, we may share whether you and the requestor have snapchat friends in common.any additional information you have directed us to share."
          ],
          [
           "how widely your content is shared depends on your personal settings and the type of service you are using."
          ],
          [
           "for example, a snap may be sent to just a single friend you select, but your my story content may be seen by any snapchatter whom you allow to see your my story.with all snapchatters, our business partners, and the general public."
          ],
          [
           "for example, a snap may be sent to just a single friend you select, but your my story content may be seen by any snapchatter whom you allow to see your my story.with all snapchatters, our business partners, and the general public."
          ],
          [
           "for example, a snap may be sent to just a single friend you select, but your my story content may be seen by any snapchatter whom you allow to see your my story.with all snapchatters, our business partners, and the general public."
          ],
          [
           "we may share the following information with all snapchatters as well as with our business partners and the general public:public information like your name, username, snapcode and profile pictures.story submissions that are set to be viewable by everyone and any content that you submit to an inherently public service, like our story and other crowd-sourced services."
          ],
          [
           "we may share the following information with all snapchatters as well as with our business partners and the general public:public information like your name, username, snapcode and profile pictures.story submissions that are set to be viewable by everyone and any content that you submit to an inherently public service, like our story and other crowd-sourced services."
          ],
          [
           "we may share the following information with all snapchatters as well as with our business partners and the general public:public information like your name, username, snapcode and profile pictures.story submissions that are set to be viewable by everyone and any content that you submit to an inherently public service, like our story and other crowd-sourced services."
          ],
          [
           "this content may be viewed and shared by the public at large both on and off our services, including through search results, on websites, in apps, and in online and offline broadcasts.with our affiliates."
          ],
          [
           "we may share information with entities within the snap inc. family of companies.with third parties."
          ],
          [
           "we may share information about you with service providers who perform services on our behalf, including to measure and optimize the performance of ads and deliver more relevant ads, including on third-party websites and apps."
          ],
          [
           "learn more here.we may share information about you with business partners that provide services and functionality on our services."
          ],
          [
           "for more information about information collected by third parties on our services, visit our support site.we may share information about you, such as device and usage information, to help us and others prevent fraud.we may share information about you for legal, safety, and security reasons."
          ],
          [
           "for more information about information collected by third parties on our services, visit our support site.we may share information about you, such as device and usage information, to help us and others prevent fraud.we may share information about you for legal, safety, and security reasons."
          ],
          [
           "we may share information about you if we reasonably believe that disclosing the information is needed to:comply with any valid legal process, governmental request, or applicable law, rule, or regulation.investigate, remedy, or enforce potential terms of service violations.protect the rights, property, or safety of us, our users, or others.detect and resolve any fraud or security concerns.we may share information about you as part of a merger or acquisition."
          ],
          [
           "we may share information about you if we reasonably believe that disclosing the information is needed to:comply with any valid legal process, governmental request, or applicable law, rule, or regulation.investigate, remedy, or enforce potential terms of service violations.protect the rights, property, or safety of us, our users, or others.detect and resolve any fraud or security concerns.we may share information about you as part of a merger or acquisition."
          ],
          [
           "if snap inc. gets involved in a merger, asset sale, financing, liquidation or bankruptcy, or acquisition of all or some portion of our business to another company, we may share your information with that company before and after the transaction closes.we may also share with third parties that provide services to us or perform business purposes for us aggregated, non-personally identifiable, or de-identified information.third-party content and integrationsour services may contain third-party content and integrations."
          ],
          [
           "if snap inc. gets involved in a merger, asset sale, financing, liquidation or bankruptcy, or acquisition of all or some portion of our business to another company, we may share your information with that company before and after the transaction closes.we may also share with third parties that provide services to us or perform business purposes for us aggregated, non-personally identifiable, or de-identified information.third-party content and integrationsour services may contain third-party content and integrations."
          ],
          [
           "if snap inc. gets involved in a merger, asset sale, financing, liquidation or bankruptcy, or acquisition of all or some portion of our business to another company, we may share your information with that company before and after the transaction closes.we may also share with third parties that provide services to us or perform business purposes for us aggregated, non-personally identifiable, or de-identified information.third-party content and integrationsour services may contain third-party content and integrations."
          ],
          [
           "if snap inc. gets involved in a merger, asset sale, financing, liquidation or bankruptcy, or acquisition of all or some portion of our business to another company, we may share your information with that company before and after the transaction closes.we may also share with third parties that provide services to us or perform business purposes for us aggregated, non-personally identifiable, or de-identified information.third-party content and integrationsour services may contain third-party content and integrations."
          ],
          [
           "examples include third-party integrations in camera search, third-party games in chat, and third-party snap kit integrations."
          ],
          [
           "through these integrations, you may be providing information to the third party as well as to snap."
          ],
          [
           "you can learn more about third-party services in snapchat"
          ],
          [
           "on our end, that means most messages--like snaps and chats--sent in snapchat will be automatically deleted by default from our servers after we detect they've been opened by all recipients or have expired."
          ],
          [
           "for example, if you use the map, we store information about your favorite places for up to 40 days so we can personalize and improve your experience."
          ],
          [
           "if location information is associated with a snap--like those saved to memories or posted to our story--we'll retain that location as long as we store the snap.we're constantly collecting and updating information about the things you might like and dislike, so we can provide you with more relevant content and advertisements."
          ],
          [
           "if location information is associated with a snap--like those saved to memories or posted to our story--we'll retain that location as long as we store the snap.we're constantly collecting and updating information about the things you might like and dislike, so we can provide you with more relevant content and advertisements."
          ],
          [
           "go here to learn more.if you ever decide to stop using snapchat, you can just ask us to delete your account."
          ],
          [
           "we'll also delete most of the information we've collected about you after you've been inactive for a while--but don't worry, we'll try to contact you first!keep in mind that, while our systems are designed to carry out our deletion practices automatically, we cannot promise that deletion will occur within a specific timeframe."
          ],
          [
           "we'll also delete most of the information we've collected about you after you've been inactive for a while--but don't worry, we'll try to contact you first!keep in mind that, while our systems are designed to carry out our deletion practices automatically, we cannot promise that deletion will occur within a specific timeframe."
          ],
          [
           "there may be legal requirements to store your data and we may need to suspend those deletion practices if we receive valid legal process asking us to preserve content, if we receive reports of abuse or other terms of service violations, or if your account or content created by you is flagged by our automated systems for abuse or other terms of service violations."
          ],
          [
           "there may be legal requirements to store your data and we may need to suspend those deletion practices if we receive valid legal process asking us to preserve content, if we receive reports of abuse or other terms of service violations, or if your account or content created by you is flagged by our automated systems for abuse or other terms of service violations."
          ],
          [
           "finally, we may also retain certain information in backup for a limited period of time or as required by law.control over your informationwe want you to be in control of your information, so we provide you with the following tools.access, correction, and portability."
          ],
          [
           "finally, we may also retain certain information in backup for a limited period of time or as required by law.control over your informationwe want you to be in control of your information, so we provide you with the following tools.access, correction, and portability."
          ],
          [
           "you can access and edit most of your basic account information right in our apps."
          ],
          [
           "you can access and edit most of your basic account information right in our apps."
          ],
          [
           "you can also use download my data to obtain a copy of information that isn't available in our apps in a portable format, so you can move it or store it wherever you want."
          ],
          [
           "you can also use download my data to obtain a copy of information that isn't available in our apps in a portable format, so you can move it or store it wherever you want."
          ],
          [
           "we may also reject your request to access or update your personal information for a number of reasons, including, for example, if the request risks the privacy of other users or is unlawful.revoking permissions."
          ],
          [
           "in most cases, if you let us use your information, you can simply revoke your permission by changing the settings in the app or on your device if your device offers those options."
          ],
          [
           "in most cases, if you let us use your information, you can simply revoke your permission by changing the settings in the app or on your device if your device offers those options."
          ],
          [
           "of course, if you do that, certain services may lose full functionality.deletion."
          ],
          [
           "of course, if you do that, certain services may lose full functionality.deletion."
          ],
          [
           "while we hope you'll remain a lifelong snapchatter, if for some reason you ever want to delete your account, just go here to learn how."
          ],
          [
           "you can also delete some information in the app, like photos you've saved to memories, our story submissions, and search history.advertising preferences."
          ],
          [
           "you can also delete some information in the app, like photos you've saved to memories, our story submissions, and search history.advertising preferences."
          ],
          [
           "if you would like to modify the information we and our advertising partners use to select these ads, you can do so in the app and through your device preferences."
          ],
          [
           "if you would like to modify the information we and our advertising partners use to select these ads, you can do so in the app and through your device preferences."
          ],
          [
           "here is some additional information we would like to bring to your attention:rights of access, deletion, correction, and portabilityyou can exercise your rights of access, deletion, correction, and portability as described in the control over your information section above.bases for using your informationyour country only allows us to use your personal information when certain conditions apply."
          ],
          [
           "here is some additional information we would like to bring to your attention:rights of access, deletion, correction, and portabilityyou can exercise your rights of access, deletion, correction, and portability as described in the control over your information section above.bases for using your informationyour country only allows us to use your personal information when certain conditions apply."
          ],
          [
           "here is some additional information we would like to bring to your attention:rights of access, deletion, correction, and portabilityyou can exercise your rights of access, deletion, correction, and portability as described in the control over your information section above.bases for using your informationyour country only allows us to use your personal information when certain conditions apply."
          ],
          [
           "here is some additional information we would like to bring to your attention:rights of access, deletion, correction, and portabilityyou can exercise your rights of access, deletion, correction, and portability as described in the control over your information section above.bases for using your informationyour country only allows us to use your personal information when certain conditions apply."
          ],
          [
           "these conditions are called \"legal bases\" and, at snap, we typically rely on one of four:contract."
          ],
          [
           "one reason we might use your information is because you've entered into an agreement with us."
          ],
          [
           "for example, when you buy an on-demand geofilter and accepted our custom creative tools terms, we need to use some of your information to collect payment and make sure we show your geofilter to the right people at the right place and time.legitimate interest."
          ],
          [
           "another reason we might use your information is because we have--or a third party has--a legitimate interest in doing so."
          ],
          [
           "because most of our services are free, we also use some information about you to try and show you ads"
          ],
          [
           "because most of our services are free, we also use some information about you to try and show you ads"
          ],
          [
           "an important point to understand about legitimate interest is that our interests don't outweigh your right to privacy, so we only rely on legitimate interest when we think the way we are using your data doesn't significantly impact your privacy or would be expected by you, or there is a compelling reason to do so."
          ],
          [
           "in some cases we'll ask for consent to use your information for specific purposes."
          ],
          [
           "if we do, we'll make sure you can revoke your consent in our services or through your device permissions."
          ],
          [
           "even if we're not relying on consent to use your information, we may ask you for permission to access data like contacts and location.legal obligation."
          ],
          [
           "we may be required to use your personal information to comply with the law, like when we respond to valid legal process or need to take action to protect our users."
          ],
          [
           "our policy is to notify snapchatters when we receive legal process seeking their account information, with some exceptions."
          ],
          [
           "with many types of data, we've provided you with the ability to simply delete it if you don't want us processing it anymore."
          ],
          [
           "you can do these things in the app."
          ],
          [
           "if there are other types of information you don't agree with us processing, you can contact us.international transferswe may collect your personal information from, transfer it to, and store and process it in the united states and other countries outside of where you live."
          ],
          [
           "if there are other types of information you don't agree with us processing, you can contact us.international transferswe may collect your personal information from, transfer it to, and store and process it in the united states and other countries outside of where you live."
          ],
          [
           "you can find more information on the categories of third parties we share information with here.complaints?"
          ],
          [
           "if you're based in the eu, you can always file a complaint with the supervisory authority in your member state.users in brazilif"
          ],
          [
           "here is some additional information we would like to bring to your attention:rights of access, deletion, correction, and portabilityyou can exercise your rights of access, deletion, correction, and portability as described in the control over your information section above.bases for using your informationyour country only allows us to use your personal information when certain conditions apply."
          ],
          [
           "here is some additional information we would like to bring to your attention:rights of access, deletion, correction, and portabilityyou can exercise your rights of access, deletion, correction, and portability as described in the control over your information section above.bases for using your informationyour country only allows us to use your personal information when certain conditions apply."
          ],
          [
           "here is some additional information we would like to bring to your attention:rights of access, deletion, correction, and portabilityyou can exercise your rights of access, deletion, correction, and portability as described in the control over your information section above.bases for using your informationyour country only allows us to use your personal information when certain conditions apply."
          ],
          [
           "here is some additional information we would like to bring to your attention:rights of access, deletion, correction, and portabilityyou can exercise your rights of access, deletion, correction, and portability as described in the control over your information section above.bases for using your informationyour country only allows us to use your personal information when certain conditions apply."
          ],
          [
           "these conditions are called \"legal bases\" and, at snap, we typically rely on one of four:contract."
          ],
          [
           "one reason we might use your information is because you've entered into an agreement with us."
          ],
          [
           "for example, when you buy an on-demand geofilter and accepted our custom creative tools terms, we need to use some of your information to collect payment and make sure we show your geofilter to the right people at the right place and time.legitimate interest."
          ],
          [
           "another reason we might use your information is because we have--or a third party has--a legitimate interest in doing so."
          ],
          [
           "because most of our services are free, we also use some information about you to try and show you ads"
          ],
          [
           "because most of our services are free, we also use some information about you to try and show you ads"
          ],
          [
           "an important point to understand about legitimate interest is that our interests don't outweigh your right to privacy, so we only rely on legitimate interest when we think the way we are using your data doesn't significantly impact your privacy or would be expected by you, or there is a compelling reason to do so."
          ],
          [
           "in some cases we'll ask for consent to use your information for specific purposes."
          ],
          [
           "if we do, we'll make sure you can revoke your consent in our services or through your device permissions."
          ],
          [
           "even if we're not relying on consent to use your information, we may ask you for permission to access data like contacts and location.legal obligation."
          ],
          [
           "we may be required to use your personal information to comply with the law, like when we respond to valid legal process or need to take action to protect our users.your right to objectyou have the right to object to our use of your information."
          ],
          [
           "with many types of data, we've provided you with the ability to simply delete it if you don't want us processing it anymore."
          ],
          [
           "you can do these things in the app."
          ],
          [
           "if there are other types of information you don't agree with us processing, you can contact us.complaints?"
          ],
          [
           "you can always file a complaint with the national authority in your country."
          ],
          [
           "here is some additional information we would like to bring to your attention:rights of access, rectification, and cancellationyou can exercise your rights of access, rectification, and cancellation as described in the control over your information section"
          ],
          [
           "here is some additional information we would like to bring to your attention:rights of access, rectification, and cancellationyou can exercise your rights of access, rectification, and cancellation as described in the control over your information section"
          ],
          [
           "here is some additional information we would like to bring to your attention:rights of access, rectification, and cancellationyou can exercise your rights of access, rectification, and cancellation as described in the control over your information section"
          ],
          [
           "with many types of data, we've provided you with the ability to simply delete it if you don't want us processing it anymore."
          ],
          [
           "you can do these things in the app."
          ],
          [
           "if there are other types of information you don't agree with us processing, you can contact us.california residentsif you're a california resident, you have certain privacy rights under california law, including the california consumer privacy act of 2018 \"ccpa\"."
          ],
          [
           "if there are other types of information you don't agree with us processing, you can contact us.california residentsif you're a california resident, you have certain privacy rights under california law, including the california consumer privacy act of 2018 \"ccpa\"."
          ],
          [
           "services are not intended for--and we don't direct them to--anyone under 13."
          ],
          [
           "and that's why we do not knowingly collect personal information from anyone under 13."
          ],
          [
           "in addition, we may limit how we collect, use, and store some of the information of eu users between 13 and 16."
          ],
          [
           "in addition, we may limit how we collect, use, and store some of the information of eu users between 13 and 16."
          ],
          [
           "in some cases, this means we will be unable to provide certain functionality to these users."
          ],
          [
           "in some cases, this means we will be unable to provide certain functionality to these users."
          ],
          [
           "if we need to rely on consent as a legal basis for processing your information and your country requires consent from a parent, we may require your parent's consent before we collect and use that information.revisions to the privacy policywe may change this privacy policy from_time_to_time ."
          ],
          [
           "if we need to rely on consent as a legal basis for processing your information and your country requires consent from a parent, we may require your parent's consent before we collect and use that information.revisions to the privacy policywe may change this privacy policy from_time_to_time ."
          ],
          [
           "if we need to rely on consent as a legal basis for processing your information and your country requires consent from a parent, we may require your parent's consent before we collect and use that information.revisions to the privacy policywe may change this privacy policy from_time_to_time ."
          ],
          [
           "sometimes, we'll let you know by revising the date at the top of the privacy policy that's available on our website and mobile application."
          ],
          [
           "other times, we may provide you with additional notice such as adding a statement to our websites' homepages or providing you with an in-app notification."
          ]
         ],
         "hovertemplate": "x=%{x}<br>y=%{y}<br>clean-text=%{customdata[0]}<extra></extra>",
         "legendgroup": "",
         "marker": {
          "color": "#636efa",
          "symbol": "circle"
         },
         "mode": "markers",
         "name": "",
         "orientation": "v",
         "showlegend": false,
         "type": "scatter",
         "x": [
          -13.187685012817383,
          7.111425876617432,
          2.1271021366119385,
          2.1344008445739746,
          2.130619764328003,
          2.135104179382324,
          2.131073236465454,
          3.647106170654297,
          3.639483690261841,
          -5.754276275634766,
          -5.82494592666626,
          8.82075309753418,
          -2.083789348602295,
          9.341328620910645,
          -2.3310165405273438,
          -2.4639816284179688,
          -2.08894944190979,
          8.26970100402832,
          8.988591194152832,
          0.018086617812514305,
          -11.22622013092041,
          4.56195592880249,
          -13.954825401306152,
          6.981205940246582,
          7.1974568367004395,
          1.7964026927947998,
          2.4481120109558105,
          -4.63050651550293,
          -8.954338073730469,
          -7.5479960441589355,
          -7.591888427734375,
          -8.289813995361328,
          4.713623046875,
          4.740650177001953,
          4.785712718963623,
          -4.540915489196777,
          -4.5024566650390625,
          -4.513457775115967,
          -3.3111720085144043,
          3.1695237159729004,
          3.1935884952545166,
          10.513559341430664,
          10.527162551879883,
          10.530229568481445,
          4.946913719177246,
          5.793867588043213,
          5.3540215492248535,
          5.243403434753418,
          -0.45513445138931274,
          6.186650276184082,
          6.194760799407959,
          6.209356784820557,
          6.799769401550293,
          6.6430463790893555,
          6.863836765289307,
          8.072152137756348,
          -3.5827081203460693,
          5.950445652008057,
          -9.250125885009766,
          5.171835422515869,
          5.175534248352051,
          10.653056144714355,
          10.669904708862305,
          8.859058380126953,
          7.138209342956543,
          8.864655494689941,
          7.142030715942383,
          5.026069641113281,
          -8.038744926452637,
          -13.850186347961426,
          9.948930740356445,
          5.194450378417969,
          4.863548278808594,
          4.767306804656982,
          3.834531784057617,
          9.42056941986084,
          9.349882125854492,
          8.815239906311035,
          8.822280883789062,
          -1.642389178276062,
          -1.6423968076705933,
          -11.981844902038574,
          -12.248085975646973,
          2.7986435890197754,
          2.379836082458496,
          0.9372233152389526,
          -7.175452709197998,
          -7.159243583679199,
          -10.357645034790039,
          -11.025798797607422,
          5.72498083114624,
          -5.061612606048584,
          -5.668614387512207,
          -8.322580337524414,
          -8.084299087524414,
          -7.292563438415527,
          -6.568686485290527,
          -7.064641952514648,
          -6.57651948928833,
          -3.128021001815796,
          -8.961974143981934,
          5.495935916900635,
          -4.5855512619018555,
          -12.15227222442627,
          -12.588860511779785,
          7.642355918884277,
          -12.029126167297363,
          -10.974669456481934,
          -4.394397258758545,
          0.2918337285518646,
          -3.823988437652588,
          -3.675748109817505,
          -13.474687576293945,
          4.6094489097595215,
          2.836482048034668,
          -9.414952278137207,
          3.634770393371582,
          -6.854176044464111,
          -7.2491960525512695,
          -6.593006610870361,
          -7.300786972045898,
          -3.393433094024658,
          -8.807827949523926,
          5.1866984367370605,
          -4.258719444274902,
          -12.41880989074707,
          -12.86768913269043,
          7.78281831741333,
          -11.943936347961426,
          -11.01431941986084,
          -4.607020378112793,
          0.8092501163482666,
          -3.5375099182128906,
          -13.954286575317383,
          -9.985201835632324,
          -7.922772407531738,
          -6.917322635650635,
          -6.919581413269043,
          -6.9222564697265625,
          -3.5178260803222656,
          -13.376482009887695,
          1.9335135221481323,
          1.9587823152542114,
          0.3495906591415405,
          -3.945788860321045,
          -3.06195330619812,
          -3.2930803298950195,
          -9.180838584899902,
          -9.238519668579102,
          0.5202071666717529,
          0.4244910776615143,
          0.4054003059864044,
          4.019076347351074,
          5.935143947601318
         ],
         "xaxis": "x",
         "y": [
          4.814410209655762,
          -1.9578969478607178,
          -6.582714080810547,
          -6.58812952041626,
          -6.584867000579834,
          -6.586002826690674,
          -6.584062099456787,
          0.8024564385414124,
          0.7812126874923706,
          4.487738132476807,
          4.7284393310546875,
          -2.165900230407715,
          1.6910452842712402,
          -1.8346490859985352,
          2.946780204772949,
          3.084150791168213,
          3.165726900100708,
          -1.776734471321106,
          -1.4312939643859863,
          0.5276505947113037,
          4.684165954589844,
          -1.4798438549041748,
          4.816187381744385,
          -1.019070029258728,
          -1.2512837648391724,
          -0.16108489036560059,
          -0.5153753161430359,
          1.4801069498062134,
          2.721311092376709,
          3.2515108585357666,
          2.7136776447296143,
          2.6392946243286133,
          -1.4047572612762451,
          3.55576753616333,
          3.4221363067626953,
          5.654606342315674,
          5.55601167678833,
          5.613372325897217,
          1.5073647499084473,
          2.1105010509490967,
          2.1380562782287598,
          -1.868518590927124,
          -1.8119142055511475,
          -0.9016481041908264,
          2.8821425437927246,
          3.045137405395508,
          1.192441463470459,
          1.252664566040039,
          0.2148057073354721,
          1.7686091661453247,
          1.7257812023162842,
          1.7761986255645752,
          3.560096502304077,
          3.522132635116577,
          3.5116891860961914,
          -1.6778472661972046,
          2.399141788482666,
          -0.8384935259819031,
          1.9610391855239868,
          3.6861400604248047,
          3.8036720752716064,
          -2.603224277496338,
          -2.5890109539031982,
          0.566349446773529,
          -4.532308101654053,
          0.5215139985084534,
          -4.5277252197265625,
          -1.1340004205703735,
          2.939260482788086,
          5.048738956451416,
          -2.07893443107605,
          -1.6904382705688477,
          1.6918126344680786,
          1.6606193780899048,
          -2.044306755065918,
          -3.047574043273926,
          -3.0992331504821777,
          -4.709587574005127,
          -4.682521820068359,
          -2.38248872756958,
          -2.3836116790771484,
          5.299514293670654,
          5.068533897399902,
          0.5028722286224365,
          0.740259051322937,
          0.477781742811203,
          2.1178488731384277,
          2.0836963653564453,
          4.260681629180908,
          4.374978065490723,
          -2.4565110206604004,
          2.0032801628112793,
          2.2840576171875,
          3.8555009365081787,
          4.039525508880615,
          -5.887999534606934,
          -5.9626336097717285,
          -6.331398010253906,
          -5.920346736907959,
          1.7702562808990479,
          3.2639365196228027,
          -1.971280574798584,
          3.1886425018310547,
          3.9174065589904785,
          4.0912322998046875,
          -3.082775592803955,
          4.804814338684082,
          3.853302001953125,
          2.1957337856292725,
          1.5532804727554321,
          2.534992218017578,
          3.8574228286743164,
          5.685486793518066,
          -2.4333462715148926,
          -1.4424463510513306,
          2.804154872894287,
          -1.4487426280975342,
          -6.336031913757324,
          -5.825003623962402,
          -6.090190410614014,
          -6.129507541656494,
          1.2035455703735352,
          3.474914312362671,
          -1.974822998046875,
          2.984463691711426,
          3.6827664375305176,
          4.118143081665039,
          -3.0843639373779297,
          4.5240159034729,
          3.681356906890869,
          2.0371930599212646,
          1.458056092262268,
          3.774641513824463,
          5.527307033538818,
          3.2325215339660645,
          3.3784687519073486,
          -5.049403667449951,
          -5.025097370147705,
          -5.031725883483887,
          3.9454050064086914,
          5.584380626678467,
          -2.5432095527648926,
          -2.572530746459961,
          0.8033632040023804,
          1.24248468875885,
          0.34007522463798523,
          0.6518235802650452,
          4.0771260261535645,
          3.803107976913452,
          -1.1486284732818604,
          -1.0704331398010254,
          -1.045560359954834,
          -0.9565336108207703,
          -1.278965711593628
         ],
         "yaxis": "y"
        }
       ],
       "layout": {
        "legend": {
         "tracegroupgap": 0
        },
        "template": {
         "data": {
          "bar": [
           {
            "error_x": {
             "color": "#2a3f5f"
            },
            "error_y": {
             "color": "#2a3f5f"
            },
            "marker": {
             "line": {
              "color": "#E5ECF6",
              "width": 0.5
             }
            },
            "type": "bar"
           }
          ],
          "barpolar": [
           {
            "marker": {
             "line": {
              "color": "#E5ECF6",
              "width": 0.5
             }
            },
            "type": "barpolar"
           }
          ],
          "carpet": [
           {
            "aaxis": {
             "endlinecolor": "#2a3f5f",
             "gridcolor": "white",
             "linecolor": "white",
             "minorgridcolor": "white",
             "startlinecolor": "#2a3f5f"
            },
            "baxis": {
             "endlinecolor": "#2a3f5f",
             "gridcolor": "white",
             "linecolor": "white",
             "minorgridcolor": "white",
             "startlinecolor": "#2a3f5f"
            },
            "type": "carpet"
           }
          ],
          "choropleth": [
           {
            "colorbar": {
             "outlinewidth": 0,
             "ticks": ""
            },
            "type": "choropleth"
           }
          ],
          "contour": [
           {
            "colorbar": {
             "outlinewidth": 0,
             "ticks": ""
            },
            "colorscale": [
             [
              0,
              "#0d0887"
             ],
             [
              0.1111111111111111,
              "#46039f"
             ],
             [
              0.2222222222222222,
              "#7201a8"
             ],
             [
              0.3333333333333333,
              "#9c179e"
             ],
             [
              0.4444444444444444,
              "#bd3786"
             ],
             [
              0.5555555555555556,
              "#d8576b"
             ],
             [
              0.6666666666666666,
              "#ed7953"
             ],
             [
              0.7777777777777778,
              "#fb9f3a"
             ],
             [
              0.8888888888888888,
              "#fdca26"
             ],
             [
              1,
              "#f0f921"
             ]
            ],
            "type": "contour"
           }
          ],
          "contourcarpet": [
           {
            "colorbar": {
             "outlinewidth": 0,
             "ticks": ""
            },
            "type": "contourcarpet"
           }
          ],
          "heatmap": [
           {
            "colorbar": {
             "outlinewidth": 0,
             "ticks": ""
            },
            "colorscale": [
             [
              0,
              "#0d0887"
             ],
             [
              0.1111111111111111,
              "#46039f"
             ],
             [
              0.2222222222222222,
              "#7201a8"
             ],
             [
              0.3333333333333333,
              "#9c179e"
             ],
             [
              0.4444444444444444,
              "#bd3786"
             ],
             [
              0.5555555555555556,
              "#d8576b"
             ],
             [
              0.6666666666666666,
              "#ed7953"
             ],
             [
              0.7777777777777778,
              "#fb9f3a"
             ],
             [
              0.8888888888888888,
              "#fdca26"
             ],
             [
              1,
              "#f0f921"
             ]
            ],
            "type": "heatmap"
           }
          ],
          "heatmapgl": [
           {
            "colorbar": {
             "outlinewidth": 0,
             "ticks": ""
            },
            "colorscale": [
             [
              0,
              "#0d0887"
             ],
             [
              0.1111111111111111,
              "#46039f"
             ],
             [
              0.2222222222222222,
              "#7201a8"
             ],
             [
              0.3333333333333333,
              "#9c179e"
             ],
             [
              0.4444444444444444,
              "#bd3786"
             ],
             [
              0.5555555555555556,
              "#d8576b"
             ],
             [
              0.6666666666666666,
              "#ed7953"
             ],
             [
              0.7777777777777778,
              "#fb9f3a"
             ],
             [
              0.8888888888888888,
              "#fdca26"
             ],
             [
              1,
              "#f0f921"
             ]
            ],
            "type": "heatmapgl"
           }
          ],
          "histogram": [
           {
            "marker": {
             "colorbar": {
              "outlinewidth": 0,
              "ticks": ""
             }
            },
            "type": "histogram"
           }
          ],
          "histogram2d": [
           {
            "colorbar": {
             "outlinewidth": 0,
             "ticks": ""
            },
            "colorscale": [
             [
              0,
              "#0d0887"
             ],
             [
              0.1111111111111111,
              "#46039f"
             ],
             [
              0.2222222222222222,
              "#7201a8"
             ],
             [
              0.3333333333333333,
              "#9c179e"
             ],
             [
              0.4444444444444444,
              "#bd3786"
             ],
             [
              0.5555555555555556,
              "#d8576b"
             ],
             [
              0.6666666666666666,
              "#ed7953"
             ],
             [
              0.7777777777777778,
              "#fb9f3a"
             ],
             [
              0.8888888888888888,
              "#fdca26"
             ],
             [
              1,
              "#f0f921"
             ]
            ],
            "type": "histogram2d"
           }
          ],
          "histogram2dcontour": [
           {
            "colorbar": {
             "outlinewidth": 0,
             "ticks": ""
            },
            "colorscale": [
             [
              0,
              "#0d0887"
             ],
             [
              0.1111111111111111,
              "#46039f"
             ],
             [
              0.2222222222222222,
              "#7201a8"
             ],
             [
              0.3333333333333333,
              "#9c179e"
             ],
             [
              0.4444444444444444,
              "#bd3786"
             ],
             [
              0.5555555555555556,
              "#d8576b"
             ],
             [
              0.6666666666666666,
              "#ed7953"
             ],
             [
              0.7777777777777778,
              "#fb9f3a"
             ],
             [
              0.8888888888888888,
              "#fdca26"
             ],
             [
              1,
              "#f0f921"
             ]
            ],
            "type": "histogram2dcontour"
           }
          ],
          "mesh3d": [
           {
            "colorbar": {
             "outlinewidth": 0,
             "ticks": ""
            },
            "type": "mesh3d"
           }
          ],
          "parcoords": [
           {
            "line": {
             "colorbar": {
              "outlinewidth": 0,
              "ticks": ""
             }
            },
            "type": "parcoords"
           }
          ],
          "pie": [
           {
            "automargin": true,
            "type": "pie"
           }
          ],
          "scatter": [
           {
            "marker": {
             "colorbar": {
              "outlinewidth": 0,
              "ticks": ""
             }
            },
            "type": "scatter"
           }
          ],
          "scatter3d": [
           {
            "line": {
             "colorbar": {
              "outlinewidth": 0,
              "ticks": ""
             }
            },
            "marker": {
             "colorbar": {
              "outlinewidth": 0,
              "ticks": ""
             }
            },
            "type": "scatter3d"
           }
          ],
          "scattercarpet": [
           {
            "marker": {
             "colorbar": {
              "outlinewidth": 0,
              "ticks": ""
             }
            },
            "type": "scattercarpet"
           }
          ],
          "scattergeo": [
           {
            "marker": {
             "colorbar": {
              "outlinewidth": 0,
              "ticks": ""
             }
            },
            "type": "scattergeo"
           }
          ],
          "scattergl": [
           {
            "marker": {
             "colorbar": {
              "outlinewidth": 0,
              "ticks": ""
             }
            },
            "type": "scattergl"
           }
          ],
          "scattermapbox": [
           {
            "marker": {
             "colorbar": {
              "outlinewidth": 0,
              "ticks": ""
             }
            },
            "type": "scattermapbox"
           }
          ],
          "scatterpolar": [
           {
            "marker": {
             "colorbar": {
              "outlinewidth": 0,
              "ticks": ""
             }
            },
            "type": "scatterpolar"
           }
          ],
          "scatterpolargl": [
           {
            "marker": {
             "colorbar": {
              "outlinewidth": 0,
              "ticks": ""
             }
            },
            "type": "scatterpolargl"
           }
          ],
          "scatterternary": [
           {
            "marker": {
             "colorbar": {
              "outlinewidth": 0,
              "ticks": ""
             }
            },
            "type": "scatterternary"
           }
          ],
          "surface": [
           {
            "colorbar": {
             "outlinewidth": 0,
             "ticks": ""
            },
            "colorscale": [
             [
              0,
              "#0d0887"
             ],
             [
              0.1111111111111111,
              "#46039f"
             ],
             [
              0.2222222222222222,
              "#7201a8"
             ],
             [
              0.3333333333333333,
              "#9c179e"
             ],
             [
              0.4444444444444444,
              "#bd3786"
             ],
             [
              0.5555555555555556,
              "#d8576b"
             ],
             [
              0.6666666666666666,
              "#ed7953"
             ],
             [
              0.7777777777777778,
              "#fb9f3a"
             ],
             [
              0.8888888888888888,
              "#fdca26"
             ],
             [
              1,
              "#f0f921"
             ]
            ],
            "type": "surface"
           }
          ],
          "table": [
           {
            "cells": {
             "fill": {
              "color": "#EBF0F8"
             },
             "line": {
              "color": "white"
             }
            },
            "header": {
             "fill": {
              "color": "#C8D4E3"
             },
             "line": {
              "color": "white"
             }
            },
            "type": "table"
           }
          ]
         },
         "layout": {
          "annotationdefaults": {
           "arrowcolor": "#2a3f5f",
           "arrowhead": 0,
           "arrowwidth": 1
          },
          "autotypenumbers": "strict",
          "coloraxis": {
           "colorbar": {
            "outlinewidth": 0,
            "ticks": ""
           }
          },
          "colorscale": {
           "diverging": [
            [
             0,
             "#8e0152"
            ],
            [
             0.1,
             "#c51b7d"
            ],
            [
             0.2,
             "#de77ae"
            ],
            [
             0.3,
             "#f1b6da"
            ],
            [
             0.4,
             "#fde0ef"
            ],
            [
             0.5,
             "#f7f7f7"
            ],
            [
             0.6,
             "#e6f5d0"
            ],
            [
             0.7,
             "#b8e186"
            ],
            [
             0.8,
             "#7fbc41"
            ],
            [
             0.9,
             "#4d9221"
            ],
            [
             1,
             "#276419"
            ]
           ],
           "sequential": [
            [
             0,
             "#0d0887"
            ],
            [
             0.1111111111111111,
             "#46039f"
            ],
            [
             0.2222222222222222,
             "#7201a8"
            ],
            [
             0.3333333333333333,
             "#9c179e"
            ],
            [
             0.4444444444444444,
             "#bd3786"
            ],
            [
             0.5555555555555556,
             "#d8576b"
            ],
            [
             0.6666666666666666,
             "#ed7953"
            ],
            [
             0.7777777777777778,
             "#fb9f3a"
            ],
            [
             0.8888888888888888,
             "#fdca26"
            ],
            [
             1,
             "#f0f921"
            ]
           ],
           "sequentialminus": [
            [
             0,
             "#0d0887"
            ],
            [
             0.1111111111111111,
             "#46039f"
            ],
            [
             0.2222222222222222,
             "#7201a8"
            ],
            [
             0.3333333333333333,
             "#9c179e"
            ],
            [
             0.4444444444444444,
             "#bd3786"
            ],
            [
             0.5555555555555556,
             "#d8576b"
            ],
            [
             0.6666666666666666,
             "#ed7953"
            ],
            [
             0.7777777777777778,
             "#fb9f3a"
            ],
            [
             0.8888888888888888,
             "#fdca26"
            ],
            [
             1,
             "#f0f921"
            ]
           ]
          },
          "colorway": [
           "#636efa",
           "#EF553B",
           "#00cc96",
           "#ab63fa",
           "#FFA15A",
           "#19d3f3",
           "#FF6692",
           "#B6E880",
           "#FF97FF",
           "#FECB52"
          ],
          "font": {
           "color": "#2a3f5f"
          },
          "geo": {
           "bgcolor": "white",
           "lakecolor": "white",
           "landcolor": "#E5ECF6",
           "showlakes": true,
           "showland": true,
           "subunitcolor": "white"
          },
          "hoverlabel": {
           "align": "left"
          },
          "hovermode": "closest",
          "mapbox": {
           "style": "light"
          },
          "paper_bgcolor": "white",
          "plot_bgcolor": "#E5ECF6",
          "polar": {
           "angularaxis": {
            "gridcolor": "white",
            "linecolor": "white",
            "ticks": ""
           },
           "bgcolor": "#E5ECF6",
           "radialaxis": {
            "gridcolor": "white",
            "linecolor": "white",
            "ticks": ""
           }
          },
          "scene": {
           "xaxis": {
            "backgroundcolor": "#E5ECF6",
            "gridcolor": "white",
            "gridwidth": 2,
            "linecolor": "white",
            "showbackground": true,
            "ticks": "",
            "zerolinecolor": "white"
           },
           "yaxis": {
            "backgroundcolor": "#E5ECF6",
            "gridcolor": "white",
            "gridwidth": 2,
            "linecolor": "white",
            "showbackground": true,
            "ticks": "",
            "zerolinecolor": "white"
           },
           "zaxis": {
            "backgroundcolor": "#E5ECF6",
            "gridcolor": "white",
            "gridwidth": 2,
            "linecolor": "white",
            "showbackground": true,
            "ticks": "",
            "zerolinecolor": "white"
           }
          },
          "shapedefaults": {
           "line": {
            "color": "#2a3f5f"
           }
          },
          "ternary": {
           "aaxis": {
            "gridcolor": "white",
            "linecolor": "white",
            "ticks": ""
           },
           "baxis": {
            "gridcolor": "white",
            "linecolor": "white",
            "ticks": ""
           },
           "bgcolor": "#E5ECF6",
           "caxis": {
            "gridcolor": "white",
            "linecolor": "white",
            "ticks": ""
           }
          },
          "title": {
           "x": 0.05
          },
          "xaxis": {
           "automargin": true,
           "gridcolor": "white",
           "linecolor": "white",
           "ticks": "",
           "title": {
            "standoff": 15
           },
           "zerolinecolor": "white",
           "zerolinewidth": 2
          },
          "yaxis": {
           "automargin": true,
           "gridcolor": "white",
           "linecolor": "white",
           "ticks": "",
           "title": {
            "standoff": 15
           },
           "zerolinecolor": "white",
           "zerolinewidth": 2
          }
         }
        },
        "title": {
         "text": "C2V"
        },
        "xaxis": {
         "anchor": "y",
         "domain": [
          0,
          1
         ],
         "title": {
          "text": "x"
         }
        },
        "yaxis": {
         "anchor": "x",
         "domain": [
          0,
          1
         ],
         "title": {
          "text": "y"
         }
        }
       }
      },
      "text/html": [
       "<div>                            <div id=\"baac7b16-7659-4b3a-9984-1caba0e497ab\" class=\"plotly-graph-div\" style=\"height:525px; width:100%;\"></div>            <script type=\"text/javascript\">                require([\"plotly\"], function(Plotly) {                    window.PLOTLYENV=window.PLOTLYENV || {};                                    if (document.getElementById(\"baac7b16-7659-4b3a-9984-1caba0e497ab\")) {                    Plotly.newPlot(                        \"baac7b16-7659-4b3a-9984-1caba0e497ab\",                        [{\"customdata\": [[\"you use these services, you'll share some information with us.\"], [\"and it's why we've tried to write it in a way that's blissfully free of the legalese that often clouds these documents.\"], [\"of course, if you still have questions about anything in our privacy policy, just contact us.you should read our entire privacy policy, but when you only have a few minutes or want to remember something later on, you can always take a look at this summary--so you can review some of the basics in just a few minutes.information\"], [\"of course, if you still have questions about anything in our privacy policy, just contact us.you should read our entire privacy policy, but when you only have a few minutes or want to remember something later on, you can always take a look at this summary--so you can review some of the basics in just a few minutes.information\"], [\"of course, if you still have questions about anything in our privacy policy, just contact us.you should read our entire privacy policy, but when you only have a few minutes or want to remember something later on, you can always take a look at this summary--so you can review some of the basics in just a few minutes.information\"], [\"of course, if you still have questions about anything in our privacy policy, just contact us.you should read our entire privacy policy, but when you only have a few minutes or want to remember something later on, you can always take a look at this summary--so you can review some of the basics in just a few minutes.information\"], [\"of course, if you still have questions about anything in our privacy policy, just contact us.you should read our entire privacy policy, but when you only have a few minutes or want to remember something later on, you can always take a look at this summary--so you can review some of the basics in just a few minutes.information\"], [\"for example, most of our services require you to set up a snapchat account, so we need to collect a few important details about you, such as your name, username, password, email address, phone number, and date of birth.\"], [\"for example, most of our services require you to set up a snapchat account, so we need to collect a few important details about you, such as your name, username, password, email address, phone number, and date of birth.\"], [\"we may also ask you to provide us with some additional information that will be publicly visible on our services, such as a profile picture or bitmoji avatar.\"], [\"we may also ask you to provide us with some additional information that will be publicly visible on our services, such as a profile picture or bitmoji avatar.\"], [\"other services, such as commerce products, may require you to provide us with a debit or credit card number and its associated account information.of course, you'll also provide us whatever information you send through our services, such as snaps and chats.\"], [\"keep in mind that the users who view your snaps, chats, and any other content can always save that content or copy it outside the app.\"], [\"so, the same common sense that applies to the internet at large applies to snapchat as well: don't send messages or share content that you wouldn't want someone to save or share.when\"], [\"we might know, for instance, that you watched a particular story, saw a specific ad for a certain period of time, and sent a few snaps.\"], [\"we might know, for instance, that you watched a particular story, saw a specific ad for a certain period of time, and sent a few snaps.\"], [\"we might know, for instance, that you watched a particular story, saw a specific ad for a certain period of time, and sent a few snaps.\"], [\"for example, we may collect information about:how you interact with our services, such as which filters you view or apply to snaps, which stories you watch on discover, whether you're using spectacles, or which search queries you\"], [\"submit.how you communicate with other snapchatters, such as their names, the time and date of your communications, the number of messages you exchange with your friends, which friends you exchange messages with the most, and your interactions with messages such as when you open a message or capture a screenshot.content information.\"], [\"because snapchat is all about communicating with friends, we may--with your permission--collect information from your device's phonebook.camera and photos.\"], [\"many of our services require us to collect images and other information from your device's camera and photos.\"], [\"for example, you won't be able to send snaps or upload photos from your camera roll unless we can access your camera or photos.location information.\"], [\"when you use our services we may collect information about your location.\"], [\"with your permission, we may also collect information about your precise location using methods that include gps, wireless networks, cell towers, wi-fi access points, and other sensors, such as gyroscopes, accelerometers, and compasses.information collected by cookies and other technologies.\"], [\"with your permission, we may also collect information about your precise location using methods that include gps, wireless networks, cell towers, wi-fi access points, and other sensors, such as gyroscopes, accelerometers, and compasses.information collected by cookies and other technologies.\"], [\"like most online services and mobile applications, we may use cookies and other technologies, such as web beacons, web storage, and unique advertising identifiers, to collect information about your activity, browser, and device.\"], [\"like most online services and mobile applications, we may use cookies and other technologies, such as web beacons, web storage, and unique advertising identifiers, to collect information about your activity, browser, and device.\"], [\"we may also use these technologies to collect information when you interact with services we offer through one of our partners, such as advertising and commerce features.\"], [\"for example, we may use information collected on other websites to show you more relevant ads.\"], [\"most web browsers are set to accept cookies by default.\"], [\"if you prefer, you can usually remove or reject browser cookies through the settings on your browser or device.\"], [\"if you prefer, you can usually remove or reject browser cookies through the settings on your browser or device.\"], [\"keep in mind, though, that removing or rejecting cookies could affect the availability and functionality of our services.\"], [\"viewed;ip address;identifiers associated with cookies or other technologies that may uniquely identify your device or browser; andpages you visited before or after navigating to our website.information we collect from third partieswe may collect information about you from other users, our affiliates, and third parties.\"], [\"viewed;ip address;identifiers associated with cookies or other technologies that may uniquely identify your device or browser; andpages you visited before or after navigating to our website.information we collect from third partieswe may collect information about you from other users, our affiliates, and third parties.\"], [\"here are a few examples:if you link your snapchat account to another service like bitmoji or a third-party app, we may receive information from the other service, like how you use that service.advertisers, app developers, publishers, and other third parties may share information with us as well.\"], [\"here are a few examples:if you link your snapchat account to another service like bitmoji or a third-party app, we may receive information from the other service, like how you use that service.advertisers, app developers, publishers, and other third parties may share information with us as well.\"], [\"here are a few examples:if you link your snapchat account to another service like bitmoji or a third-party app, we may receive information from the other service, like how you use that service.advertisers, app developers, publishers, and other third parties may share information with us as well.\"], [\"we may use this information, among other ways, to help target or measure the performance of ads.\"], [\"you can learn more about our use of this kind of third-party data in our support center.if another user uploads their contact list, we may combine information from that user's contact list with other information we have collected about you.how\"], [\"you can learn more about our use of this kind of third-party data in our support center.if another user uploads their contact list, we may combine information from that user's contact list with other information we have collected about you.how\"], [\"for example, we may use email to respond to support inquiries or to share information about our products, services, and promotional offers that we think may interest you.monitor and analyze trends and usage.personalize our services by, among_other_things , suggesting friends, profile information, or bitmoji stickers, or customizing the content we show you, including ads.contextualize your experience by, among_other_things , tagging your memories content using your precise location information\"], [\"for example, we may use email to respond to support inquiries or to share information about our products, services, and promotional offers that we think may interest you.monitor and analyze trends and usage.personalize our services by, among_other_things , suggesting friends, profile information, or bitmoji stickers, or customizing the content we show you, including ads.contextualize your experience by, among_other_things , tagging your memories content using your precise location information\"], [\"see the control over your information section below for more information about snap inc.'s advertising practices and your choices.enhance the safety and security of our products and services.verify your identity and prevent fraud or other unauthorized or illegal activity.use information we've collected from cookies and other technology to enhance our services and your experience with them.enforce our terms of service and other usage policies and comply with legal requirements.we may also use information from apple's truedepth camera to improve the quality of lenses.\"], [\"information from the truedepth camera is used in real time--we don't store this information on our servers or share it with third parties.how we share informationwe may share information about you in the following ways:with other snapchatters.\"], [\"we may share the following information with other snapchatters:information about you, such as your username, name, and bitmoji.information about how you have interacted with our services, such as your snapchat \\\"score,\\\" the names of snapchatters you are friends with, and other information that will help snapchatters understand your connections with others using our services.\"], [\"for example, because it may not be clear whether a new friend request comes from someone you actually know, we may share whether you and the requestor have snapchat friends in common.any additional information you have directed us to share.\"], [\"for example, because it may not be clear whether a new friend request comes from someone you actually know, we may share whether you and the requestor have snapchat friends in common.any additional information you have directed us to share.\"], [\"how widely your content is shared depends on your personal settings and the type of service you are using.\"], [\"for example, a snap may be sent to just a single friend you select, but your my story content may be seen by any snapchatter whom you allow to see your my story.with all snapchatters, our business partners, and the general public.\"], [\"for example, a snap may be sent to just a single friend you select, but your my story content may be seen by any snapchatter whom you allow to see your my story.with all snapchatters, our business partners, and the general public.\"], [\"for example, a snap may be sent to just a single friend you select, but your my story content may be seen by any snapchatter whom you allow to see your my story.with all snapchatters, our business partners, and the general public.\"], [\"we may share the following information with all snapchatters as well as with our business partners and the general public:public information like your name, username, snapcode and profile pictures.story submissions that are set to be viewable by everyone and any content that you submit to an inherently public service, like our story and other crowd-sourced services.\"], [\"we may share the following information with all snapchatters as well as with our business partners and the general public:public information like your name, username, snapcode and profile pictures.story submissions that are set to be viewable by everyone and any content that you submit to an inherently public service, like our story and other crowd-sourced services.\"], [\"we may share the following information with all snapchatters as well as with our business partners and the general public:public information like your name, username, snapcode and profile pictures.story submissions that are set to be viewable by everyone and any content that you submit to an inherently public service, like our story and other crowd-sourced services.\"], [\"this content may be viewed and shared by the public at large both on and off our services, including through search results, on websites, in apps, and in online and offline broadcasts.with our affiliates.\"], [\"we may share information with entities within the snap inc. family of companies.with third parties.\"], [\"we may share information about you with service providers who perform services on our behalf, including to measure and optimize the performance of ads and deliver more relevant ads, including on third-party websites and apps.\"], [\"learn more here.we may share information about you with business partners that provide services and functionality on our services.\"], [\"for more information about information collected by third parties on our services, visit our support site.we may share information about you, such as device and usage information, to help us and others prevent fraud.we may share information about you for legal, safety, and security reasons.\"], [\"for more information about information collected by third parties on our services, visit our support site.we may share information about you, such as device and usage information, to help us and others prevent fraud.we may share information about you for legal, safety, and security reasons.\"], [\"we may share information about you if we reasonably believe that disclosing the information is needed to:comply with any valid legal process, governmental request, or applicable law, rule, or regulation.investigate, remedy, or enforce potential terms of service violations.protect the rights, property, or safety of us, our users, or others.detect and resolve any fraud or security concerns.we may share information about you as part of a merger or acquisition.\"], [\"we may share information about you if we reasonably believe that disclosing the information is needed to:comply with any valid legal process, governmental request, or applicable law, rule, or regulation.investigate, remedy, or enforce potential terms of service violations.protect the rights, property, or safety of us, our users, or others.detect and resolve any fraud or security concerns.we may share information about you as part of a merger or acquisition.\"], [\"if snap inc. gets involved in a merger, asset sale, financing, liquidation or bankruptcy, or acquisition of all or some portion of our business to another company, we may share your information with that company before and after the transaction closes.we may also share with third parties that provide services to us or perform business purposes for us aggregated, non-personally identifiable, or de-identified information.third-party content and integrationsour services may contain third-party content and integrations.\"], [\"if snap inc. gets involved in a merger, asset sale, financing, liquidation or bankruptcy, or acquisition of all or some portion of our business to another company, we may share your information with that company before and after the transaction closes.we may also share with third parties that provide services to us or perform business purposes for us aggregated, non-personally identifiable, or de-identified information.third-party content and integrationsour services may contain third-party content and integrations.\"], [\"if snap inc. gets involved in a merger, asset sale, financing, liquidation or bankruptcy, or acquisition of all or some portion of our business to another company, we may share your information with that company before and after the transaction closes.we may also share with third parties that provide services to us or perform business purposes for us aggregated, non-personally identifiable, or de-identified information.third-party content and integrationsour services may contain third-party content and integrations.\"], [\"if snap inc. gets involved in a merger, asset sale, financing, liquidation or bankruptcy, or acquisition of all or some portion of our business to another company, we may share your information with that company before and after the transaction closes.we may also share with third parties that provide services to us or perform business purposes for us aggregated, non-personally identifiable, or de-identified information.third-party content and integrationsour services may contain third-party content and integrations.\"], [\"examples include third-party integrations in camera search, third-party games in chat, and third-party snap kit integrations.\"], [\"through these integrations, you may be providing information to the third party as well as to snap.\"], [\"you can learn more about third-party services in snapchat\"], [\"on our end, that means most messages--like snaps and chats--sent in snapchat will be automatically deleted by default from our servers after we detect they've been opened by all recipients or have expired.\"], [\"for example, if you use the map, we store information about your favorite places for up to 40 days so we can personalize and improve your experience.\"], [\"if location information is associated with a snap--like those saved to memories or posted to our story--we'll retain that location as long as we store the snap.we're constantly collecting and updating information about the things you might like and dislike, so we can provide you with more relevant content and advertisements.\"], [\"if location information is associated with a snap--like those saved to memories or posted to our story--we'll retain that location as long as we store the snap.we're constantly collecting and updating information about the things you might like and dislike, so we can provide you with more relevant content and advertisements.\"], [\"go here to learn more.if you ever decide to stop using snapchat, you can just ask us to delete your account.\"], [\"we'll also delete most of the information we've collected about you after you've been inactive for a while--but don't worry, we'll try to contact you first!keep in mind that, while our systems are designed to carry out our deletion practices automatically, we cannot promise that deletion will occur within a specific timeframe.\"], [\"we'll also delete most of the information we've collected about you after you've been inactive for a while--but don't worry, we'll try to contact you first!keep in mind that, while our systems are designed to carry out our deletion practices automatically, we cannot promise that deletion will occur within a specific timeframe.\"], [\"there may be legal requirements to store your data and we may need to suspend those deletion practices if we receive valid legal process asking us to preserve content, if we receive reports of abuse or other terms of service violations, or if your account or content created by you is flagged by our automated systems for abuse or other terms of service violations.\"], [\"there may be legal requirements to store your data and we may need to suspend those deletion practices if we receive valid legal process asking us to preserve content, if we receive reports of abuse or other terms of service violations, or if your account or content created by you is flagged by our automated systems for abuse or other terms of service violations.\"], [\"finally, we may also retain certain information in backup for a limited period of time or as required by law.control over your informationwe want you to be in control of your information, so we provide you with the following tools.access, correction, and portability.\"], [\"finally, we may also retain certain information in backup for a limited period of time or as required by law.control over your informationwe want you to be in control of your information, so we provide you with the following tools.access, correction, and portability.\"], [\"you can access and edit most of your basic account information right in our apps.\"], [\"you can access and edit most of your basic account information right in our apps.\"], [\"you can also use download my data to obtain a copy of information that isn't available in our apps in a portable format, so you can move it or store it wherever you want.\"], [\"you can also use download my data to obtain a copy of information that isn't available in our apps in a portable format, so you can move it or store it wherever you want.\"], [\"we may also reject your request to access or update your personal information for a number of reasons, including, for example, if the request risks the privacy of other users or is unlawful.revoking permissions.\"], [\"in most cases, if you let us use your information, you can simply revoke your permission by changing the settings in the app or on your device if your device offers those options.\"], [\"in most cases, if you let us use your information, you can simply revoke your permission by changing the settings in the app or on your device if your device offers those options.\"], [\"of course, if you do that, certain services may lose full functionality.deletion.\"], [\"of course, if you do that, certain services may lose full functionality.deletion.\"], [\"while we hope you'll remain a lifelong snapchatter, if for some reason you ever want to delete your account, just go here to learn how.\"], [\"you can also delete some information in the app, like photos you've saved to memories, our story submissions, and search history.advertising preferences.\"], [\"you can also delete some information in the app, like photos you've saved to memories, our story submissions, and search history.advertising preferences.\"], [\"if you would like to modify the information we and our advertising partners use to select these ads, you can do so in the app and through your device preferences.\"], [\"if you would like to modify the information we and our advertising partners use to select these ads, you can do so in the app and through your device preferences.\"], [\"here is some additional information we would like to bring to your attention:rights of access, deletion, correction, and portabilityyou can exercise your rights of access, deletion, correction, and portability as described in the control over your information section above.bases for using your informationyour country only allows us to use your personal information when certain conditions apply.\"], [\"here is some additional information we would like to bring to your attention:rights of access, deletion, correction, and portabilityyou can exercise your rights of access, deletion, correction, and portability as described in the control over your information section above.bases for using your informationyour country only allows us to use your personal information when certain conditions apply.\"], [\"here is some additional information we would like to bring to your attention:rights of access, deletion, correction, and portabilityyou can exercise your rights of access, deletion, correction, and portability as described in the control over your information section above.bases for using your informationyour country only allows us to use your personal information when certain conditions apply.\"], [\"here is some additional information we would like to bring to your attention:rights of access, deletion, correction, and portabilityyou can exercise your rights of access, deletion, correction, and portability as described in the control over your information section above.bases for using your informationyour country only allows us to use your personal information when certain conditions apply.\"], [\"these conditions are called \\\"legal bases\\\" and, at snap, we typically rely on one of four:contract.\"], [\"one reason we might use your information is because you've entered into an agreement with us.\"], [\"for example, when you buy an on-demand geofilter and accepted our custom creative tools terms, we need to use some of your information to collect payment and make sure we show your geofilter to the right people at the right place and time.legitimate interest.\"], [\"another reason we might use your information is because we have--or a third party has--a legitimate interest in doing so.\"], [\"because most of our services are free, we also use some information about you to try and show you ads\"], [\"because most of our services are free, we also use some information about you to try and show you ads\"], [\"an important point to understand about legitimate interest is that our interests don't outweigh your right to privacy, so we only rely on legitimate interest when we think the way we are using your data doesn't significantly impact your privacy or would be expected by you, or there is a compelling reason to do so.\"], [\"in some cases we'll ask for consent to use your information for specific purposes.\"], [\"if we do, we'll make sure you can revoke your consent in our services or through your device permissions.\"], [\"even if we're not relying on consent to use your information, we may ask you for permission to access data like contacts and location.legal obligation.\"], [\"we may be required to use your personal information to comply with the law, like when we respond to valid legal process or need to take action to protect our users.\"], [\"our policy is to notify snapchatters when we receive legal process seeking their account information, with some exceptions.\"], [\"with many types of data, we've provided you with the ability to simply delete it if you don't want us processing it anymore.\"], [\"you can do these things in the app.\"], [\"if there are other types of information you don't agree with us processing, you can contact us.international transferswe may collect your personal information from, transfer it to, and store and process it in the united states and other countries outside of where you live.\"], [\"if there are other types of information you don't agree with us processing, you can contact us.international transferswe may collect your personal information from, transfer it to, and store and process it in the united states and other countries outside of where you live.\"], [\"you can find more information on the categories of third parties we share information with here.complaints?\"], [\"if you're based in the eu, you can always file a complaint with the supervisory authority in your member state.users in brazilif\"], [\"here is some additional information we would like to bring to your attention:rights of access, deletion, correction, and portabilityyou can exercise your rights of access, deletion, correction, and portability as described in the control over your information section above.bases for using your informationyour country only allows us to use your personal information when certain conditions apply.\"], [\"here is some additional information we would like to bring to your attention:rights of access, deletion, correction, and portabilityyou can exercise your rights of access, deletion, correction, and portability as described in the control over your information section above.bases for using your informationyour country only allows us to use your personal information when certain conditions apply.\"], [\"here is some additional information we would like to bring to your attention:rights of access, deletion, correction, and portabilityyou can exercise your rights of access, deletion, correction, and portability as described in the control over your information section above.bases for using your informationyour country only allows us to use your personal information when certain conditions apply.\"], [\"here is some additional information we would like to bring to your attention:rights of access, deletion, correction, and portabilityyou can exercise your rights of access, deletion, correction, and portability as described in the control over your information section above.bases for using your informationyour country only allows us to use your personal information when certain conditions apply.\"], [\"these conditions are called \\\"legal bases\\\" and, at snap, we typically rely on one of four:contract.\"], [\"one reason we might use your information is because you've entered into an agreement with us.\"], [\"for example, when you buy an on-demand geofilter and accepted our custom creative tools terms, we need to use some of your information to collect payment and make sure we show your geofilter to the right people at the right place and time.legitimate interest.\"], [\"another reason we might use your information is because we have--or a third party has--a legitimate interest in doing so.\"], [\"because most of our services are free, we also use some information about you to try and show you ads\"], [\"because most of our services are free, we also use some information about you to try and show you ads\"], [\"an important point to understand about legitimate interest is that our interests don't outweigh your right to privacy, so we only rely on legitimate interest when we think the way we are using your data doesn't significantly impact your privacy or would be expected by you, or there is a compelling reason to do so.\"], [\"in some cases we'll ask for consent to use your information for specific purposes.\"], [\"if we do, we'll make sure you can revoke your consent in our services or through your device permissions.\"], [\"even if we're not relying on consent to use your information, we may ask you for permission to access data like contacts and location.legal obligation.\"], [\"we may be required to use your personal information to comply with the law, like when we respond to valid legal process or need to take action to protect our users.your right to objectyou have the right to object to our use of your information.\"], [\"with many types of data, we've provided you with the ability to simply delete it if you don't want us processing it anymore.\"], [\"you can do these things in the app.\"], [\"if there are other types of information you don't agree with us processing, you can contact us.complaints?\"], [\"you can always file a complaint with the national authority in your country.\"], [\"here is some additional information we would like to bring to your attention:rights of access, rectification, and cancellationyou can exercise your rights of access, rectification, and cancellation as described in the control over your information section\"], [\"here is some additional information we would like to bring to your attention:rights of access, rectification, and cancellationyou can exercise your rights of access, rectification, and cancellation as described in the control over your information section\"], [\"here is some additional information we would like to bring to your attention:rights of access, rectification, and cancellationyou can exercise your rights of access, rectification, and cancellation as described in the control over your information section\"], [\"with many types of data, we've provided you with the ability to simply delete it if you don't want us processing it anymore.\"], [\"you can do these things in the app.\"], [\"if there are other types of information you don't agree with us processing, you can contact us.california residentsif you're a california resident, you have certain privacy rights under california law, including the california consumer privacy act of 2018 \\\"ccpa\\\".\"], [\"if there are other types of information you don't agree with us processing, you can contact us.california residentsif you're a california resident, you have certain privacy rights under california law, including the california consumer privacy act of 2018 \\\"ccpa\\\".\"], [\"services are not intended for--and we don't direct them to--anyone under 13.\"], [\"and that's why we do not knowingly collect personal information from anyone under 13.\"], [\"in addition, we may limit how we collect, use, and store some of the information of eu users between 13 and 16.\"], [\"in addition, we may limit how we collect, use, and store some of the information of eu users between 13 and 16.\"], [\"in some cases, this means we will be unable to provide certain functionality to these users.\"], [\"in some cases, this means we will be unable to provide certain functionality to these users.\"], [\"if we need to rely on consent as a legal basis for processing your information and your country requires consent from a parent, we may require your parent's consent before we collect and use that information.revisions to the privacy policywe may change this privacy policy from_time_to_time .\"], [\"if we need to rely on consent as a legal basis for processing your information and your country requires consent from a parent, we may require your parent's consent before we collect and use that information.revisions to the privacy policywe may change this privacy policy from_time_to_time .\"], [\"if we need to rely on consent as a legal basis for processing your information and your country requires consent from a parent, we may require your parent's consent before we collect and use that information.revisions to the privacy policywe may change this privacy policy from_time_to_time .\"], [\"sometimes, we'll let you know by revising the date at the top of the privacy policy that's available on our website and mobile application.\"], [\"other times, we may provide you with additional notice such as adding a statement to our websites' homepages or providing you with an in-app notification.\"]], \"hovertemplate\": \"x=%{x}<br>y=%{y}<br>clean-text=%{customdata[0]}<extra></extra>\", \"legendgroup\": \"\", \"marker\": {\"color\": \"#636efa\", \"symbol\": \"circle\"}, \"mode\": \"markers\", \"name\": \"\", \"orientation\": \"v\", \"showlegend\": false, \"type\": \"scatter\", \"x\": [-13.187685012817383, 7.111425876617432, 2.1271021366119385, 2.1344008445739746, 2.130619764328003, 2.135104179382324, 2.131073236465454, 3.647106170654297, 3.639483690261841, -5.754276275634766, -5.82494592666626, 8.82075309753418, -2.083789348602295, 9.341328620910645, -2.3310165405273438, -2.4639816284179688, -2.08894944190979, 8.26970100402832, 8.988591194152832, 0.018086617812514305, -11.22622013092041, 4.56195592880249, -13.954825401306152, 6.981205940246582, 7.1974568367004395, 1.7964026927947998, 2.4481120109558105, -4.63050651550293, -8.954338073730469, -7.5479960441589355, -7.591888427734375, -8.289813995361328, 4.713623046875, 4.740650177001953, 4.785712718963623, -4.540915489196777, -4.5024566650390625, -4.513457775115967, -3.3111720085144043, 3.1695237159729004, 3.1935884952545166, 10.513559341430664, 10.527162551879883, 10.530229568481445, 4.946913719177246, 5.793867588043213, 5.3540215492248535, 5.243403434753418, -0.45513445138931274, 6.186650276184082, 6.194760799407959, 6.209356784820557, 6.799769401550293, 6.6430463790893555, 6.863836765289307, 8.072152137756348, -3.5827081203460693, 5.950445652008057, -9.250125885009766, 5.171835422515869, 5.175534248352051, 10.653056144714355, 10.669904708862305, 8.859058380126953, 7.138209342956543, 8.864655494689941, 7.142030715942383, 5.026069641113281, -8.038744926452637, -13.850186347961426, 9.948930740356445, 5.194450378417969, 4.863548278808594, 4.767306804656982, 3.834531784057617, 9.42056941986084, 9.349882125854492, 8.815239906311035, 8.822280883789062, -1.642389178276062, -1.6423968076705933, -11.981844902038574, -12.248085975646973, 2.7986435890197754, 2.379836082458496, 0.9372233152389526, -7.175452709197998, -7.159243583679199, -10.357645034790039, -11.025798797607422, 5.72498083114624, -5.061612606048584, -5.668614387512207, -8.322580337524414, -8.084299087524414, -7.292563438415527, -6.568686485290527, -7.064641952514648, -6.57651948928833, -3.128021001815796, -8.961974143981934, 5.495935916900635, -4.5855512619018555, -12.15227222442627, -12.588860511779785, 7.642355918884277, -12.029126167297363, -10.974669456481934, -4.394397258758545, 0.2918337285518646, -3.823988437652588, -3.675748109817505, -13.474687576293945, 4.6094489097595215, 2.836482048034668, -9.414952278137207, 3.634770393371582, -6.854176044464111, -7.2491960525512695, -6.593006610870361, -7.300786972045898, -3.393433094024658, -8.807827949523926, 5.1866984367370605, -4.258719444274902, -12.41880989074707, -12.86768913269043, 7.78281831741333, -11.943936347961426, -11.01431941986084, -4.607020378112793, 0.8092501163482666, -3.5375099182128906, -13.954286575317383, -9.985201835632324, -7.922772407531738, -6.917322635650635, -6.919581413269043, -6.9222564697265625, -3.5178260803222656, -13.376482009887695, 1.9335135221481323, 1.9587823152542114, 0.3495906591415405, -3.945788860321045, -3.06195330619812, -3.2930803298950195, -9.180838584899902, -9.238519668579102, 0.5202071666717529, 0.4244910776615143, 0.4054003059864044, 4.019076347351074, 5.935143947601318], \"xaxis\": \"x\", \"y\": [4.814410209655762, -1.9578969478607178, -6.582714080810547, -6.58812952041626, -6.584867000579834, -6.586002826690674, -6.584062099456787, 0.8024564385414124, 0.7812126874923706, 4.487738132476807, 4.7284393310546875, -2.165900230407715, 1.6910452842712402, -1.8346490859985352, 2.946780204772949, 3.084150791168213, 3.165726900100708, -1.776734471321106, -1.4312939643859863, 0.5276505947113037, 4.684165954589844, -1.4798438549041748, 4.816187381744385, -1.019070029258728, -1.2512837648391724, -0.16108489036560059, -0.5153753161430359, 1.4801069498062134, 2.721311092376709, 3.2515108585357666, 2.7136776447296143, 2.6392946243286133, -1.4047572612762451, 3.55576753616333, 3.4221363067626953, 5.654606342315674, 5.55601167678833, 5.613372325897217, 1.5073647499084473, 2.1105010509490967, 2.1380562782287598, -1.868518590927124, -1.8119142055511475, -0.9016481041908264, 2.8821425437927246, 3.045137405395508, 1.192441463470459, 1.252664566040039, 0.2148057073354721, 1.7686091661453247, 1.7257812023162842, 1.7761986255645752, 3.560096502304077, 3.522132635116577, 3.5116891860961914, -1.6778472661972046, 2.399141788482666, -0.8384935259819031, 1.9610391855239868, 3.6861400604248047, 3.8036720752716064, -2.603224277496338, -2.5890109539031982, 0.566349446773529, -4.532308101654053, 0.5215139985084534, -4.5277252197265625, -1.1340004205703735, 2.939260482788086, 5.048738956451416, -2.07893443107605, -1.6904382705688477, 1.6918126344680786, 1.6606193780899048, -2.044306755065918, -3.047574043273926, -3.0992331504821777, -4.709587574005127, -4.682521820068359, -2.38248872756958, -2.3836116790771484, 5.299514293670654, 5.068533897399902, 0.5028722286224365, 0.740259051322937, 0.477781742811203, 2.1178488731384277, 2.0836963653564453, 4.260681629180908, 4.374978065490723, -2.4565110206604004, 2.0032801628112793, 2.2840576171875, 3.8555009365081787, 4.039525508880615, -5.887999534606934, -5.9626336097717285, -6.331398010253906, -5.920346736907959, 1.7702562808990479, 3.2639365196228027, -1.971280574798584, 3.1886425018310547, 3.9174065589904785, 4.0912322998046875, -3.082775592803955, 4.804814338684082, 3.853302001953125, 2.1957337856292725, 1.5532804727554321, 2.534992218017578, 3.8574228286743164, 5.685486793518066, -2.4333462715148926, -1.4424463510513306, 2.804154872894287, -1.4487426280975342, -6.336031913757324, -5.825003623962402, -6.090190410614014, -6.129507541656494, 1.2035455703735352, 3.474914312362671, -1.974822998046875, 2.984463691711426, 3.6827664375305176, 4.118143081665039, -3.0843639373779297, 4.5240159034729, 3.681356906890869, 2.0371930599212646, 1.458056092262268, 3.774641513824463, 5.527307033538818, 3.2325215339660645, 3.3784687519073486, -5.049403667449951, -5.025097370147705, -5.031725883483887, 3.9454050064086914, 5.584380626678467, -2.5432095527648926, -2.572530746459961, 0.8033632040023804, 1.24248468875885, 0.34007522463798523, 0.6518235802650452, 4.0771260261535645, 3.803107976913452, -1.1486284732818604, -1.0704331398010254, -1.045560359954834, -0.9565336108207703, -1.278965711593628], \"yaxis\": \"y\"}],                        {\"legend\": {\"tracegroupgap\": 0}, \"template\": {\"data\": {\"bar\": [{\"error_x\": {\"color\": \"#2a3f5f\"}, \"error_y\": {\"color\": \"#2a3f5f\"}, \"marker\": {\"line\": {\"color\": \"#E5ECF6\", \"width\": 0.5}}, \"type\": \"bar\"}], \"barpolar\": [{\"marker\": {\"line\": {\"color\": \"#E5ECF6\", \"width\": 0.5}}, \"type\": \"barpolar\"}], \"carpet\": [{\"aaxis\": {\"endlinecolor\": \"#2a3f5f\", \"gridcolor\": \"white\", \"linecolor\": \"white\", \"minorgridcolor\": \"white\", \"startlinecolor\": \"#2a3f5f\"}, \"baxis\": {\"endlinecolor\": \"#2a3f5f\", \"gridcolor\": \"white\", \"linecolor\": \"white\", \"minorgridcolor\": \"white\", \"startlinecolor\": \"#2a3f5f\"}, \"type\": \"carpet\"}], \"choropleth\": [{\"colorbar\": {\"outlinewidth\": 0, \"ticks\": \"\"}, \"type\": \"choropleth\"}], \"contour\": [{\"colorbar\": {\"outlinewidth\": 0, \"ticks\": \"\"}, \"colorscale\": [[0.0, \"#0d0887\"], [0.1111111111111111, \"#46039f\"], [0.2222222222222222, \"#7201a8\"], [0.3333333333333333, \"#9c179e\"], [0.4444444444444444, \"#bd3786\"], [0.5555555555555556, \"#d8576b\"], [0.6666666666666666, \"#ed7953\"], [0.7777777777777778, \"#fb9f3a\"], [0.8888888888888888, \"#fdca26\"], [1.0, \"#f0f921\"]], \"type\": \"contour\"}], \"contourcarpet\": [{\"colorbar\": {\"outlinewidth\": 0, \"ticks\": \"\"}, \"type\": \"contourcarpet\"}], \"heatmap\": [{\"colorbar\": {\"outlinewidth\": 0, \"ticks\": \"\"}, \"colorscale\": [[0.0, \"#0d0887\"], [0.1111111111111111, \"#46039f\"], [0.2222222222222222, \"#7201a8\"], [0.3333333333333333, \"#9c179e\"], [0.4444444444444444, \"#bd3786\"], [0.5555555555555556, \"#d8576b\"], [0.6666666666666666, \"#ed7953\"], [0.7777777777777778, \"#fb9f3a\"], [0.8888888888888888, \"#fdca26\"], [1.0, \"#f0f921\"]], \"type\": \"heatmap\"}], \"heatmapgl\": [{\"colorbar\": {\"outlinewidth\": 0, \"ticks\": \"\"}, \"colorscale\": [[0.0, \"#0d0887\"], [0.1111111111111111, \"#46039f\"], [0.2222222222222222, \"#7201a8\"], [0.3333333333333333, \"#9c179e\"], [0.4444444444444444, \"#bd3786\"], [0.5555555555555556, \"#d8576b\"], [0.6666666666666666, \"#ed7953\"], [0.7777777777777778, \"#fb9f3a\"], [0.8888888888888888, \"#fdca26\"], [1.0, \"#f0f921\"]], \"type\": \"heatmapgl\"}], \"histogram\": [{\"marker\": {\"colorbar\": {\"outlinewidth\": 0, \"ticks\": \"\"}}, \"type\": \"histogram\"}], \"histogram2d\": [{\"colorbar\": {\"outlinewidth\": 0, \"ticks\": \"\"}, \"colorscale\": [[0.0, \"#0d0887\"], [0.1111111111111111, \"#46039f\"], [0.2222222222222222, \"#7201a8\"], [0.3333333333333333, \"#9c179e\"], [0.4444444444444444, \"#bd3786\"], [0.5555555555555556, \"#d8576b\"], [0.6666666666666666, \"#ed7953\"], [0.7777777777777778, \"#fb9f3a\"], [0.8888888888888888, \"#fdca26\"], [1.0, \"#f0f921\"]], \"type\": \"histogram2d\"}], \"histogram2dcontour\": [{\"colorbar\": {\"outlinewidth\": 0, \"ticks\": \"\"}, \"colorscale\": [[0.0, \"#0d0887\"], [0.1111111111111111, \"#46039f\"], [0.2222222222222222, \"#7201a8\"], [0.3333333333333333, \"#9c179e\"], [0.4444444444444444, \"#bd3786\"], [0.5555555555555556, \"#d8576b\"], [0.6666666666666666, \"#ed7953\"], [0.7777777777777778, \"#fb9f3a\"], [0.8888888888888888, \"#fdca26\"], [1.0, \"#f0f921\"]], \"type\": \"histogram2dcontour\"}], \"mesh3d\": [{\"colorbar\": {\"outlinewidth\": 0, \"ticks\": \"\"}, \"type\": \"mesh3d\"}], \"parcoords\": [{\"line\": {\"colorbar\": {\"outlinewidth\": 0, \"ticks\": \"\"}}, \"type\": \"parcoords\"}], \"pie\": [{\"automargin\": true, \"type\": \"pie\"}], \"scatter\": [{\"marker\": {\"colorbar\": {\"outlinewidth\": 0, \"ticks\": \"\"}}, \"type\": \"scatter\"}], \"scatter3d\": [{\"line\": {\"colorbar\": {\"outlinewidth\": 0, \"ticks\": \"\"}}, \"marker\": {\"colorbar\": {\"outlinewidth\": 0, \"ticks\": \"\"}}, \"type\": \"scatter3d\"}], \"scattercarpet\": [{\"marker\": {\"colorbar\": {\"outlinewidth\": 0, \"ticks\": \"\"}}, \"type\": \"scattercarpet\"}], \"scattergeo\": [{\"marker\": {\"colorbar\": {\"outlinewidth\": 0, \"ticks\": \"\"}}, \"type\": \"scattergeo\"}], \"scattergl\": [{\"marker\": {\"colorbar\": {\"outlinewidth\": 0, \"ticks\": \"\"}}, \"type\": \"scattergl\"}], \"scattermapbox\": [{\"marker\": {\"colorbar\": {\"outlinewidth\": 0, \"ticks\": \"\"}}, \"type\": \"scattermapbox\"}], \"scatterpolar\": [{\"marker\": {\"colorbar\": {\"outlinewidth\": 0, \"ticks\": \"\"}}, \"type\": \"scatterpolar\"}], \"scatterpolargl\": [{\"marker\": {\"colorbar\": {\"outlinewidth\": 0, \"ticks\": \"\"}}, \"type\": \"scatterpolargl\"}], \"scatterternary\": [{\"marker\": {\"colorbar\": {\"outlinewidth\": 0, \"ticks\": \"\"}}, \"type\": \"scatterternary\"}], \"surface\": [{\"colorbar\": {\"outlinewidth\": 0, \"ticks\": \"\"}, \"colorscale\": [[0.0, \"#0d0887\"], [0.1111111111111111, \"#46039f\"], [0.2222222222222222, \"#7201a8\"], [0.3333333333333333, \"#9c179e\"], [0.4444444444444444, \"#bd3786\"], [0.5555555555555556, \"#d8576b\"], [0.6666666666666666, \"#ed7953\"], [0.7777777777777778, \"#fb9f3a\"], [0.8888888888888888, \"#fdca26\"], [1.0, \"#f0f921\"]], \"type\": \"surface\"}], \"table\": [{\"cells\": {\"fill\": {\"color\": \"#EBF0F8\"}, \"line\": {\"color\": \"white\"}}, \"header\": {\"fill\": {\"color\": \"#C8D4E3\"}, \"line\": {\"color\": \"white\"}}, \"type\": \"table\"}]}, \"layout\": {\"annotationdefaults\": {\"arrowcolor\": \"#2a3f5f\", \"arrowhead\": 0, \"arrowwidth\": 1}, \"autotypenumbers\": \"strict\", \"coloraxis\": {\"colorbar\": {\"outlinewidth\": 0, \"ticks\": \"\"}}, \"colorscale\": {\"diverging\": [[0, \"#8e0152\"], [0.1, \"#c51b7d\"], [0.2, \"#de77ae\"], [0.3, \"#f1b6da\"], [0.4, \"#fde0ef\"], [0.5, \"#f7f7f7\"], [0.6, \"#e6f5d0\"], [0.7, \"#b8e186\"], [0.8, \"#7fbc41\"], [0.9, \"#4d9221\"], [1, \"#276419\"]], \"sequential\": [[0.0, \"#0d0887\"], [0.1111111111111111, \"#46039f\"], [0.2222222222222222, \"#7201a8\"], [0.3333333333333333, \"#9c179e\"], [0.4444444444444444, \"#bd3786\"], [0.5555555555555556, \"#d8576b\"], [0.6666666666666666, \"#ed7953\"], [0.7777777777777778, \"#fb9f3a\"], [0.8888888888888888, \"#fdca26\"], [1.0, \"#f0f921\"]], \"sequentialminus\": [[0.0, \"#0d0887\"], [0.1111111111111111, \"#46039f\"], [0.2222222222222222, \"#7201a8\"], [0.3333333333333333, \"#9c179e\"], [0.4444444444444444, \"#bd3786\"], [0.5555555555555556, \"#d8576b\"], [0.6666666666666666, \"#ed7953\"], [0.7777777777777778, \"#fb9f3a\"], [0.8888888888888888, \"#fdca26\"], [1.0, \"#f0f921\"]]}, \"colorway\": [\"#636efa\", \"#EF553B\", \"#00cc96\", \"#ab63fa\", \"#FFA15A\", \"#19d3f3\", \"#FF6692\", \"#B6E880\", \"#FF97FF\", \"#FECB52\"], \"font\": {\"color\": \"#2a3f5f\"}, \"geo\": {\"bgcolor\": \"white\", \"lakecolor\": \"white\", \"landcolor\": \"#E5ECF6\", \"showlakes\": true, \"showland\": true, \"subunitcolor\": \"white\"}, \"hoverlabel\": {\"align\": \"left\"}, \"hovermode\": \"closest\", \"mapbox\": {\"style\": \"light\"}, \"paper_bgcolor\": \"white\", \"plot_bgcolor\": \"#E5ECF6\", \"polar\": {\"angularaxis\": {\"gridcolor\": \"white\", \"linecolor\": \"white\", \"ticks\": \"\"}, \"bgcolor\": \"#E5ECF6\", \"radialaxis\": {\"gridcolor\": \"white\", \"linecolor\": \"white\", \"ticks\": \"\"}}, \"scene\": {\"xaxis\": {\"backgroundcolor\": \"#E5ECF6\", \"gridcolor\": \"white\", \"gridwidth\": 2, \"linecolor\": \"white\", \"showbackground\": true, \"ticks\": \"\", \"zerolinecolor\": \"white\"}, \"yaxis\": {\"backgroundcolor\": \"#E5ECF6\", \"gridcolor\": \"white\", \"gridwidth\": 2, \"linecolor\": \"white\", \"showbackground\": true, \"ticks\": \"\", \"zerolinecolor\": \"white\"}, \"zaxis\": {\"backgroundcolor\": \"#E5ECF6\", \"gridcolor\": \"white\", \"gridwidth\": 2, \"linecolor\": \"white\", \"showbackground\": true, \"ticks\": \"\", \"zerolinecolor\": \"white\"}}, \"shapedefaults\": {\"line\": {\"color\": \"#2a3f5f\"}}, \"ternary\": {\"aaxis\": {\"gridcolor\": \"white\", \"linecolor\": \"white\", \"ticks\": \"\"}, \"baxis\": {\"gridcolor\": \"white\", \"linecolor\": \"white\", \"ticks\": \"\"}, \"bgcolor\": \"#E5ECF6\", \"caxis\": {\"gridcolor\": \"white\", \"linecolor\": \"white\", \"ticks\": \"\"}}, \"title\": {\"x\": 0.05}, \"xaxis\": {\"automargin\": true, \"gridcolor\": \"white\", \"linecolor\": \"white\", \"ticks\": \"\", \"title\": {\"standoff\": 15}, \"zerolinecolor\": \"white\", \"zerolinewidth\": 2}, \"yaxis\": {\"automargin\": true, \"gridcolor\": \"white\", \"linecolor\": \"white\", \"ticks\": \"\", \"title\": {\"standoff\": 15}, \"zerolinecolor\": \"white\", \"zerolinewidth\": 2}}}, \"title\": {\"text\": \"C2V\"}, \"xaxis\": {\"anchor\": \"y\", \"domain\": [0.0, 1.0], \"title\": {\"text\": \"x\"}}, \"yaxis\": {\"anchor\": \"x\", \"domain\": [0.0, 1.0], \"title\": {\"text\": \"y\"}}},                        {\"responsive\": true}                    ).then(function(){\n",
       "                            \n",
       "var gd = document.getElementById('baac7b16-7659-4b3a-9984-1caba0e497ab');\n",
       "var x = new MutationObserver(function (mutations, observer) {{\n",
       "        var display = window.getComputedStyle(gd).display;\n",
       "        if (!display || display === 'none') {{\n",
       "            console.log([gd, 'removed!']);\n",
       "            Plotly.purge(gd);\n",
       "            observer.disconnect();\n",
       "        }}\n",
       "}});\n",
       "\n",
       "// Listen for the removal of the full notebook cells\n",
       "var notebookContainer = gd.closest('#notebook-container');\n",
       "if (notebookContainer) {{\n",
       "    x.observe(notebookContainer, {childList: true});\n",
       "}}\n",
       "\n",
       "// Listen for the clearing of the current output cell\n",
       "var outputEl = gd.closest('.output');\n",
       "if (outputEl) {{\n",
       "    x.observe(outputEl, {childList: true});\n",
       "}}\n",
       "\n",
       "                        })                };                });            </script>        </div>"
      ]
     },
     "metadata": {},
     "output_type": "display_data"
    }
   ],
   "source": [
    "\n",
    "hero.scatterplot(df, col='tsnec2v'\n",
    "                 , title=\"C2V\", hover_data = ['clean-text'])"
   ]
  },
  {
   "cell_type": "code",
   "execution_count": 34,
   "id": "5b421c14",
   "metadata": {},
   "outputs": [
    {
     "data": {
      "application/vnd.plotly.v1+json": {
       "config": {
        "plotlyServerURL": "https://plot.ly"
       },
       "data": [
        {
         "customdata": [
          [
           "you use these services, you'll share some information with us."
          ],
          [
           "and it's why we've tried to write it in a way that's blissfully free of the legalese that often clouds these documents."
          ],
          [
           "of course, if you still have questions about anything in our privacy policy, just contact us.you should read our entire privacy policy, but when you only have a few minutes or want to remember something later on, you can always take a look at this summary--so you can review some of the basics in just a few minutes.information"
          ],
          [
           "of course, if you still have questions about anything in our privacy policy, just contact us.you should read our entire privacy policy, but when you only have a few minutes or want to remember something later on, you can always take a look at this summary--so you can review some of the basics in just a few minutes.information"
          ],
          [
           "of course, if you still have questions about anything in our privacy policy, just contact us.you should read our entire privacy policy, but when you only have a few minutes or want to remember something later on, you can always take a look at this summary--so you can review some of the basics in just a few minutes.information"
          ],
          [
           "of course, if you still have questions about anything in our privacy policy, just contact us.you should read our entire privacy policy, but when you only have a few minutes or want to remember something later on, you can always take a look at this summary--so you can review some of the basics in just a few minutes.information"
          ],
          [
           "of course, if you still have questions about anything in our privacy policy, just contact us.you should read our entire privacy policy, but when you only have a few minutes or want to remember something later on, you can always take a look at this summary--so you can review some of the basics in just a few minutes.information"
          ],
          [
           "for example, most of our services require you to set up a snapchat account, so we need to collect a few important details about you, such as your name, username, password, email address, phone number, and date of birth."
          ],
          [
           "for example, most of our services require you to set up a snapchat account, so we need to collect a few important details about you, such as your name, username, password, email address, phone number, and date of birth."
          ],
          [
           "we may also ask you to provide us with some additional information that will be publicly visible on our services, such as a profile picture or bitmoji avatar."
          ],
          [
           "we may also ask you to provide us with some additional information that will be publicly visible on our services, such as a profile picture or bitmoji avatar."
          ],
          [
           "other services, such as commerce products, may require you to provide us with a debit or credit card number and its associated account information.of course, you'll also provide us whatever information you send through our services, such as snaps and chats."
          ],
          [
           "keep in mind that the users who view your snaps, chats, and any other content can always save that content or copy it outside the app."
          ],
          [
           "so, the same common sense that applies to the internet at large applies to snapchat as well: don't send messages or share content that you wouldn't want someone to save or share.when"
          ],
          [
           "we might know, for instance, that you watched a particular story, saw a specific ad for a certain period of time, and sent a few snaps."
          ],
          [
           "we might know, for instance, that you watched a particular story, saw a specific ad for a certain period of time, and sent a few snaps."
          ],
          [
           "we might know, for instance, that you watched a particular story, saw a specific ad for a certain period of time, and sent a few snaps."
          ],
          [
           "for example, we may collect information about:how you interact with our services, such as which filters you view or apply to snaps, which stories you watch on discover, whether you're using spectacles, or which search queries you"
          ],
          [
           "submit.how you communicate with other snapchatters, such as their names, the time and date of your communications, the number of messages you exchange with your friends, which friends you exchange messages with the most, and your interactions with messages such as when you open a message or capture a screenshot.content information."
          ],
          [
           "because snapchat is all about communicating with friends, we may--with your permission--collect information from your device's phonebook.camera and photos."
          ],
          [
           "many of our services require us to collect images and other information from your device's camera and photos."
          ],
          [
           "for example, you won't be able to send snaps or upload photos from your camera roll unless we can access your camera or photos.location information."
          ],
          [
           "when you use our services we may collect information about your location."
          ],
          [
           "with your permission, we may also collect information about your precise location using methods that include gps, wireless networks, cell towers, wi-fi access points, and other sensors, such as gyroscopes, accelerometers, and compasses.information collected by cookies and other technologies."
          ],
          [
           "with your permission, we may also collect information about your precise location using methods that include gps, wireless networks, cell towers, wi-fi access points, and other sensors, such as gyroscopes, accelerometers, and compasses.information collected by cookies and other technologies."
          ],
          [
           "like most online services and mobile applications, we may use cookies and other technologies, such as web beacons, web storage, and unique advertising identifiers, to collect information about your activity, browser, and device."
          ],
          [
           "like most online services and mobile applications, we may use cookies and other technologies, such as web beacons, web storage, and unique advertising identifiers, to collect information about your activity, browser, and device."
          ],
          [
           "we may also use these technologies to collect information when you interact with services we offer through one of our partners, such as advertising and commerce features."
          ],
          [
           "for example, we may use information collected on other websites to show you more relevant ads."
          ],
          [
           "most web browsers are set to accept cookies by default."
          ],
          [
           "if you prefer, you can usually remove or reject browser cookies through the settings on your browser or device."
          ],
          [
           "if you prefer, you can usually remove or reject browser cookies through the settings on your browser or device."
          ],
          [
           "keep in mind, though, that removing or rejecting cookies could affect the availability and functionality of our services."
          ],
          [
           "viewed;ip address;identifiers associated with cookies or other technologies that may uniquely identify your device or browser; andpages you visited before or after navigating to our website.information we collect from third partieswe may collect information about you from other users, our affiliates, and third parties."
          ],
          [
           "viewed;ip address;identifiers associated with cookies or other technologies that may uniquely identify your device or browser; andpages you visited before or after navigating to our website.information we collect from third partieswe may collect information about you from other users, our affiliates, and third parties."
          ],
          [
           "here are a few examples:if you link your snapchat account to another service like bitmoji or a third-party app, we may receive information from the other service, like how you use that service.advertisers, app developers, publishers, and other third parties may share information with us as well."
          ],
          [
           "here are a few examples:if you link your snapchat account to another service like bitmoji or a third-party app, we may receive information from the other service, like how you use that service.advertisers, app developers, publishers, and other third parties may share information with us as well."
          ],
          [
           "here are a few examples:if you link your snapchat account to another service like bitmoji or a third-party app, we may receive information from the other service, like how you use that service.advertisers, app developers, publishers, and other third parties may share information with us as well."
          ],
          [
           "we may use this information, among other ways, to help target or measure the performance of ads."
          ],
          [
           "you can learn more about our use of this kind of third-party data in our support center.if another user uploads their contact list, we may combine information from that user's contact list with other information we have collected about you.how"
          ],
          [
           "you can learn more about our use of this kind of third-party data in our support center.if another user uploads their contact list, we may combine information from that user's contact list with other information we have collected about you.how"
          ],
          [
           "for example, we may use email to respond to support inquiries or to share information about our products, services, and promotional offers that we think may interest you.monitor and analyze trends and usage.personalize our services by, among_other_things , suggesting friends, profile information, or bitmoji stickers, or customizing the content we show you, including ads.contextualize your experience by, among_other_things , tagging your memories content using your precise location information"
          ],
          [
           "for example, we may use email to respond to support inquiries or to share information about our products, services, and promotional offers that we think may interest you.monitor and analyze trends and usage.personalize our services by, among_other_things , suggesting friends, profile information, or bitmoji stickers, or customizing the content we show you, including ads.contextualize your experience by, among_other_things , tagging your memories content using your precise location information"
          ],
          [
           "see the control over your information section below for more information about snap inc.'s advertising practices and your choices.enhance the safety and security of our products and services.verify your identity and prevent fraud or other unauthorized or illegal activity.use information we've collected from cookies and other technology to enhance our services and your experience with them.enforce our terms of service and other usage policies and comply with legal requirements.we may also use information from apple's truedepth camera to improve the quality of lenses."
          ],
          [
           "information from the truedepth camera is used in real time--we don't store this information on our servers or share it with third parties.how we share informationwe may share information about you in the following ways:with other snapchatters."
          ],
          [
           "we may share the following information with other snapchatters:information about you, such as your username, name, and bitmoji.information about how you have interacted with our services, such as your snapchat \"score,\" the names of snapchatters you are friends with, and other information that will help snapchatters understand your connections with others using our services."
          ],
          [
           "for example, because it may not be clear whether a new friend request comes from someone you actually know, we may share whether you and the requestor have snapchat friends in common.any additional information you have directed us to share."
          ],
          [
           "for example, because it may not be clear whether a new friend request comes from someone you actually know, we may share whether you and the requestor have snapchat friends in common.any additional information you have directed us to share."
          ],
          [
           "how widely your content is shared depends on your personal settings and the type of service you are using."
          ],
          [
           "for example, a snap may be sent to just a single friend you select, but your my story content may be seen by any snapchatter whom you allow to see your my story.with all snapchatters, our business partners, and the general public."
          ],
          [
           "for example, a snap may be sent to just a single friend you select, but your my story content may be seen by any snapchatter whom you allow to see your my story.with all snapchatters, our business partners, and the general public."
          ],
          [
           "for example, a snap may be sent to just a single friend you select, but your my story content may be seen by any snapchatter whom you allow to see your my story.with all snapchatters, our business partners, and the general public."
          ],
          [
           "we may share the following information with all snapchatters as well as with our business partners and the general public:public information like your name, username, snapcode and profile pictures.story submissions that are set to be viewable by everyone and any content that you submit to an inherently public service, like our story and other crowd-sourced services."
          ],
          [
           "we may share the following information with all snapchatters as well as with our business partners and the general public:public information like your name, username, snapcode and profile pictures.story submissions that are set to be viewable by everyone and any content that you submit to an inherently public service, like our story and other crowd-sourced services."
          ],
          [
           "we may share the following information with all snapchatters as well as with our business partners and the general public:public information like your name, username, snapcode and profile pictures.story submissions that are set to be viewable by everyone and any content that you submit to an inherently public service, like our story and other crowd-sourced services."
          ],
          [
           "this content may be viewed and shared by the public at large both on and off our services, including through search results, on websites, in apps, and in online and offline broadcasts.with our affiliates."
          ],
          [
           "we may share information with entities within the snap inc. family of companies.with third parties."
          ],
          [
           "we may share information about you with service providers who perform services on our behalf, including to measure and optimize the performance of ads and deliver more relevant ads, including on third-party websites and apps."
          ],
          [
           "learn more here.we may share information about you with business partners that provide services and functionality on our services."
          ],
          [
           "for more information about information collected by third parties on our services, visit our support site.we may share information about you, such as device and usage information, to help us and others prevent fraud.we may share information about you for legal, safety, and security reasons."
          ],
          [
           "for more information about information collected by third parties on our services, visit our support site.we may share information about you, such as device and usage information, to help us and others prevent fraud.we may share information about you for legal, safety, and security reasons."
          ],
          [
           "we may share information about you if we reasonably believe that disclosing the information is needed to:comply with any valid legal process, governmental request, or applicable law, rule, or regulation.investigate, remedy, or enforce potential terms of service violations.protect the rights, property, or safety of us, our users, or others.detect and resolve any fraud or security concerns.we may share information about you as part of a merger or acquisition."
          ],
          [
           "we may share information about you if we reasonably believe that disclosing the information is needed to:comply with any valid legal process, governmental request, or applicable law, rule, or regulation.investigate, remedy, or enforce potential terms of service violations.protect the rights, property, or safety of us, our users, or others.detect and resolve any fraud or security concerns.we may share information about you as part of a merger or acquisition."
          ],
          [
           "if snap inc. gets involved in a merger, asset sale, financing, liquidation or bankruptcy, or acquisition of all or some portion of our business to another company, we may share your information with that company before and after the transaction closes.we may also share with third parties that provide services to us or perform business purposes for us aggregated, non-personally identifiable, or de-identified information.third-party content and integrationsour services may contain third-party content and integrations."
          ],
          [
           "if snap inc. gets involved in a merger, asset sale, financing, liquidation or bankruptcy, or acquisition of all or some portion of our business to another company, we may share your information with that company before and after the transaction closes.we may also share with third parties that provide services to us or perform business purposes for us aggregated, non-personally identifiable, or de-identified information.third-party content and integrationsour services may contain third-party content and integrations."
          ],
          [
           "if snap inc. gets involved in a merger, asset sale, financing, liquidation or bankruptcy, or acquisition of all or some portion of our business to another company, we may share your information with that company before and after the transaction closes.we may also share with third parties that provide services to us or perform business purposes for us aggregated, non-personally identifiable, or de-identified information.third-party content and integrationsour services may contain third-party content and integrations."
          ],
          [
           "if snap inc. gets involved in a merger, asset sale, financing, liquidation or bankruptcy, or acquisition of all or some portion of our business to another company, we may share your information with that company before and after the transaction closes.we may also share with third parties that provide services to us or perform business purposes for us aggregated, non-personally identifiable, or de-identified information.third-party content and integrationsour services may contain third-party content and integrations."
          ],
          [
           "examples include third-party integrations in camera search, third-party games in chat, and third-party snap kit integrations."
          ],
          [
           "through these integrations, you may be providing information to the third party as well as to snap."
          ],
          [
           "you can learn more about third-party services in snapchat"
          ],
          [
           "on our end, that means most messages--like snaps and chats--sent in snapchat will be automatically deleted by default from our servers after we detect they've been opened by all recipients or have expired."
          ],
          [
           "for example, if you use the map, we store information about your favorite places for up to 40 days so we can personalize and improve your experience."
          ],
          [
           "if location information is associated with a snap--like those saved to memories or posted to our story--we'll retain that location as long as we store the snap.we're constantly collecting and updating information about the things you might like and dislike, so we can provide you with more relevant content and advertisements."
          ],
          [
           "if location information is associated with a snap--like those saved to memories or posted to our story--we'll retain that location as long as we store the snap.we're constantly collecting and updating information about the things you might like and dislike, so we can provide you with more relevant content and advertisements."
          ],
          [
           "go here to learn more.if you ever decide to stop using snapchat, you can just ask us to delete your account."
          ],
          [
           "we'll also delete most of the information we've collected about you after you've been inactive for a while--but don't worry, we'll try to contact you first!keep in mind that, while our systems are designed to carry out our deletion practices automatically, we cannot promise that deletion will occur within a specific timeframe."
          ],
          [
           "we'll also delete most of the information we've collected about you after you've been inactive for a while--but don't worry, we'll try to contact you first!keep in mind that, while our systems are designed to carry out our deletion practices automatically, we cannot promise that deletion will occur within a specific timeframe."
          ],
          [
           "there may be legal requirements to store your data and we may need to suspend those deletion practices if we receive valid legal process asking us to preserve content, if we receive reports of abuse or other terms of service violations, or if your account or content created by you is flagged by our automated systems for abuse or other terms of service violations."
          ],
          [
           "there may be legal requirements to store your data and we may need to suspend those deletion practices if we receive valid legal process asking us to preserve content, if we receive reports of abuse or other terms of service violations, or if your account or content created by you is flagged by our automated systems for abuse or other terms of service violations."
          ],
          [
           "finally, we may also retain certain information in backup for a limited period of time or as required by law.control over your informationwe want you to be in control of your information, so we provide you with the following tools.access, correction, and portability."
          ],
          [
           "finally, we may also retain certain information in backup for a limited period of time or as required by law.control over your informationwe want you to be in control of your information, so we provide you with the following tools.access, correction, and portability."
          ],
          [
           "you can access and edit most of your basic account information right in our apps."
          ],
          [
           "you can access and edit most of your basic account information right in our apps."
          ],
          [
           "you can also use download my data to obtain a copy of information that isn't available in our apps in a portable format, so you can move it or store it wherever you want."
          ],
          [
           "you can also use download my data to obtain a copy of information that isn't available in our apps in a portable format, so you can move it or store it wherever you want."
          ],
          [
           "we may also reject your request to access or update your personal information for a number of reasons, including, for example, if the request risks the privacy of other users or is unlawful.revoking permissions."
          ],
          [
           "in most cases, if you let us use your information, you can simply revoke your permission by changing the settings in the app or on your device if your device offers those options."
          ],
          [
           "in most cases, if you let us use your information, you can simply revoke your permission by changing the settings in the app or on your device if your device offers those options."
          ],
          [
           "of course, if you do that, certain services may lose full functionality.deletion."
          ],
          [
           "of course, if you do that, certain services may lose full functionality.deletion."
          ],
          [
           "while we hope you'll remain a lifelong snapchatter, if for some reason you ever want to delete your account, just go here to learn how."
          ],
          [
           "you can also delete some information in the app, like photos you've saved to memories, our story submissions, and search history.advertising preferences."
          ],
          [
           "you can also delete some information in the app, like photos you've saved to memories, our story submissions, and search history.advertising preferences."
          ],
          [
           "if you would like to modify the information we and our advertising partners use to select these ads, you can do so in the app and through your device preferences."
          ],
          [
           "if you would like to modify the information we and our advertising partners use to select these ads, you can do so in the app and through your device preferences."
          ],
          [
           "here is some additional information we would like to bring to your attention:rights of access, deletion, correction, and portabilityyou can exercise your rights of access, deletion, correction, and portability as described in the control over your information section above.bases for using your informationyour country only allows us to use your personal information when certain conditions apply."
          ],
          [
           "here is some additional information we would like to bring to your attention:rights of access, deletion, correction, and portabilityyou can exercise your rights of access, deletion, correction, and portability as described in the control over your information section above.bases for using your informationyour country only allows us to use your personal information when certain conditions apply."
          ],
          [
           "here is some additional information we would like to bring to your attention:rights of access, deletion, correction, and portabilityyou can exercise your rights of access, deletion, correction, and portability as described in the control over your information section above.bases for using your informationyour country only allows us to use your personal information when certain conditions apply."
          ],
          [
           "here is some additional information we would like to bring to your attention:rights of access, deletion, correction, and portabilityyou can exercise your rights of access, deletion, correction, and portability as described in the control over your information section above.bases for using your informationyour country only allows us to use your personal information when certain conditions apply."
          ],
          [
           "these conditions are called \"legal bases\" and, at snap, we typically rely on one of four:contract."
          ],
          [
           "one reason we might use your information is because you've entered into an agreement with us."
          ],
          [
           "for example, when you buy an on-demand geofilter and accepted our custom creative tools terms, we need to use some of your information to collect payment and make sure we show your geofilter to the right people at the right place and time.legitimate interest."
          ],
          [
           "another reason we might use your information is because we have--or a third party has--a legitimate interest in doing so."
          ],
          [
           "because most of our services are free, we also use some information about you to try and show you ads"
          ],
          [
           "because most of our services are free, we also use some information about you to try and show you ads"
          ],
          [
           "an important point to understand about legitimate interest is that our interests don't outweigh your right to privacy, so we only rely on legitimate interest when we think the way we are using your data doesn't significantly impact your privacy or would be expected by you, or there is a compelling reason to do so."
          ],
          [
           "in some cases we'll ask for consent to use your information for specific purposes."
          ],
          [
           "if we do, we'll make sure you can revoke your consent in our services or through your device permissions."
          ],
          [
           "even if we're not relying on consent to use your information, we may ask you for permission to access data like contacts and location.legal obligation."
          ],
          [
           "we may be required to use your personal information to comply with the law, like when we respond to valid legal process or need to take action to protect our users."
          ],
          [
           "our policy is to notify snapchatters when we receive legal process seeking their account information, with some exceptions."
          ],
          [
           "with many types of data, we've provided you with the ability to simply delete it if you don't want us processing it anymore."
          ],
          [
           "you can do these things in the app."
          ],
          [
           "if there are other types of information you don't agree with us processing, you can contact us.international transferswe may collect your personal information from, transfer it to, and store and process it in the united states and other countries outside of where you live."
          ],
          [
           "if there are other types of information you don't agree with us processing, you can contact us.international transferswe may collect your personal information from, transfer it to, and store and process it in the united states and other countries outside of where you live."
          ],
          [
           "you can find more information on the categories of third parties we share information with here.complaints?"
          ],
          [
           "if you're based in the eu, you can always file a complaint with the supervisory authority in your member state.users in brazilif"
          ],
          [
           "here is some additional information we would like to bring to your attention:rights of access, deletion, correction, and portabilityyou can exercise your rights of access, deletion, correction, and portability as described in the control over your information section above.bases for using your informationyour country only allows us to use your personal information when certain conditions apply."
          ],
          [
           "here is some additional information we would like to bring to your attention:rights of access, deletion, correction, and portabilityyou can exercise your rights of access, deletion, correction, and portability as described in the control over your information section above.bases for using your informationyour country only allows us to use your personal information when certain conditions apply."
          ],
          [
           "here is some additional information we would like to bring to your attention:rights of access, deletion, correction, and portabilityyou can exercise your rights of access, deletion, correction, and portability as described in the control over your information section above.bases for using your informationyour country only allows us to use your personal information when certain conditions apply."
          ],
          [
           "here is some additional information we would like to bring to your attention:rights of access, deletion, correction, and portabilityyou can exercise your rights of access, deletion, correction, and portability as described in the control over your information section above.bases for using your informationyour country only allows us to use your personal information when certain conditions apply."
          ],
          [
           "these conditions are called \"legal bases\" and, at snap, we typically rely on one of four:contract."
          ],
          [
           "one reason we might use your information is because you've entered into an agreement with us."
          ],
          [
           "for example, when you buy an on-demand geofilter and accepted our custom creative tools terms, we need to use some of your information to collect payment and make sure we show your geofilter to the right people at the right place and time.legitimate interest."
          ],
          [
           "another reason we might use your information is because we have--or a third party has--a legitimate interest in doing so."
          ],
          [
           "because most of our services are free, we also use some information about you to try and show you ads"
          ],
          [
           "because most of our services are free, we also use some information about you to try and show you ads"
          ],
          [
           "an important point to understand about legitimate interest is that our interests don't outweigh your right to privacy, so we only rely on legitimate interest when we think the way we are using your data doesn't significantly impact your privacy or would be expected by you, or there is a compelling reason to do so."
          ],
          [
           "in some cases we'll ask for consent to use your information for specific purposes."
          ],
          [
           "if we do, we'll make sure you can revoke your consent in our services or through your device permissions."
          ],
          [
           "even if we're not relying on consent to use your information, we may ask you for permission to access data like contacts and location.legal obligation."
          ],
          [
           "we may be required to use your personal information to comply with the law, like when we respond to valid legal process or need to take action to protect our users.your right to objectyou have the right to object to our use of your information."
          ],
          [
           "with many types of data, we've provided you with the ability to simply delete it if you don't want us processing it anymore."
          ],
          [
           "you can do these things in the app."
          ],
          [
           "if there are other types of information you don't agree with us processing, you can contact us.complaints?"
          ],
          [
           "you can always file a complaint with the national authority in your country."
          ],
          [
           "here is some additional information we would like to bring to your attention:rights of access, rectification, and cancellationyou can exercise your rights of access, rectification, and cancellation as described in the control over your information section"
          ],
          [
           "here is some additional information we would like to bring to your attention:rights of access, rectification, and cancellationyou can exercise your rights of access, rectification, and cancellation as described in the control over your information section"
          ],
          [
           "here is some additional information we would like to bring to your attention:rights of access, rectification, and cancellationyou can exercise your rights of access, rectification, and cancellation as described in the control over your information section"
          ],
          [
           "with many types of data, we've provided you with the ability to simply delete it if you don't want us processing it anymore."
          ],
          [
           "you can do these things in the app."
          ],
          [
           "if there are other types of information you don't agree with us processing, you can contact us.california residentsif you're a california resident, you have certain privacy rights under california law, including the california consumer privacy act of 2018 \"ccpa\"."
          ],
          [
           "if there are other types of information you don't agree with us processing, you can contact us.california residentsif you're a california resident, you have certain privacy rights under california law, including the california consumer privacy act of 2018 \"ccpa\"."
          ],
          [
           "services are not intended for--and we don't direct them to--anyone under 13."
          ],
          [
           "and that's why we do not knowingly collect personal information from anyone under 13."
          ],
          [
           "in addition, we may limit how we collect, use, and store some of the information of eu users between 13 and 16."
          ],
          [
           "in addition, we may limit how we collect, use, and store some of the information of eu users between 13 and 16."
          ],
          [
           "in some cases, this means we will be unable to provide certain functionality to these users."
          ],
          [
           "in some cases, this means we will be unable to provide certain functionality to these users."
          ],
          [
           "if we need to rely on consent as a legal basis for processing your information and your country requires consent from a parent, we may require your parent's consent before we collect and use that information.revisions to the privacy policywe may change this privacy policy from_time_to_time ."
          ],
          [
           "if we need to rely on consent as a legal basis for processing your information and your country requires consent from a parent, we may require your parent's consent before we collect and use that information.revisions to the privacy policywe may change this privacy policy from_time_to_time ."
          ],
          [
           "if we need to rely on consent as a legal basis for processing your information and your country requires consent from a parent, we may require your parent's consent before we collect and use that information.revisions to the privacy policywe may change this privacy policy from_time_to_time ."
          ],
          [
           "sometimes, we'll let you know by revising the date at the top of the privacy policy that's available on our website and mobile application."
          ],
          [
           "other times, we may provide you with additional notice such as adding a statement to our websites' homepages or providing you with an in-app notification."
          ]
         ],
         "hovertemplate": "x=%{x}<br>y=%{y}<br>clean-text=%{customdata[0]}<extra></extra>",
         "legendgroup": "",
         "marker": {
          "color": "#636efa",
          "symbol": "circle"
         },
         "mode": "markers",
         "name": "",
         "orientation": "v",
         "showlegend": false,
         "type": "scatter",
         "x": [
          2.5985493659973145,
          -16.87145233154297,
          4.278918743133545,
          6.084807395935059,
          6.700246810913086,
          5.245398998260498,
          4.875260353088379,
          0.3810902237892151,
          0.7965983152389526,
          5.897770881652832,
          5.897770881652832,
          2.0237865447998047,
          -4.202392578125,
          -2.128139019012451,
          8.251599311828613,
          9.13697338104248,
          9.558542251586914,
          7.755702972412109,
          -6.856022834777832,
          -3.395029306411743,
          3.2232182025909424,
          2.6584267616271973,
          2.8953094482421875,
          18.437461853027344,
          19.194650650024414,
          17.33843421936035,
          16.732864379882812,
          10.985673904418945,
          13.224814414978027,
          19.554534912109375,
          17.537445068359375,
          17.609731674194336,
          14.569635391235352,
          18.398284912109375,
          18.398284912109375,
          -4.874126434326172,
          -5.848030090332031,
          -6.056709289550781,
          12.407920837402344,
          -4.249129295349121,
          -4.249129295349121,
          10.427722930908203,
          10.427722930908203,
          -5.544139862060547,
          -2.4827282428741455,
          -2.5037472248077393,
          -0.3648023009300232,
          -0.9160720109939575,
          -11.764588356018066,
          2.631598711013794,
          1.530658483505249,
          2.732292413711548,
          4.598762035369873,
          4.466372489929199,
          5.629983425140381,
          8.264299392700195,
          -7.920938014984131,
          10.15890121459961,
          1.659655213356018,
          -1.0321074724197388,
          -0.7149545550346375,
          -0.9818230271339417,
          -1.4429632425308228,
          -2.525486946105957,
          -0.8181166052818298,
          -2.2569613456726074,
          -1.066975712776184,
          -8.91910457611084,
          -5.846282005310059,
          -8.298391342163086,
          -5.430459499359131,
          -13.443192481994629,
          -11.224090576171875,
          -11.082868576049805,
          -9.038945198059082,
          -7.331139087677002,
          -7.382709503173828,
          -6.18712854385376,
          -6.894181728363037,
          6.324616432189941,
          6.388190746307373,
          11.357867240905762,
          12.168149948120117,
          10.311962127685547,
          9.89395809173584,
          5.093115329742432,
          8.351411819458008,
          8.094311714172363,
          13.645511627197266,
          13.645511627197266,
          -10.7777099609375,
          14.405287742614746,
          14.405287742614746,
          12.985706329345703,
          12.551513671875,
          -1.8908547163009644,
          -2.758633613586426,
          -1.9839459657669067,
          -0.7395813465118408,
          -19.596912384033203,
          -6.0474066734313965,
          -18.11117172241211,
          -9.187527656555176,
          7.808407783508301,
          8.287400245666504,
          -0.13972361385822296,
          3.380317449569702,
          11.800070762634277,
          4.403323173522949,
          -1.196912169456482,
          -2.8190057277679443,
          -11.26708698272705,
          -16.98786163330078,
          -6.783944129943848,
          -5.951115608215332,
          -7.278749942779541,
          -8.297966957092285,
          -1.1510100364685059,
          -3.2845876216888428,
          0.059738889336586,
          -3.6707160472869873,
          -19.353004455566406,
          -6.7154083251953125,
          -18.084308624267578,
          -9.573046684265137,
          7.00662899017334,
          6.531224250793457,
          -0.8277332782745361,
          4.217648506164551,
          11.615898132324219,
          3.6277658939361572,
          -0.317503958940506,
          -11.618410110473633,
          -16.089262008666992,
          -7.523115158081055,
          -9.140279769897461,
          1.9932904243469238,
          1.0587468147277832,
          2.413452386856079,
          -12.534594535827637,
          -17.358434677124023,
          -4.7046003341674805,
          -5.350501537322998,
          -14.75511646270752,
          -13.483202934265137,
          -13.617650985717773,
          -12.866042137145996,
          -19.681659698486328,
          -19.352231979370117,
          -0.12968480587005615,
          -0.8356536030769348,
          0.46557188034057617,
          7.679198265075684,
          14.586005210876465
         ],
         "xaxis": "x",
         "y": [
          3.0634214878082275,
          -4.008695125579834,
          -18.665237426757812,
          -17.989927291870117,
          -19.266883850097656,
          -19.750072479248047,
          -17.272668838500977,
          11.915499687194824,
          12.600152015686035,
          11.657845497131348,
          11.657845497131348,
          10.271037101745605,
          19.207962036132812,
          18.709829330444336,
          18.736080169677734,
          19.69927215576172,
          18.451332092285156,
          15.471426963806152,
          21.664762496948242,
          16.531871795654297,
          12.729814529418945,
          15.26916217803955,
          2.114231824874878,
          -1.8678542375564575,
          -2.114015579223633,
          7.888000965118408,
          7.336341857910156,
          5.918576240539551,
          9.981453895568848,
          -11.32731819152832,
          -11.456944465637207,
          -10.625320434570312,
          -11.741340637207031,
          3.0952634811401367,
          3.0952634811401367,
          14.791709899902344,
          15.679685592651367,
          14.495682716369629,
          8.962323188781738,
          4.114835262298584,
          4.114835262298584,
          13.404352188110352,
          13.404352188110352,
          11.789597511291504,
          9.226004600524902,
          12.618704795837402,
          16.083858489990234,
          15.43952751159668,
          -1.8375648260116577,
          20.007783889770508,
          19.260168075561523,
          18.695276260375977,
          6.95261287689209,
          8.184552192687988,
          7.702866077423096,
          8.564380645751953,
          7.631007194519043,
          8.265644073486328,
          6.890974998474121,
          6.5510573387146,
          5.8225250244140625,
          1.5477685928344727,
          0.8644476532936096,
          24.40943145751953,
          23.207658767700195,
          22.992809295654297,
          24.629642486572266,
          17.933080673217773,
          7.552249431610107,
          15.493803024291992,
          17.946243286132812,
          -12.934627532958984,
          -11.919596672058105,
          -12.692307472229004,
          13.319365501403809,
          -4.598108291625977,
          -5.438972473144531,
          -9.557180404663086,
          -9.12449836730957,
          -2.5907485485076904,
          -3.3737404346466064,
          -1.362392783164978,
          -1.3456083536148071,
          -5.946820259094238,
          -5.278011322021484,
          -6.920923233032227,
          -9.690680503845215,
          -10.475957870483398,
          -17.852109909057617,
          -17.852109909057617,
          11.53243350982666,
          -5.3854570388793945,
          -5.3854570388793945,
          3.8549482822418213,
          3.1892025470733643,
          -3.675752878189087,
          -7.402256965637207,
          -5.746224403381348,
          -4.836859703063965,
          -3.4815473556518555,
          -0.004352472256869078,
          -11.186752319335938,
          1.8664389848709106,
          4.113893985748291,
          2.8022425174713135,
          -21.9843807220459,
          -12.224297523498535,
          -11.161551475524902,
          -9.031327247619629,
          -11.458909034729004,
          -12.127657890319824,
          -7.141857624053955,
          14.112571716308594,
          -14.721346855163574,
          -14.961485862731934,
          6.48631477355957,
          -21.871484756469727,
          -7.2947187423706055,
          -4.4608917236328125,
          -6.2772440910339355,
          -6.039205074310303,
          -2.7259533405303955,
          -0.5162948369979858,
          -10.386877059936523,
          1.1175390481948853,
          2.260708808898926,
          3.568653106689453,
          -21.55286407470703,
          -12.334013938903809,
          -11.962647438049316,
          -8.795857429504395,
          -11.48099422454834,
          -5.897186756134033,
          15.078607559204102,
          -16.728927612304688,
          -21.52039909362793,
          -3.985689401626587,
          -2.772048234939575,
          -2.6581246852874756,
          -6.801673889160156,
          15.372637748718262,
          -17.566184997558594,
          -18.180824279785156,
          1.505518913269043,
          1.7360330820083618,
          5.850717544555664,
          5.586059093475342,
          4.920601844787598,
          5.66089391708374,
          -16.693893432617188,
          -15.62048053741455,
          -15.527128219604492,
          -16.229249954223633,
          11.140256881713867
         ],
         "yaxis": "y"
        }
       ],
       "layout": {
        "legend": {
         "tracegroupgap": 0
        },
        "template": {
         "data": {
          "bar": [
           {
            "error_x": {
             "color": "#2a3f5f"
            },
            "error_y": {
             "color": "#2a3f5f"
            },
            "marker": {
             "line": {
              "color": "#E5ECF6",
              "width": 0.5
             }
            },
            "type": "bar"
           }
          ],
          "barpolar": [
           {
            "marker": {
             "line": {
              "color": "#E5ECF6",
              "width": 0.5
             }
            },
            "type": "barpolar"
           }
          ],
          "carpet": [
           {
            "aaxis": {
             "endlinecolor": "#2a3f5f",
             "gridcolor": "white",
             "linecolor": "white",
             "minorgridcolor": "white",
             "startlinecolor": "#2a3f5f"
            },
            "baxis": {
             "endlinecolor": "#2a3f5f",
             "gridcolor": "white",
             "linecolor": "white",
             "minorgridcolor": "white",
             "startlinecolor": "#2a3f5f"
            },
            "type": "carpet"
           }
          ],
          "choropleth": [
           {
            "colorbar": {
             "outlinewidth": 0,
             "ticks": ""
            },
            "type": "choropleth"
           }
          ],
          "contour": [
           {
            "colorbar": {
             "outlinewidth": 0,
             "ticks": ""
            },
            "colorscale": [
             [
              0,
              "#0d0887"
             ],
             [
              0.1111111111111111,
              "#46039f"
             ],
             [
              0.2222222222222222,
              "#7201a8"
             ],
             [
              0.3333333333333333,
              "#9c179e"
             ],
             [
              0.4444444444444444,
              "#bd3786"
             ],
             [
              0.5555555555555556,
              "#d8576b"
             ],
             [
              0.6666666666666666,
              "#ed7953"
             ],
             [
              0.7777777777777778,
              "#fb9f3a"
             ],
             [
              0.8888888888888888,
              "#fdca26"
             ],
             [
              1,
              "#f0f921"
             ]
            ],
            "type": "contour"
           }
          ],
          "contourcarpet": [
           {
            "colorbar": {
             "outlinewidth": 0,
             "ticks": ""
            },
            "type": "contourcarpet"
           }
          ],
          "heatmap": [
           {
            "colorbar": {
             "outlinewidth": 0,
             "ticks": ""
            },
            "colorscale": [
             [
              0,
              "#0d0887"
             ],
             [
              0.1111111111111111,
              "#46039f"
             ],
             [
              0.2222222222222222,
              "#7201a8"
             ],
             [
              0.3333333333333333,
              "#9c179e"
             ],
             [
              0.4444444444444444,
              "#bd3786"
             ],
             [
              0.5555555555555556,
              "#d8576b"
             ],
             [
              0.6666666666666666,
              "#ed7953"
             ],
             [
              0.7777777777777778,
              "#fb9f3a"
             ],
             [
              0.8888888888888888,
              "#fdca26"
             ],
             [
              1,
              "#f0f921"
             ]
            ],
            "type": "heatmap"
           }
          ],
          "heatmapgl": [
           {
            "colorbar": {
             "outlinewidth": 0,
             "ticks": ""
            },
            "colorscale": [
             [
              0,
              "#0d0887"
             ],
             [
              0.1111111111111111,
              "#46039f"
             ],
             [
              0.2222222222222222,
              "#7201a8"
             ],
             [
              0.3333333333333333,
              "#9c179e"
             ],
             [
              0.4444444444444444,
              "#bd3786"
             ],
             [
              0.5555555555555556,
              "#d8576b"
             ],
             [
              0.6666666666666666,
              "#ed7953"
             ],
             [
              0.7777777777777778,
              "#fb9f3a"
             ],
             [
              0.8888888888888888,
              "#fdca26"
             ],
             [
              1,
              "#f0f921"
             ]
            ],
            "type": "heatmapgl"
           }
          ],
          "histogram": [
           {
            "marker": {
             "colorbar": {
              "outlinewidth": 0,
              "ticks": ""
             }
            },
            "type": "histogram"
           }
          ],
          "histogram2d": [
           {
            "colorbar": {
             "outlinewidth": 0,
             "ticks": ""
            },
            "colorscale": [
             [
              0,
              "#0d0887"
             ],
             [
              0.1111111111111111,
              "#46039f"
             ],
             [
              0.2222222222222222,
              "#7201a8"
             ],
             [
              0.3333333333333333,
              "#9c179e"
             ],
             [
              0.4444444444444444,
              "#bd3786"
             ],
             [
              0.5555555555555556,
              "#d8576b"
             ],
             [
              0.6666666666666666,
              "#ed7953"
             ],
             [
              0.7777777777777778,
              "#fb9f3a"
             ],
             [
              0.8888888888888888,
              "#fdca26"
             ],
             [
              1,
              "#f0f921"
             ]
            ],
            "type": "histogram2d"
           }
          ],
          "histogram2dcontour": [
           {
            "colorbar": {
             "outlinewidth": 0,
             "ticks": ""
            },
            "colorscale": [
             [
              0,
              "#0d0887"
             ],
             [
              0.1111111111111111,
              "#46039f"
             ],
             [
              0.2222222222222222,
              "#7201a8"
             ],
             [
              0.3333333333333333,
              "#9c179e"
             ],
             [
              0.4444444444444444,
              "#bd3786"
             ],
             [
              0.5555555555555556,
              "#d8576b"
             ],
             [
              0.6666666666666666,
              "#ed7953"
             ],
             [
              0.7777777777777778,
              "#fb9f3a"
             ],
             [
              0.8888888888888888,
              "#fdca26"
             ],
             [
              1,
              "#f0f921"
             ]
            ],
            "type": "histogram2dcontour"
           }
          ],
          "mesh3d": [
           {
            "colorbar": {
             "outlinewidth": 0,
             "ticks": ""
            },
            "type": "mesh3d"
           }
          ],
          "parcoords": [
           {
            "line": {
             "colorbar": {
              "outlinewidth": 0,
              "ticks": ""
             }
            },
            "type": "parcoords"
           }
          ],
          "pie": [
           {
            "automargin": true,
            "type": "pie"
           }
          ],
          "scatter": [
           {
            "marker": {
             "colorbar": {
              "outlinewidth": 0,
              "ticks": ""
             }
            },
            "type": "scatter"
           }
          ],
          "scatter3d": [
           {
            "line": {
             "colorbar": {
              "outlinewidth": 0,
              "ticks": ""
             }
            },
            "marker": {
             "colorbar": {
              "outlinewidth": 0,
              "ticks": ""
             }
            },
            "type": "scatter3d"
           }
          ],
          "scattercarpet": [
           {
            "marker": {
             "colorbar": {
              "outlinewidth": 0,
              "ticks": ""
             }
            },
            "type": "scattercarpet"
           }
          ],
          "scattergeo": [
           {
            "marker": {
             "colorbar": {
              "outlinewidth": 0,
              "ticks": ""
             }
            },
            "type": "scattergeo"
           }
          ],
          "scattergl": [
           {
            "marker": {
             "colorbar": {
              "outlinewidth": 0,
              "ticks": ""
             }
            },
            "type": "scattergl"
           }
          ],
          "scattermapbox": [
           {
            "marker": {
             "colorbar": {
              "outlinewidth": 0,
              "ticks": ""
             }
            },
            "type": "scattermapbox"
           }
          ],
          "scatterpolar": [
           {
            "marker": {
             "colorbar": {
              "outlinewidth": 0,
              "ticks": ""
             }
            },
            "type": "scatterpolar"
           }
          ],
          "scatterpolargl": [
           {
            "marker": {
             "colorbar": {
              "outlinewidth": 0,
              "ticks": ""
             }
            },
            "type": "scatterpolargl"
           }
          ],
          "scatterternary": [
           {
            "marker": {
             "colorbar": {
              "outlinewidth": 0,
              "ticks": ""
             }
            },
            "type": "scatterternary"
           }
          ],
          "surface": [
           {
            "colorbar": {
             "outlinewidth": 0,
             "ticks": ""
            },
            "colorscale": [
             [
              0,
              "#0d0887"
             ],
             [
              0.1111111111111111,
              "#46039f"
             ],
             [
              0.2222222222222222,
              "#7201a8"
             ],
             [
              0.3333333333333333,
              "#9c179e"
             ],
             [
              0.4444444444444444,
              "#bd3786"
             ],
             [
              0.5555555555555556,
              "#d8576b"
             ],
             [
              0.6666666666666666,
              "#ed7953"
             ],
             [
              0.7777777777777778,
              "#fb9f3a"
             ],
             [
              0.8888888888888888,
              "#fdca26"
             ],
             [
              1,
              "#f0f921"
             ]
            ],
            "type": "surface"
           }
          ],
          "table": [
           {
            "cells": {
             "fill": {
              "color": "#EBF0F8"
             },
             "line": {
              "color": "white"
             }
            },
            "header": {
             "fill": {
              "color": "#C8D4E3"
             },
             "line": {
              "color": "white"
             }
            },
            "type": "table"
           }
          ]
         },
         "layout": {
          "annotationdefaults": {
           "arrowcolor": "#2a3f5f",
           "arrowhead": 0,
           "arrowwidth": 1
          },
          "autotypenumbers": "strict",
          "coloraxis": {
           "colorbar": {
            "outlinewidth": 0,
            "ticks": ""
           }
          },
          "colorscale": {
           "diverging": [
            [
             0,
             "#8e0152"
            ],
            [
             0.1,
             "#c51b7d"
            ],
            [
             0.2,
             "#de77ae"
            ],
            [
             0.3,
             "#f1b6da"
            ],
            [
             0.4,
             "#fde0ef"
            ],
            [
             0.5,
             "#f7f7f7"
            ],
            [
             0.6,
             "#e6f5d0"
            ],
            [
             0.7,
             "#b8e186"
            ],
            [
             0.8,
             "#7fbc41"
            ],
            [
             0.9,
             "#4d9221"
            ],
            [
             1,
             "#276419"
            ]
           ],
           "sequential": [
            [
             0,
             "#0d0887"
            ],
            [
             0.1111111111111111,
             "#46039f"
            ],
            [
             0.2222222222222222,
             "#7201a8"
            ],
            [
             0.3333333333333333,
             "#9c179e"
            ],
            [
             0.4444444444444444,
             "#bd3786"
            ],
            [
             0.5555555555555556,
             "#d8576b"
            ],
            [
             0.6666666666666666,
             "#ed7953"
            ],
            [
             0.7777777777777778,
             "#fb9f3a"
            ],
            [
             0.8888888888888888,
             "#fdca26"
            ],
            [
             1,
             "#f0f921"
            ]
           ],
           "sequentialminus": [
            [
             0,
             "#0d0887"
            ],
            [
             0.1111111111111111,
             "#46039f"
            ],
            [
             0.2222222222222222,
             "#7201a8"
            ],
            [
             0.3333333333333333,
             "#9c179e"
            ],
            [
             0.4444444444444444,
             "#bd3786"
            ],
            [
             0.5555555555555556,
             "#d8576b"
            ],
            [
             0.6666666666666666,
             "#ed7953"
            ],
            [
             0.7777777777777778,
             "#fb9f3a"
            ],
            [
             0.8888888888888888,
             "#fdca26"
            ],
            [
             1,
             "#f0f921"
            ]
           ]
          },
          "colorway": [
           "#636efa",
           "#EF553B",
           "#00cc96",
           "#ab63fa",
           "#FFA15A",
           "#19d3f3",
           "#FF6692",
           "#B6E880",
           "#FF97FF",
           "#FECB52"
          ],
          "font": {
           "color": "#2a3f5f"
          },
          "geo": {
           "bgcolor": "white",
           "lakecolor": "white",
           "landcolor": "#E5ECF6",
           "showlakes": true,
           "showland": true,
           "subunitcolor": "white"
          },
          "hoverlabel": {
           "align": "left"
          },
          "hovermode": "closest",
          "mapbox": {
           "style": "light"
          },
          "paper_bgcolor": "white",
          "plot_bgcolor": "#E5ECF6",
          "polar": {
           "angularaxis": {
            "gridcolor": "white",
            "linecolor": "white",
            "ticks": ""
           },
           "bgcolor": "#E5ECF6",
           "radialaxis": {
            "gridcolor": "white",
            "linecolor": "white",
            "ticks": ""
           }
          },
          "scene": {
           "xaxis": {
            "backgroundcolor": "#E5ECF6",
            "gridcolor": "white",
            "gridwidth": 2,
            "linecolor": "white",
            "showbackground": true,
            "ticks": "",
            "zerolinecolor": "white"
           },
           "yaxis": {
            "backgroundcolor": "#E5ECF6",
            "gridcolor": "white",
            "gridwidth": 2,
            "linecolor": "white",
            "showbackground": true,
            "ticks": "",
            "zerolinecolor": "white"
           },
           "zaxis": {
            "backgroundcolor": "#E5ECF6",
            "gridcolor": "white",
            "gridwidth": 2,
            "linecolor": "white",
            "showbackground": true,
            "ticks": "",
            "zerolinecolor": "white"
           }
          },
          "shapedefaults": {
           "line": {
            "color": "#2a3f5f"
           }
          },
          "ternary": {
           "aaxis": {
            "gridcolor": "white",
            "linecolor": "white",
            "ticks": ""
           },
           "baxis": {
            "gridcolor": "white",
            "linecolor": "white",
            "ticks": ""
           },
           "bgcolor": "#E5ECF6",
           "caxis": {
            "gridcolor": "white",
            "linecolor": "white",
            "ticks": ""
           }
          },
          "title": {
           "x": 0.05
          },
          "xaxis": {
           "automargin": true,
           "gridcolor": "white",
           "linecolor": "white",
           "ticks": "",
           "title": {
            "standoff": 15
           },
           "zerolinecolor": "white",
           "zerolinewidth": 2
          },
          "yaxis": {
           "automargin": true,
           "gridcolor": "white",
           "linecolor": "white",
           "ticks": "",
           "title": {
            "standoff": 15
           },
           "zerolinecolor": "white",
           "zerolinewidth": 2
          }
         }
        },
        "title": {
         "text": "USE"
        },
        "xaxis": {
         "anchor": "y",
         "domain": [
          0,
          1
         ],
         "title": {
          "text": "x"
         }
        },
        "yaxis": {
         "anchor": "x",
         "domain": [
          0,
          1
         ],
         "title": {
          "text": "y"
         }
        }
       }
      },
      "text/html": [
       "<div>                            <div id=\"51a9d464-bf58-40f0-9fd4-57de8d033d11\" class=\"plotly-graph-div\" style=\"height:525px; width:100%;\"></div>            <script type=\"text/javascript\">                require([\"plotly\"], function(Plotly) {                    window.PLOTLYENV=window.PLOTLYENV || {};                                    if (document.getElementById(\"51a9d464-bf58-40f0-9fd4-57de8d033d11\")) {                    Plotly.newPlot(                        \"51a9d464-bf58-40f0-9fd4-57de8d033d11\",                        [{\"customdata\": [[\"you use these services, you'll share some information with us.\"], [\"and it's why we've tried to write it in a way that's blissfully free of the legalese that often clouds these documents.\"], [\"of course, if you still have questions about anything in our privacy policy, just contact us.you should read our entire privacy policy, but when you only have a few minutes or want to remember something later on, you can always take a look at this summary--so you can review some of the basics in just a few minutes.information\"], [\"of course, if you still have questions about anything in our privacy policy, just contact us.you should read our entire privacy policy, but when you only have a few minutes or want to remember something later on, you can always take a look at this summary--so you can review some of the basics in just a few minutes.information\"], [\"of course, if you still have questions about anything in our privacy policy, just contact us.you should read our entire privacy policy, but when you only have a few minutes or want to remember something later on, you can always take a look at this summary--so you can review some of the basics in just a few minutes.information\"], [\"of course, if you still have questions about anything in our privacy policy, just contact us.you should read our entire privacy policy, but when you only have a few minutes or want to remember something later on, you can always take a look at this summary--so you can review some of the basics in just a few minutes.information\"], [\"of course, if you still have questions about anything in our privacy policy, just contact us.you should read our entire privacy policy, but when you only have a few minutes or want to remember something later on, you can always take a look at this summary--so you can review some of the basics in just a few minutes.information\"], [\"for example, most of our services require you to set up a snapchat account, so we need to collect a few important details about you, such as your name, username, password, email address, phone number, and date of birth.\"], [\"for example, most of our services require you to set up a snapchat account, so we need to collect a few important details about you, such as your name, username, password, email address, phone number, and date of birth.\"], [\"we may also ask you to provide us with some additional information that will be publicly visible on our services, such as a profile picture or bitmoji avatar.\"], [\"we may also ask you to provide us with some additional information that will be publicly visible on our services, such as a profile picture or bitmoji avatar.\"], [\"other services, such as commerce products, may require you to provide us with a debit or credit card number and its associated account information.of course, you'll also provide us whatever information you send through our services, such as snaps and chats.\"], [\"keep in mind that the users who view your snaps, chats, and any other content can always save that content or copy it outside the app.\"], [\"so, the same common sense that applies to the internet at large applies to snapchat as well: don't send messages or share content that you wouldn't want someone to save or share.when\"], [\"we might know, for instance, that you watched a particular story, saw a specific ad for a certain period of time, and sent a few snaps.\"], [\"we might know, for instance, that you watched a particular story, saw a specific ad for a certain period of time, and sent a few snaps.\"], [\"we might know, for instance, that you watched a particular story, saw a specific ad for a certain period of time, and sent a few snaps.\"], [\"for example, we may collect information about:how you interact with our services, such as which filters you view or apply to snaps, which stories you watch on discover, whether you're using spectacles, or which search queries you\"], [\"submit.how you communicate with other snapchatters, such as their names, the time and date of your communications, the number of messages you exchange with your friends, which friends you exchange messages with the most, and your interactions with messages such as when you open a message or capture a screenshot.content information.\"], [\"because snapchat is all about communicating with friends, we may--with your permission--collect information from your device's phonebook.camera and photos.\"], [\"many of our services require us to collect images and other information from your device's camera and photos.\"], [\"for example, you won't be able to send snaps or upload photos from your camera roll unless we can access your camera or photos.location information.\"], [\"when you use our services we may collect information about your location.\"], [\"with your permission, we may also collect information about your precise location using methods that include gps, wireless networks, cell towers, wi-fi access points, and other sensors, such as gyroscopes, accelerometers, and compasses.information collected by cookies and other technologies.\"], [\"with your permission, we may also collect information about your precise location using methods that include gps, wireless networks, cell towers, wi-fi access points, and other sensors, such as gyroscopes, accelerometers, and compasses.information collected by cookies and other technologies.\"], [\"like most online services and mobile applications, we may use cookies and other technologies, such as web beacons, web storage, and unique advertising identifiers, to collect information about your activity, browser, and device.\"], [\"like most online services and mobile applications, we may use cookies and other technologies, such as web beacons, web storage, and unique advertising identifiers, to collect information about your activity, browser, and device.\"], [\"we may also use these technologies to collect information when you interact with services we offer through one of our partners, such as advertising and commerce features.\"], [\"for example, we may use information collected on other websites to show you more relevant ads.\"], [\"most web browsers are set to accept cookies by default.\"], [\"if you prefer, you can usually remove or reject browser cookies through the settings on your browser or device.\"], [\"if you prefer, you can usually remove or reject browser cookies through the settings on your browser or device.\"], [\"keep in mind, though, that removing or rejecting cookies could affect the availability and functionality of our services.\"], [\"viewed;ip address;identifiers associated with cookies or other technologies that may uniquely identify your device or browser; andpages you visited before or after navigating to our website.information we collect from third partieswe may collect information about you from other users, our affiliates, and third parties.\"], [\"viewed;ip address;identifiers associated with cookies or other technologies that may uniquely identify your device or browser; andpages you visited before or after navigating to our website.information we collect from third partieswe may collect information about you from other users, our affiliates, and third parties.\"], [\"here are a few examples:if you link your snapchat account to another service like bitmoji or a third-party app, we may receive information from the other service, like how you use that service.advertisers, app developers, publishers, and other third parties may share information with us as well.\"], [\"here are a few examples:if you link your snapchat account to another service like bitmoji or a third-party app, we may receive information from the other service, like how you use that service.advertisers, app developers, publishers, and other third parties may share information with us as well.\"], [\"here are a few examples:if you link your snapchat account to another service like bitmoji or a third-party app, we may receive information from the other service, like how you use that service.advertisers, app developers, publishers, and other third parties may share information with us as well.\"], [\"we may use this information, among other ways, to help target or measure the performance of ads.\"], [\"you can learn more about our use of this kind of third-party data in our support center.if another user uploads their contact list, we may combine information from that user's contact list with other information we have collected about you.how\"], [\"you can learn more about our use of this kind of third-party data in our support center.if another user uploads their contact list, we may combine information from that user's contact list with other information we have collected about you.how\"], [\"for example, we may use email to respond to support inquiries or to share information about our products, services, and promotional offers that we think may interest you.monitor and analyze trends and usage.personalize our services by, among_other_things , suggesting friends, profile information, or bitmoji stickers, or customizing the content we show you, including ads.contextualize your experience by, among_other_things , tagging your memories content using your precise location information\"], [\"for example, we may use email to respond to support inquiries or to share information about our products, services, and promotional offers that we think may interest you.monitor and analyze trends and usage.personalize our services by, among_other_things , suggesting friends, profile information, or bitmoji stickers, or customizing the content we show you, including ads.contextualize your experience by, among_other_things , tagging your memories content using your precise location information\"], [\"see the control over your information section below for more information about snap inc.'s advertising practices and your choices.enhance the safety and security of our products and services.verify your identity and prevent fraud or other unauthorized or illegal activity.use information we've collected from cookies and other technology to enhance our services and your experience with them.enforce our terms of service and other usage policies and comply with legal requirements.we may also use information from apple's truedepth camera to improve the quality of lenses.\"], [\"information from the truedepth camera is used in real time--we don't store this information on our servers or share it with third parties.how we share informationwe may share information about you in the following ways:with other snapchatters.\"], [\"we may share the following information with other snapchatters:information about you, such as your username, name, and bitmoji.information about how you have interacted with our services, such as your snapchat \\\"score,\\\" the names of snapchatters you are friends with, and other information that will help snapchatters understand your connections with others using our services.\"], [\"for example, because it may not be clear whether a new friend request comes from someone you actually know, we may share whether you and the requestor have snapchat friends in common.any additional information you have directed us to share.\"], [\"for example, because it may not be clear whether a new friend request comes from someone you actually know, we may share whether you and the requestor have snapchat friends in common.any additional information you have directed us to share.\"], [\"how widely your content is shared depends on your personal settings and the type of service you are using.\"], [\"for example, a snap may be sent to just a single friend you select, but your my story content may be seen by any snapchatter whom you allow to see your my story.with all snapchatters, our business partners, and the general public.\"], [\"for example, a snap may be sent to just a single friend you select, but your my story content may be seen by any snapchatter whom you allow to see your my story.with all snapchatters, our business partners, and the general public.\"], [\"for example, a snap may be sent to just a single friend you select, but your my story content may be seen by any snapchatter whom you allow to see your my story.with all snapchatters, our business partners, and the general public.\"], [\"we may share the following information with all snapchatters as well as with our business partners and the general public:public information like your name, username, snapcode and profile pictures.story submissions that are set to be viewable by everyone and any content that you submit to an inherently public service, like our story and other crowd-sourced services.\"], [\"we may share the following information with all snapchatters as well as with our business partners and the general public:public information like your name, username, snapcode and profile pictures.story submissions that are set to be viewable by everyone and any content that you submit to an inherently public service, like our story and other crowd-sourced services.\"], [\"we may share the following information with all snapchatters as well as with our business partners and the general public:public information like your name, username, snapcode and profile pictures.story submissions that are set to be viewable by everyone and any content that you submit to an inherently public service, like our story and other crowd-sourced services.\"], [\"this content may be viewed and shared by the public at large both on and off our services, including through search results, on websites, in apps, and in online and offline broadcasts.with our affiliates.\"], [\"we may share information with entities within the snap inc. family of companies.with third parties.\"], [\"we may share information about you with service providers who perform services on our behalf, including to measure and optimize the performance of ads and deliver more relevant ads, including on third-party websites and apps.\"], [\"learn more here.we may share information about you with business partners that provide services and functionality on our services.\"], [\"for more information about information collected by third parties on our services, visit our support site.we may share information about you, such as device and usage information, to help us and others prevent fraud.we may share information about you for legal, safety, and security reasons.\"], [\"for more information about information collected by third parties on our services, visit our support site.we may share information about you, such as device and usage information, to help us and others prevent fraud.we may share information about you for legal, safety, and security reasons.\"], [\"we may share information about you if we reasonably believe that disclosing the information is needed to:comply with any valid legal process, governmental request, or applicable law, rule, or regulation.investigate, remedy, or enforce potential terms of service violations.protect the rights, property, or safety of us, our users, or others.detect and resolve any fraud or security concerns.we may share information about you as part of a merger or acquisition.\"], [\"we may share information about you if we reasonably believe that disclosing the information is needed to:comply with any valid legal process, governmental request, or applicable law, rule, or regulation.investigate, remedy, or enforce potential terms of service violations.protect the rights, property, or safety of us, our users, or others.detect and resolve any fraud or security concerns.we may share information about you as part of a merger or acquisition.\"], [\"if snap inc. gets involved in a merger, asset sale, financing, liquidation or bankruptcy, or acquisition of all or some portion of our business to another company, we may share your information with that company before and after the transaction closes.we may also share with third parties that provide services to us or perform business purposes for us aggregated, non-personally identifiable, or de-identified information.third-party content and integrationsour services may contain third-party content and integrations.\"], [\"if snap inc. gets involved in a merger, asset sale, financing, liquidation or bankruptcy, or acquisition of all or some portion of our business to another company, we may share your information with that company before and after the transaction closes.we may also share with third parties that provide services to us or perform business purposes for us aggregated, non-personally identifiable, or de-identified information.third-party content and integrationsour services may contain third-party content and integrations.\"], [\"if snap inc. gets involved in a merger, asset sale, financing, liquidation or bankruptcy, or acquisition of all or some portion of our business to another company, we may share your information with that company before and after the transaction closes.we may also share with third parties that provide services to us or perform business purposes for us aggregated, non-personally identifiable, or de-identified information.third-party content and integrationsour services may contain third-party content and integrations.\"], [\"if snap inc. gets involved in a merger, asset sale, financing, liquidation or bankruptcy, or acquisition of all or some portion of our business to another company, we may share your information with that company before and after the transaction closes.we may also share with third parties that provide services to us or perform business purposes for us aggregated, non-personally identifiable, or de-identified information.third-party content and integrationsour services may contain third-party content and integrations.\"], [\"examples include third-party integrations in camera search, third-party games in chat, and third-party snap kit integrations.\"], [\"through these integrations, you may be providing information to the third party as well as to snap.\"], [\"you can learn more about third-party services in snapchat\"], [\"on our end, that means most messages--like snaps and chats--sent in snapchat will be automatically deleted by default from our servers after we detect they've been opened by all recipients or have expired.\"], [\"for example, if you use the map, we store information about your favorite places for up to 40 days so we can personalize and improve your experience.\"], [\"if location information is associated with a snap--like those saved to memories or posted to our story--we'll retain that location as long as we store the snap.we're constantly collecting and updating information about the things you might like and dislike, so we can provide you with more relevant content and advertisements.\"], [\"if location information is associated with a snap--like those saved to memories or posted to our story--we'll retain that location as long as we store the snap.we're constantly collecting and updating information about the things you might like and dislike, so we can provide you with more relevant content and advertisements.\"], [\"go here to learn more.if you ever decide to stop using snapchat, you can just ask us to delete your account.\"], [\"we'll also delete most of the information we've collected about you after you've been inactive for a while--but don't worry, we'll try to contact you first!keep in mind that, while our systems are designed to carry out our deletion practices automatically, we cannot promise that deletion will occur within a specific timeframe.\"], [\"we'll also delete most of the information we've collected about you after you've been inactive for a while--but don't worry, we'll try to contact you first!keep in mind that, while our systems are designed to carry out our deletion practices automatically, we cannot promise that deletion will occur within a specific timeframe.\"], [\"there may be legal requirements to store your data and we may need to suspend those deletion practices if we receive valid legal process asking us to preserve content, if we receive reports of abuse or other terms of service violations, or if your account or content created by you is flagged by our automated systems for abuse or other terms of service violations.\"], [\"there may be legal requirements to store your data and we may need to suspend those deletion practices if we receive valid legal process asking us to preserve content, if we receive reports of abuse or other terms of service violations, or if your account or content created by you is flagged by our automated systems for abuse or other terms of service violations.\"], [\"finally, we may also retain certain information in backup for a limited period of time or as required by law.control over your informationwe want you to be in control of your information, so we provide you with the following tools.access, correction, and portability.\"], [\"finally, we may also retain certain information in backup for a limited period of time or as required by law.control over your informationwe want you to be in control of your information, so we provide you with the following tools.access, correction, and portability.\"], [\"you can access and edit most of your basic account information right in our apps.\"], [\"you can access and edit most of your basic account information right in our apps.\"], [\"you can also use download my data to obtain a copy of information that isn't available in our apps in a portable format, so you can move it or store it wherever you want.\"], [\"you can also use download my data to obtain a copy of information that isn't available in our apps in a portable format, so you can move it or store it wherever you want.\"], [\"we may also reject your request to access or update your personal information for a number of reasons, including, for example, if the request risks the privacy of other users or is unlawful.revoking permissions.\"], [\"in most cases, if you let us use your information, you can simply revoke your permission by changing the settings in the app or on your device if your device offers those options.\"], [\"in most cases, if you let us use your information, you can simply revoke your permission by changing the settings in the app or on your device if your device offers those options.\"], [\"of course, if you do that, certain services may lose full functionality.deletion.\"], [\"of course, if you do that, certain services may lose full functionality.deletion.\"], [\"while we hope you'll remain a lifelong snapchatter, if for some reason you ever want to delete your account, just go here to learn how.\"], [\"you can also delete some information in the app, like photos you've saved to memories, our story submissions, and search history.advertising preferences.\"], [\"you can also delete some information in the app, like photos you've saved to memories, our story submissions, and search history.advertising preferences.\"], [\"if you would like to modify the information we and our advertising partners use to select these ads, you can do so in the app and through your device preferences.\"], [\"if you would like to modify the information we and our advertising partners use to select these ads, you can do so in the app and through your device preferences.\"], [\"here is some additional information we would like to bring to your attention:rights of access, deletion, correction, and portabilityyou can exercise your rights of access, deletion, correction, and portability as described in the control over your information section above.bases for using your informationyour country only allows us to use your personal information when certain conditions apply.\"], [\"here is some additional information we would like to bring to your attention:rights of access, deletion, correction, and portabilityyou can exercise your rights of access, deletion, correction, and portability as described in the control over your information section above.bases for using your informationyour country only allows us to use your personal information when certain conditions apply.\"], [\"here is some additional information we would like to bring to your attention:rights of access, deletion, correction, and portabilityyou can exercise your rights of access, deletion, correction, and portability as described in the control over your information section above.bases for using your informationyour country only allows us to use your personal information when certain conditions apply.\"], [\"here is some additional information we would like to bring to your attention:rights of access, deletion, correction, and portabilityyou can exercise your rights of access, deletion, correction, and portability as described in the control over your information section above.bases for using your informationyour country only allows us to use your personal information when certain conditions apply.\"], [\"these conditions are called \\\"legal bases\\\" and, at snap, we typically rely on one of four:contract.\"], [\"one reason we might use your information is because you've entered into an agreement with us.\"], [\"for example, when you buy an on-demand geofilter and accepted our custom creative tools terms, we need to use some of your information to collect payment and make sure we show your geofilter to the right people at the right place and time.legitimate interest.\"], [\"another reason we might use your information is because we have--or a third party has--a legitimate interest in doing so.\"], [\"because most of our services are free, we also use some information about you to try and show you ads\"], [\"because most of our services are free, we also use some information about you to try and show you ads\"], [\"an important point to understand about legitimate interest is that our interests don't outweigh your right to privacy, so we only rely on legitimate interest when we think the way we are using your data doesn't significantly impact your privacy or would be expected by you, or there is a compelling reason to do so.\"], [\"in some cases we'll ask for consent to use your information for specific purposes.\"], [\"if we do, we'll make sure you can revoke your consent in our services or through your device permissions.\"], [\"even if we're not relying on consent to use your information, we may ask you for permission to access data like contacts and location.legal obligation.\"], [\"we may be required to use your personal information to comply with the law, like when we respond to valid legal process or need to take action to protect our users.\"], [\"our policy is to notify snapchatters when we receive legal process seeking their account information, with some exceptions.\"], [\"with many types of data, we've provided you with the ability to simply delete it if you don't want us processing it anymore.\"], [\"you can do these things in the app.\"], [\"if there are other types of information you don't agree with us processing, you can contact us.international transferswe may collect your personal information from, transfer it to, and store and process it in the united states and other countries outside of where you live.\"], [\"if there are other types of information you don't agree with us processing, you can contact us.international transferswe may collect your personal information from, transfer it to, and store and process it in the united states and other countries outside of where you live.\"], [\"you can find more information on the categories of third parties we share information with here.complaints?\"], [\"if you're based in the eu, you can always file a complaint with the supervisory authority in your member state.users in brazilif\"], [\"here is some additional information we would like to bring to your attention:rights of access, deletion, correction, and portabilityyou can exercise your rights of access, deletion, correction, and portability as described in the control over your information section above.bases for using your informationyour country only allows us to use your personal information when certain conditions apply.\"], [\"here is some additional information we would like to bring to your attention:rights of access, deletion, correction, and portabilityyou can exercise your rights of access, deletion, correction, and portability as described in the control over your information section above.bases for using your informationyour country only allows us to use your personal information when certain conditions apply.\"], [\"here is some additional information we would like to bring to your attention:rights of access, deletion, correction, and portabilityyou can exercise your rights of access, deletion, correction, and portability as described in the control over your information section above.bases for using your informationyour country only allows us to use your personal information when certain conditions apply.\"], [\"here is some additional information we would like to bring to your attention:rights of access, deletion, correction, and portabilityyou can exercise your rights of access, deletion, correction, and portability as described in the control over your information section above.bases for using your informationyour country only allows us to use your personal information when certain conditions apply.\"], [\"these conditions are called \\\"legal bases\\\" and, at snap, we typically rely on one of four:contract.\"], [\"one reason we might use your information is because you've entered into an agreement with us.\"], [\"for example, when you buy an on-demand geofilter and accepted our custom creative tools terms, we need to use some of your information to collect payment and make sure we show your geofilter to the right people at the right place and time.legitimate interest.\"], [\"another reason we might use your information is because we have--or a third party has--a legitimate interest in doing so.\"], [\"because most of our services are free, we also use some information about you to try and show you ads\"], [\"because most of our services are free, we also use some information about you to try and show you ads\"], [\"an important point to understand about legitimate interest is that our interests don't outweigh your right to privacy, so we only rely on legitimate interest when we think the way we are using your data doesn't significantly impact your privacy or would be expected by you, or there is a compelling reason to do so.\"], [\"in some cases we'll ask for consent to use your information for specific purposes.\"], [\"if we do, we'll make sure you can revoke your consent in our services or through your device permissions.\"], [\"even if we're not relying on consent to use your information, we may ask you for permission to access data like contacts and location.legal obligation.\"], [\"we may be required to use your personal information to comply with the law, like when we respond to valid legal process or need to take action to protect our users.your right to objectyou have the right to object to our use of your information.\"], [\"with many types of data, we've provided you with the ability to simply delete it if you don't want us processing it anymore.\"], [\"you can do these things in the app.\"], [\"if there are other types of information you don't agree with us processing, you can contact us.complaints?\"], [\"you can always file a complaint with the national authority in your country.\"], [\"here is some additional information we would like to bring to your attention:rights of access, rectification, and cancellationyou can exercise your rights of access, rectification, and cancellation as described in the control over your information section\"], [\"here is some additional information we would like to bring to your attention:rights of access, rectification, and cancellationyou can exercise your rights of access, rectification, and cancellation as described in the control over your information section\"], [\"here is some additional information we would like to bring to your attention:rights of access, rectification, and cancellationyou can exercise your rights of access, rectification, and cancellation as described in the control over your information section\"], [\"with many types of data, we've provided you with the ability to simply delete it if you don't want us processing it anymore.\"], [\"you can do these things in the app.\"], [\"if there are other types of information you don't agree with us processing, you can contact us.california residentsif you're a california resident, you have certain privacy rights under california law, including the california consumer privacy act of 2018 \\\"ccpa\\\".\"], [\"if there are other types of information you don't agree with us processing, you can contact us.california residentsif you're a california resident, you have certain privacy rights under california law, including the california consumer privacy act of 2018 \\\"ccpa\\\".\"], [\"services are not intended for--and we don't direct them to--anyone under 13.\"], [\"and that's why we do not knowingly collect personal information from anyone under 13.\"], [\"in addition, we may limit how we collect, use, and store some of the information of eu users between 13 and 16.\"], [\"in addition, we may limit how we collect, use, and store some of the information of eu users between 13 and 16.\"], [\"in some cases, this means we will be unable to provide certain functionality to these users.\"], [\"in some cases, this means we will be unable to provide certain functionality to these users.\"], [\"if we need to rely on consent as a legal basis for processing your information and your country requires consent from a parent, we may require your parent's consent before we collect and use that information.revisions to the privacy policywe may change this privacy policy from_time_to_time .\"], [\"if we need to rely on consent as a legal basis for processing your information and your country requires consent from a parent, we may require your parent's consent before we collect and use that information.revisions to the privacy policywe may change this privacy policy from_time_to_time .\"], [\"if we need to rely on consent as a legal basis for processing your information and your country requires consent from a parent, we may require your parent's consent before we collect and use that information.revisions to the privacy policywe may change this privacy policy from_time_to_time .\"], [\"sometimes, we'll let you know by revising the date at the top of the privacy policy that's available on our website and mobile application.\"], [\"other times, we may provide you with additional notice such as adding a statement to our websites' homepages or providing you with an in-app notification.\"]], \"hovertemplate\": \"x=%{x}<br>y=%{y}<br>clean-text=%{customdata[0]}<extra></extra>\", \"legendgroup\": \"\", \"marker\": {\"color\": \"#636efa\", \"symbol\": \"circle\"}, \"mode\": \"markers\", \"name\": \"\", \"orientation\": \"v\", \"showlegend\": false, \"type\": \"scatter\", \"x\": [2.5985493659973145, -16.87145233154297, 4.278918743133545, 6.084807395935059, 6.700246810913086, 5.245398998260498, 4.875260353088379, 0.3810902237892151, 0.7965983152389526, 5.897770881652832, 5.897770881652832, 2.0237865447998047, -4.202392578125, -2.128139019012451, 8.251599311828613, 9.13697338104248, 9.558542251586914, 7.755702972412109, -6.856022834777832, -3.395029306411743, 3.2232182025909424, 2.6584267616271973, 2.8953094482421875, 18.437461853027344, 19.194650650024414, 17.33843421936035, 16.732864379882812, 10.985673904418945, 13.224814414978027, 19.554534912109375, 17.537445068359375, 17.609731674194336, 14.569635391235352, 18.398284912109375, 18.398284912109375, -4.874126434326172, -5.848030090332031, -6.056709289550781, 12.407920837402344, -4.249129295349121, -4.249129295349121, 10.427722930908203, 10.427722930908203, -5.544139862060547, -2.4827282428741455, -2.5037472248077393, -0.3648023009300232, -0.9160720109939575, -11.764588356018066, 2.631598711013794, 1.530658483505249, 2.732292413711548, 4.598762035369873, 4.466372489929199, 5.629983425140381, 8.264299392700195, -7.920938014984131, 10.15890121459961, 1.659655213356018, -1.0321074724197388, -0.7149545550346375, -0.9818230271339417, -1.4429632425308228, -2.525486946105957, -0.8181166052818298, -2.2569613456726074, -1.066975712776184, -8.91910457611084, -5.846282005310059, -8.298391342163086, -5.430459499359131, -13.443192481994629, -11.224090576171875, -11.082868576049805, -9.038945198059082, -7.331139087677002, -7.382709503173828, -6.18712854385376, -6.894181728363037, 6.324616432189941, 6.388190746307373, 11.357867240905762, 12.168149948120117, 10.311962127685547, 9.89395809173584, 5.093115329742432, 8.351411819458008, 8.094311714172363, 13.645511627197266, 13.645511627197266, -10.7777099609375, 14.405287742614746, 14.405287742614746, 12.985706329345703, 12.551513671875, -1.8908547163009644, -2.758633613586426, -1.9839459657669067, -0.7395813465118408, -19.596912384033203, -6.0474066734313965, -18.11117172241211, -9.187527656555176, 7.808407783508301, 8.287400245666504, -0.13972361385822296, 3.380317449569702, 11.800070762634277, 4.403323173522949, -1.196912169456482, -2.8190057277679443, -11.26708698272705, -16.98786163330078, -6.783944129943848, -5.951115608215332, -7.278749942779541, -8.297966957092285, -1.1510100364685059, -3.2845876216888428, 0.059738889336586, -3.6707160472869873, -19.353004455566406, -6.7154083251953125, -18.084308624267578, -9.573046684265137, 7.00662899017334, 6.531224250793457, -0.8277332782745361, 4.217648506164551, 11.615898132324219, 3.6277658939361572, -0.317503958940506, -11.618410110473633, -16.089262008666992, -7.523115158081055, -9.140279769897461, 1.9932904243469238, 1.0587468147277832, 2.413452386856079, -12.534594535827637, -17.358434677124023, -4.7046003341674805, -5.350501537322998, -14.75511646270752, -13.483202934265137, -13.617650985717773, -12.866042137145996, -19.681659698486328, -19.352231979370117, -0.12968480587005615, -0.8356536030769348, 0.46557188034057617, 7.679198265075684, 14.586005210876465], \"xaxis\": \"x\", \"y\": [3.0634214878082275, -4.008695125579834, -18.665237426757812, -17.989927291870117, -19.266883850097656, -19.750072479248047, -17.272668838500977, 11.915499687194824, 12.600152015686035, 11.657845497131348, 11.657845497131348, 10.271037101745605, 19.207962036132812, 18.709829330444336, 18.736080169677734, 19.69927215576172, 18.451332092285156, 15.471426963806152, 21.664762496948242, 16.531871795654297, 12.729814529418945, 15.26916217803955, 2.114231824874878, -1.8678542375564575, -2.114015579223633, 7.888000965118408, 7.336341857910156, 5.918576240539551, 9.981453895568848, -11.32731819152832, -11.456944465637207, -10.625320434570312, -11.741340637207031, 3.0952634811401367, 3.0952634811401367, 14.791709899902344, 15.679685592651367, 14.495682716369629, 8.962323188781738, 4.114835262298584, 4.114835262298584, 13.404352188110352, 13.404352188110352, 11.789597511291504, 9.226004600524902, 12.618704795837402, 16.083858489990234, 15.43952751159668, -1.8375648260116577, 20.007783889770508, 19.260168075561523, 18.695276260375977, 6.95261287689209, 8.184552192687988, 7.702866077423096, 8.564380645751953, 7.631007194519043, 8.265644073486328, 6.890974998474121, 6.5510573387146, 5.8225250244140625, 1.5477685928344727, 0.8644476532936096, 24.40943145751953, 23.207658767700195, 22.992809295654297, 24.629642486572266, 17.933080673217773, 7.552249431610107, 15.493803024291992, 17.946243286132812, -12.934627532958984, -11.919596672058105, -12.692307472229004, 13.319365501403809, -4.598108291625977, -5.438972473144531, -9.557180404663086, -9.12449836730957, -2.5907485485076904, -3.3737404346466064, -1.362392783164978, -1.3456083536148071, -5.946820259094238, -5.278011322021484, -6.920923233032227, -9.690680503845215, -10.475957870483398, -17.852109909057617, -17.852109909057617, 11.53243350982666, -5.3854570388793945, -5.3854570388793945, 3.8549482822418213, 3.1892025470733643, -3.675752878189087, -7.402256965637207, -5.746224403381348, -4.836859703063965, -3.4815473556518555, -0.004352472256869078, -11.186752319335938, 1.8664389848709106, 4.113893985748291, 2.8022425174713135, -21.9843807220459, -12.224297523498535, -11.161551475524902, -9.031327247619629, -11.458909034729004, -12.127657890319824, -7.141857624053955, 14.112571716308594, -14.721346855163574, -14.961485862731934, 6.48631477355957, -21.871484756469727, -7.2947187423706055, -4.4608917236328125, -6.2772440910339355, -6.039205074310303, -2.7259533405303955, -0.5162948369979858, -10.386877059936523, 1.1175390481948853, 2.260708808898926, 3.568653106689453, -21.55286407470703, -12.334013938903809, -11.962647438049316, -8.795857429504395, -11.48099422454834, -5.897186756134033, 15.078607559204102, -16.728927612304688, -21.52039909362793, -3.985689401626587, -2.772048234939575, -2.6581246852874756, -6.801673889160156, 15.372637748718262, -17.566184997558594, -18.180824279785156, 1.505518913269043, 1.7360330820083618, 5.850717544555664, 5.586059093475342, 4.920601844787598, 5.66089391708374, -16.693893432617188, -15.62048053741455, -15.527128219604492, -16.229249954223633, 11.140256881713867], \"yaxis\": \"y\"}],                        {\"legend\": {\"tracegroupgap\": 0}, \"template\": {\"data\": {\"bar\": [{\"error_x\": {\"color\": \"#2a3f5f\"}, \"error_y\": {\"color\": \"#2a3f5f\"}, \"marker\": {\"line\": {\"color\": \"#E5ECF6\", \"width\": 0.5}}, \"type\": \"bar\"}], \"barpolar\": [{\"marker\": {\"line\": {\"color\": \"#E5ECF6\", \"width\": 0.5}}, \"type\": \"barpolar\"}], \"carpet\": [{\"aaxis\": {\"endlinecolor\": \"#2a3f5f\", \"gridcolor\": \"white\", \"linecolor\": \"white\", \"minorgridcolor\": \"white\", \"startlinecolor\": \"#2a3f5f\"}, \"baxis\": {\"endlinecolor\": \"#2a3f5f\", \"gridcolor\": \"white\", \"linecolor\": \"white\", \"minorgridcolor\": \"white\", \"startlinecolor\": \"#2a3f5f\"}, \"type\": \"carpet\"}], \"choropleth\": [{\"colorbar\": {\"outlinewidth\": 0, \"ticks\": \"\"}, \"type\": \"choropleth\"}], \"contour\": [{\"colorbar\": {\"outlinewidth\": 0, \"ticks\": \"\"}, \"colorscale\": [[0.0, \"#0d0887\"], [0.1111111111111111, \"#46039f\"], [0.2222222222222222, \"#7201a8\"], [0.3333333333333333, \"#9c179e\"], [0.4444444444444444, \"#bd3786\"], [0.5555555555555556, \"#d8576b\"], [0.6666666666666666, \"#ed7953\"], [0.7777777777777778, \"#fb9f3a\"], [0.8888888888888888, \"#fdca26\"], [1.0, \"#f0f921\"]], \"type\": \"contour\"}], \"contourcarpet\": [{\"colorbar\": {\"outlinewidth\": 0, \"ticks\": \"\"}, \"type\": \"contourcarpet\"}], \"heatmap\": [{\"colorbar\": {\"outlinewidth\": 0, \"ticks\": \"\"}, \"colorscale\": [[0.0, \"#0d0887\"], [0.1111111111111111, \"#46039f\"], [0.2222222222222222, \"#7201a8\"], [0.3333333333333333, \"#9c179e\"], [0.4444444444444444, \"#bd3786\"], [0.5555555555555556, \"#d8576b\"], [0.6666666666666666, \"#ed7953\"], [0.7777777777777778, \"#fb9f3a\"], [0.8888888888888888, \"#fdca26\"], [1.0, \"#f0f921\"]], \"type\": \"heatmap\"}], \"heatmapgl\": [{\"colorbar\": {\"outlinewidth\": 0, \"ticks\": \"\"}, \"colorscale\": [[0.0, \"#0d0887\"], [0.1111111111111111, \"#46039f\"], [0.2222222222222222, \"#7201a8\"], [0.3333333333333333, \"#9c179e\"], [0.4444444444444444, \"#bd3786\"], [0.5555555555555556, \"#d8576b\"], [0.6666666666666666, \"#ed7953\"], [0.7777777777777778, \"#fb9f3a\"], [0.8888888888888888, \"#fdca26\"], [1.0, \"#f0f921\"]], \"type\": \"heatmapgl\"}], \"histogram\": [{\"marker\": {\"colorbar\": {\"outlinewidth\": 0, \"ticks\": \"\"}}, \"type\": \"histogram\"}], \"histogram2d\": [{\"colorbar\": {\"outlinewidth\": 0, \"ticks\": \"\"}, \"colorscale\": [[0.0, \"#0d0887\"], [0.1111111111111111, \"#46039f\"], [0.2222222222222222, \"#7201a8\"], [0.3333333333333333, \"#9c179e\"], [0.4444444444444444, \"#bd3786\"], [0.5555555555555556, \"#d8576b\"], [0.6666666666666666, \"#ed7953\"], [0.7777777777777778, \"#fb9f3a\"], [0.8888888888888888, \"#fdca26\"], [1.0, \"#f0f921\"]], \"type\": \"histogram2d\"}], \"histogram2dcontour\": [{\"colorbar\": {\"outlinewidth\": 0, \"ticks\": \"\"}, \"colorscale\": [[0.0, \"#0d0887\"], [0.1111111111111111, \"#46039f\"], [0.2222222222222222, \"#7201a8\"], [0.3333333333333333, \"#9c179e\"], [0.4444444444444444, \"#bd3786\"], [0.5555555555555556, \"#d8576b\"], [0.6666666666666666, \"#ed7953\"], [0.7777777777777778, \"#fb9f3a\"], [0.8888888888888888, \"#fdca26\"], [1.0, \"#f0f921\"]], \"type\": \"histogram2dcontour\"}], \"mesh3d\": [{\"colorbar\": {\"outlinewidth\": 0, \"ticks\": \"\"}, \"type\": \"mesh3d\"}], \"parcoords\": [{\"line\": {\"colorbar\": {\"outlinewidth\": 0, \"ticks\": \"\"}}, \"type\": \"parcoords\"}], \"pie\": [{\"automargin\": true, \"type\": \"pie\"}], \"scatter\": [{\"marker\": {\"colorbar\": {\"outlinewidth\": 0, \"ticks\": \"\"}}, \"type\": \"scatter\"}], \"scatter3d\": [{\"line\": {\"colorbar\": {\"outlinewidth\": 0, \"ticks\": \"\"}}, \"marker\": {\"colorbar\": {\"outlinewidth\": 0, \"ticks\": \"\"}}, \"type\": \"scatter3d\"}], \"scattercarpet\": [{\"marker\": {\"colorbar\": {\"outlinewidth\": 0, \"ticks\": \"\"}}, \"type\": \"scattercarpet\"}], \"scattergeo\": [{\"marker\": {\"colorbar\": {\"outlinewidth\": 0, \"ticks\": \"\"}}, \"type\": \"scattergeo\"}], \"scattergl\": [{\"marker\": {\"colorbar\": {\"outlinewidth\": 0, \"ticks\": \"\"}}, \"type\": \"scattergl\"}], \"scattermapbox\": [{\"marker\": {\"colorbar\": {\"outlinewidth\": 0, \"ticks\": \"\"}}, \"type\": \"scattermapbox\"}], \"scatterpolar\": [{\"marker\": {\"colorbar\": {\"outlinewidth\": 0, \"ticks\": \"\"}}, \"type\": \"scatterpolar\"}], \"scatterpolargl\": [{\"marker\": {\"colorbar\": {\"outlinewidth\": 0, \"ticks\": \"\"}}, \"type\": \"scatterpolargl\"}], \"scatterternary\": [{\"marker\": {\"colorbar\": {\"outlinewidth\": 0, \"ticks\": \"\"}}, \"type\": \"scatterternary\"}], \"surface\": [{\"colorbar\": {\"outlinewidth\": 0, \"ticks\": \"\"}, \"colorscale\": [[0.0, \"#0d0887\"], [0.1111111111111111, \"#46039f\"], [0.2222222222222222, \"#7201a8\"], [0.3333333333333333, \"#9c179e\"], [0.4444444444444444, \"#bd3786\"], [0.5555555555555556, \"#d8576b\"], [0.6666666666666666, \"#ed7953\"], [0.7777777777777778, \"#fb9f3a\"], [0.8888888888888888, \"#fdca26\"], [1.0, \"#f0f921\"]], \"type\": \"surface\"}], \"table\": [{\"cells\": {\"fill\": {\"color\": \"#EBF0F8\"}, \"line\": {\"color\": \"white\"}}, \"header\": {\"fill\": {\"color\": \"#C8D4E3\"}, \"line\": {\"color\": \"white\"}}, \"type\": \"table\"}]}, \"layout\": {\"annotationdefaults\": {\"arrowcolor\": \"#2a3f5f\", \"arrowhead\": 0, \"arrowwidth\": 1}, \"autotypenumbers\": \"strict\", \"coloraxis\": {\"colorbar\": {\"outlinewidth\": 0, \"ticks\": \"\"}}, \"colorscale\": {\"diverging\": [[0, \"#8e0152\"], [0.1, \"#c51b7d\"], [0.2, \"#de77ae\"], [0.3, \"#f1b6da\"], [0.4, \"#fde0ef\"], [0.5, \"#f7f7f7\"], [0.6, \"#e6f5d0\"], [0.7, \"#b8e186\"], [0.8, \"#7fbc41\"], [0.9, \"#4d9221\"], [1, \"#276419\"]], \"sequential\": [[0.0, \"#0d0887\"], [0.1111111111111111, \"#46039f\"], [0.2222222222222222, \"#7201a8\"], [0.3333333333333333, \"#9c179e\"], [0.4444444444444444, \"#bd3786\"], [0.5555555555555556, \"#d8576b\"], [0.6666666666666666, \"#ed7953\"], [0.7777777777777778, \"#fb9f3a\"], [0.8888888888888888, \"#fdca26\"], [1.0, \"#f0f921\"]], \"sequentialminus\": [[0.0, \"#0d0887\"], [0.1111111111111111, \"#46039f\"], [0.2222222222222222, \"#7201a8\"], [0.3333333333333333, \"#9c179e\"], [0.4444444444444444, \"#bd3786\"], [0.5555555555555556, \"#d8576b\"], [0.6666666666666666, \"#ed7953\"], [0.7777777777777778, \"#fb9f3a\"], [0.8888888888888888, \"#fdca26\"], [1.0, \"#f0f921\"]]}, \"colorway\": [\"#636efa\", \"#EF553B\", \"#00cc96\", \"#ab63fa\", \"#FFA15A\", \"#19d3f3\", \"#FF6692\", \"#B6E880\", \"#FF97FF\", \"#FECB52\"], \"font\": {\"color\": \"#2a3f5f\"}, \"geo\": {\"bgcolor\": \"white\", \"lakecolor\": \"white\", \"landcolor\": \"#E5ECF6\", \"showlakes\": true, \"showland\": true, \"subunitcolor\": \"white\"}, \"hoverlabel\": {\"align\": \"left\"}, \"hovermode\": \"closest\", \"mapbox\": {\"style\": \"light\"}, \"paper_bgcolor\": \"white\", \"plot_bgcolor\": \"#E5ECF6\", \"polar\": {\"angularaxis\": {\"gridcolor\": \"white\", \"linecolor\": \"white\", \"ticks\": \"\"}, \"bgcolor\": \"#E5ECF6\", \"radialaxis\": {\"gridcolor\": \"white\", \"linecolor\": \"white\", \"ticks\": \"\"}}, \"scene\": {\"xaxis\": {\"backgroundcolor\": \"#E5ECF6\", \"gridcolor\": \"white\", \"gridwidth\": 2, \"linecolor\": \"white\", \"showbackground\": true, \"ticks\": \"\", \"zerolinecolor\": \"white\"}, \"yaxis\": {\"backgroundcolor\": \"#E5ECF6\", \"gridcolor\": \"white\", \"gridwidth\": 2, \"linecolor\": \"white\", \"showbackground\": true, \"ticks\": \"\", \"zerolinecolor\": \"white\"}, \"zaxis\": {\"backgroundcolor\": \"#E5ECF6\", \"gridcolor\": \"white\", \"gridwidth\": 2, \"linecolor\": \"white\", \"showbackground\": true, \"ticks\": \"\", \"zerolinecolor\": \"white\"}}, \"shapedefaults\": {\"line\": {\"color\": \"#2a3f5f\"}}, \"ternary\": {\"aaxis\": {\"gridcolor\": \"white\", \"linecolor\": \"white\", \"ticks\": \"\"}, \"baxis\": {\"gridcolor\": \"white\", \"linecolor\": \"white\", \"ticks\": \"\"}, \"bgcolor\": \"#E5ECF6\", \"caxis\": {\"gridcolor\": \"white\", \"linecolor\": \"white\", \"ticks\": \"\"}}, \"title\": {\"x\": 0.05}, \"xaxis\": {\"automargin\": true, \"gridcolor\": \"white\", \"linecolor\": \"white\", \"ticks\": \"\", \"title\": {\"standoff\": 15}, \"zerolinecolor\": \"white\", \"zerolinewidth\": 2}, \"yaxis\": {\"automargin\": true, \"gridcolor\": \"white\", \"linecolor\": \"white\", \"ticks\": \"\", \"title\": {\"standoff\": 15}, \"zerolinecolor\": \"white\", \"zerolinewidth\": 2}}}, \"title\": {\"text\": \"USE\"}, \"xaxis\": {\"anchor\": \"y\", \"domain\": [0.0, 1.0], \"title\": {\"text\": \"x\"}}, \"yaxis\": {\"anchor\": \"x\", \"domain\": [0.0, 1.0], \"title\": {\"text\": \"y\"}}},                        {\"responsive\": true}                    ).then(function(){\n",
       "                            \n",
       "var gd = document.getElementById('51a9d464-bf58-40f0-9fd4-57de8d033d11');\n",
       "var x = new MutationObserver(function (mutations, observer) {{\n",
       "        var display = window.getComputedStyle(gd).display;\n",
       "        if (!display || display === 'none') {{\n",
       "            console.log([gd, 'removed!']);\n",
       "            Plotly.purge(gd);\n",
       "            observer.disconnect();\n",
       "        }}\n",
       "}});\n",
       "\n",
       "// Listen for the removal of the full notebook cells\n",
       "var notebookContainer = gd.closest('#notebook-container');\n",
       "if (notebookContainer) {{\n",
       "    x.observe(notebookContainer, {childList: true});\n",
       "}}\n",
       "\n",
       "// Listen for the clearing of the current output cell\n",
       "var outputEl = gd.closest('.output');\n",
       "if (outputEl) {{\n",
       "    x.observe(outputEl, {childList: true});\n",
       "}}\n",
       "\n",
       "                        })                };                });            </script>        </div>"
      ]
     },
     "metadata": {},
     "output_type": "display_data"
    }
   ],
   "source": [
    "hero.scatterplot(df, col='tsneuse'\n",
    "                 , title=\"USE\", hover_data = ['clean-text'])"
   ]
  },
  {
   "cell_type": "code",
   "execution_count": 36,
   "id": "3f9cc8d7",
   "metadata": {},
   "outputs": [],
   "source": [
    "instructions = df['Phrase'].tolist()\n",
    "\n",
    "#check = 0\n",
    "Bigger_list=[]\n",
    "\n",
    "for sent in instructions:\n",
    "    #check = check + 1\n",
    "    #if check <2:\n",
    "    li = list(str(sent).split())\n",
    "    Bigger_list.append(li)"
   ]
  },
  {
   "cell_type": "code",
   "execution_count": 37,
   "id": "3323c328",
   "metadata": {},
   "outputs": [],
   "source": [
    "with open('train_data.pkl', 'wb') as f:\n",
    "    pickle.dump(Bigger_list, f)"
   ]
  },
  {
   "cell_type": "code",
   "execution_count": 38,
   "id": "ebb9bbc3",
   "metadata": {},
   "outputs": [],
   "source": [
    "import pickle"
   ]
  },
  {
   "cell_type": "code",
   "execution_count": 39,
   "id": "9b038d5d",
   "metadata": {},
   "outputs": [],
   "source": [
    "from gensim.models.word2vec import Word2Vec\n",
    "from tqdm import tqdm"
   ]
  },
  {
   "cell_type": "code",
   "execution_count": 40,
   "id": "808df5e6",
   "metadata": {},
   "outputs": [],
   "source": [
    "with open('train_data.pkl', 'rb') as f:\n",
    "    train_data = pickle.load(f)"
   ]
  },
  {
   "cell_type": "code",
   "execution_count": 41,
   "id": "8ee0f1d3",
   "metadata": {},
   "outputs": [],
   "source": [
    "model = Word2Vec()"
   ]
  },
  {
   "cell_type": "code",
   "execution_count": 42,
   "id": "8f15685d",
   "metadata": {},
   "outputs": [],
   "source": [
    "model.build_vocab(train_data)"
   ]
  },
  {
   "cell_type": "code",
   "execution_count": 43,
   "id": "158874d6",
   "metadata": {},
   "outputs": [
    {
     "name": "stdout",
     "output_type": "stream",
     "text": [
      "CPU times: user 25.2 ms, sys: 577 µs, total: 25.8 ms\n",
      "Wall time: 22.9 ms\n"
     ]
    },
    {
     "data": {
      "text/plain": [
       "(10523, 26815)"
      ]
     },
     "execution_count": 43,
     "metadata": {},
     "output_type": "execute_result"
    }
   ],
   "source": [
    "%%time\n",
    "model.train(train_data, total_examples=model.corpus_count, epochs=model.epochs)"
   ]
  },
  {
   "cell_type": "code",
   "execution_count": 44,
   "id": "9adf852c",
   "metadata": {},
   "outputs": [],
   "source": [
    "model.save('w2v.model')"
   ]
  },
  {
   "cell_type": "code",
   "execution_count": 45,
   "id": "f587dd6c",
   "metadata": {},
   "outputs": [
    {
     "data": {
      "text/plain": [
       "'/home/clifton/Desktop/Clifton_ISB/Ambiguty_Scoring'"
      ]
     },
     "execution_count": 45,
     "metadata": {},
     "output_type": "execute_result"
    }
   ],
   "source": [
    "%pwd"
   ]
  },
  {
   "cell_type": "code",
   "execution_count": 48,
   "id": "cdc5be32",
   "metadata": {},
   "outputs": [
    {
     "data": {
      "text/plain": [
       "[('we', 0.9988677501678467),\n",
       " ('and', 0.998857855796814),\n",
       " ('to', 0.9988352060317993),\n",
       " ('your', 0.998799741268158),\n",
       " ('information', 0.9987935423851013)]"
      ]
     },
     "execution_count": 48,
     "metadata": {},
     "output_type": "execute_result"
    }
   ],
   "source": [
    "search_term = 'can'\n",
    "sim_terms = model.wv.most_similar(search_term, topn=5)\n",
    "sim_terms"
   ]
  },
  {
   "cell_type": "code",
   "execution_count": 34,
   "id": "4635ff73",
   "metadata": {},
   "outputs": [
    {
     "data": {
      "text/plain": [
       "'you use these services, you’ll share some information with us.'"
      ]
     },
     "execution_count": 34,
     "metadata": {},
     "output_type": "execute_result"
    }
   ],
   "source": [
    "str(df['Phrase'][0])"
   ]
  },
  {
   "cell_type": "code",
   "execution_count": null,
   "id": "ffddf8a9",
   "metadata": {},
   "outputs": [],
   "source": []
  }
 ],
 "metadata": {
  "interpreter": {
   "hash": "2dc5d48f7d074a02aa23d251d4dcf80e99e2656652743595d2897319eb14d9b9"
  },
  "kernelspec": {
   "display_name": "Python 3",
   "language": "python",
   "name": "python3"
  },
  "language_info": {
   "codemirror_mode": {
    "name": "ipython",
    "version": 3
   },
   "file_extension": ".py",
   "mimetype": "text/x-python",
   "name": "python",
   "nbconvert_exporter": "python",
   "pygments_lexer": "ipython3",
   "version": "3.8.8"
  },
  "varInspector": {
   "cols": {
    "lenName": 16,
    "lenType": 16,
    "lenVar": 40
   },
   "kernels_config": {
    "python": {
     "delete_cmd_postfix": "",
     "delete_cmd_prefix": "del ",
     "library": "var_list.py",
     "varRefreshCmd": "print(var_dic_list())"
    },
    "r": {
     "delete_cmd_postfix": ") ",
     "delete_cmd_prefix": "rm(",
     "library": "var_list.r",
     "varRefreshCmd": "cat(var_dic_list()) "
    }
   },
   "types_to_exclude": [
    "module",
    "function",
    "builtin_function_or_method",
    "instance",
    "_Feature"
   ],
   "window_display": false
  }
 },
 "nbformat": 4,
 "nbformat_minor": 5
}

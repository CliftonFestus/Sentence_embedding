{
 "cells": [
  {
   "cell_type": "code",
   "execution_count": 28,
   "id": "afb5e0a5",
   "metadata": {},
   "outputs": [],
   "source": [
    "import pandas as pd\n",
    "from dashboardContent import func"
   ]
  },
  {
   "cell_type": "code",
   "execution_count": 34,
   "id": "dd321e6a",
   "metadata": {},
   "outputs": [],
   "source": [
    "with open(\"govt.txt\",'r') as f:\n",
    "    a= f.read()"
   ]
  },
  {
   "cell_type": "code",
   "execution_count": 35,
   "id": "033eec43",
   "metadata": {},
   "outputs": [
    {
     "name": "stdout",
     "output_type": "stream",
     "text": [
      "[0, 0, 0, 0, 0, 0, 0, 0, 0, 0, 0, 0, 0, 0, 0, 0, 0, 0, 0, 0, 0, 0, 0, 1, 0, 0, 0, 0, 0, 0, 0, 0, 0, 0, 0, 0, 0, 0, 0, 0, 'M', 2.865, ['can'], ['He said that in this 75 weeks of “Azadi ka Amrit Mahotsav”, we can share “Azadi ka Amrit” with Investors, Business owners (MSMEs) not only form India but from the world.']]\n",
      "[0, 0, 0, 0, 0, 0, 0, 0, 0, 0, 0, 0, 0, 0, 0, 0, 0, 0, 0, 0, 0, 0, 0, 1, 0, 0, 0, 0, 0, 0, 0, 0, 0, 0, 0, 0, 0, 0, 0, 0, 'M', 2.865, ['can'], ['He said that in this 75 weeks of “Azadi ka Amrit Mahotsav”, we can share “Azadi ka Amrit” with Investors, Business owners (MSMEs) not only form India but from the world.']]\n",
      "[0, 0, 0, 0, 0, 0, 0, 0, 0, 0, 0, 0, 0, 0, 0, 0, 0, 0, 0, 0, 0, 0, 0, 0, 0, 1, 0, 0, 0, 0, 0, 0, 0, 0, 0, 0, 0, 0, 0, 0, 'M', 2.865, ['would'], ['The Minister said that \\n\\nNSWS would usher in Azadi from legacy of running to Govt.']]\n",
      "[0, 0, 0, 0, 0, 0, 0, 0, 0, 0, 0, 0, 0, 0, 0, 0, 0, 0, 0, 0, 0, 0, 0, 0, 0, 1, 0, 0, 0, 0, 0, 0, 0, 0, 0, 0, 0, 0, 0, 0, 'M', 2.865, ['would'], ['The Minister said that \\n\\nNSWS would usher in Azadi from legacy of running to Govt.']]\n",
      "[0, 0, 0, 0, 0, 0, 0, 0, 0, 0, 0, 0, 0, 0, 0, 0, 0, 0, 0, 0, 0, 0, 0, 0, 0, 1, 0, 0, 0, 0, 0, 0, 0, 0, 0, 0, 0, 0, 0, 0, 'M', 2.865, ['would'], ['This would bring Transparency, Accountability & Responsiveness in the ecosystem  and all information will.be available on a single dashboard.']]\n",
      "[0, 0, 0, 0, 0, 0, 0, 0, 0, 0, 0, 0, 0, 0, 0, 0, 0, 0, 0, 0, 0, 0, 0, 0, 0, 1, 0, 0, 0, 0, 0, 0, 0, 0, 0, 0, 0, 0, 0, 0, 'M', 2.865, ['would'], ['This would bring Transparency, Accountability & Responsiveness in the ecosystem  and all information will.be available on a single dashboard.']]\n",
      "[0, 0, 0, 0, 0, 0, 0, 0, 0, 0, 0, 0, 0, 0, 0, 0, 0, 0, 0, 0, 0, 0, 0, 0, 0, 1, 0, 0, 0, 0, 0, 0, 0, 0, 0, 0, 0, 0, 0, 0, 'M', 2.865, ['would'], ['An applicant  Dashboard would be there to apply, track & respond to queries.\\n\\n']]\n",
      "[0, 0, 0, 0, 0, 0, 0, 0, 0, 0, 0, 0, 0, 0, 0, 0, 0, 0, 0, 0, 0, 0, 0, 0, 0, 1, 0, 0, 0, 0, 0, 0, 0, 0, 0, 0, 0, 0, 0, 0, 'M', 2.865, ['would'], ['An applicant  Dashboard would be there to apply, track & respond to queries.\\n\\n']]\n",
      "[0, 0, 0, 0, 0, 0, 0, 0, 0, 0, 0, 0, 0, 0, 0, 0, 0, 0, 0, 0, 0, 1, 0, 0, 0, 0, 0, 0, 0, 0, 0, 0, 0, 0, 0, 0, 0, 0, 0, 0, 'M', 2.865, ['may'], ['It may be noted that improving India’s business climate is one of the key focus areas of the Government of India.']]\n",
      "[0, 0, 0, 0, 0, 0, 0, 0, 0, 0, 0, 0, 0, 0, 0, 0, 0, 0, 0, 0, 0, 1, 0, 0, 0, 0, 0, 0, 0, 0, 0, 0, 0, 0, 0, 0, 0, 0, 0, 0, 'M', 2.865, ['may'], ['It may be noted that improving India’s business climate is one of the key focus areas of the Government of India.']]\n",
      "[0, 0, 0, 0, 0, 0, 0, 0, 0, 0, 0, 0, 0, 0, 0, 0, 0, 0, 0, 0, 0, 1, 0, 0, 0, 0, 0, 0, 0, 0, 0, 0, 0, 0, 0, 0, 0, 0, 0, 0, 'M', 2.865, ['may'], ['The beta version of the portal (under Phase I), hosts approvals from 18 Central departments and 9 States and is aimed at guiding investors to the list of business approvals they may need, based on information provided by them.']]\n",
      "[0, 0, 0, 0, 0, 0, 0, 0, 0, 0, 0, 0, 0, 0, 0, 0, 0, 0, 0, 0, 0, 1, 0, 0, 0, 0, 0, 0, 0, 0, 0, 0, 0, 0, 0, 0, 0, 0, 0, 0, 'M', 2.865, ['may'], ['The beta version of the portal (under Phase I), hosts approvals from 18 Central departments and 9 States and is aimed at guiding investors to the list of business approvals they may need, based on information provided by them.']]\n"
     ]
    }
   ],
   "source": [
    "b = func.make_df(a)"
   ]
  },
  {
   "cell_type": "code",
   "execution_count": 36,
   "id": "be403132",
   "metadata": {},
   "outputs": [
    {
     "name": "stdout",
     "output_type": "stream",
     "text": [
      "['He said that in this 75 weeks of “Azadi ka Amrit Mahotsav”, we can share “Azadi ka Amrit” with Investors, Business owners (MSMEs) not only form India but from the world.']\n",
      "['The Minister said that \\n\\nNSWS would usher in Azadi from legacy of running to Govt.']\n",
      "['This would bring Transparency, Accountability & Responsiveness in the ecosystem  and all information will.be available on a single dashboard.']\n",
      "['An applicant  Dashboard would be there to apply, track & respond to queries.\\n\\n']\n",
      "['It may be noted that improving India’s business climate is one of the key focus areas of the Government of India.']\n",
      "['The beta version of the portal (under Phase I), hosts approvals from 18 Central departments and 9 States and is aimed at guiding investors to the list of business approvals they may need, based on information provided by them.']\n"
     ]
    }
   ],
   "source": [
    "for i in b['Amb_Phrase']:\n",
    "    print(i)"
   ]
  },
  {
   "cell_type": "code",
   "execution_count": 37,
   "id": "7a0c3ba6",
   "metadata": {},
   "outputs": [
    {
     "data": {
      "text/html": [
       "<div>\n",
       "<style scoped>\n",
       "    .dataframe tbody tr th:only-of-type {\n",
       "        vertical-align: middle;\n",
       "    }\n",
       "\n",
       "    .dataframe tbody tr th {\n",
       "        vertical-align: top;\n",
       "    }\n",
       "\n",
       "    .dataframe thead th {\n",
       "        text-align: right;\n",
       "    }\n",
       "</style>\n",
       "<table border=\"1\" class=\"dataframe\">\n",
       "  <thead>\n",
       "    <tr style=\"text-align: right;\">\n",
       "      <th></th>\n",
       "      <th>Category</th>\n",
       "      <th>BT Coeff</th>\n",
       "      <th>Amb_Terms</th>\n",
       "      <th>Amb_Phrase</th>\n",
       "    </tr>\n",
       "  </thead>\n",
       "  <tbody>\n",
       "    <tr>\n",
       "      <th>0</th>\n",
       "      <td>M</td>\n",
       "      <td>2.865</td>\n",
       "      <td>[can]</td>\n",
       "      <td>[He said that in this 75 weeks of “Azadi ka Am...</td>\n",
       "    </tr>\n",
       "    <tr>\n",
       "      <th>1</th>\n",
       "      <td>M</td>\n",
       "      <td>2.865</td>\n",
       "      <td>[would]</td>\n",
       "      <td>[The Minister said that \\n\\nNSWS would usher i...</td>\n",
       "    </tr>\n",
       "    <tr>\n",
       "      <th>2</th>\n",
       "      <td>M</td>\n",
       "      <td>2.865</td>\n",
       "      <td>[would]</td>\n",
       "      <td>[This would bring Transparency, Accountability...</td>\n",
       "    </tr>\n",
       "    <tr>\n",
       "      <th>3</th>\n",
       "      <td>M</td>\n",
       "      <td>2.865</td>\n",
       "      <td>[would]</td>\n",
       "      <td>[An applicant  Dashboard would be there to app...</td>\n",
       "    </tr>\n",
       "    <tr>\n",
       "      <th>4</th>\n",
       "      <td>M</td>\n",
       "      <td>2.865</td>\n",
       "      <td>[may]</td>\n",
       "      <td>[It may be noted that improving India’s busine...</td>\n",
       "    </tr>\n",
       "    <tr>\n",
       "      <th>5</th>\n",
       "      <td>M</td>\n",
       "      <td>2.865</td>\n",
       "      <td>[may]</td>\n",
       "      <td>[The beta version of the portal (under Phase I...</td>\n",
       "    </tr>\n",
       "  </tbody>\n",
       "</table>\n",
       "</div>"
      ],
      "text/plain": [
       "  Category  BT Coeff Amb_Terms  \\\n",
       "0        M     2.865     [can]   \n",
       "1        M     2.865   [would]   \n",
       "2        M     2.865   [would]   \n",
       "3        M     2.865   [would]   \n",
       "4        M     2.865     [may]   \n",
       "5        M     2.865     [may]   \n",
       "\n",
       "                                          Amb_Phrase  \n",
       "0  [He said that in this 75 weeks of “Azadi ka Am...  \n",
       "1  [The Minister said that \\n\\nNSWS would usher i...  \n",
       "2  [This would bring Transparency, Accountability...  \n",
       "3  [An applicant  Dashboard would be there to app...  \n",
       "4  [It may be noted that improving India’s busine...  \n",
       "5  [The beta version of the portal (under Phase I...  "
      ]
     },
     "execution_count": 37,
     "metadata": {},
     "output_type": "execute_result"
    }
   ],
   "source": [
    "b.iloc[:,-4:]"
   ]
  },
  {
   "cell_type": "code",
   "execution_count": 33,
   "id": "c59e9191",
   "metadata": {},
   "outputs": [
    {
     "data": {
      "text/plain": [
       "['This would bring Transparency, Accountability & Responsiveness in the ecosystem  and all information will.be available on a single dashboard.']"
      ]
     },
     "execution_count": 33,
     "metadata": {},
     "output_type": "execute_result"
    }
   ],
   "source": [
    "b.iloc[2,-1]"
   ]
  },
  {
   "cell_type": "code",
   "execution_count": null,
   "id": "24994482",
   "metadata": {},
   "outputs": [],
   "source": [
    "# Spacy Named entities on spacy"
   ]
  }
 ],
 "metadata": {
  "kernelspec": {
   "display_name": "Python 3",
   "language": "python",
   "name": "python3"
  },
  "language_info": {
   "codemirror_mode": {
    "name": "ipython",
    "version": 3
   },
   "file_extension": ".py",
   "mimetype": "text/x-python",
   "name": "python",
   "nbconvert_exporter": "python",
   "pygments_lexer": "ipython3",
   "version": "3.8.8"
  },
  "varInspector": {
   "cols": {
    "lenName": 16,
    "lenType": 16,
    "lenVar": 40
   },
   "kernels_config": {
    "python": {
     "delete_cmd_postfix": "",
     "delete_cmd_prefix": "del ",
     "library": "var_list.py",
     "varRefreshCmd": "print(var_dic_list())"
    },
    "r": {
     "delete_cmd_postfix": ") ",
     "delete_cmd_prefix": "rm(",
     "library": "var_list.r",
     "varRefreshCmd": "cat(var_dic_list()) "
    }
   },
   "types_to_exclude": [
    "module",
    "function",
    "builtin_function_or_method",
    "instance",
    "_Feature"
   ],
   "window_display": false
  }
 },
 "nbformat": 4,
 "nbformat_minor": 5
}

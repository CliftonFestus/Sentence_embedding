{
 "cells": [
  {
   "cell_type": "code",
   "execution_count": 26,
   "id": "67c9971a",
   "metadata": {
    "id": "67c9971a"
   },
   "outputs": [],
   "source": [
    "import spacy\n",
    "import os\n",
    "import pandas as pd\n",
    "from spacy.matcher import Matcher\n",
    "\n",
    "import re                                                        \n",
    "\n",
    "\n",
    "import numpy as np\n",
    "from pandas import ExcelWriter\n",
    "import matplotlib.pyplot as plt\n",
    "%matplotlib inline\n",
    "\n",
    "from gensim.parsing.preprocessing import remove_stopwords\n",
    "from tqdm import tqdm\n",
    "import pickle\n",
    "import string\n",
    "\n",
    "import os\n",
    "os.getcwd()\n",
    "\n",
    "Path = \"Privacy_Policies/\"\n",
    "filelist = os.listdir(Path)\n",
    "txt_files = []\n",
    "file_names = []\n",
    "for i in filelist:\n",
    "    if i.endswith(\".txt\"):\n",
    "        file_names.append(i)\n",
    "        with open(Path + i, 'r') as f:\n",
    "            txt_files.append(f.read())"
   ]
  },
  {
   "cell_type": "markdown",
   "id": "f7ab44fe",
   "metadata": {
    "id": "f7ab44fe"
   },
   "source": [
    "## Policy String"
   ]
  },
  {
   "cell_type": "code",
   "execution_count": 2,
   "id": "f43f89d3",
   "metadata": {
    "id": "f43f89d3"
   },
   "outputs": [],
   "source": [
    "Policies = pd.DataFrame([file_names, txt_files]).T\n",
    "Policies.columns = [\"File_name\", \"text_content\"]"
   ]
  },
  {
   "cell_type": "code",
   "execution_count": 3,
   "id": "a6f81bfa",
   "metadata": {
    "colab": {
     "base_uri": "https://localhost:8080/",
     "height": 415
    },
    "id": "a6f81bfa",
    "outputId": "8dab02b8-9701-463a-fc54-8872a6c042f8"
   },
   "outputs": [
    {
     "data": {
      "text/html": [
       "<div>\n",
       "<style scoped>\n",
       "    .dataframe tbody tr th:only-of-type {\n",
       "        vertical-align: middle;\n",
       "    }\n",
       "\n",
       "    .dataframe tbody tr th {\n",
       "        vertical-align: top;\n",
       "    }\n",
       "\n",
       "    .dataframe thead th {\n",
       "        text-align: right;\n",
       "    }\n",
       "</style>\n",
       "<table border=\"1\" class=\"dataframe\">\n",
       "  <thead>\n",
       "    <tr style=\"text-align: right;\">\n",
       "      <th></th>\n",
       "      <th>File_name</th>\n",
       "      <th>text_content</th>\n",
       "    </tr>\n",
       "  </thead>\n",
       "  <tbody>\n",
       "    <tr>\n",
       "      <th>0</th>\n",
       "      <td>InternetSpeedMeter.txt</td>\n",
       "      <td>Internet Speed MeterSearch this siteInternet S...</td>\n",
       "    </tr>\n",
       "    <tr>\n",
       "      <th>1</th>\n",
       "      <td>VideoEditor&amp;VideoMaker-InShot.txt</td>\n",
       "      <td>WelcomePrivacy Policy - InShot Inc.Protecting ...</td>\n",
       "    </tr>\n",
       "    <tr>\n",
       "      <th>2</th>\n",
       "      <td>Josh-SnackonShortVideoswithTopIndianApp.txt</td>\n",
       "      <td>Privacy PolicyContent PolicyUser AgreementTerm...</td>\n",
       "    </tr>\n",
       "    <tr>\n",
       "      <th>3</th>\n",
       "      <td>Telegram.txt</td>\n",
       "      <td>Telegram Privacy Policy EnglishBahasa Indonesi...</td>\n",
       "    </tr>\n",
       "    <tr>\n",
       "      <th>4</th>\n",
       "      <td>Dailyhunt-100%IndianAppforNews&amp;Videos.txt</td>\n",
       "      <td>Privacy - DailyhuntAbout UsCareersContact UsAb...</td>\n",
       "    </tr>\n",
       "    <tr>\n",
       "      <th>...</th>\n",
       "      <td>...</td>\n",
       "      <td>...</td>\n",
       "    </tr>\n",
       "    <tr>\n",
       "      <th>71</th>\n",
       "      <td>AirtelThanks-Recharge,BillPay,Bank,LiveTV.txt</td>\n",
       "      <td>We at Bharti Airtel Limited and Bharti Hexacom...</td>\n",
       "    </tr>\n",
       "    <tr>\n",
       "      <th>72</th>\n",
       "      <td>FLStudioMobile.txt</td>\n",
       "      <td>MOBILE APP PRIVACY | FL Studio FL StudioOvervi...</td>\n",
       "    </tr>\n",
       "    <tr>\n",
       "      <th>73</th>\n",
       "      <td>QuickHealTotalSecurity.txt</td>\n",
       "      <td>PRIVACY POLICY- QUICK HEAL MOBILE DEVICE SECUR...</td>\n",
       "    </tr>\n",
       "    <tr>\n",
       "      <th>74</th>\n",
       "      <td>DroidCamX.txt</td>\n",
       "      <td>Dev47AppsDroidCam Privacy Policy and Terms of ...</td>\n",
       "    </tr>\n",
       "    <tr>\n",
       "      <th>75</th>\n",
       "      <td>FrancoKernelManager-foralldevices&amp;kernels.txt</td>\n",
       "      <td>Privacy Policy for Gratus\\t\\t\\tPrivacy Policy\\...</td>\n",
       "    </tr>\n",
       "  </tbody>\n",
       "</table>\n",
       "<p>76 rows × 2 columns</p>\n",
       "</div>"
      ],
      "text/plain": [
       "                                        File_name  \\\n",
       "0                          InternetSpeedMeter.txt   \n",
       "1               VideoEditor&VideoMaker-InShot.txt   \n",
       "2     Josh-SnackonShortVideoswithTopIndianApp.txt   \n",
       "3                                    Telegram.txt   \n",
       "4       Dailyhunt-100%IndianAppforNews&Videos.txt   \n",
       "..                                            ...   \n",
       "71  AirtelThanks-Recharge,BillPay,Bank,LiveTV.txt   \n",
       "72                             FLStudioMobile.txt   \n",
       "73                     QuickHealTotalSecurity.txt   \n",
       "74                                  DroidCamX.txt   \n",
       "75  FrancoKernelManager-foralldevices&kernels.txt   \n",
       "\n",
       "                                         text_content  \n",
       "0   Internet Speed MeterSearch this siteInternet S...  \n",
       "1   WelcomePrivacy Policy - InShot Inc.Protecting ...  \n",
       "2   Privacy PolicyContent PolicyUser AgreementTerm...  \n",
       "3   Telegram Privacy Policy EnglishBahasa Indonesi...  \n",
       "4   Privacy - DailyhuntAbout UsCareersContact UsAb...  \n",
       "..                                                ...  \n",
       "71  We at Bharti Airtel Limited and Bharti Hexacom...  \n",
       "72  MOBILE APP PRIVACY | FL Studio FL StudioOvervi...  \n",
       "73  PRIVACY POLICY- QUICK HEAL MOBILE DEVICE SECUR...  \n",
       "74  Dev47AppsDroidCam Privacy Policy and Terms of ...  \n",
       "75  Privacy Policy for Gratus\\t\\t\\tPrivacy Policy\\...  \n",
       "\n",
       "[76 rows x 2 columns]"
      ]
     },
     "execution_count": 3,
     "metadata": {},
     "output_type": "execute_result"
    }
   ],
   "source": [
    "Policies"
   ]
  },
  {
   "cell_type": "code",
   "execution_count": 4,
   "id": "B1NWDzqlFV67",
   "metadata": {
    "id": "B1NWDzqlFV67"
   },
   "outputs": [
    {
     "data": {
      "text/plain": [
       "<76x3520 sparse matrix of type '<class 'numpy.int64'>'\n",
       "\twith 31760 stored elements in Compressed Sparse Row format>"
      ]
     },
     "execution_count": 4,
     "metadata": {},
     "output_type": "execute_result"
    }
   ],
   "source": [
    "from sklearn.feature_extraction.text import CountVectorizer\n",
    "cv = CountVectorizer(max_df=0.95, min_df=2, stop_words='english')\n",
    "dtm = cv.fit_transform(Policies['text_content'])\n",
    "dtm"
   ]
  },
  {
   "cell_type": "code",
   "execution_count": 5,
   "id": "83b9df5b",
   "metadata": {},
   "outputs": [
    {
     "data": {
      "text/plain": [
       "4"
      ]
     },
     "execution_count": 5,
     "metadata": {},
     "output_type": "execute_result"
    }
   ],
   "source": [
    "# LDA --------->\n",
    "from sklearn.decomposition import LatentDirichletAllocation\n",
    "LDA = LatentDirichletAllocation(n_components=4,random_state=42)\n",
    "LDA.fit(dtm)\n",
    "len(cv.get_feature_names())\n",
    "len(LDA.components_)"
   ]
  },
  {
   "cell_type": "code",
   "execution_count": 6,
   "id": "3a870d66",
   "metadata": {},
   "outputs": [
    {
     "name": "stdout",
     "output_type": "stream",
     "text": [
      "THE TOP 15 WORDS FOR TOPIC #0\n",
      "['application', 'user', 'service', 'including', 'account', 'business', 'time', 'products', 'company', 'gold', 'platform', 'terms', 'customer', 'shall', 'services']\n",
      "\n",
      "\n",
      "THE TOP 15 WORDS FOR TOPIC #1\n",
      "['cookies', 'party', 'security', 'using', 'advertising', 'account', 'provide', 'including', 'device', 'access', 'content', 'personal', 'amazon', 'services', 'platform']\n",
      "\n",
      "\n",
      "THE TOP 15 WORDS FOR TOPIC #2\n",
      "['settings', 'google', 'personal', 'example', 'device', 'access', 'account', 'including', 'content', 'share', 'facebook', 'products', 'provide', 'data', 'services']\n",
      "\n",
      "\n",
      "THE TOP 15 WORDS FOR TOPIC #3\n",
      "['provided', 'contact', 'provide', 'time', 'cookies', 'device', 'used', 'users', 'app', 'party', 'user', 'services', 'service', 'data', 'personal']\n",
      "\n",
      "\n"
     ]
    }
   ],
   "source": [
    "for index,topic in enumerate(LDA.components_):\n",
    "    print(f'THE TOP 15 WORDS FOR TOPIC #{index}')\n",
    "    print([cv.get_feature_names()[i] for i in topic.argsort()[-15:]])\n",
    "    print('\\n')"
   ]
  },
  {
   "cell_type": "code",
   "execution_count": 16,
   "id": "9f826261",
   "metadata": {},
   "outputs": [
    {
     "data": {
      "text/plain": [
       "(76, 3520)"
      ]
     },
     "execution_count": 16,
     "metadata": {},
     "output_type": "execute_result"
    }
   ],
   "source": [
    "dtm.shape"
   ]
  },
  {
   "cell_type": "code",
   "execution_count": 17,
   "id": "4a2b721a",
   "metadata": {},
   "outputs": [
    {
     "data": {
      "text/plain": [
       "(76, 4)"
      ]
     },
     "execution_count": 17,
     "metadata": {},
     "output_type": "execute_result"
    }
   ],
   "source": [
    "topic_results = LDA.transform(dtm)\n",
    "topic_results.shape"
   ]
  },
  {
   "cell_type": "code",
   "execution_count": 18,
   "id": "70bf2590",
   "metadata": {},
   "outputs": [
    {
     "data": {
      "text/plain": [
       "array([0.00313364, 0.00317141, 0.0031853 , 0.99050966])"
      ]
     },
     "execution_count": 18,
     "metadata": {},
     "output_type": "execute_result"
    }
   ],
   "source": [
    "topic_results[0]"
   ]
  },
  {
   "cell_type": "code",
   "execution_count": 19,
   "id": "28bc0e82",
   "metadata": {},
   "outputs": [
    {
     "data": {
      "text/plain": [
       "array([0.  , 0.  , 0.  , 0.99])"
      ]
     },
     "execution_count": 19,
     "metadata": {},
     "output_type": "execute_result"
    }
   ],
   "source": [
    "topic_results[0].round(2)"
   ]
  },
  {
   "cell_type": "code",
   "execution_count": 20,
   "id": "ecfbe8d6",
   "metadata": {},
   "outputs": [],
   "source": [
    "Policies['Topic'] = topic_results.argmax(axis=1)"
   ]
  },
  {
   "cell_type": "code",
   "execution_count": 21,
   "id": "1467b38a",
   "metadata": {},
   "outputs": [
    {
     "data": {
      "text/html": [
       "<div>\n",
       "<style scoped>\n",
       "    .dataframe tbody tr th:only-of-type {\n",
       "        vertical-align: middle;\n",
       "    }\n",
       "\n",
       "    .dataframe tbody tr th {\n",
       "        vertical-align: top;\n",
       "    }\n",
       "\n",
       "    .dataframe thead th {\n",
       "        text-align: right;\n",
       "    }\n",
       "</style>\n",
       "<table border=\"1\" class=\"dataframe\">\n",
       "  <thead>\n",
       "    <tr style=\"text-align: right;\">\n",
       "      <th></th>\n",
       "      <th>File_name</th>\n",
       "      <th>text_content</th>\n",
       "      <th>Topic</th>\n",
       "    </tr>\n",
       "  </thead>\n",
       "  <tbody>\n",
       "    <tr>\n",
       "      <th>0</th>\n",
       "      <td>InternetSpeedMeter.txt</td>\n",
       "      <td>Internet Speed MeterSearch this siteInternet S...</td>\n",
       "      <td>3</td>\n",
       "    </tr>\n",
       "    <tr>\n",
       "      <th>1</th>\n",
       "      <td>VideoEditor&amp;VideoMaker-InShot.txt</td>\n",
       "      <td>WelcomePrivacy Policy - InShot Inc.Protecting ...</td>\n",
       "      <td>3</td>\n",
       "    </tr>\n",
       "    <tr>\n",
       "      <th>2</th>\n",
       "      <td>Josh-SnackonShortVideoswithTopIndianApp.txt</td>\n",
       "      <td>Privacy PolicyContent PolicyUser AgreementTerm...</td>\n",
       "      <td>1</td>\n",
       "    </tr>\n",
       "    <tr>\n",
       "      <th>3</th>\n",
       "      <td>Telegram.txt</td>\n",
       "      <td>Telegram Privacy Policy EnglishBahasa Indonesi...</td>\n",
       "      <td>2</td>\n",
       "    </tr>\n",
       "    <tr>\n",
       "      <th>4</th>\n",
       "      <td>Dailyhunt-100%IndianAppforNews&amp;Videos.txt</td>\n",
       "      <td>Privacy - DailyhuntAbout UsCareersContact UsAb...</td>\n",
       "      <td>1</td>\n",
       "    </tr>\n",
       "    <tr>\n",
       "      <th>5</th>\n",
       "      <td>ShareChat-MadeinIndia.txt</td>\n",
       "      <td>ShareChat Terms of UseLast updated: 22nd Decem...</td>\n",
       "      <td>0</td>\n",
       "    </tr>\n",
       "    <tr>\n",
       "      <th>6</th>\n",
       "      <td>PGT+🔧:ProGFX&amp;Optimizer(withadvancesetting).txt</td>\n",
       "      <td>Privacy PolicyYour privacy is important to us....</td>\n",
       "      <td>3</td>\n",
       "    </tr>\n",
       "    <tr>\n",
       "      <th>7</th>\n",
       "      <td>MyJio:ForEverythingJio.txt</td>\n",
       "      <td>Reliance Jio - Privacy PolicyMOBILITYJIOFIBERB...</td>\n",
       "      <td>0</td>\n",
       "    </tr>\n",
       "    <tr>\n",
       "      <th>8</th>\n",
       "      <td>AmazonShopping,UPI,MoneyTransfer,BillPayment.txt</td>\n",
       "      <td>Amazon.in Help: Amazon.in Privacy NoticeSkip t...</td>\n",
       "      <td>1</td>\n",
       "    </tr>\n",
       "    <tr>\n",
       "      <th>9</th>\n",
       "      <td>GamersGLToolProwithGameTurbo&amp;PingBooster.txt</td>\n",
       "      <td>Privacy PolicyYour privacy is important to us....</td>\n",
       "      <td>3</td>\n",
       "    </tr>\n",
       "  </tbody>\n",
       "</table>\n",
       "</div>"
      ],
      "text/plain": [
       "                                          File_name  \\\n",
       "0                            InternetSpeedMeter.txt   \n",
       "1                 VideoEditor&VideoMaker-InShot.txt   \n",
       "2       Josh-SnackonShortVideoswithTopIndianApp.txt   \n",
       "3                                      Telegram.txt   \n",
       "4         Dailyhunt-100%IndianAppforNews&Videos.txt   \n",
       "5                         ShareChat-MadeinIndia.txt   \n",
       "6    PGT+🔧:ProGFX&Optimizer(withadvancesetting).txt   \n",
       "7                        MyJio:ForEverythingJio.txt   \n",
       "8  AmazonShopping,UPI,MoneyTransfer,BillPayment.txt   \n",
       "9      GamersGLToolProwithGameTurbo&PingBooster.txt   \n",
       "\n",
       "                                        text_content  Topic  \n",
       "0  Internet Speed MeterSearch this siteInternet S...      3  \n",
       "1  WelcomePrivacy Policy - InShot Inc.Protecting ...      3  \n",
       "2  Privacy PolicyContent PolicyUser AgreementTerm...      1  \n",
       "3  Telegram Privacy Policy EnglishBahasa Indonesi...      2  \n",
       "4  Privacy - DailyhuntAbout UsCareersContact UsAb...      1  \n",
       "5  ShareChat Terms of UseLast updated: 22nd Decem...      0  \n",
       "6  Privacy PolicyYour privacy is important to us....      3  \n",
       "7  Reliance Jio - Privacy PolicyMOBILITYJIOFIBERB...      0  \n",
       "8  Amazon.in Help: Amazon.in Privacy NoticeSkip t...      1  \n",
       "9  Privacy PolicyYour privacy is important to us....      3  "
      ]
     },
     "execution_count": 21,
     "metadata": {},
     "output_type": "execute_result"
    }
   ],
   "source": [
    "Policies.head(10)"
   ]
  },
  {
   "cell_type": "code",
   "execution_count": 22,
   "id": "4a74e5fe",
   "metadata": {},
   "outputs": [
    {
     "data": {
      "text/html": [
       "<div>\n",
       "<style scoped>\n",
       "    .dataframe tbody tr th:only-of-type {\n",
       "        vertical-align: middle;\n",
       "    }\n",
       "\n",
       "    .dataframe tbody tr th {\n",
       "        vertical-align: top;\n",
       "    }\n",
       "\n",
       "    .dataframe thead th {\n",
       "        text-align: right;\n",
       "    }\n",
       "</style>\n",
       "<table border=\"1\" class=\"dataframe\">\n",
       "  <thead>\n",
       "    <tr style=\"text-align: right;\">\n",
       "      <th></th>\n",
       "      <th>Unnamed: 0</th>\n",
       "      <th>File_name</th>\n",
       "      <th>text_content</th>\n",
       "      <th>vague_score</th>\n",
       "    </tr>\n",
       "  </thead>\n",
       "  <tbody>\n",
       "    <tr>\n",
       "      <th>0</th>\n",
       "      <td>0</td>\n",
       "      <td>GamersGLToolProwithGameTurbo&amp;PingBooster.txt</td>\n",
       "      <td>Privacy PolicyYour privacy is important to us....</td>\n",
       "      <td>2.566222</td>\n",
       "    </tr>\n",
       "    <tr>\n",
       "      <th>1</th>\n",
       "      <td>1</td>\n",
       "      <td>Tasker.txt</td>\n",
       "      <td>Tasker for AndroidTaskerHomeDownloadTaskerNetU...</td>\n",
       "      <td>2.714667</td>\n",
       "    </tr>\n",
       "    <tr>\n",
       "      <th>2</th>\n",
       "      <td>2</td>\n",
       "      <td>PandaGamepadPro(BETA).txt</td>\n",
       "      <td>Privacy Policy of Panda Gaming StudioSearch th...</td>\n",
       "      <td>2.855882</td>\n",
       "    </tr>\n",
       "    <tr>\n",
       "      <th>3</th>\n",
       "      <td>3</td>\n",
       "      <td>GaanaMusicHindiSongFreeTamilTeluguMP3App.txt</td>\n",
       "      <td>Privacy PolicyThis Privacy Policy  explains ou...</td>\n",
       "      <td>2.673979</td>\n",
       "    </tr>\n",
       "    <tr>\n",
       "      <th>4</th>\n",
       "      <td>4</td>\n",
       "      <td>WynkMusic-NewMP3HindiTamilSong&amp;PodcastApp.txt</td>\n",
       "      <td>Privacy PolicyData CollectionAt the time you (...</td>\n",
       "      <td>2.754815</td>\n",
       "    </tr>\n",
       "  </tbody>\n",
       "</table>\n",
       "</div>"
      ],
      "text/plain": [
       "   Unnamed: 0                                      File_name  \\\n",
       "0           0   GamersGLToolProwithGameTurbo&PingBooster.txt   \n",
       "1           1                                     Tasker.txt   \n",
       "2           2                      PandaGamepadPro(BETA).txt   \n",
       "3           3   GaanaMusicHindiSongFreeTamilTeluguMP3App.txt   \n",
       "4           4  WynkMusic-NewMP3HindiTamilSong&PodcastApp.txt   \n",
       "\n",
       "                                        text_content  vague_score  \n",
       "0  Privacy PolicyYour privacy is important to us....     2.566222  \n",
       "1  Tasker for AndroidTaskerHomeDownloadTaskerNetU...     2.714667  \n",
       "2  Privacy Policy of Panda Gaming StudioSearch th...     2.855882  \n",
       "3  Privacy PolicyThis Privacy Policy  explains ou...     2.673979  \n",
       "4  Privacy PolicyData CollectionAt the time you (...     2.754815  "
      ]
     },
     "execution_count": 22,
     "metadata": {},
     "output_type": "execute_result"
    }
   ],
   "source": [
    "policies_data = pd.read_csv(\"Policies.csv\")\n",
    "policies_data.head()"
   ]
  },
  {
   "cell_type": "code",
   "execution_count": 23,
   "id": "bdf9a8fa",
   "metadata": {},
   "outputs": [],
   "source": [
    "policies_data['topic'] =  Policies['Topic']"
   ]
  },
  {
   "cell_type": "code",
   "execution_count": 24,
   "id": "a8e74b70",
   "metadata": {},
   "outputs": [
    {
     "data": {
      "text/html": [
       "<div>\n",
       "<style scoped>\n",
       "    .dataframe tbody tr th:only-of-type {\n",
       "        vertical-align: middle;\n",
       "    }\n",
       "\n",
       "    .dataframe tbody tr th {\n",
       "        vertical-align: top;\n",
       "    }\n",
       "\n",
       "    .dataframe thead th {\n",
       "        text-align: right;\n",
       "    }\n",
       "</style>\n",
       "<table border=\"1\" class=\"dataframe\">\n",
       "  <thead>\n",
       "    <tr style=\"text-align: right;\">\n",
       "      <th></th>\n",
       "      <th>Unnamed: 0</th>\n",
       "      <th>File_name</th>\n",
       "      <th>text_content</th>\n",
       "      <th>vague_score</th>\n",
       "      <th>topic</th>\n",
       "    </tr>\n",
       "  </thead>\n",
       "  <tbody>\n",
       "    <tr>\n",
       "      <th>0</th>\n",
       "      <td>0</td>\n",
       "      <td>GamersGLToolProwithGameTurbo&amp;PingBooster.txt</td>\n",
       "      <td>Privacy PolicyYour privacy is important to us....</td>\n",
       "      <td>2.566222</td>\n",
       "      <td>3</td>\n",
       "    </tr>\n",
       "    <tr>\n",
       "      <th>1</th>\n",
       "      <td>1</td>\n",
       "      <td>Tasker.txt</td>\n",
       "      <td>Tasker for AndroidTaskerHomeDownloadTaskerNetU...</td>\n",
       "      <td>2.714667</td>\n",
       "      <td>3</td>\n",
       "    </tr>\n",
       "    <tr>\n",
       "      <th>2</th>\n",
       "      <td>2</td>\n",
       "      <td>PandaGamepadPro(BETA).txt</td>\n",
       "      <td>Privacy Policy of Panda Gaming StudioSearch th...</td>\n",
       "      <td>2.855882</td>\n",
       "      <td>1</td>\n",
       "    </tr>\n",
       "    <tr>\n",
       "      <th>3</th>\n",
       "      <td>3</td>\n",
       "      <td>GaanaMusicHindiSongFreeTamilTeluguMP3App.txt</td>\n",
       "      <td>Privacy PolicyThis Privacy Policy  explains ou...</td>\n",
       "      <td>2.673979</td>\n",
       "      <td>2</td>\n",
       "    </tr>\n",
       "    <tr>\n",
       "      <th>4</th>\n",
       "      <td>4</td>\n",
       "      <td>WynkMusic-NewMP3HindiTamilSong&amp;PodcastApp.txt</td>\n",
       "      <td>Privacy PolicyData CollectionAt the time you (...</td>\n",
       "      <td>2.754815</td>\n",
       "      <td>1</td>\n",
       "    </tr>\n",
       "  </tbody>\n",
       "</table>\n",
       "</div>"
      ],
      "text/plain": [
       "   Unnamed: 0                                      File_name  \\\n",
       "0           0   GamersGLToolProwithGameTurbo&PingBooster.txt   \n",
       "1           1                                     Tasker.txt   \n",
       "2           2                      PandaGamepadPro(BETA).txt   \n",
       "3           3   GaanaMusicHindiSongFreeTamilTeluguMP3App.txt   \n",
       "4           4  WynkMusic-NewMP3HindiTamilSong&PodcastApp.txt   \n",
       "\n",
       "                                        text_content  vague_score  topic  \n",
       "0  Privacy PolicyYour privacy is important to us....     2.566222      3  \n",
       "1  Tasker for AndroidTaskerHomeDownloadTaskerNetU...     2.714667      3  \n",
       "2  Privacy Policy of Panda Gaming StudioSearch th...     2.855882      1  \n",
       "3  Privacy PolicyThis Privacy Policy  explains ou...     2.673979      2  \n",
       "4  Privacy PolicyData CollectionAt the time you (...     2.754815      1  "
      ]
     },
     "execution_count": 24,
     "metadata": {},
     "output_type": "execute_result"
    }
   ],
   "source": [
    "policies_data.head()"
   ]
  },
  {
   "cell_type": "code",
   "execution_count": 25,
   "id": "3be42a50",
   "metadata": {},
   "outputs": [
    {
     "data": {
      "text/html": [
       "<div>\n",
       "<style scoped>\n",
       "    .dataframe tbody tr th:only-of-type {\n",
       "        vertical-align: middle;\n",
       "    }\n",
       "\n",
       "    .dataframe tbody tr th {\n",
       "        vertical-align: top;\n",
       "    }\n",
       "\n",
       "    .dataframe thead th {\n",
       "        text-align: right;\n",
       "    }\n",
       "</style>\n",
       "<table border=\"1\" class=\"dataframe\">\n",
       "  <thead>\n",
       "    <tr style=\"text-align: right;\">\n",
       "      <th></th>\n",
       "      <th>File_name</th>\n",
       "      <th>text_content</th>\n",
       "      <th>Topic</th>\n",
       "    </tr>\n",
       "  </thead>\n",
       "  <tbody>\n",
       "    <tr>\n",
       "      <th>0</th>\n",
       "      <td>InternetSpeedMeter.txt</td>\n",
       "      <td>Internet Speed MeterSearch this siteInternet S...</td>\n",
       "      <td>3</td>\n",
       "    </tr>\n",
       "    <tr>\n",
       "      <th>1</th>\n",
       "      <td>VideoEditor&amp;VideoMaker-InShot.txt</td>\n",
       "      <td>WelcomePrivacy Policy - InShot Inc.Protecting ...</td>\n",
       "      <td>3</td>\n",
       "    </tr>\n",
       "    <tr>\n",
       "      <th>6</th>\n",
       "      <td>PGT+🔧:ProGFX&amp;Optimizer(withadvancesetting).txt</td>\n",
       "      <td>Privacy PolicyYour privacy is important to us....</td>\n",
       "      <td>3</td>\n",
       "    </tr>\n",
       "    <tr>\n",
       "      <th>9</th>\n",
       "      <td>GamersGLToolProwithGameTurbo&amp;PingBooster.txt</td>\n",
       "      <td>Privacy PolicyYour privacy is important to us....</td>\n",
       "      <td>3</td>\n",
       "    </tr>\n",
       "    <tr>\n",
       "      <th>11</th>\n",
       "      <td>SAXVideoPlayer-AllinoneHdFormatpro2021.txt</td>\n",
       "      <td>HomeSearch this sitePrivacy PolicyProtecting y...</td>\n",
       "      <td>3</td>\n",
       "    </tr>\n",
       "    <tr>\n",
       "      <th>14</th>\n",
       "      <td>PowerampFullVersionUnlocker.txt</td>\n",
       "      <td>Privacy Policy of Poweramp Music PlayerPrivacy...</td>\n",
       "      <td>3</td>\n",
       "    </tr>\n",
       "    <tr>\n",
       "      <th>15</th>\n",
       "      <td>VPNPro-FreeforLifetime.txt</td>\n",
       "      <td>VPNSearch this siteVPNPrivacy Policy For VPN P...</td>\n",
       "      <td>3</td>\n",
       "    </tr>\n",
       "    <tr>\n",
       "      <th>16</th>\n",
       "      <td>CrayonIconPack.txt</td>\n",
       "      <td>LineX Privacy PolicySkip to main contentJND AP...</td>\n",
       "      <td>3</td>\n",
       "    </tr>\n",
       "    <tr>\n",
       "      <th>17</th>\n",
       "      <td>DiskDiggerProfilerecovery.txt</td>\n",
       "      <td>Privacy Policy for DiskDigger (Android) | Disk...</td>\n",
       "      <td>3</td>\n",
       "    </tr>\n",
       "    <tr>\n",
       "      <th>18</th>\n",
       "      <td>PandaGamepadPro(BETA).txt</td>\n",
       "      <td>Privacy Policy of Panda Gaming StudioSearch th...</td>\n",
       "      <td>3</td>\n",
       "    </tr>\n",
       "    <tr>\n",
       "      <th>19</th>\n",
       "      <td>Vido:LyricalVideoStatusMaker.txt</td>\n",
       "      <td>Welcome to VidoYour privacy is important to Vi...</td>\n",
       "      <td>3</td>\n",
       "    </tr>\n",
       "    <tr>\n",
       "      <th>20</th>\n",
       "      <td>ShareMe-India'sbestfiletransferapp.txt</td>\n",
       "      <td>Mi Global HomeDue to COVID-19, the ongoing h...</td>\n",
       "      <td>3</td>\n",
       "    </tr>\n",
       "    <tr>\n",
       "      <th>21</th>\n",
       "      <td>WynkMusic-NewMP3HindiTamilSong&amp;PodcastApp.txt</td>\n",
       "      <td>Privacy PolicyData CollectionAt the time you (...</td>\n",
       "      <td>3</td>\n",
       "    </tr>\n",
       "    <tr>\n",
       "      <th>22</th>\n",
       "      <td>GameBooster4xFasterPro-GFXTool&amp;LagFix.txt</td>\n",
       "      <td>Trang chủSearch this sitePrivacy PolicyPrivacy...</td>\n",
       "      <td>3</td>\n",
       "    </tr>\n",
       "    <tr>\n",
       "      <th>25</th>\n",
       "      <td>Public-IndianLocalVideos.txt</td>\n",
       "      <td>PRIVACY POLICY  1. GENERAL  1.1 Inshorts  Pt...</td>\n",
       "      <td>3</td>\n",
       "    </tr>\n",
       "    <tr>\n",
       "      <th>26</th>\n",
       "      <td>FluidWalls-4KLiquidStyleWallpapers.txt</td>\n",
       "      <td>Privacy Policy for Fluid WallsPrivacy Policy f...</td>\n",
       "      <td>3</td>\n",
       "    </tr>\n",
       "    <tr>\n",
       "      <th>29</th>\n",
       "      <td>RAM&amp;GameBoosterbyAugustro(67%OFF).txt</td>\n",
       "      <td>Augustro Privacy PolicyPrivacy PolicyAugustro ...</td>\n",
       "      <td>3</td>\n",
       "    </tr>\n",
       "    <tr>\n",
       "      <th>30</th>\n",
       "      <td>PLAYit-ANewAll-in-OneVideoPlayer.txt</td>\n",
       "      <td>Privacy Policy\\nUpdate:2019.11.08\\nPLAYit(\"Our...</td>\n",
       "      <td>3</td>\n",
       "    </tr>\n",
       "    <tr>\n",
       "      <th>31</th>\n",
       "      <td>Noizz-videoeditor,videomakerphotoswithsong.txt</td>\n",
       "      <td>Welcome and thank you for choosing Noizz. Noiz...</td>\n",
       "      <td>3</td>\n",
       "    </tr>\n",
       "    <tr>\n",
       "      <th>36</th>\n",
       "      <td>NavigationPro:GoogleMapsNavionSamsungWatch.txt</td>\n",
       "      <td>Privacy Policy – SWStudios HomeAppsFAQContactF...</td>\n",
       "      <td>3</td>\n",
       "    </tr>\n",
       "    <tr>\n",
       "      <th>37</th>\n",
       "      <td>KWGTKustomWidgetProKey.txt</td>\n",
       "      <td>Privacy Policy | Kustom Heavy IndustriesAre yo...</td>\n",
       "      <td>3</td>\n",
       "    </tr>\n",
       "    <tr>\n",
       "      <th>40</th>\n",
       "      <td>ZEE5:Movies,TVShows,WebSeries.txt</td>\n",
       "      <td>Privacy Policy\\nWe, Zee Entertainment Enterpri...</td>\n",
       "      <td>3</td>\n",
       "    </tr>\n",
       "    <tr>\n",
       "      <th>41</th>\n",
       "      <td>GameBoosterVIP-FreeFireGFX-LagFix.txt</td>\n",
       "      <td>Privacy Policy – Booster VIP – TOLANİçeriğe at...</td>\n",
       "      <td>3</td>\n",
       "    </tr>\n",
       "    <tr>\n",
       "      <th>44</th>\n",
       "      <td>SnackVideoMakerAppwithSong-Mast.txt</td>\n",
       "      <td>policyå¾®ä¿¡æååQQQQç©ºé´æ°æµªå¾®å   ...</td>\n",
       "      <td>3</td>\n",
       "    </tr>\n",
       "    <tr>\n",
       "      <th>46</th>\n",
       "      <td>InternetOptimizerPro|No-Ads.txt</td>\n",
       "      <td>Privacy PolicyPrivacy Policy                  ...</td>\n",
       "      <td>3</td>\n",
       "    </tr>\n",
       "    <tr>\n",
       "      <th>47</th>\n",
       "      <td>VPNMaster-Free&amp;Fast&amp;SecureVPNProxy.txt</td>\n",
       "      <td>Privacy PolicySearch this sitePrivacy PolicyVP...</td>\n",
       "      <td>3</td>\n",
       "    </tr>\n",
       "    <tr>\n",
       "      <th>52</th>\n",
       "      <td>CryptoTabBrowserPro—mineonaPROlevel.txt</td>\n",
       "      <td>Privacy Policy | CryptoCompanyenet            ...</td>\n",
       "      <td>3</td>\n",
       "    </tr>\n",
       "    <tr>\n",
       "      <th>55</th>\n",
       "      <td>FactTechzUltimateBrainBooster-BinauralBeats.txt</td>\n",
       "      <td>Ultimate Brain Booster App Privacy Policy Page...</td>\n",
       "      <td>3</td>\n",
       "    </tr>\n",
       "    <tr>\n",
       "      <th>58</th>\n",
       "      <td>SimpleGalleryPro:Video&amp;PhotoManager&amp;Editor.txt</td>\n",
       "      <td>Privacy policyGeneralSimple Gallery is develop...</td>\n",
       "      <td>3</td>\n",
       "    </tr>\n",
       "    <tr>\n",
       "      <th>59</th>\n",
       "      <td>Hotstar.txt</td>\n",
       "      <td>1. Introduction\\nThis Privacy Policy covers th...</td>\n",
       "      <td>3</td>\n",
       "    </tr>\n",
       "    <tr>\n",
       "      <th>61</th>\n",
       "      <td>Biugo-videomaker,photovideomaker,videoeditor.txt</td>\n",
       "      <td>Privacy Policy\\nWelcome and thank you for choo...</td>\n",
       "      <td>3</td>\n",
       "    </tr>\n",
       "    <tr>\n",
       "      <th>63</th>\n",
       "      <td>ShareKaro-Share&amp;FileTransferApp,Shareit.txt</td>\n",
       "      <td>Privacy PolicyPrivacy PolicyLast Updated: [29/...</td>\n",
       "      <td>3</td>\n",
       "    </tr>\n",
       "    <tr>\n",
       "      <th>64</th>\n",
       "      <td>RhythmwithTabla&amp;TanpuraPREMIUM.txt</td>\n",
       "      <td>PSS Labs | Rhythm with Tabla &amp; Tanpura - Priva...</td>\n",
       "      <td>3</td>\n",
       "    </tr>\n",
       "    <tr>\n",
       "      <th>65</th>\n",
       "      <td>TorquePro(OBD2&amp;Car).txt</td>\n",
       "      <td>Privacy policy (App)=====================This ...</td>\n",
       "      <td>3</td>\n",
       "    </tr>\n",
       "    <tr>\n",
       "      <th>68</th>\n",
       "      <td>KineMaster-VideoEditor,VideoMaker.txt</td>\n",
       "      <td>Privacy Policy (Android) – HELP CENTER        ...</td>\n",
       "      <td>3</td>\n",
       "    </tr>\n",
       "    <tr>\n",
       "      <th>70</th>\n",
       "      <td>1DM+[formerlyIDM+]:Video,TorrentDownloader.txt</td>\n",
       "      <td>1DM+ Privacy policyPrivacy PolicyProtecting yo...</td>\n",
       "      <td>3</td>\n",
       "    </tr>\n",
       "    <tr>\n",
       "      <th>71</th>\n",
       "      <td>AirtelThanks-Recharge,BillPay,Bank,LiveTV.txt</td>\n",
       "      <td>We at Bharti Airtel Limited and Bharti Hexacom...</td>\n",
       "      <td>3</td>\n",
       "    </tr>\n",
       "    <tr>\n",
       "      <th>75</th>\n",
       "      <td>FrancoKernelManager-foralldevices&amp;kernels.txt</td>\n",
       "      <td>Privacy Policy for Gratus\\t\\t\\tPrivacy Policy\\...</td>\n",
       "      <td>3</td>\n",
       "    </tr>\n",
       "  </tbody>\n",
       "</table>\n",
       "</div>"
      ],
      "text/plain": [
       "                                           File_name  \\\n",
       "0                             InternetSpeedMeter.txt   \n",
       "1                  VideoEditor&VideoMaker-InShot.txt   \n",
       "6     PGT+🔧:ProGFX&Optimizer(withadvancesetting).txt   \n",
       "9       GamersGLToolProwithGameTurbo&PingBooster.txt   \n",
       "11        SAXVideoPlayer-AllinoneHdFormatpro2021.txt   \n",
       "14                   PowerampFullVersionUnlocker.txt   \n",
       "15                        VPNPro-FreeforLifetime.txt   \n",
       "16                                CrayonIconPack.txt   \n",
       "17                     DiskDiggerProfilerecovery.txt   \n",
       "18                         PandaGamepadPro(BETA).txt   \n",
       "19                  Vido:LyricalVideoStatusMaker.txt   \n",
       "20            ShareMe-India'sbestfiletransferapp.txt   \n",
       "21     WynkMusic-NewMP3HindiTamilSong&PodcastApp.txt   \n",
       "22         GameBooster4xFasterPro-GFXTool&LagFix.txt   \n",
       "25                      Public-IndianLocalVideos.txt   \n",
       "26            FluidWalls-4KLiquidStyleWallpapers.txt   \n",
       "29             RAM&GameBoosterbyAugustro(67%OFF).txt   \n",
       "30              PLAYit-ANewAll-in-OneVideoPlayer.txt   \n",
       "31    Noizz-videoeditor,videomakerphotoswithsong.txt   \n",
       "36    NavigationPro:GoogleMapsNavionSamsungWatch.txt   \n",
       "37                        KWGTKustomWidgetProKey.txt   \n",
       "40                 ZEE5:Movies,TVShows,WebSeries.txt   \n",
       "41             GameBoosterVIP-FreeFireGFX-LagFix.txt   \n",
       "44               SnackVideoMakerAppwithSong-Mast.txt   \n",
       "46                   InternetOptimizerPro|No-Ads.txt   \n",
       "47            VPNMaster-Free&Fast&SecureVPNProxy.txt   \n",
       "52           CryptoTabBrowserPro—mineonaPROlevel.txt   \n",
       "55   FactTechzUltimateBrainBooster-BinauralBeats.txt   \n",
       "58    SimpleGalleryPro:Video&PhotoManager&Editor.txt   \n",
       "59                                       Hotstar.txt   \n",
       "61  Biugo-videomaker,photovideomaker,videoeditor.txt   \n",
       "63       ShareKaro-Share&FileTransferApp,Shareit.txt   \n",
       "64                RhythmwithTabla&TanpuraPREMIUM.txt   \n",
       "65                           TorquePro(OBD2&Car).txt   \n",
       "68             KineMaster-VideoEditor,VideoMaker.txt   \n",
       "70    1DM+[formerlyIDM+]:Video,TorrentDownloader.txt   \n",
       "71     AirtelThanks-Recharge,BillPay,Bank,LiveTV.txt   \n",
       "75     FrancoKernelManager-foralldevices&kernels.txt   \n",
       "\n",
       "                                         text_content  Topic  \n",
       "0   Internet Speed MeterSearch this siteInternet S...      3  \n",
       "1   WelcomePrivacy Policy - InShot Inc.Protecting ...      3  \n",
       "6   Privacy PolicyYour privacy is important to us....      3  \n",
       "9   Privacy PolicyYour privacy is important to us....      3  \n",
       "11  HomeSearch this sitePrivacy PolicyProtecting y...      3  \n",
       "14  Privacy Policy of Poweramp Music PlayerPrivacy...      3  \n",
       "15  VPNSearch this siteVPNPrivacy Policy For VPN P...      3  \n",
       "16  LineX Privacy PolicySkip to main contentJND AP...      3  \n",
       "17  Privacy Policy for DiskDigger (Android) | Disk...      3  \n",
       "18  Privacy Policy of Panda Gaming StudioSearch th...      3  \n",
       "19  Welcome to VidoYour privacy is important to Vi...      3  \n",
       "20    Mi Global HomeDue to COVID-19, the ongoing h...      3  \n",
       "21  Privacy PolicyData CollectionAt the time you (...      3  \n",
       "22  Trang chủSearch this sitePrivacy PolicyPrivacy...      3  \n",
       "25    PRIVACY POLICY  1. GENERAL  1.1 Inshorts  Pt...      3  \n",
       "26  Privacy Policy for Fluid WallsPrivacy Policy f...      3  \n",
       "29  Augustro Privacy PolicyPrivacy PolicyAugustro ...      3  \n",
       "30  Privacy Policy\\nUpdate:2019.11.08\\nPLAYit(\"Our...      3  \n",
       "31  Welcome and thank you for choosing Noizz. Noiz...      3  \n",
       "36  Privacy Policy – SWStudios HomeAppsFAQContactF...      3  \n",
       "37  Privacy Policy | Kustom Heavy IndustriesAre yo...      3  \n",
       "40  Privacy Policy\\nWe, Zee Entertainment Enterpri...      3  \n",
       "41  Privacy Policy – Booster VIP – TOLANİçeriğe at...      3  \n",
       "44  policyå¾®ä¿¡æååQQQQç©ºé´æ°æµªå¾®å   ...      3  \n",
       "46  Privacy PolicyPrivacy Policy                  ...      3  \n",
       "47  Privacy PolicySearch this sitePrivacy PolicyVP...      3  \n",
       "52  Privacy Policy | CryptoCompanyenet            ...      3  \n",
       "55  Ultimate Brain Booster App Privacy Policy Page...      3  \n",
       "58  Privacy policyGeneralSimple Gallery is develop...      3  \n",
       "59  1. Introduction\\nThis Privacy Policy covers th...      3  \n",
       "61  Privacy Policy\\nWelcome and thank you for choo...      3  \n",
       "63  Privacy PolicyPrivacy PolicyLast Updated: [29/...      3  \n",
       "64  PSS Labs | Rhythm with Tabla & Tanpura - Priva...      3  \n",
       "65  Privacy policy (App)=====================This ...      3  \n",
       "68  Privacy Policy (Android) – HELP CENTER        ...      3  \n",
       "70  1DM+ Privacy policyPrivacy PolicyProtecting yo...      3  \n",
       "71  We at Bharti Airtel Limited and Bharti Hexacom...      3  \n",
       "75  Privacy Policy for Gratus\\t\\t\\tPrivacy Policy\\...      3  "
      ]
     },
     "execution_count": 25,
     "metadata": {},
     "output_type": "execute_result"
    }
   ],
   "source": [
    "Policies[Policies['Topic'] == 3]"
   ]
  },
  {
   "cell_type": "code",
   "execution_count": 27,
   "id": "95eb90f2",
   "metadata": {},
   "outputs": [],
   "source": [
    "# Anirudh's Network Plot script\n",
    "\n",
    "instructions = Policies.text_content.values.tolist()\n",
    "\n",
    "#check = 0\n",
    "Bigger_list=[]\n",
    "for sent in instructions:\n",
    "    #check = check + 1\n",
    "    #if check <2:\n",
    "    li = list(sent.split())\n",
    "    Bigger_list.append(li)\n",
    "    \n",
    "with open('train_data.pkl', 'wb') as f:\n",
    "    pickle.dump(Bigger_list, f)"
   ]
  },
  {
   "cell_type": "code",
   "execution_count": 28,
   "id": "bdd27f94",
   "metadata": {},
   "outputs": [],
   "source": [
    "from gensim.models.word2vec import Word2Vec\n",
    "from tqdm import tqdm"
   ]
  },
  {
   "cell_type": "code",
   "execution_count": 29,
   "id": "007f38ce",
   "metadata": {},
   "outputs": [],
   "source": [
    "with open('train_data.pkl', 'rb') as f:\n",
    "    train_data = pickle.load(f)"
   ]
  },
  {
   "cell_type": "code",
   "execution_count": 30,
   "id": "1ce87fe7",
   "metadata": {},
   "outputs": [],
   "source": [
    "model = Word2Vec()"
   ]
  },
  {
   "cell_type": "code",
   "execution_count": 31,
   "id": "89ebdbaa",
   "metadata": {},
   "outputs": [],
   "source": [
    "model.build_vocab(train_data)"
   ]
  },
  {
   "cell_type": "code",
   "execution_count": 32,
   "id": "bcf12e4f",
   "metadata": {},
   "outputs": [
    {
     "name": "stdout",
     "output_type": "stream",
     "text": [
      "CPU times: user 1.3 s, sys: 38 µs, total: 1.3 s\n",
      "Wall time: 486 ms\n"
     ]
    },
    {
     "data": {
      "text/plain": [
       "(559057, 961950)"
      ]
     },
     "execution_count": 32,
     "metadata": {},
     "output_type": "execute_result"
    }
   ],
   "source": [
    "%%time\n",
    "model.train(train_data, total_examples=model.corpus_count, epochs=model.epochs)"
   ]
  },
  {
   "cell_type": "code",
   "execution_count": 33,
   "id": "d1eaa66d",
   "metadata": {},
   "outputs": [],
   "source": [
    "model.save('w2v.model')"
   ]
  },
  {
   "cell_type": "code",
   "execution_count": 36,
   "id": "fbcfe412",
   "metadata": {},
   "outputs": [
    {
     "data": {
      "text/plain": [
       "[('information', 0.9871485829353333),\n",
       " ('personal', 0.9848772287368774),\n",
       " ('disclose', 0.9817430973052979),\n",
       " ('provide', 0.9750065803527832),\n",
       " ('use', 0.97100830078125)]"
      ]
     },
     "execution_count": 36,
     "metadata": {},
     "output_type": "execute_result"
    }
   ],
   "source": [
    "search_term = 'share'\n",
    "sim_terms = model.wv.most_similar(search_term, topn=5)\n",
    "sim_terms"
   ]
  },
  {
   "cell_type": "code",
   "execution_count": null,
   "id": "0e2e0e1e",
   "metadata": {},
   "outputs": [],
   "source": []
  }
 ],
 "metadata": {
  "colab": {
   "collapsed_sections": [],
   "name": "Generate_matrix.ipynb",
   "provenance": []
  },
  "kernelspec": {
   "display_name": "Python 3",
   "language": "python",
   "name": "python3"
  },
  "language_info": {
   "codemirror_mode": {
    "name": "ipython",
    "version": 3
   },
   "file_extension": ".py",
   "mimetype": "text/x-python",
   "name": "python",
   "nbconvert_exporter": "python",
   "pygments_lexer": "ipython3",
   "version": "3.8.8"
  },
  "varInspector": {
   "cols": {
    "lenName": 16,
    "lenType": 16,
    "lenVar": 40
   },
   "kernels_config": {
    "python": {
     "delete_cmd_postfix": "",
     "delete_cmd_prefix": "del ",
     "library": "var_list.py",
     "varRefreshCmd": "print(var_dic_list())"
    },
    "r": {
     "delete_cmd_postfix": ") ",
     "delete_cmd_prefix": "rm(",
     "library": "var_list.r",
     "varRefreshCmd": "cat(var_dic_list()) "
    }
   },
   "types_to_exclude": [
    "module",
    "function",
    "builtin_function_or_method",
    "instance",
    "_Feature"
   ],
   "window_display": false
  }
 },
 "nbformat": 4,
 "nbformat_minor": 5
}

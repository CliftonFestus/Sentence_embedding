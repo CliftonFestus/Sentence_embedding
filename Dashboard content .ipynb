{
 "cells": [
  {
   "cell_type": "code",
   "execution_count": 1,
   "id": "877e2afe",
   "metadata": {},
   "outputs": [],
   "source": [
    "import pandas as pd\n",
    "import numpy as np\n",
    "import func"
   ]
  },
  {
   "cell_type": "code",
   "execution_count": 2,
   "id": "d6cb5e5a",
   "metadata": {},
   "outputs": [],
   "source": [
    "Policies= pd.read_csv('Policies_Results.csv', index_col='Unnamed: 0')"
   ]
  },
  {
   "cell_type": "code",
   "execution_count": 9,
   "id": "d16d14ca",
   "metadata": {},
   "outputs": [
    {
     "data": {
      "text/plain": [
       "Series([], Name: Scaled_100, dtype: float64)"
      ]
     },
     "execution_count": 9,
     "metadata": {},
     "output_type": "execute_result"
    }
   ],
   "source": [
    "Policies[\"Scaled_100\"][Policies[\"File_name\"] == \"Flipkart\"]"
   ]
  },
  {
   "cell_type": "code",
   "execution_count": 10,
   "id": "c4d0ef05",
   "metadata": {},
   "outputs": [
    {
     "data": {
      "text/html": [
       "<div>\n",
       "<style scoped>\n",
       "    .dataframe tbody tr th:only-of-type {\n",
       "        vertical-align: middle;\n",
       "    }\n",
       "\n",
       "    .dataframe tbody tr th {\n",
       "        vertical-align: top;\n",
       "    }\n",
       "\n",
       "    .dataframe thead th {\n",
       "        text-align: right;\n",
       "    }\n",
       "</style>\n",
       "<table border=\"1\" class=\"dataframe\">\n",
       "  <thead>\n",
       "    <tr style=\"text-align: right;\">\n",
       "      <th></th>\n",
       "      <th>File_name</th>\n",
       "      <th>text_content</th>\n",
       "      <th>vague_score</th>\n",
       "      <th>clean-text</th>\n",
       "      <th>Normalised</th>\n",
       "      <th>Scaled_100</th>\n",
       "      <th>Sentences</th>\n",
       "      <th>Length</th>\n",
       "      <th>Amb_Length</th>\n",
       "      <th>Flesch_Reading_Score</th>\n",
       "      <th>Dale_Chall_Readability_Score</th>\n",
       "    </tr>\n",
       "  </thead>\n",
       "  <tbody>\n",
       "  </tbody>\n",
       "</table>\n",
       "</div>"
      ],
      "text/plain": [
       "Empty DataFrame\n",
       "Columns: [File_name, text_content, vague_score, clean-text, Normalised, Scaled_100, Sentences, Length, Amb_Length, Flesch_Reading_Score, Dale_Chall_Readability_Score]\n",
       "Index: []"
      ]
     },
     "execution_count": 10,
     "metadata": {},
     "output_type": "execute_result"
    }
   ],
   "source": [
    "Policies[Policies['File_name']==' Amazon Shopping U P I Money Transfer Bill Payment ']"
   ]
  },
  {
   "cell_type": "code",
   "execution_count": 63,
   "id": "1eebc5a4",
   "metadata": {},
   "outputs": [
    {
     "data": {
      "text/plain": [
       "File_name                        Amazon Shopping  U P I  Money Transfer  Bill ...\n",
       "text_content                    Amazon.in Help: Amazon.in Privacy NoticeSkip t...\n",
       "vague_score                                                               2.76002\n",
       "clean-text                      Amazon in Help Amazon in Privacy NoticeSkip to...\n",
       "Normalised                                                               0.709034\n",
       "Scaled_100                                                                   71.0\n",
       "Sentences                       ['Amazon in Help Amazon in Privacy NoticeSkip ...\n",
       "Length                                                                        140\n",
       "Amb_Length                                                                     48\n",
       "Flesch_Reading_Score                                                           34\n",
       "Dale_Chall_Readability_Score                                                  201\n",
       "Name: 8, dtype: object"
      ]
     },
     "execution_count": 63,
     "metadata": {},
     "output_type": "execute_result"
    }
   ],
   "source": [
    "Policies['Scaled_100']"
   ]
  },
  {
   "cell_type": "code",
   "execution_count": null,
   "id": "a5201b7e",
   "metadata": {},
   "outputs": [],
   "source": []
  }
 ],
 "metadata": {
  "kernelspec": {
   "display_name": "Python 3",
   "language": "python",
   "name": "python3"
  },
  "language_info": {
   "codemirror_mode": {
    "name": "ipython",
    "version": 3
   },
   "file_extension": ".py",
   "mimetype": "text/x-python",
   "name": "python",
   "nbconvert_exporter": "python",
   "pygments_lexer": "ipython3",
   "version": "3.8.8"
  },
  "varInspector": {
   "cols": {
    "lenName": 16,
    "lenType": 16,
    "lenVar": 40
   },
   "kernels_config": {
    "python": {
     "delete_cmd_postfix": "",
     "delete_cmd_prefix": "del ",
     "library": "var_list.py",
     "varRefreshCmd": "print(var_dic_list())"
    },
    "r": {
     "delete_cmd_postfix": ") ",
     "delete_cmd_prefix": "rm(",
     "library": "var_list.r",
     "varRefreshCmd": "cat(var_dic_list()) "
    }
   },
   "types_to_exclude": [
    "module",
    "function",
    "builtin_function_or_method",
    "instance",
    "_Feature"
   ],
   "window_display": false
  }
 },
 "nbformat": 4,
 "nbformat_minor": 5
}
